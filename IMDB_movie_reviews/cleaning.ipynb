{
 "cells": [
  {
   "cell_type": "code",
   "execution_count": 52,
   "metadata": {},
   "outputs": [],
   "source": [
    "import os\n",
    "import time\n",
    "from collections import defaultdict \n",
    "from collections import Counter\n",
    "import re\n",
    "import pandas as pd\n",
    "import nltk\n",
    "import string\n",
    "\n",
    "from sklearn.model_selection import train_test_split"
   ]
  },
  {
   "cell_type": "code",
   "execution_count": 48,
   "metadata": {},
   "outputs": [],
   "source": [
    "INP_FILE = \"data/dowload/IMDB Dataset.csv\"\n",
    "OUT_DIR = \"data/data_\""
   ]
  },
  {
   "cell_type": "code",
   "execution_count": 3,
   "metadata": {},
   "outputs": [
    {
     "data": {
      "text/plain": [
       "(50000, 2)"
      ]
     },
     "execution_count": 3,
     "metadata": {},
     "output_type": "execute_result"
    }
   ],
   "source": [
    "reviews = pd.read_csv(INP_FILE)\n",
    "reviews.shape"
   ]
  },
  {
   "cell_type": "code",
   "execution_count": 4,
   "metadata": {},
   "outputs": [
    {
     "data": {
      "text/html": [
       "<div>\n",
       "<style scoped>\n",
       "    .dataframe tbody tr th:only-of-type {\n",
       "        vertical-align: middle;\n",
       "    }\n",
       "\n",
       "    .dataframe tbody tr th {\n",
       "        vertical-align: top;\n",
       "    }\n",
       "\n",
       "    .dataframe thead th {\n",
       "        text-align: right;\n",
       "    }\n",
       "</style>\n",
       "<table border=\"1\" class=\"dataframe\">\n",
       "  <thead>\n",
       "    <tr style=\"text-align: right;\">\n",
       "      <th></th>\n",
       "      <th>review</th>\n",
       "      <th>sentiment</th>\n",
       "    </tr>\n",
       "  </thead>\n",
       "  <tbody>\n",
       "    <tr>\n",
       "      <th>0</th>\n",
       "      <td>One of the other reviewers has mentioned that ...</td>\n",
       "      <td>positive</td>\n",
       "    </tr>\n",
       "    <tr>\n",
       "      <th>1</th>\n",
       "      <td>A wonderful little production. &lt;br /&gt;&lt;br /&gt;The...</td>\n",
       "      <td>positive</td>\n",
       "    </tr>\n",
       "    <tr>\n",
       "      <th>2</th>\n",
       "      <td>I thought this was a wonderful way to spend ti...</td>\n",
       "      <td>positive</td>\n",
       "    </tr>\n",
       "    <tr>\n",
       "      <th>3</th>\n",
       "      <td>Basically there's a family where a little boy ...</td>\n",
       "      <td>negative</td>\n",
       "    </tr>\n",
       "    <tr>\n",
       "      <th>4</th>\n",
       "      <td>Petter Mattei's \"Love in the Time of Money\" is...</td>\n",
       "      <td>positive</td>\n",
       "    </tr>\n",
       "  </tbody>\n",
       "</table>\n",
       "</div>"
      ],
      "text/plain": [
       "                                              review sentiment\n",
       "0  One of the other reviewers has mentioned that ...  positive\n",
       "1  A wonderful little production. <br /><br />The...  positive\n",
       "2  I thought this was a wonderful way to spend ti...  positive\n",
       "3  Basically there's a family where a little boy ...  negative\n",
       "4  Petter Mattei's \"Love in the Time of Money\" is...  positive"
      ]
     },
     "execution_count": 4,
     "metadata": {},
     "output_type": "execute_result"
    }
   ],
   "source": [
    "reviews.head()"
   ]
  },
  {
   "cell_type": "code",
   "execution_count": 5,
   "metadata": {},
   "outputs": [
    {
     "data": {
      "text/plain": [
       "\"One of the other reviewers has mentioned that after watching just 1 Oz episode you'll be hooked. They are right, as this is exactly what happened with me.<br /><br />The first thing that struck me about Oz was its brutality and unflinching scenes of violence, which set in right from the word GO. Trust me, this is not a show for the faint hearted or timid. This show pulls no punches with regards to drugs, sex or violence. Its is hardcore, in the classic use of the word.<br /><br />It is called OZ as that is the nickname given to the Oswald Maximum Security State Penitentary. It focuses mainly on Emerald City, an experimental section of the prison where all the cells have glass fronts and face inwards, so privacy is not high on the agenda. Em City is home to many..Aryans, Muslims, gangstas, Latinos, Christians, Italians, Irish and more....so scuffles, death stares, dodgy dealings and shady agreements are never far away.<br /><br />I would say the main appeal of the show is due to the fact that it goes where other shows wouldn't dare. Forget pretty pictures painted for mainstream audiences, forget charm, forget romance...OZ doesn't mess around. The first episode I ever saw struck me as so nasty it was surreal, I couldn't say I was ready for it, but as I watched more, I developed a taste for Oz, and got accustomed to the high levels of graphic violence. Not just violence, but injustice (crooked guards who'll be sold out for a nickel, inmates who'll kill on order and get away with it, well mannered, middle class inmates being turned into prison bitches due to their lack of street skills or prison experience) Watching Oz, you may become comfortable with what is uncomfortable viewing....thats if you can get in touch with your darker side.\""
      ]
     },
     "execution_count": 5,
     "metadata": {},
     "output_type": "execute_result"
    }
   ],
   "source": [
    "reviews.loc[0, \"review\"]"
   ]
  },
  {
   "cell_type": "code",
   "execution_count": 7,
   "metadata": {},
   "outputs": [],
   "source": [
    "CONTRACTION_LIST = [(r\"i'm\", \"i am\"), (r\"he's\", \"he is\"), (r\"she's\", \"she is\"), (r\"it's\", \"it is\"), \n",
    "                    (r\"that's\", \"that is\"), (r\"what\\'s\", \"what is\"), (r\"where's\", \"where is\"), \n",
    "                    (r\"how's\", \"how is\"), (r\"\\'ll\", \" will\"), (r\"\\'ve\", \" have\"), (r\"\\'re\", \" are\"), \n",
    "                    (r\"\\'d\", \" would\"), (r\"won't\", \"will not\"), (r\"can't\", \"cannot\"), (r\"n't\", \" not\"),\n",
    "                    (r\"n'\", \"ng\"), (r\"\\'bout\", \"about\"), (r\"\\'til\", \"until\"), (r\"thats\", \"that\")]\n",
    "\n",
    "\n",
    "STOP_WORDS = set(nltk.corpus.stopwords.words(\"english\"))\n",
    "PUNCTUATION = r\"[%s]\" % re.escape(string.punctuation)\n",
    "\n",
    "# part of speech tag\n",
    "POS_TAG = defaultdict(lambda: nltk.corpus.wordnet.NOUN)\n",
    "POS_TAG[\"J\"] = nltk.corpus.wordnet.ADJ\n",
    "POS_TAG[\"N\"] = nltk.corpus.wordnet.NOUN\n",
    "POS_TAG[\"V\"] = nltk.corpus.wordnet.VERB\n",
    "POS_TAG[\"R\"] = nltk.corpus.wordnet.ADV\n",
    "\n",
    "\n",
    "def lemmatize(text):\n",
    "    sentences = nltk.sent_tokenize(text)\n",
    "    lemmatizer = nltk.stem.WordNetLemmatizer()\n",
    "    \n",
    "    words = []\n",
    "    for sent in sentences:\n",
    "        tokens = sent.split()\n",
    "        for token, tag in nltk.pos_tag(tokens):\n",
    "            word = lemmatizer.lemmatize(token, POS_TAG[tag[0]])\n",
    "            words.append(word)\n",
    "    return \" \".join(words)\n",
    "\n",
    "\n",
    "def clean_contraction(text, flags=re.IGNORECASE):\n",
    "    for regex, sub in CONTRACTION_LIST:\n",
    "        text = re.sub(regex, sub, text, flags=flags)\n",
    "    return text\n",
    "\n",
    "\n",
    "def remove_punctuation(text):\n",
    "    return re.sub(PUNCTUATION, \" \", text)\n",
    "\n",
    "def remove_breaker(text):\n",
    "    return re.sub(r\"<br\\s+/>\", \" \", text)\n",
    "\n",
    "\n",
    "def clean_text(text):\n",
    "    text = text.lower()\n",
    "    \n",
    "    text = remove_breaker(text)\n",
    "    \n",
    "    text = clean_contraction(text)\n",
    "    \n",
    "    text = lemmatize(text)\n",
    "    \n",
    "    text = remove_punctuation(text)\n",
    "\n",
    "    tokens = text.split()\n",
    "    # remove non-alphabetic words\n",
    "    tokens = [w for w in tokens if w.isalpha()]\n",
    "    tokens = [w for w in tokens if w not in STOP_WORDS]\n",
    "    \n",
    "    # filter out short tokens\n",
    "    tokens = [w for w in tokens if len(w) > 1]\n",
    "    \n",
    "    return \" \".join(tokens)"
   ]
  },
  {
   "cell_type": "code",
   "execution_count": 49,
   "metadata": {},
   "outputs": [
    {
     "data": {
      "text/plain": [
       "'one reviewer mention watch oz episode hooked right exactly happen first thing strike oz brutality unflinching scene violence set right word go trust show faint hearted timid show pull punch regard drugs sex violence hardcore classic use word call oz nickname give oswald maximum security state penitentary focus mainly emerald city experimental section prison cell glass front face inwards privacy high agenda em city home many aryans muslims gangstas latinos christians italians irish scuffles death stares dodgy dealing shady agreement never far away would say main appeal show due fact go show would dare forget pretty picture paint mainstream audiences forget charm forget romance oz mess around first episode ever saw strike nasty surreal could say ready watch develop taste oz get accustom high level graphic violence violence injustice crooked guard sell nickel inmate kill order get away well mannered middle class inmate turn prison bitch due lack street skill prison experience watch oz may become comfortable uncomfortable viewing get touch darker side'"
      ]
     },
     "execution_count": 49,
     "metadata": {},
     "output_type": "execute_result"
    }
   ],
   "source": [
    "text = reviews.loc[0, \"review\"]\n",
    "text"
   ]
  },
  {
   "cell_type": "code",
   "execution_count": 50,
   "metadata": {},
   "outputs": [
    {
     "data": {
      "text/plain": [
       "'one reviewer mention watch oz episode hook right exactly happen first thing strike oz brutality unflinching scene violence set right word go trust show faint hearted timid show pull punch regard drug sex violence hardcore classic use word call oz nickname give oswald maximum security state penitentary focus mainly emerald city experimental section prison cell glass front face inwards privacy high agenda em city home many aryan muslim gangstas latinos christian italian irish scuffle death stare dodgy deal shady agreement never far away would say main appeal show due fact go show would dare forget pretty picture paint mainstream audience forget charm forget romance oz mess around first episode ever saw strike nasty surreal could say ready watch develop taste oz get accustom high level graphic violence violence injustice crook guard sell nickel inmate kill order get away well mannered middle class inmate turn prison bitch due lack street skill prison experience watch oz may become comfortable uncomfortable view get touch darker side'"
      ]
     },
     "execution_count": 50,
     "metadata": {},
     "output_type": "execute_result"
    }
   ],
   "source": [
    "clean_text(text)"
   ]
  },
  {
   "cell_type": "code",
   "execution_count": 26,
   "metadata": {},
   "outputs": [
    {
     "name": "stdout",
     "output_type": "stream",
     "text": [
      "elapsed_time: 634.8468835353851\n"
     ]
    }
   ],
   "source": [
    "start_time = time.time()\n",
    "\n",
    "reviews[\"review\"] = reviews[\"review\"].apply(clean_text)\n",
    "\n",
    "end_time = time.time()\n",
    "elapsed_time = end_time - start_time\n",
    "print(\"elapsed_time:\", elapsed_time)"
   ]
  },
  {
   "cell_type": "code",
   "execution_count": 32,
   "metadata": {},
   "outputs": [],
   "source": [
    "reviews[\"sentiment\"] = reviews[\"sentiment\"].map({\"positive\": 1, \"negative\": 0})"
   ]
  },
  {
   "cell_type": "code",
   "execution_count": 33,
   "metadata": {},
   "outputs": [
    {
     "data": {
      "text/plain": [
       "0.5"
      ]
     },
     "execution_count": 33,
     "metadata": {},
     "output_type": "execute_result"
    }
   ],
   "source": [
    "reviews[\"sentiment\"].mean()"
   ]
  },
  {
   "cell_type": "code",
   "execution_count": 51,
   "metadata": {},
   "outputs": [],
   "source": [
    "reviews_train, reviews_test, y_train, y_test = train_test_split(reviews[\"review\"], reviews[\"sentiment\"], \n",
    "                                                                test_size=0.25, random_state=21083)\n",
    "\n",
    "\n",
    "reviews_train = pd.DataFrame(reviews_train)\n",
    "reviews_train[\"sentiment\"] = y_train\n",
    "\n",
    "reviews_test = pd.DataFrame(reviews_test)\n",
    "reviews_test[\"sentiment\"] = y_test\n",
    "\n",
    "reviews_train.to_csv(os.path.join(OUT_DIR, \"reviews_train.csv\"), index=False)\n",
    "reviews_test.to_csv(os.path.join(OUT_DIR, \"reviews_test.csv\"), index=False)"
   ]
  },
  {
   "cell_type": "code",
   "execution_count": 66,
   "metadata": {},
   "outputs": [
    {
     "data": {
      "text/plain": [
       "85475"
      ]
     },
     "execution_count": 66,
     "metadata": {},
     "output_type": "execute_result"
    }
   ],
   "source": [
    "all_tokens = []\n",
    "for text in reviews_train[\"review\"].values:\n",
    "    all_tokens.extend(text.split())\n",
    "    \n",
    "vocab = Counter(all_tokens)\n",
    "len(vocab)"
   ]
  },
  {
   "cell_type": "code",
   "execution_count": 65,
   "metadata": {},
   "outputs": [
    {
     "data": {
      "text/plain": [
       "[('movie', 73861),\n",
       " ('film', 68344),\n",
       " ('one', 41100),\n",
       " ('like', 33012),\n",
       " ('make', 31378),\n",
       " ('see', 28796),\n",
       " ('good', 26943),\n",
       " ('get', 26237),\n",
       " ('would', 23371),\n",
       " ('time', 21859),\n",
       " ('watch', 19763),\n",
       " ('go', 19577),\n",
       " ('even', 18737),\n",
       " ('bad', 18713),\n",
       " ('story', 18430),\n",
       " ('well', 18338),\n",
       " ('character', 18324),\n",
       " ('really', 17490),\n",
       " ('think', 16627),\n",
       " ('show', 15473),\n",
       " ('great', 15110),\n",
       " ('much', 14633),\n",
       " ('look', 14266),\n",
       " ('scene', 13981),\n",
       " ('could', 13940),\n",
       " ('people', 13584),\n",
       " ('also', 13567),\n",
       " ('know', 13479),\n",
       " ('first', 13332),\n",
       " ('say', 13086)]"
      ]
     },
     "execution_count": 65,
     "metadata": {},
     "output_type": "execute_result"
    }
   ],
   "source": [
    "vocab.most_common(30)"
   ]
  }
 ],
 "metadata": {
  "kernelspec": {
   "display_name": "Python 3",
   "language": "python",
   "name": "python3"
  },
  "language_info": {
   "codemirror_mode": {
    "name": "ipython",
    "version": 3
   },
   "file_extension": ".py",
   "mimetype": "text/x-python",
   "name": "python",
   "nbconvert_exporter": "python",
   "pygments_lexer": "ipython3",
   "version": "3.7.6"
  }
 },
 "nbformat": 4,
 "nbformat_minor": 4
}
