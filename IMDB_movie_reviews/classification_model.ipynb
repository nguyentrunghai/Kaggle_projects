{
 "cells": [
  {
   "cell_type": "code",
   "execution_count": 10,
   "metadata": {},
   "outputs": [],
   "source": [
    "import os\n",
    "import pandas as pd\n",
    "import numpy as np\n",
    "\n",
    "import tensorflow as tf\n",
    "from tensorflow import keras"
   ]
  },
  {
   "cell_type": "code",
   "execution_count": 2,
   "metadata": {},
   "outputs": [],
   "source": [
    "INP_DIR = \"data/data_\""
   ]
  },
  {
   "cell_type": "code",
   "execution_count": 6,
   "metadata": {},
   "outputs": [
    {
     "data": {
      "text/plain": [
       "((32000, 2), (8000, 2), (10000, 2))"
      ]
     },
     "execution_count": 6,
     "metadata": {},
     "output_type": "execute_result"
    }
   ],
   "source": [
    "reviews_train = pd.read_csv(os.path.join(INP_DIR, \"reviews_train.csv\"))\n",
    "reviews_val = pd.read_csv(os.path.join(INP_DIR, \"reviews_val.csv\"))\n",
    "reviews_test = pd.read_csv(os.path.join(INP_DIR, \"reviews_test.csv\"))\n",
    "\n",
    "y_train = reviews_train[\"sentiment\"].values\n",
    "y_val = reviews_val[\"sentiment\"].values\n",
    "y_test = reviews_test[\"sentiment\"].values\n",
    "\n",
    "reviews_train.shape, reviews_val.shape, reviews_test.shape"
   ]
  },
  {
   "cell_type": "code",
   "execution_count": 33,
   "metadata": {},
   "outputs": [],
   "source": [
    "MAX_WORDS_PER_DOC = 200\n",
    "MAX_VOCAB = 20000\n",
    "EMBEDDING_DIM = 100"
   ]
  },
  {
   "cell_type": "code",
   "execution_count": 34,
   "metadata": {},
   "outputs": [],
   "source": [
    "tokenizer = keras.preprocessing.text.Tokenizer(num_words=MAX_VOCAB)\n",
    "tokenizer.fit_on_texts(reviews_train[\"review\"].values)\n",
    "\n",
    "word_index = tokenizer.word_index\n",
    "\n",
    "seq_train = tokenizer.texts_to_sequences(reviews_train[\"review\"].values)\n",
    "seq_val = tokenizer.texts_to_sequences(reviews_val[\"review\"].values)\n",
    "seq_test = tokenizer.texts_to_sequences(reviews_test[\"review\"].values)"
   ]
  },
  {
   "cell_type": "code",
   "execution_count": 35,
   "metadata": {},
   "outputs": [
    {
     "data": {
      "text/plain": [
       "((32000, 200), (8000, 200), (10000, 200))"
      ]
     },
     "execution_count": 35,
     "metadata": {},
     "output_type": "execute_result"
    }
   ],
   "source": [
    "X_train = keras.preprocessing.sequence.pad_sequences(seq_train, MAX_WORDS_PER_DOC, padding=\"post\")\n",
    "X_val = keras.preprocessing.sequence.pad_sequences(seq_val, MAX_WORDS_PER_DOC, padding=\"post\")\n",
    "X_test = keras.preprocessing.sequence.pad_sequences(seq_test, MAX_WORDS_PER_DOC, padding=\"post\")\n",
    "\n",
    "X_train.shape, X_val.shape, X_test.shape"
   ]
  },
  {
   "cell_type": "markdown",
   "metadata": {},
   "source": [
    "# Word embedding + a dense layer"
   ]
  },
  {
   "cell_type": "code",
   "execution_count": 41,
   "metadata": {},
   "outputs": [
    {
     "name": "stdout",
     "output_type": "stream",
     "text": [
      "Model: \"sequential\"\n",
      "_________________________________________________________________\n",
      "Layer (type)                 Output Shape              Param #   \n",
      "=================================================================\n",
      "embedding (Embedding)        (None, 200, 100)          2000100   \n",
      "_________________________________________________________________\n",
      "flatten (Flatten)            (None, 20000)             0         \n",
      "_________________________________________________________________\n",
      "dense (Dense)                (None, 1)                 20001     \n",
      "=================================================================\n",
      "Total params: 2,020,101\n",
      "Trainable params: 2,020,101\n",
      "Non-trainable params: 0\n",
      "_________________________________________________________________\n",
      "None\n"
     ]
    }
   ],
   "source": [
    "keras.backend.clear_session()\n",
    "\n",
    "model = keras.models.Sequential()\n",
    "model.add(keras.layers.Embedding(MAX_VOCAB + 1, EMBEDDING_DIM, input_length=MAX_WORDS_PER_DOC))\n",
    "model.add(keras.layers.Flatten())\n",
    "model.add(keras.layers.Dense(1, activation=\"sigmoid\"))\n",
    "\n",
    "model.compile(loss=\"binary_crossentropy\", optimizer=\"adam\", metrics=[\"acc\"])\n",
    "\n",
    "print(model.summary())"
   ]
  }
 ],
 "metadata": {
  "kernelspec": {
   "display_name": "Python 3",
   "language": "python",
   "name": "python3"
  },
  "language_info": {
   "codemirror_mode": {
    "name": "ipython",
    "version": 3
   },
   "file_extension": ".py",
   "mimetype": "text/x-python",
   "name": "python",
   "nbconvert_exporter": "python",
   "pygments_lexer": "ipython3",
   "version": "3.7.6"
  }
 },
 "nbformat": 4,
 "nbformat_minor": 4
}
