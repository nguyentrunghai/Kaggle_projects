{
 "cells": [
  {
   "cell_type": "code",
   "execution_count": 1,
   "metadata": {},
   "outputs": [],
   "source": [
    "import os\n",
    "from tqdm import tqdm\n",
    "\n",
    "import matplotlib.pyplot as plt\n",
    "%matplotlib inline\n",
    "import seaborn as sns\n",
    "sns.set()\n",
    "\n",
    "from mpl_toolkits.basemap import Basemap\n",
    "\n",
    "import numpy as np\n",
    "import pandas as pd"
   ]
  },
  {
   "cell_type": "markdown",
   "metadata": {},
   "source": [
    "# Loading"
   ]
  },
  {
   "cell_type": "code",
   "execution_count": 2,
   "metadata": {},
   "outputs": [],
   "source": [
    "TRAIN_PATH = \"data/download/train.csv\"\n",
    "TEST_PATH = \"data/download/test.csv\"\n",
    "\n",
    "PROC_DIR = \"data/processed_data\""
   ]
  },
  {
   "cell_type": "code",
   "execution_count": 3,
   "metadata": {},
   "outputs": [
    {
     "name": "stdout",
     "output_type": "stream",
     "text": [
      " 55423856 data/download/train.csv\r\n"
     ]
    }
   ],
   "source": [
    "# number of rows of train\n",
    "!wc -l {TRAIN_PATH}"
   ]
  },
  {
   "cell_type": "code",
   "execution_count": 4,
   "metadata": {},
   "outputs": [
    {
     "name": "stdout",
     "output_type": "stream",
     "text": [
      "    9914 data/download/test.csv\r\n"
     ]
    }
   ],
   "source": [
    "# number of rows of test\n",
    "!wc -l {TEST_PATH}"
   ]
  },
  {
   "cell_type": "code",
   "execution_count": 5,
   "metadata": {},
   "outputs": [
    {
     "data": {
      "text/html": [
       "<div>\n",
       "<style scoped>\n",
       "    .dataframe tbody tr th:only-of-type {\n",
       "        vertical-align: middle;\n",
       "    }\n",
       "\n",
       "    .dataframe tbody tr th {\n",
       "        vertical-align: top;\n",
       "    }\n",
       "\n",
       "    .dataframe thead th {\n",
       "        text-align: right;\n",
       "    }\n",
       "</style>\n",
       "<table border=\"1\" class=\"dataframe\">\n",
       "  <thead>\n",
       "    <tr style=\"text-align: right;\">\n",
       "      <th></th>\n",
       "      <th>key</th>\n",
       "      <th>fare_amount</th>\n",
       "      <th>pickup_datetime</th>\n",
       "      <th>pickup_longitude</th>\n",
       "      <th>pickup_latitude</th>\n",
       "      <th>dropoff_longitude</th>\n",
       "      <th>dropoff_latitude</th>\n",
       "      <th>passenger_count</th>\n",
       "    </tr>\n",
       "  </thead>\n",
       "  <tbody>\n",
       "    <tr>\n",
       "      <th>0</th>\n",
       "      <td>2009-06-15 17:26:21.0000001</td>\n",
       "      <td>4.5</td>\n",
       "      <td>2009-06-15 17:26:21 UTC</td>\n",
       "      <td>-73.844311</td>\n",
       "      <td>40.721319</td>\n",
       "      <td>-73.841610</td>\n",
       "      <td>40.712278</td>\n",
       "      <td>1</td>\n",
       "    </tr>\n",
       "    <tr>\n",
       "      <th>1</th>\n",
       "      <td>2010-01-05 16:52:16.0000002</td>\n",
       "      <td>16.9</td>\n",
       "      <td>2010-01-05 16:52:16 UTC</td>\n",
       "      <td>-74.016048</td>\n",
       "      <td>40.711303</td>\n",
       "      <td>-73.979268</td>\n",
       "      <td>40.782004</td>\n",
       "      <td>1</td>\n",
       "    </tr>\n",
       "    <tr>\n",
       "      <th>2</th>\n",
       "      <td>2011-08-18 00:35:00.00000049</td>\n",
       "      <td>5.7</td>\n",
       "      <td>2011-08-18 00:35:00 UTC</td>\n",
       "      <td>-73.982738</td>\n",
       "      <td>40.761270</td>\n",
       "      <td>-73.991242</td>\n",
       "      <td>40.750562</td>\n",
       "      <td>2</td>\n",
       "    </tr>\n",
       "    <tr>\n",
       "      <th>3</th>\n",
       "      <td>2012-04-21 04:30:42.0000001</td>\n",
       "      <td>7.7</td>\n",
       "      <td>2012-04-21 04:30:42 UTC</td>\n",
       "      <td>-73.987130</td>\n",
       "      <td>40.733143</td>\n",
       "      <td>-73.991567</td>\n",
       "      <td>40.758092</td>\n",
       "      <td>1</td>\n",
       "    </tr>\n",
       "    <tr>\n",
       "      <th>4</th>\n",
       "      <td>2010-03-09 07:51:00.000000135</td>\n",
       "      <td>5.3</td>\n",
       "      <td>2010-03-09 07:51:00 UTC</td>\n",
       "      <td>-73.968095</td>\n",
       "      <td>40.768008</td>\n",
       "      <td>-73.956655</td>\n",
       "      <td>40.783762</td>\n",
       "      <td>1</td>\n",
       "    </tr>\n",
       "  </tbody>\n",
       "</table>\n",
       "</div>"
      ],
      "text/plain": [
       "                             key  fare_amount          pickup_datetime  \\\n",
       "0    2009-06-15 17:26:21.0000001          4.5  2009-06-15 17:26:21 UTC   \n",
       "1    2010-01-05 16:52:16.0000002         16.9  2010-01-05 16:52:16 UTC   \n",
       "2   2011-08-18 00:35:00.00000049          5.7  2011-08-18 00:35:00 UTC   \n",
       "3    2012-04-21 04:30:42.0000001          7.7  2012-04-21 04:30:42 UTC   \n",
       "4  2010-03-09 07:51:00.000000135          5.3  2010-03-09 07:51:00 UTC   \n",
       "\n",
       "   pickup_longitude  pickup_latitude  dropoff_longitude  dropoff_latitude  \\\n",
       "0        -73.844311        40.721319         -73.841610         40.712278   \n",
       "1        -74.016048        40.711303         -73.979268         40.782004   \n",
       "2        -73.982738        40.761270         -73.991242         40.750562   \n",
       "3        -73.987130        40.733143         -73.991567         40.758092   \n",
       "4        -73.968095        40.768008         -73.956655         40.783762   \n",
       "\n",
       "   passenger_count  \n",
       "0                1  \n",
       "1                1  \n",
       "2                2  \n",
       "3                1  \n",
       "4                1  "
      ]
     },
     "execution_count": 5,
     "metadata": {},
     "output_type": "execute_result"
    }
   ],
   "source": [
    "# let's read the first few rows\n",
    "train_df = pd.read_csv(TRAIN_PATH, nrows=5)\n",
    "train_df.head()"
   ]
  },
  {
   "cell_type": "code",
   "execution_count": 6,
   "metadata": {},
   "outputs": [
    {
     "name": "stdout",
     "output_type": "stream",
     "text": [
      "<class 'pandas.core.frame.DataFrame'>\n",
      "RangeIndex: 5 entries, 0 to 4\n",
      "Data columns (total 8 columns):\n",
      "key                  5 non-null object\n",
      "fare_amount          5 non-null float64\n",
      "pickup_datetime      5 non-null object\n",
      "pickup_longitude     5 non-null float64\n",
      "pickup_latitude      5 non-null float64\n",
      "dropoff_longitude    5 non-null float64\n",
      "dropoff_latitude     5 non-null float64\n",
      "passenger_count      5 non-null int64\n",
      "dtypes: float64(5), int64(1), object(2)\n",
      "memory usage: 400.0+ bytes\n"
     ]
    }
   ],
   "source": [
    "train_df.info()"
   ]
  },
  {
   "cell_type": "code",
   "execution_count": 7,
   "metadata": {},
   "outputs": [
    {
     "data": {
      "text/plain": [
       "0   2009-06-15 17:26:21.000000100\n",
       "1   2010-01-05 16:52:16.000000200\n",
       "2   2011-08-18 00:35:00.000000490\n",
       "3   2012-04-21 04:30:42.000000100\n",
       "4   2010-03-09 07:51:00.000000135\n",
       "Name: key, dtype: datetime64[ns]"
      ]
     },
     "execution_count": 7,
     "metadata": {},
     "output_type": "execute_result"
    }
   ],
   "source": [
    "pd.to_datetime(train_df[\"key\"])"
   ]
  },
  {
   "cell_type": "code",
   "execution_count": 8,
   "metadata": {},
   "outputs": [
    {
     "data": {
      "text/plain": [
       "0   2009-06-15 17:26:21+00:00\n",
       "1   2010-01-05 16:52:16+00:00\n",
       "2   2011-08-18 00:35:00+00:00\n",
       "3   2012-04-21 04:30:42+00:00\n",
       "4   2010-03-09 07:51:00+00:00\n",
       "Name: pickup_datetime, dtype: datetime64[ns, UTC]"
      ]
     },
     "execution_count": 8,
     "metadata": {},
     "output_type": "execute_result"
    }
   ],
   "source": [
    "pd.to_datetime(train_df[\"pickup_datetime\"])"
   ]
  },
  {
   "cell_type": "markdown",
   "metadata": {},
   "source": [
    "Columns `key` and and `pickup_datetime` seem to be the same timestamp, except that `pickup_datetime` has second precision whereas `key` has nano second precision. `key` is used to uniquely identify each row and hence not important for data analysis and modeling. We will drop this column in the train set. `key` is still needed for the test set to write out the Kaggle submission file.\n",
    "\n",
    "`train.csv` has a large number of rows (more than 55 million) so it may take a long time to read it into a dataframe. To quickly read the data and reduce its size, we follow this post: https://www.kaggle.com/szelee/how-to-import-a-csv-file-of-55-million-rows ."
   ]
  },
  {
   "cell_type": "code",
   "execution_count": 9,
   "metadata": {},
   "outputs": [],
   "source": [
    "def load_nyc_taxi_fare(path, col_types, chunksize=None, \n",
    "                       datetime_format=\"%Y-%m-%d %H:%M:%S UTC\",\n",
    "                       convert_to_timezone=None):\n",
    "    chunk_iter = pd.read_csv(path, usecols=col_types.keys(), dtype=col_types, chunksize=chunksize)\n",
    "    \n",
    "    if chunksize is None:\n",
    "        chunk_iter[\"pickup_datetime\"] = pd.to_datetime(chunk_iter[\"pickup_datetime\"], \n",
    "                                                       utc=True, format=datetime_format)\n",
    "        # convert to different timezone\n",
    "        if convert_to_timezone is not None:\n",
    "            chunk_iter[\"pickup_datetime\"] = chunk_iter[\"pickup_datetime\"].dt.tz_convert(convert_to_timezone)\n",
    "        return chunk_iter\n",
    "    \n",
    "    df_list = []\n",
    "    # use tqdm to monitor progress\n",
    "    # It would take extremely long time if format were not used.\n",
    "    for df_chunk in tqdm(chunk_iter):\n",
    "        df_chunk[\"pickup_datetime\"] = pd.to_datetime(df_chunk[\"pickup_datetime\"], \n",
    "                                                     utc=True, format=datetime_format)\n",
    "        # convert to different timezone\n",
    "        if convert_to_timezone is not None:\n",
    "            df_chunk[\"pickup_datetime\"] = df_chunk[\"pickup_datetime\"].dt.tz_convert(convert_to_timezone)\n",
    "        \n",
    "        df_list.append(df_chunk)\n",
    "        \n",
    "    return pd.concat(df_list)"
   ]
  },
  {
   "cell_type": "code",
   "execution_count": null,
   "metadata": {},
   "outputs": [
    {
     "name": "stderr",
     "output_type": "stream",
     "text": [
      "\r",
      "0it [00:00, ?it/s]"
     ]
    }
   ],
   "source": [
    "train_types = {\"fare_amount\": \"float32\",\n",
    "              \"pickup_datetime\": \"str\", \n",
    "              \"pickup_longitude\": \"float32\",\n",
    "              \"pickup_latitude\": \"float32\",\n",
    "              \"dropoff_longitude\": \"float32\",\n",
    "              \"dropoff_latitude\": \"float32\",\n",
    "              \"passenger_count\": \"uint8\"}\n",
    "train_df = load_nyc_taxi_fare(TRAIN_PATH, train_types, chunksize=5_000_000, convert_to_timezone='US/Eastern')\n",
    "train_df.head()"
   ]
  },
  {
   "cell_type": "code",
   "execution_count": null,
   "metadata": {},
   "outputs": [],
   "source": [
    "train_df.shape"
   ]
  },
  {
   "cell_type": "code",
   "execution_count": null,
   "metadata": {},
   "outputs": [],
   "source": [
    "train_df.info(memory_usage=\"deep\")"
   ]
  },
  {
   "cell_type": "code",
   "execution_count": null,
   "metadata": {
    "scrolled": true
   },
   "outputs": [],
   "source": [
    "test_types = train_types.copy()\n",
    "test_types.pop(\"fare_amount\")\n",
    "test_types[\"key\"] = \"str\"\n",
    "\n",
    "test_df = load_nyc_taxi_fare(TEST_PATH, test_types, convert_to_timezone='US/Eastern')\n",
    "test_df.head()"
   ]
  },
  {
   "cell_type": "markdown",
   "metadata": {},
   "source": [
    "# Cleaning and EDA"
   ]
  },
  {
   "cell_type": "code",
   "execution_count": null,
   "metadata": {},
   "outputs": [],
   "source": [
    "train_df.describe()"
   ]
  },
  {
   "cell_type": "markdown",
   "metadata": {},
   "source": [
    "Is there any Null?"
   ]
  },
  {
   "cell_type": "code",
   "execution_count": null,
   "metadata": {},
   "outputs": [],
   "source": [
    "train_df.isna().sum()"
   ]
  },
  {
   "cell_type": "markdown",
   "metadata": {},
   "source": [
    "Since the number of rows containing null is very small compared to the total number of rows, we decide to drop them."
   ]
  },
  {
   "cell_type": "code",
   "execution_count": null,
   "metadata": {},
   "outputs": [],
   "source": [
    "print(\"shape before dropping:\", train_df.shape)\n",
    "train_df = train_df.dropna(axis=0, how=\"any\")\n",
    "print(\"shape after dropping:\", train_df.shape)"
   ]
  },
  {
   "cell_type": "markdown",
   "metadata": {},
   "source": [
    "## Cleaning up `fare_amount`"
   ]
  },
  {
   "cell_type": "markdown",
   "metadata": {},
   "source": [
    "There are negative fare amounts. Let's count how there are in the training set."
   ]
  },
  {
   "cell_type": "code",
   "execution_count": null,
   "metadata": {},
   "outputs": [],
   "source": [
    "print(\"Number of negative values of fare_amount: %d \" % (train_df[\"fare_amount\"] < 0).sum())"
   ]
  },
  {
   "cell_type": "markdown",
   "metadata": {},
   "source": [
    "Since negative values of `fare_amount` do not make sense, we will drop them."
   ]
  },
  {
   "cell_type": "code",
   "execution_count": null,
   "metadata": {},
   "outputs": [],
   "source": [
    "print(\"Shape before dropping:\", train_df.shape)\n",
    "train_df = train_df[train_df[\"fare_amount\"] >= 0]\n",
    "print(\"Shape after dropping:\", train_df.shape)"
   ]
  },
  {
   "cell_type": "markdown",
   "metadata": {},
   "source": [
    "Very large values of `fare_amount` may also be problematic. Let's look the histogram."
   ]
  },
  {
   "cell_type": "code",
   "execution_count": null,
   "metadata": {},
   "outputs": [],
   "source": [
    "fig, ax = plt.subplots(nrows=1, ncols=2, figsize=(10, 4))\n",
    "train_df[\"fare_amount\"].plot(kind=\"hist\", ax=ax[0], bins=100)\n",
    "ax[0].set_xlabel(\"fare_amount (USD)\")\n",
    "ax[0].set_title(\"all data\")\n",
    "\n",
    "train_df.loc[train_df[\"fare_amount\"] < 200, \"fare_amount\"].plot(kind=\"hist\", bins=100, ax=ax[1])\n",
    "ax[1].set_xlabel(\"fare_amount (USD)\")\n",
    "ax[1].set_title(\"data with fare_amount < 200\")"
   ]
  },
  {
   "cell_type": "code",
   "execution_count": null,
   "metadata": {},
   "outputs": [],
   "source": [
    "for fare in [100, 200, 500, 1000, 5000, 10000]:\n",
    "    print(\"Number of rows with fare_amount greater than $%d is %d\" %(fare, (train_df[\"fare_amount\"] > fare).sum()))"
   ]
  },
  {
   "cell_type": "markdown",
   "metadata": {},
   "source": [
    "There are few values greater than $200. Latter we will see if these expensive trips correspond to long distances and decide whether we will drop them."
   ]
  },
  {
   "cell_type": "markdown",
   "metadata": {},
   "source": [
    "## Clean up pickup and dropoff location data"
   ]
  },
  {
   "cell_type": "code",
   "execution_count": null,
   "metadata": {},
   "outputs": [],
   "source": [
    "train_df.describe()"
   ]
  },
  {
   "cell_type": "markdown",
   "metadata": {},
   "source": [
    "Latitude ranges from -90$^o$ to 90$^o$ and longitude from -180$^o$ to 180$^o$. Values outside these ranges do not make sense and we will drop them."
   ]
  },
  {
   "cell_type": "code",
   "execution_count": null,
   "metadata": {},
   "outputs": [],
   "source": [
    "def drop_wrong_gps_coor(df):\n",
    "    print(\"Shape before dropping:\", df.shape)\n",
    "    df = df[(df[\"pickup_longitude\"] >= -180) & (df[\"pickup_longitude\"] <= 180)]\n",
    "    df = df[(df[\"dropoff_longitude\"] >= -180) & (df[\"dropoff_longitude\"] <= 180)]\n",
    "    \n",
    "    df = df[(df[\"pickup_latitude\"] >= -90) & (df[\"pickup_latitude\"] <= 90)]\n",
    "    df = df[(df[\"dropoff_latitude\"] >= -90) & (df[\"dropoff_latitude\"] <= 90)]\n",
    "    print(\"Shape after dropping:\", df.shape)\n",
    "    return df"
   ]
  },
  {
   "cell_type": "code",
   "execution_count": null,
   "metadata": {},
   "outputs": [],
   "source": [
    "train_df = drop_wrong_gps_coor(train_df)"
   ]
  },
  {
   "cell_type": "code",
   "execution_count": null,
   "metadata": {},
   "outputs": [],
   "source": [
    "train_df.describe()"
   ]
  },
  {
   "cell_type": "markdown",
   "metadata": {},
   "source": [
    "By googling we know that the geo-coordinate of the center of New York City is (40.7128$^o$ N, 74.0060$^o$ W) which means `latitute` = 40.7128$^o$ and `longitude` = -74.0060$^o$. We expect the pickup and dropoff coordinates in the train data set vary by one or two degrees at most from the center. However, the min and max values of the `longitude` and `latitude` are very extreme. \n",
    "\n",
    "We will focus on the region around New York City. We follow this post: https://www.kaggle.com/breemen/nyc-taxi-fare-data-exploration and define a bounding box from GPS coordinates in the test set."
   ]
  },
  {
   "cell_type": "code",
   "execution_count": null,
   "metadata": {},
   "outputs": [],
   "source": [
    "LON_MIN = np.min([test_df[\"pickup_longitude\"].min(), test_df[\"dropoff_longitude\"].min()])\n",
    "LON_MAX = np.max([test_df[\"pickup_longitude\"].max(), test_df[\"dropoff_longitude\"].max()])\n",
    "\n",
    "LAT_MIN = np.min([test_df[\"pickup_latitude\"].min(), test_df[\"dropoff_latitude\"].min()])\n",
    "LAT_MAX = np.max([test_df[\"pickup_latitude\"].max(), test_df[\"dropoff_latitude\"].max()])\n",
    "\n",
    "print(\"LON_MIN = %0.5f\" % LON_MIN)\n",
    "print(\"LON_MAX = %0.5f\" % LON_MAX)\n",
    "print(\"LAT_MIN = %0.5f\" % LAT_MIN)\n",
    "print(\"LAT_MAX = %0.5f\" % LAT_MAX)"
   ]
  },
  {
   "cell_type": "markdown",
   "metadata": {},
   "source": [
    "Let's see how many data points are outside the bounding box."
   ]
  },
  {
   "cell_type": "code",
   "execution_count": null,
   "metadata": {},
   "outputs": [],
   "source": [
    "def is_pickup_inside(df, lon_min, lon_max, lat_min, lat_max):\n",
    "    lat_inside = (df[\"pickup_latitude\"] >= lat_min) & (df[\"pickup_latitude\"] <= lat_max)\n",
    "    lon_inside = (df[\"pickup_longitude\"] >= lon_min) & (df[\"pickup_longitude\"] <= lon_max)\n",
    "    return lat_inside & lon_inside\n",
    "\n",
    "def is_dropoff_inside(df, lon_min, lon_max, lat_min, lat_max):\n",
    "    lat_inside = (df[\"dropoff_latitude\"] >= lat_min) & (df[\"dropoff_latitude\"] <= lat_max)\n",
    "    lon_inside = (df[\"dropoff_longitude\"] >= lon_min) & (df[\"dropoff_longitude\"] <= lon_max)\n",
    "    return lat_inside & lon_inside\n",
    "\n",
    "def is_inside(df, lon_min, lon_max, lat_min, lat_max):\n",
    "    \"\"\"both pickup and dropoff are inside\"\"\"\n",
    "    p_in = is_pickup_inside(df, lon_min, lon_max, lat_min, lat_max)\n",
    "    d_in = is_dropoff_inside(df, lon_min, lon_max, lat_min, lat_max)\n",
    "    return p_in & d_in"
   ]
  },
  {
   "cell_type": "code",
   "execution_count": null,
   "metadata": {},
   "outputs": [],
   "source": [
    "inside = is_inside(train_df, LON_MIN, LON_MAX, LAT_MIN, LAT_MAX)\n",
    "outside = ~inside\n",
    "print(\"%0.3f%% of points outside the bounding box\" % (outside.mean() * 100))"
   ]
  },
  {
   "cell_type": "markdown",
   "metadata": {},
   "source": [
    "Let's increase the bounding box a little bit to include more points in the box."
   ]
  },
  {
   "cell_type": "code",
   "execution_count": null,
   "metadata": {},
   "outputs": [],
   "source": [
    "for deg in [0.05, 0.1, 0.2, 0.5, 1, 2, 5]:\n",
    "    lat_min = LAT_MIN - deg / 2\n",
    "    lat_max = LAT_MAX + deg / 2\n",
    "    lon_min = LON_MIN - deg / 2\n",
    "    lon_max = LON_MAX + deg / 2\n",
    "    \n",
    "    inside = is_inside(train_df, lon_min, lon_max, lat_min, lat_max)\n",
    "    outside = ~inside\n",
    "    print(\"When increasing each side by %0.3f deg, %0.3f%% of points are outside.\" % (deg, outside.mean()*100))"
   ]
  },
  {
   "cell_type": "markdown",
   "metadata": {},
   "source": [
    "When increasing the boudning box, not a lot of points actually move inside. This means that most of the points outside the box are really far away. There are about 2% of the points having both pickup and dropoff locations are far from New York City. Let's look at them on the map."
   ]
  },
  {
   "cell_type": "code",
   "execution_count": null,
   "metadata": {},
   "outputs": [],
   "source": [
    "def create_nyc_map(ax, lon_min, lon_max, lat_min, lat_max, alpha=1., resolution=\"h\"):\n",
    "    # projection=\"cyl\" or projection=\"lcc\"\n",
    "    bmap = Basemap(projection=\"cyl\", resolution=resolution, ax=ax,\n",
    "                   llcrnrlat=lat_min, urcrnrlat=lat_max, \n",
    "                   llcrnrlon=lon_min, urcrnrlon=lon_max,\n",
    "                   lat_0=(lat_min + lat_max) / 2, lon_0=(lon_min + lon_max) / 2)\n",
    "    \n",
    "    bmap.drawmapboundary(fill_color='aqua', ax=ax, zorder=0)\n",
    "    bmap.fillcontinents(color=\"coral\", lake_color='aqua', alpha=alpha, ax=ax, zorder=1)\n",
    "    bmap.drawstates(color='gray', ax=ax, zorder=2)\n",
    "    \n",
    "    return bmap\n",
    "\n",
    "def plot_coor_on_map(bmap, lons, lats, marker=\"o\", s=1, c=\"k\", alpha=1, label=None):\n",
    "    bmap.scatter(lons, lats, latlon=True, marker=marker, s=s, c=c, zorder=3, alpha=alpha, label=label)\n",
    "    return bmap"
   ]
  },
  {
   "cell_type": "code",
   "execution_count": null,
   "metadata": {},
   "outputs": [],
   "source": [
    "df_tmp = train_df.sample(frac=0.02, random_state=210)\n",
    "print(\"df_tmp shape\", df_tmp.shape)\n",
    "inside_idx = is_pickup_inside(df_tmp, LON_MIN, LON_MAX, LAT_MIN, LAT_MAX)\n",
    "\n",
    "sns.set(font_scale=1)\n",
    "fig, ax = plt.subplots(nrows=1, ncols=2, figsize=(10,6))\n",
    "\n",
    "bmap = create_nyc_map(ax[0], LON_MIN, LON_MAX, LAT_MIN, LAT_MAX)\n",
    "bmap = plot_coor_on_map(bmap,  \n",
    "                        df_tmp[\"pickup_longitude\"].values,\n",
    "                        df_tmp[\"pickup_latitude\"].values,\n",
    "                        marker=\"o\", s=1, c=\"k\", label=None)\n",
    "ax[0].set_title(\"Bounding box determined from test set\")\n",
    "\n",
    "bmap = create_nyc_map(ax[1], LON_MIN-2.5, LON_MAX+2.5, LAT_MIN-2.5, LAT_MAX+2.5)\n",
    "bmap = plot_coor_on_map(bmap,  \n",
    "                        df_tmp.loc[inside_idx, \"pickup_longitude\"].values,\n",
    "                        df_tmp.loc[inside_idx, \"pickup_latitude\"].values,\n",
    "                        marker=\"o\", s=1, c=\"k\", label=\"inside\")\n",
    "bmap = plot_coor_on_map(bmap,  \n",
    "                        df_tmp.loc[~inside_idx, \"pickup_longitude\"].values,\n",
    "                        df_tmp.loc[~inside_idx, \"pickup_latitude\"].values,\n",
    "                        marker=\"o\", s=1, c=\"g\", label=\"outside\")\n",
    "ax[1].set_title(\"Bounding box enlarged by 5 deg each side\")\n",
    "ax[1].legend()\n",
    "\n",
    "del df_tmp"
   ]
  },
  {
   "cell_type": "markdown",
   "metadata": {},
   "source": [
    "The area of bounding box on the right is really large. Since we are interested in taxi rides near New York City, we will use the bounding box given by the test set enlarged by 1 degree each side."
   ]
  },
  {
   "cell_type": "code",
   "execution_count": null,
   "metadata": {},
   "outputs": [],
   "source": [
    "inside_idx = is_inside(train_df, LON_MIN-0.5, LON_MAX+0.5, LAT_MIN-0.5, LAT_MAX+0.5)\n",
    "print(\"Shape before dropping:\", train_df.shape)\n",
    "train_df = train_df[inside_idx]\n",
    "print(\"Shape after dropping:\", train_df.shape)"
   ]
  },
  {
   "cell_type": "code",
   "execution_count": null,
   "metadata": {},
   "outputs": [],
   "source": [
    "df_tmp = train_df.sample(frac=0.1, random_state=210)\n",
    "sns.set(font_scale=1)\n",
    "fig, ax = plt.subplots(nrows=1, ncols=1, figsize=(6,6))\n",
    "\n",
    "bmap = create_nyc_map(ax, LON_MIN-0.5, LON_MAX+0.5, LAT_MIN-0.5, LAT_MAX+0.5)\n",
    "bmap = plot_coor_on_map(bmap,  \n",
    "                        df_tmp[\"pickup_longitude\"].values,\n",
    "                        df_tmp[\"pickup_latitude\"].values,\n",
    "                        marker=\"o\", s=1, c=\"k\", label=None)\n",
    "ax.set_title(\"Bounding box enlarged by 1 deg each side\")\n",
    "\n",
    "del df_tmp"
   ]
  },
  {
   "cell_type": "markdown",
   "metadata": {},
   "source": [
    "There are a lot of points on water. This makes little sense. Let's see if this also happens for the test set."
   ]
  },
  {
   "cell_type": "code",
   "execution_count": null,
   "metadata": {},
   "outputs": [],
   "source": [
    "sns.set(font_scale=1)\n",
    "fig, ax = plt.subplots(nrows=1, ncols=1, figsize=(6,6))\n",
    "\n",
    "bmap = create_nyc_map(ax, LON_MIN, LON_MAX, LAT_MIN, LAT_MAX)\n",
    "bmap = plot_coor_on_map(bmap,  \n",
    "                        test_df[\"pickup_longitude\"].values,\n",
    "                        test_df[\"pickup_latitude\"].values,\n",
    "                        marker=\"o\", s=2, c=\"k\", label=None)\n",
    "ax.set_title(\"Pickup coordinates of test set\")"
   ]
  },
  {
   "cell_type": "markdown",
   "metadata": {},
   "source": [
    "It happens the test set but rare. Points on water are much closer to shore which may be acceptable. Before deciding whether to remove all the taxi rides which start (pickup) and/or end (dropoff) on water from the training set, let's see if the target variable `fare_amount` is related to whether the pickup or dropoff coordinate in on water. "
   ]
  },
  {
   "cell_type": "code",
   "execution_count": null,
   "metadata": {},
   "outputs": [],
   "source": [
    "def is_on_land(lons, lats):\n",
    "    \n",
    "    lon_min = np.min(lons) - 0.01\n",
    "    lon_max = np.max(lons) + 0.01\n",
    "    \n",
    "    lat_min = np.min(lats) - 0.01\n",
    "    lat_max = np.max(lats) + 0.01\n",
    "    \n",
    "    lon_0 = (lon_min + lon_max) / 2\n",
    "    lat_0 = (lat_min + lat_max) / 2\n",
    "    \n",
    "    # projection=\"cyl\" or projection=\"lcc\"\n",
    "    bm = Basemap(projection=\"cyl\", resolution=\"h\", \n",
    "                 llcrnrlat=lat_min, urcrnrlat=lat_max, \n",
    "                 llcrnrlon=lon_min, urcrnrlon=lon_max,\n",
    "                 lon_0=lon_0, lat_0=lat_0)\n",
    "    \n",
    "    xpt, ypt = bm(lons, lats)\n",
    "    vec_is_land = np.vectorize(bm.is_land)\n",
    "    return vec_is_land(xpt, ypt)\n",
    "\n",
    "def is_pickup_on_land(df):\n",
    "    return is_on_land(df[\"pickup_longitude\"].values, df[\"pickup_latitude\"].values)\n",
    "\n",
    "def is_dropoff_on_land(df):\n",
    "    return is_on_land(df[\"dropoff_longitude\"].values, df[\"dropoff_latitude\"].values)\n",
    "\n",
    "def is_both_pickup_or_dropoff_on_land(df):\n",
    "    return is_pickup_on_land(df) & is_dropoff_on_land(df)"
   ]
  },
  {
   "cell_type": "markdown",
   "metadata": {},
   "source": [
    "Determining whether pickup and dropoff locations are on land or water takes a long time. So will do that for only 2% of the training data."
   ]
  },
  {
   "cell_type": "code",
   "execution_count": null,
   "metadata": {},
   "outputs": [],
   "source": [
    "create_csv = False\n",
    "\n",
    "if create_csv:\n",
    "    train_df_small = train_df.sample(frac=0.02, random_state=210)\n",
    "    train_df_small[\"on_land\"] = is_both_pickup_or_dropoff_on_land(train_df_small)\n",
    "    train_df_small.to_csv(os.path.join(PROC_DIR, \"train_df_small.csv\"))\n",
    "    print(train_df_small.shape)\n",
    "    \n",
    "else:\n",
    "    train_df_small = pd.read_csv(os.path.join(PROC_DIR, \"train_df_small.csv\"))\n",
    "    print(train_df_small.shape)"
   ]
  },
  {
   "cell_type": "code",
   "execution_count": null,
   "metadata": {},
   "outputs": [],
   "source": [
    "print(\"There are %0.3f%% of points on water.\" % ((1 - train_df_small[\"on_land\"].mean())*100) )"
   ]
  },
  {
   "cell_type": "code",
   "execution_count": null,
   "metadata": {},
   "outputs": [],
   "source": [
    "on_land = train_df_small[\"on_land\"]\n",
    "on_water = ~on_land\n",
    "\n",
    "sns.set(font_scale=1)\n",
    "fig, ax = plt.subplots(nrows=1, ncols=2, figsize=(10, 6))\n",
    "\n",
    "bmap = create_nyc_map(ax[0], LON_MIN-0.5, LON_MAX+0.5, LAT_MIN-0.5, LAT_MAX+0.5)\n",
    "bmap = plot_coor_on_map(bmap,  \n",
    "                        train_df_small.loc[on_land, \"pickup_longitude\"].values,\n",
    "                        train_df_small.loc[on_land, \"pickup_latitude\"].values,\n",
    "                        marker=\"o\", s=1, c=\"k\", label=None)\n",
    "ax[0].set_title(\"On Land\")\n",
    "\n",
    "bmap = create_nyc_map(ax[1], LON_MIN-0.5, LON_MAX+0.5, LAT_MIN-0.5, LAT_MAX+0.5)\n",
    "bmap = plot_coor_on_map(bmap,  \n",
    "                        train_df_small.loc[on_water, \"pickup_longitude\"].values,\n",
    "                        train_df_small.loc[on_water, \"pickup_latitude\"].values,\n",
    "                        marker=\"o\", s=1, c=\"k\", label=None)\n",
    "ax[1].set_title(\"On Water\")"
   ]
  },
  {
   "cell_type": "markdown",
   "metadata": {},
   "source": [
    "How is `fare_amount` distributed among normal taxi trips and taxi trips which start and/or end up in water?"
   ]
  },
  {
   "cell_type": "code",
   "execution_count": null,
   "metadata": {},
   "outputs": [],
   "source": [
    "fig, ax = plt.subplots(nrows=1, ncols=1, figsize=(6, 4))\n",
    "sns.kdeplot(train_df_small.loc[train_df_small[\"on_land\"], \"fare_amount\"], ax=ax, label=\"On land\")\n",
    "sns.kdeplot(train_df_small.loc[~train_df_small[\"on_land\"], \"fare_amount\"], ax=ax, label=\"On water\")\n",
    "ax.set_xlim([0, 100])\n",
    "ax.set_xlabel(\"Fare (USD)\")\n",
    "ax.set_ylabel(\"Density\")"
   ]
  },
  {
   "cell_type": "markdown",
   "metadata": {},
   "source": [
    "The distribution of fare does not seem to be affected by whether pickup and/or dropoff locations are on land or on water. \n",
    "\n",
    "Let's compare distance distributions of normal trips and trips start and/or end up in water. The function below is based on https://stackoverflow.com/questions/27928/calculate-distance-between-two-latitude-longitude-points-haversine-formula"
   ]
  },
  {
   "cell_type": "code",
   "execution_count": null,
   "metadata": {},
   "outputs": [],
   "source": [
    "# return distance in kilometer\n",
    "def distance(lon1, lat1, lon2, lat2):\n",
    "    if isinstance(lon1, pd.Series):\n",
    "        lon1 = lon1.values\n",
    "    \n",
    "    if isinstance(lat1, pd.Series):\n",
    "        lat1 = lat1.values\n",
    "        \n",
    "    if isinstance(lon2, pd.Series):\n",
    "        lon2 = lon2.values\n",
    "    \n",
    "    if isinstance(lat2, pd.Series):\n",
    "        lat2 = lat2.values\n",
    "        \n",
    "    # use more precise floating numbers\n",
    "    if isinstance(lon1, np.ndarray):\n",
    "        lon1 = np.asarray(lon1, dtype=np.float64)\n",
    "    \n",
    "    if isinstance(lat1, np.ndarray):\n",
    "        lat1 = np.asarray(lat1, dtype=np.float64)\n",
    "        \n",
    "    if isinstance(lon2, np.ndarray):\n",
    "        lon2 = np.asarray(lon2, dtype=np.float64)\n",
    "    \n",
    "    if isinstance(lat2, np.ndarray):\n",
    "        lat2 = np.asarray(lat2, dtype=np.float64)\n",
    "        \n",
    "    lon1_rad = np.radians(lon1)\n",
    "    lat1_rad = np.radians(lat1)\n",
    "    lon2_rad = np.radians(lon2)\n",
    "    lat2_rad = np.radians(lat2)\n",
    "    \n",
    "    a = 0.5 - 0.5*np.cos(lat2_rad - lat1_rad) + np.cos(lat1_rad)*np.cos(lat2_rad)*(1 - np.cos(lon2_rad - lon1_rad))*0.5\n",
    "    return 12742 * np.arcsin(np.sqrt(a))\n",
    "\n",
    "def add_distance_col(df):\n",
    "    df[\"distance\"] = distance(df[\"pickup_longitude\"], df[\"pickup_latitude\"],\n",
    "                              df[\"dropoff_longitude\"], df[\"dropoff_latitude\"])\n",
    "    df[\"distance\"] = df[\"distance\"].astype(np.float32)\n",
    "    return df"
   ]
  },
  {
   "cell_type": "code",
   "execution_count": null,
   "metadata": {},
   "outputs": [],
   "source": [
    "train_df_small = add_distance_col(train_df_small)"
   ]
  },
  {
   "cell_type": "code",
   "execution_count": null,
   "metadata": {},
   "outputs": [],
   "source": [
    "fig, ax = plt.subplots(nrows=1, ncols=1, figsize=(6, 4))\n",
    "sns.kdeplot(train_df_small.loc[train_df_small[\"on_land\"], \"distance\"], ax=ax, label=\"On land\")\n",
    "sns.kdeplot(train_df_small.loc[~train_df_small[\"on_land\"], \"distance\"], ax=ax, label=\"On water\")\n",
    "ax.set_xlim([0, 40])\n",
    "ax.set_xlabel(\"Distance (km)\")\n",
    "ax.set_ylabel(\"Density\")"
   ]
  },
  {
   "cell_type": "markdown",
   "metadata": {},
   "source": [
    "The distributions don't look that much different.\n",
    "\n",
    "Anyway, there are only about 0.3% of the taxi rides having pickup and/or dropoff locations on water and determining them are very computationally expensive. So we will ignore them. "
   ]
  },
  {
   "cell_type": "code",
   "execution_count": null,
   "metadata": {},
   "outputs": [],
   "source": [
    "del train_df_small"
   ]
  },
  {
   "cell_type": "markdown",
   "metadata": {},
   "source": [
    "## Clean up number of passenger"
   ]
  },
  {
   "cell_type": "code",
   "execution_count": null,
   "metadata": {},
   "outputs": [],
   "source": [
    "print(\"min\", train_df[\"passenger_count\"].min())\n",
    "print(\"max\", train_df[\"passenger_count\"].max())"
   ]
  },
  {
   "cell_type": "code",
   "execution_count": null,
   "metadata": {},
   "outputs": [],
   "source": [
    "for c in [5, 6, 7, 10, 20, 50, 100]:\n",
    "    print(\"Number of rows with passenger_count greater than %d is %d\" %(c, (train_df[\"passenger_count\"] > c).sum()))"
   ]
  },
  {
   "cell_type": "markdown",
   "metadata": {},
   "source": [
    "We decide to remove rows having `passenger_count` greater than 6."
   ]
  },
  {
   "cell_type": "code",
   "execution_count": null,
   "metadata": {},
   "outputs": [],
   "source": [
    "print(\"shape before dropping\", train_df.shape)\n",
    "train_df = train_df[train_df[\"passenger_count\"] <= 6]\n",
    "print(\"shape after dropping\", train_df.shape)"
   ]
  },
  {
   "cell_type": "code",
   "execution_count": null,
   "metadata": {},
   "outputs": [],
   "source": [
    "fig, ax = plt.subplots(nrows=1, ncols=1, figsize=(6, 4))\n",
    "df_tmp = train_df[\"passenger_count\"].value_counts().sort_index()\n",
    "df_tmp.plot(kind=\"bar\", ax=ax)\n",
    "\n",
    "ax.set_xlabel(\"passenger_count\")\n",
    "ax.set_ylabel(\"frequency\")\n",
    "\n",
    "xticklabels = df_tmp.index.to_list()\n",
    "ax.set_xticklabels(xticklabels, rotation=0)"
   ]
  },
  {
   "cell_type": "markdown",
   "metadata": {},
   "source": [
    "Let's see if `passenger_count` is related to `fare_amount`"
   ]
  },
  {
   "cell_type": "code",
   "execution_count": null,
   "metadata": {},
   "outputs": [],
   "source": [
    "df_tmp = train_df.sample(frac=0.1, random_state=210)\n",
    "\n",
    "fig, ax = plt.subplots(nrows=1, ncols=1, figsize=(6, 4))\n",
    "\n",
    "ax.scatter(df_tmp[\"passenger_count\"], df_tmp[\"fare_amount\"], s=1)\n",
    "ax.set_ylim([0, 500])\n",
    "ax.set_xlabel(\"passenger_count\")\n",
    "ax.set_ylabel(\"Fare (USD)\")\n",
    "\n",
    "del df_tmp"
   ]
  },
  {
   "cell_type": "markdown",
   "metadata": {},
   "source": [
    "## Relationship between distance and fare"
   ]
  },
  {
   "cell_type": "code",
   "execution_count": null,
   "metadata": {},
   "outputs": [],
   "source": [
    "train_df = add_distance_col(train_df)"
   ]
  },
  {
   "cell_type": "code",
   "execution_count": null,
   "metadata": {},
   "outputs": [],
   "source": [
    "df_tmp = train_df.sample(frac=0.1, random_state=210)\n",
    "\n",
    "fig, ax = plt.subplots(nrows=1, ncols=2, figsize=(12, 4))\n",
    "\n",
    "ax[0].scatter(df_tmp[\"distance\"], df_tmp[\"fare_amount\"], s=2)\n",
    "ax[0].set_xlabel(\"Distance (km)\")\n",
    "ax[0].set_ylabel(\"Fare (USD)\")\n",
    "ax[0].set_title(\"Including all fare values\")\n",
    "\n",
    "df_tmp = df_tmp[df_tmp[\"fare_amount\"] <= 1000]\n",
    "ax[1].scatter(df_tmp[\"distance\"], df_tmp[\"fare_amount\"], s=2)\n",
    "ax[1].set_xlabel(\"Distance (km)\")\n",
    "ax[1].set_ylabel(\"Fare (USD)\")\n",
    "ax[1].set_title(\"Including only fare at most $1000\")\n",
    "\n",
    "del df_tmp"
   ]
  },
  {
   "cell_type": "code",
   "execution_count": null,
   "metadata": {},
   "outputs": [],
   "source": [
    "print(\"Number of points with fare_amount greater than $500 is %d\" % (train_df[\"fare_amount\"] > 500).sum())"
   ]
  },
  {
   "cell_type": "markdown",
   "metadata": {},
   "source": [
    "Data points having `fare_amount` greater than $500 are rare and likely to be mistake. So we decide to drop them."
   ]
  },
  {
   "cell_type": "code",
   "execution_count": null,
   "metadata": {},
   "outputs": [],
   "source": [
    "print(\"Shape before dropping\", train_df.shape)\n",
    "train_df = train_df[train_df[\"fare_amount\"] <= 500]\n",
    "print(\"Shape after dropping\", train_df.shape)"
   ]
  },
  {
   "cell_type": "markdown",
   "metadata": {},
   "source": [
    "There seems to be many taxi trips with zero distance."
   ]
  },
  {
   "cell_type": "code",
   "execution_count": null,
   "metadata": {},
   "outputs": [],
   "source": [
    "print(\"There are %0.3f percent of rows having distance zero.\" % ((train_df[\"distance\"] == 0).mean()*100))"
   ]
  },
  {
   "cell_type": "markdown",
   "metadata": {},
   "source": [
    "Zero-distance trips happen when the taxi stays at the same place, i.e., pickup and dropoff locations are the same?"
   ]
  },
  {
   "cell_type": "markdown",
   "metadata": {},
   "source": [
    "Let's compare fare distributions for the cases of zero and nonzero distances."
   ]
  },
  {
   "cell_type": "code",
   "execution_count": null,
   "metadata": {},
   "outputs": [],
   "source": [
    "fig, ax = plt.subplots(nrows=1, ncols=2, figsize=(12, 4))\n",
    "\n",
    "sns.kdeplot(train_df.loc[train_df[\"distance\"] == 0, \"fare_amount\"], ax=ax[0], label=\"zero distance\")\n",
    "sns.kdeplot(train_df.loc[train_df[\"distance\"] > 0, \"fare_amount\"], ax=ax[0], label=\"nonzero distance\")\n",
    "\n",
    "ax[0].set_xlabel(\"Fare (USD)\")\n",
    "ax[0].set_ylabel(\"Density\")\n",
    "ax[0].set_title(\"Full range of fare_amount\")\n",
    "\n",
    "sns.kdeplot(train_df.loc[train_df[\"distance\"] == 0, \"fare_amount\"], ax=ax[1], label=\"zero distance\")\n",
    "sns.kdeplot(train_df.loc[train_df[\"distance\"] > 0, \"fare_amount\"], ax=ax[1], label=\"nonzero distance\")\n",
    "\n",
    "ax[1].set_xlim([0, 100])\n",
    "ax[1].set_xlabel(\"Fare (USD)\")\n",
    "ax[1].set_ylabel(\"Density\")\n",
    "ax[1].set_title(\"Zoom-in at small fare_amount\")"
   ]
  },
  {
   "cell_type": "code",
   "execution_count": null,
   "metadata": {},
   "outputs": [],
   "source": [
    "print(\"Median fare of non-zero distance trips: $%0.2f\" % (\n",
    "    train_df.loc[train_df[\"distance\"] > 0, \"fare_amount\"].median()))\n",
    "print(\"Median fare of zero distance trips: $%0.2f\" % (\n",
    "    train_df.loc[train_df[\"distance\"] == 0, \"fare_amount\"].median()))"
   ]
  },
  {
   "cell_type": "code",
   "execution_count": null,
   "metadata": {},
   "outputs": [],
   "source": [
    "print(\"Min fare of zero distance trips: $%0.2f\" % (\n",
    "    train_df.loc[train_df[\"distance\"] == 0, \"fare_amount\"].min()))\n",
    "print(\"Max fare of zero distance trips: $%0.2f\" % (\n",
    "    train_df.loc[train_df[\"distance\"] == 0, \"fare_amount\"].max()))"
   ]
  },
  {
   "cell_type": "markdown",
   "metadata": {},
   "source": [
    "Zero-distance trips may correspond to those in which the customer canceled the ride and the driver charged for the waiting time. But the fact that there are very expensive Zero-distance, like $500 is really strange.\n",
    "\n",
    "When doing modelling with machine learning algorithms, we may add a column to indicate whether a trip is zero-distance."
   ]
  },
  {
   "cell_type": "markdown",
   "metadata": {},
   "source": [
    "There are also zero-dollar trips which may be due to discount. "
   ]
  },
  {
   "cell_type": "code",
   "execution_count": null,
   "metadata": {},
   "outputs": [],
   "source": [
    "print(\"Number of rows with zero fare_amount is %d\" % (train_df[\"fare_amount\"] == 0).sum() )"
   ]
  },
  {
   "cell_type": "markdown",
   "metadata": {},
   "source": [
    "Let's zoom in the `fare_amount` versus `distance` scatter plot to see more clearly the relationship. "
   ]
  },
  {
   "cell_type": "code",
   "execution_count": null,
   "metadata": {},
   "outputs": [],
   "source": [
    "df_tmp = train_df.sample(frac=0.1, random_state=210)\n",
    "\n",
    "fig, ax = plt.subplots(nrows=1, ncols=1, figsize=(6, 4))\n",
    "\n",
    "ax.scatter(df_tmp[\"distance\"], df_tmp[\"fare_amount\"], s=1)\n",
    "ax.set_xlabel(\"Distance (km)\")\n",
    "ax.set_ylabel(\"Fare (USD)\")\n",
    "ax.set_xlim(0, 30)\n",
    "ax.set_ylim(0, 100)\n",
    "\n",
    "del df_tmp"
   ]
  },
  {
   "cell_type": "markdown",
   "metadata": {},
   "source": [
    "## Trips from or to airports"
   ]
  },
  {
   "cell_type": "markdown",
   "metadata": {},
   "source": [
    "There are many horizontal stripes which may correspond to fixed-rate trips. These may be trips to or from airports. The city of New York is served by three major airports: **John F. Kennedy International Airport (JFK)**, **Newark Liberty International Airport (EWR)** and **LaGuardia Airport (LGA)**. We will mark each taxi ride in the training set with `No` if it does not involve being from and to an airport or with the airport code (`JFK`, `EWR` or `LGA`) to indicate that the trip is either from or to that airport.\n",
    "\n",
    "A taxi trip is marked as being from or to an airport if either its pickup or dropoff loaction is within 3 km from the geo location of the airport. The geo locations of the three airports above can be found here:\n",
    "\n",
    "https://tools.wmflabs.org/geohack/geohack.php?pagename=John_F._Kennedy_International_Airport&params=40_38_23_N_073_46_44_W_region:US-NY_type:airport\n",
    "\n",
    "https://tools.wmflabs.org/geohack/geohack.php?pagename=LaGuardia_Airport&params=40_46_38.1_N_73_52_21.4_W_region:US-NY_type:airport\n",
    "\n",
    "https://tools.wmflabs.org/geohack/geohack.php?pagename=Newark_Liberty_International_Airport&params=40_41_33_N_074_10_07_W_region:US-NJ_type:airport"
   ]
  },
  {
   "cell_type": "code",
   "execution_count": null,
   "metadata": {},
   "outputs": [],
   "source": [
    "# 40.639722, -73.778889\n",
    "JFK_LON = -73.778889\n",
    "JFK_LAT = 40.639722\n",
    "\n",
    "# 40.6925, -74.168611\n",
    "EWR_LON = -74.168611\n",
    "EWR_LAT = 40.6925\n",
    "\n",
    "# 40.77725, -73.872611\n",
    "LGA_LON = -73.872611\n",
    "LGA_LAT = 40.77725\n",
    "\n",
    "def is_to_airport(df, airport_lon, airport_lat, thres=3):\n",
    "    dist = distance(airport_lon, airport_lat, df[\"dropoff_longitude\"], df[\"dropoff_latitude\"])\n",
    "    return dist < thres\n",
    "\n",
    "def is_from_airport(df, airport_lon, airport_lat, thres=3.):\n",
    "    dist = distance(airport_lon, airport_lat, df[\"pickup_longitude\"], df[\"pickup_latitude\"])\n",
    "    return dist < thres\n",
    "\n",
    "def mark_airport_trip(df, \n",
    "                      jfk_lon=JFK_LON, jfk_lat=JFK_LAT, \n",
    "                      ewr_lon=EWR_LON, ewr_lat=EWR_LAT,\n",
    "                      lga_lon=LGA_LON, lga_lat=LGA_LAT):\n",
    "    \n",
    "    df[\"from_to_airport\"] = \"No\"\n",
    "    \n",
    "    from_to_jfk = is_to_airport(df, jfk_lon, jfk_lat) | is_from_airport(df, jfk_lon, jfk_lat)\n",
    "    df.loc[from_to_jfk, \"from_to_airport\"] = \"JFK\"\n",
    "    \n",
    "    from_to_ewr = is_to_airport(df, ewr_lon, ewr_lat) | is_from_airport(df, ewr_lon, ewr_lat)\n",
    "    df.loc[from_to_ewr, \"from_to_airport\"] = \"EWR\"\n",
    "    \n",
    "    from_to_lga = is_to_airport(df, lga_lon, lga_lat) | is_from_airport(df, lga_lon, lga_lat)\n",
    "    df.loc[from_to_lga, \"from_to_airport\"] = \"LGA\"\n",
    "    \n",
    "    return df"
   ]
  },
  {
   "cell_type": "code",
   "execution_count": null,
   "metadata": {},
   "outputs": [],
   "source": [
    "train_df = mark_airport_trip(train_df)"
   ]
  },
  {
   "cell_type": "code",
   "execution_count": null,
   "metadata": {},
   "outputs": [],
   "source": [
    "train_df.head()"
   ]
  },
  {
   "cell_type": "code",
   "execution_count": null,
   "metadata": {},
   "outputs": [],
   "source": [
    "train_df[\"from_to_airport\"].value_counts()"
   ]
  },
  {
   "cell_type": "code",
   "execution_count": null,
   "metadata": {},
   "outputs": [],
   "source": [
    "df_le_100 = train_df[train_df[\"fare_amount\"] <= 100]\n",
    "\n",
    "airports = df_le_100[\"from_to_airport\"].value_counts().index\n",
    "\n",
    "fig, axes = plt.subplots(nrows=2, ncols=2, figsize=(12, 10))\n",
    "plt.subplots_adjust(hspace=0.3)\n",
    "axes = axes.flatten()\n",
    "\n",
    "for airp, ax in zip(airports, axes):\n",
    "    df_le_100.loc[df_le_100[\"from_to_airport\"] == airp, \"fare_amount\"].plot(kind=\"hist\", bins=50, ax=ax)\n",
    "    ax.set_xlabel(\"Fare (USD)\")\n",
    "    ax.set_title(airp)\n",
    "\n",
    "del df_le_100"
   ]
  },
  {
   "cell_type": "markdown",
   "metadata": {},
   "source": [
    "Only trips to or from JFK show clearly the existence of fixed taxi rates. Nevetheless, the fare distributions look very different for the 4 cases."
   ]
  },
  {
   "cell_type": "code",
   "execution_count": null,
   "metadata": {},
   "outputs": [],
   "source": [
    "df_tmp = train_df.sample(frac=0.1, random_state=210)\n",
    "print(df_tmp[\"from_to_airport\"].value_counts())\n",
    "\n",
    "airports = df_tmp[\"from_to_airport\"].value_counts().index\n",
    "\n",
    "fig, axes = plt.subplots(nrows=2, ncols=2, figsize=(12, 10))\n",
    "plt.subplots_adjust(hspace=0.3)\n",
    "axes = axes.flatten()\n",
    "\n",
    "for airp, ax in zip(airports, axes):\n",
    "    ax.scatter(df_tmp.loc[df_tmp[\"from_to_airport\"] == airp, \"distance\"],\n",
    "               df_tmp.loc[df_tmp[\"from_to_airport\"] == airp, \"fare_amount\"], \n",
    "               s=1)\n",
    "    ax.set_xlabel(\"Distance (km)\")\n",
    "    ax.set_ylabel(\"Fare (USD)\")\n",
    "    ax.set_xlim(0, 30)\n",
    "    ax.set_ylim(0, 100)\n",
    "    ax.set_title(airp)\n",
    "    \n",
    "del df_tmp"
   ]
  },
  {
   "cell_type": "markdown",
   "metadata": {},
   "source": [
    "There seems to be many fixed-rate taxi rides which do not involve airports. "
   ]
  },
  {
   "cell_type": "markdown",
   "metadata": {},
   "source": [
    "## Pickup and dropoff locations relative the city center."
   ]
  },
  {
   "cell_type": "code",
   "execution_count": null,
   "metadata": {},
   "outputs": [],
   "source": [
    "# New York City Coordinates from google\n",
    "NYC_LON = -74.006\n",
    "NYC_LAT = 40.7128\n",
    "\n",
    "def add_pickup_to_center_dist_col(df, nyc_lon=NYC_LON, nyc_lat=NYC_LAT):\n",
    "    df[\"pickup_to_center_dist\"] = distance(nyc_lon, nyc_lat, \n",
    "                                           df[\"pickup_longitude\"], df[\"pickup_latitude\"])\n",
    "    df[\"pickup_to_center_dist\"] = df[\"pickup_to_center_dist\"].astype(np.float32)\n",
    "    return df\n",
    "\n",
    "\n",
    "def add_dropoff_to_center_dist_col(df, nyc_lon=NYC_LON, nyc_lat=NYC_LAT):\n",
    "    df[\"dropoff_to_center_dist\"] = distance(nyc_lon, nyc_lat, \n",
    "                                            df[\"dropoff_longitude\"], df[\"dropoff_latitude\"])\n",
    "    df[\"dropoff_to_center_dist\"] = df[\"dropoff_to_center_dist\"].astype(np.float32)\n",
    "    return df"
   ]
  },
  {
   "cell_type": "code",
   "execution_count": null,
   "metadata": {},
   "outputs": [],
   "source": [
    "train_df = add_pickup_to_center_dist_col(train_df)\n",
    "train_df = add_dropoff_to_center_dist_col(train_df)"
   ]
  },
  {
   "cell_type": "code",
   "execution_count": null,
   "metadata": {},
   "outputs": [],
   "source": [
    "df_tmp = train_df[train_df[\"pickup_to_center_dist\"] < 50].sample(frac=0.2, random_state=210)\n",
    "\n",
    "fig, ax = plt.subplots(nrows=1, ncols=2, figsize=(10, 4))\n",
    "plt.subplots_adjust(wspace=0.3)\n",
    "\n",
    "df_tmp[\"pickup_to_center_dist\"].plot(kind=\"hist\", bins=100, ax=ax[0])\n",
    "ax[0].set_xlabel(\"pickup-to-center distance (km)\")\n",
    "del df_tmp\n",
    "\n",
    "df_tmp = train_df[train_df[\"dropoff_to_center_dist\"] < 50].sample(frac=0.2, random_state=210)\n",
    "\n",
    "df_tmp[\"dropoff_to_center_dist\"].plot(kind=\"hist\", bins=100, ax=ax[1])\n",
    "ax[1].set_xlabel(\"dropoff-to-center distance (km)\")\n",
    "del df_tmp"
   ]
  },
  {
   "cell_type": "markdown",
   "metadata": {},
   "source": [
    "The side peaks at about 15 and 20 km may be airports. Let's check that."
   ]
  },
  {
   "cell_type": "code",
   "execution_count": null,
   "metadata": {},
   "outputs": [],
   "source": [
    "print(\"Distance from NYC center to JFK airport is %0.2f km\" % distance(NYC_LON, NYC_LAT, JFK_LON, JFK_LAT))\n",
    "\n",
    "print(\"Distance from NYC center to EWR airport is %0.2f km\" % distance(NYC_LON, NYC_LAT, EWR_LON, EWR_LAT))\n",
    "\n",
    "print(\"Distance from NYC center to LGA airport is %0.2f km\" % distance(NYC_LON, NYC_LAT, LGA_LON, LGA_LAT))"
   ]
  },
  {
   "cell_type": "code",
   "execution_count": null,
   "metadata": {},
   "outputs": [],
   "source": [
    "df_tmp = train_df.sample(frac=0.2, random_state=210)\n",
    "\n",
    "fig, ax = plt.subplots(nrows=1, ncols=1, figsize=(6, 4))\n",
    "\n",
    "ax.scatter(df_tmp[\"pickup_to_center_dist\"], df_tmp[\"fare_amount\"], s=1)\n",
    "ax.set_xlabel(\"pickup-to-center distance (km)\")\n",
    "ax.set_ylabel(\"Fare (USD)\")\n",
    "del df_tmp"
   ]
  },
  {
   "cell_type": "markdown",
   "metadata": {},
   "source": [
    "Let's also define `fare_per_km`. There are zero value of distance. So to avoid dividing by zero we replace zero distances with minimum value of the non-zero distances divided by 10."
   ]
  },
  {
   "cell_type": "code",
   "execution_count": null,
   "metadata": {},
   "outputs": [],
   "source": [
    "def fare_per_km(df):\n",
    "    nonzero_dist_min = df.loc[df[\"distance\"] > 0, \"distance\"].min()\n",
    "    zero_impute_val = nonzero_dist_min / 10.\n",
    "    print(\"Impute zero distance by %0.5f km\" % zero_impute_val)\n",
    "    \n",
    "    dist = df[\"distance\"].copy()\n",
    "    dist[dist == 0] = zero_impute_val\n",
    "    \n",
    "    return df[\"fare_amount\"] / dist"
   ]
  },
  {
   "cell_type": "code",
   "execution_count": null,
   "metadata": {},
   "outputs": [],
   "source": [
    "train_df[\"fare_per_km\"] = fare_per_km(train_df)"
   ]
  },
  {
   "cell_type": "code",
   "execution_count": null,
   "metadata": {},
   "outputs": [],
   "source": [
    "df_tmp = train_df.sample(frac=0.2, random_state=210)\n",
    "\n",
    "fig, ax = plt.subplots(nrows=1, ncols=2, figsize=(10, 4))\n",
    "\n",
    "df_tmp[\"fare_per_km\"].plot(kind=\"hist\", bins=100, ax=ax[0])\n",
    "ax[0].set_xlabel(\"fare per km (USD/km)\")\n",
    "ax[0].set_title(\"Full range\")\n",
    "del df_tmp\n",
    "\n",
    "df_tmp = train_df[train_df[\"fare_per_km\"] < 20].sample(frac=0.2, random_state=210)\n",
    "df_tmp[\"fare_per_km\"].plot(kind=\"hist\", bins=100, ax=ax[1])\n",
    "ax[1].set_xlabel(\"fare per km (USD/km)\")\n",
    "ax[1].set_title(\"Zoom-in at small values\")\n",
    "del df_tmp"
   ]
  },
  {
   "cell_type": "markdown",
   "metadata": {},
   "source": [
    "Let's see how pickup or dropoff location affects `fare_per_km`."
   ]
  },
  {
   "cell_type": "code",
   "execution_count": null,
   "metadata": {},
   "outputs": [],
   "source": [
    "df_tmp = train_df[train_df[\"fare_per_km\"] < 20].sample(frac=0.2, random_state=210)\n",
    "\n",
    "fig, ax = plt.subplots(nrows=1, ncols=1, figsize=(6, 4))\n",
    "\n",
    "ax.scatter(df_tmp[\"pickup_to_center_dist\"], df_tmp[\"fare_per_km\"], s=1)\n",
    "ax.set_xlabel(\"pickup-to-center distance (km)\")\n",
    "ax.set_ylabel(\"fare per km (USD/km)\")\n",
    "del df_tmp"
   ]
  },
  {
   "cell_type": "markdown",
   "metadata": {},
   "source": [
    "It looks like when pickup locations are near the center (`pickup_to_center_dist` < 25km), the fare per km does not depend on where the passengers are picked up. But further from the center the fare per km tends to decrease."
   ]
  },
  {
   "cell_type": "markdown",
   "metadata": {},
   "source": [
    "## Travel direction\n",
    "\n",
    "Let's see how travel direction affects the taxi fare. Direction is measured by the angle made by the vector pointing from pickup to dropoff with the horizontal x axis. "
   ]
  },
  {
   "cell_type": "code",
   "execution_count": null,
   "metadata": {},
   "outputs": [],
   "source": [
    "def direction(lons_1, lats_1, lons_2, lats_2):\n",
    "    bm = Basemap()\n",
    "    \n",
    "    x1, y1 = bm(lons_1, lats_1)\n",
    "    x2, y2 = bm(lons_2, lats_2)\n",
    "    \n",
    "    dx = x2 - x1\n",
    "    dy = y2 - y1\n",
    "    \n",
    "    hypotenuse = np.sqrt(dx*dx + dy*dy)\n",
    "    \n",
    "    pos_dx = dx >= 0\n",
    "    neg_dx = dx < 0\n",
    "    \n",
    "    pos_dy = dy >= 0\n",
    "    neg_dy = dy < 0\n",
    "    \n",
    "    neg_dx_and_pos_dy = neg_dx & pos_dy\n",
    "    neg_dx_and_neg_dy = neg_dx & neg_dy\n",
    "    \n",
    "    direc = np.zeros(len(dx))\n",
    "    \n",
    "    direc[pos_dx] = np.arcsin(dy[pos_dx] / hypotenuse[pos_dx])\n",
    "    \n",
    "    direc[neg_dx_and_pos_dy] = np.pi - np.arcsin(dy[neg_dx_and_pos_dy] / hypotenuse[neg_dx_and_pos_dy])\n",
    "    \n",
    "    direc[neg_dx_and_neg_dy] = -np.pi - np.arcsin(dy[neg_dx_and_neg_dy] / hypotenuse[neg_dx_and_neg_dy])\n",
    "    \n",
    "    direc = 180 / np.pi * direc\n",
    "    return direc\n",
    "\n",
    "def add_direction_col(df):\n",
    "    df[\"direction\"] = direction(df[\"pickup_longitude\"], df[\"pickup_latitude\"],\n",
    "                                df[\"dropoff_longitude\"], df[\"dropoff_latitude\"])\n",
    "    df[\"direction\"] = df[\"direction\"].astype(np.float32)\n",
    "    \n",
    "    return df"
   ]
  },
  {
   "cell_type": "code",
   "execution_count": null,
   "metadata": {},
   "outputs": [],
   "source": [
    "train_df = add_direction_col(train_df)"
   ]
  },
  {
   "cell_type": "code",
   "execution_count": null,
   "metadata": {},
   "outputs": [],
   "source": [
    "print(\"Number of na %d\" % train_df[\"direction\"].isna().sum())\n",
    "print(\"Percent of na %0.5f\" % (train_df[\"direction\"].isna().mean()*100))"
   ]
  },
  {
   "cell_type": "markdown",
   "metadata": {},
   "source": [
    "NaN values are due to the distance (hypotenuse) being zero."
   ]
  },
  {
   "cell_type": "code",
   "execution_count": null,
   "metadata": {},
   "outputs": [],
   "source": [
    "print(\"Number of zero distances %d\" %(train_df[\"distance\"] == 0).sum())"
   ]
  },
  {
   "cell_type": "markdown",
   "metadata": {},
   "source": [
    "Let's impute `NaN` values of `direction` with the median."
   ]
  },
  {
   "cell_type": "code",
   "execution_count": null,
   "metadata": {},
   "outputs": [],
   "source": [
    "def impute_nan_direction(df):\n",
    "    df.loc[df[\"direction\"].isna(), \"direction\"] = df[\"direction\"].median()\n",
    "    return df"
   ]
  },
  {
   "cell_type": "code",
   "execution_count": null,
   "metadata": {},
   "outputs": [],
   "source": [
    "train_df = impute_nan_direction(train_df)"
   ]
  },
  {
   "cell_type": "code",
   "execution_count": null,
   "metadata": {},
   "outputs": [],
   "source": [
    "train_df[\"direction\"].isna().sum()"
   ]
  },
  {
   "cell_type": "code",
   "execution_count": null,
   "metadata": {},
   "outputs": [],
   "source": [
    "fig, ax = plt.subplots(nrows=1, ncols=1, figsize=(6, 4))\n",
    "\n",
    "train_df[\"direction\"].plot(kind=\"hist\", bins=100, ax=ax)\n",
    "ax.set_xlabel(\"Direction angle (deg)\")\n",
    "ax.set_title(\"Histogram of direction angle\")"
   ]
  },
  {
   "cell_type": "markdown",
   "metadata": {},
   "source": [
    "Taxi trips along Northeast (about 60 deg) <--> Southwest (-140 deg) dominate. This is the direction of most streets in NYC. Let's look at the map zoom-in around Manhattan."
   ]
  },
  {
   "cell_type": "code",
   "execution_count": null,
   "metadata": {},
   "outputs": [],
   "source": [
    "# -74.05, -73.85, 40.7, 40.9\n",
    "lon_min = -74.05\n",
    "lon_max = -73.85\n",
    "lat_min = 40.7\n",
    "lat_max = 40.85\n",
    "\n",
    "df_tmp = train_df.sample(frac=0.2, random_state=210)\n",
    "\n",
    "sns.set(font_scale=1)\n",
    "fig, ax = plt.subplots(nrows=1, ncols=1, figsize=(10, 8))\n",
    "\n",
    "bmap = create_nyc_map(ax, lon_min, lon_max, lat_min, lat_max, resolution=\"f\")\n",
    "bmap = plot_coor_on_map(bmap,  \n",
    "                        df_tmp[\"pickup_longitude\"].values,\n",
    "                        df_tmp[\"pickup_latitude\"].values,\n",
    "                        marker=\"o\", s=0.001, c=\"k\", alpha=0.3, label=None)\n",
    "del df_tmp"
   ]
  },
  {
   "cell_type": "markdown",
   "metadata": {},
   "source": [
    "Let's look at how `fare_amount` depends on `direction`."
   ]
  },
  {
   "cell_type": "code",
   "execution_count": null,
   "metadata": {},
   "outputs": [],
   "source": [
    "df_tmp = train_df.sample(frac=0.2, random_state=210)\n",
    "\n",
    "fig, ax = plt.subplots(nrows=1, ncols=1, figsize=(6, 4))\n",
    "\n",
    "ax.scatter(df_tmp[\"direction\"], df_tmp[\"fare_amount\"], s=1)\n",
    "ax.set_xlabel(\"Direction angle (deg)\")\n",
    "ax.set_ylabel(\"Fare (USD)\")\n",
    "del df_tmp"
   ]
  },
  {
   "cell_type": "markdown",
   "metadata": {},
   "source": [
    "Let's bin the `direction` angle and calculate median `fare_amount` for each bin."
   ]
  },
  {
   "cell_type": "code",
   "execution_count": null,
   "metadata": {},
   "outputs": [],
   "source": [
    "bin_edges = np.linspace(-180, 180, 37)\n",
    "bin_cent = (bin_edges[:-1] + bin_edges[1:])/2\n",
    "\n",
    "direc_cut = pd.cut(train_df[\"direction\"], bin_edges)\n",
    "median_fare_by_direc = train_df.groupby(direc_cut)[\"fare_amount\"].median()\n",
    "median_fare_by_direc.index = bin_cent\n",
    "\n",
    "fig, ax = plt.subplots(nrows=1, ncols=1, figsize=(6, 4))\n",
    "median_fare_by_direc.plot(kind=\"line\", ax=ax, linestyle=\"-\", marker=\".\")\n",
    "ax.set_xlabel(\"Direction angle (deg)\")\n",
    "ax.set_ylabel(\"Median fare (USD)\")"
   ]
  },
  {
   "cell_type": "markdown",
   "metadata": {},
   "source": [
    "## Cleaning and exploring temporal data"
   ]
  },
  {
   "cell_type": "markdown",
   "metadata": {},
   "source": [
    "Let's create columns `year`, `month`, `weekday` and `hour` from column `pickup_datetime`"
   ]
  },
  {
   "cell_type": "code",
   "execution_count": null,
   "metadata": {},
   "outputs": [],
   "source": [
    "t = train_df[\"pickup_datetime\"]"
   ]
  },
  {
   "cell_type": "code",
   "execution_count": null,
   "metadata": {},
   "outputs": [],
   "source": [
    "t.apply(lambda t: t.weekday)[:10]"
   ]
  },
  {
   "cell_type": "code",
   "execution_count": null,
   "metadata": {},
   "outputs": [],
   "source": [
    "def ad_time_cols(df):\n",
    "    df[\"year\"] = df[\"pickup_datetime\"].apply(lambda t: t.year).astype(np.int32)\n",
    "    df[\"month\"] = df[\"pickup_datetime\"].apply(lambda t: t.month).astype(np.uint8)\n",
    "    df[\"weekday\"] = df[\"pickup_datetime\"].apply(lambda t: t.weekday).astype(np.uint8)\n",
    "    df[\"hour\"] = df[\"pickup_datetime\"].apply(lambda t: t.hour).astype(np.uint8)\n",
    "    return df"
   ]
  },
  {
   "cell_type": "code",
   "execution_count": null,
   "metadata": {},
   "outputs": [],
   "source": [
    "train_df = ad_time_cols(train_df)"
   ]
  },
  {
   "cell_type": "code",
   "execution_count": null,
   "metadata": {},
   "outputs": [],
   "source": [
    "train_df.head()"
   ]
  },
  {
   "cell_type": "code",
   "execution_count": null,
   "metadata": {},
   "outputs": [],
   "source": [
    "print(train_df[\"year\"].isna().sum())\n",
    "print(train_df[\"year\"].min())\n",
    "print(train_df[\"year\"].max())"
   ]
  },
  {
   "cell_type": "code",
   "execution_count": null,
   "metadata": {},
   "outputs": [],
   "source": [
    "print(train_df[\"month\"].isna().sum())\n",
    "print(train_df[\"month\"].min())\n",
    "print(train_df[\"month\"].max())"
   ]
  },
  {
   "cell_type": "code",
   "execution_count": null,
   "metadata": {},
   "outputs": [],
   "source": [
    "print(train_df[\"weekday\"].isna().sum())\n",
    "print(train_df[\"weekday\"].min())\n",
    "print(train_df[\"weekday\"].max())"
   ]
  },
  {
   "cell_type": "code",
   "execution_count": null,
   "metadata": {},
   "outputs": [],
   "source": [
    "print(train_df[\"hour\"].isna().sum())\n",
    "print(train_df[\"hour\"].min())\n",
    "print(train_df[\"hour\"].max())"
   ]
  },
  {
   "cell_type": "markdown",
   "metadata": {},
   "source": [
    "Data may not have been collected for the whole year in 2015. Fare slighly increases over the year."
   ]
  },
  {
   "cell_type": "markdown",
   "metadata": {},
   "source": [
    "## Taxi usage and fare by year, month, weekday and hour."
   ]
  },
  {
   "cell_type": "code",
   "execution_count": null,
   "metadata": {},
   "outputs": [],
   "source": [
    "fig, axes = plt.subplots(nrows=2, ncols=2, figsize=(12, 12))\n",
    "plt.subplots_adjust(hspace=0.3, wspace=0.3)\n",
    "axes = axes.flatten()\n",
    "\n",
    "for ax, t in zip(axes, [\"year\", \"month\", \"weekday\", \"hour\"]):\n",
    "    agg = train_df.groupby(t)[\"fare_amount\"].agg(\"count\")\n",
    "    agg.plot(kind=\"bar\", ax=ax)\n",
    "    ax.set_ylabel(\"Total number of trips\")\n",
    "    ax.set_xticklabels(agg.index.to_list(), rotation=0)"
   ]
  },
  {
   "cell_type": "markdown",
   "metadata": {},
   "source": [
    "Data was not collected for the whole year of 2015. So let's remove 2015 in calculating count statistic. "
   ]
  },
  {
   "cell_type": "code",
   "execution_count": null,
   "metadata": {},
   "outputs": [],
   "source": [
    "fig, axes = plt.subplots(nrows=2, ncols=2, figsize=(12, 12))\n",
    "plt.subplots_adjust(hspace=0.3, wspace=0.3)\n",
    "axes = axes.flatten()\n",
    "\n",
    "df_tmp = train_df[train_df[\"year\"] != 2015]\n",
    "\n",
    "for ax, t in zip(axes, [\"year\", \"month\", \"weekday\", \"hour\"]):\n",
    "    agg = df_tmp.groupby(t)[\"fare_amount\"].agg(\"count\")\n",
    "    agg.plot(kind=\"bar\", ax=ax)\n",
    "    ax.set_ylabel(\"Total number of trips\")\n",
    "    ax.set_xticklabels(agg.index.to_list(), rotation=0)\n",
    "\n",
    "del df_tmp"
   ]
  },
  {
   "cell_type": "markdown",
   "metadata": {},
   "source": [
    "During a year the number of taxi trips drops in August which maybe due to summer break. During a week, people use less taxi in on Sunday which makes sense. During a day, the peak time is from 6pm to 10pm. "
   ]
  },
  {
   "cell_type": "code",
   "execution_count": null,
   "metadata": {},
   "outputs": [],
   "source": [
    "fig, axes = plt.subplots(nrows=2, ncols=2, figsize=(12, 12))\n",
    "plt.subplots_adjust(hspace=0.3, wspace=0.3)\n",
    "axes = axes.flatten()\n",
    "\n",
    "for ax, t in zip(axes, [\"year\", \"month\", \"weekday\", \"hour\"]):\n",
    "    agg = train_df.groupby(t)[\"fare_amount\"].agg(\"median\")\n",
    "    agg.plot(kind=\"bar\", ax=ax)\n",
    "    ax.set_ylabel(\"Median fare (USD)\")\n",
    "    ax.set_xticklabels(agg.index.to_list(), rotation=0)"
   ]
  },
  {
   "cell_type": "code",
   "execution_count": null,
   "metadata": {},
   "outputs": [],
   "source": [
    "fig, axes = plt.subplots(nrows=2, ncols=2, figsize=(12, 12))\n",
    "plt.subplots_adjust(hspace=0.3, wspace=0.3)\n",
    "axes = axes.flatten()\n",
    "\n",
    "for ax, t in zip(axes, [\"year\", \"month\", \"weekday\", \"hour\"]):\n",
    "    agg = train_df.groupby(t)[\"fare_per_km\"].agg(\"median\")\n",
    "    agg.plot(kind=\"bar\", ax=ax)\n",
    "    ax.set_ylabel(\"Median fare per km (USD)\")\n",
    "    ax.set_xticklabels(agg.index.to_list(), rotation=0)"
   ]
  },
  {
   "cell_type": "markdown",
   "metadata": {},
   "source": [
    "Fare increases over year. Fare is also low in summer and on weekend."
   ]
  },
  {
   "cell_type": "markdown",
   "metadata": {},
   "source": [
    "## Save to csv"
   ]
  },
  {
   "cell_type": "markdown",
   "metadata": {},
   "source": [
    "We remove columns generated during EDA before saving to csv file."
   ]
  },
  {
   "cell_type": "code",
   "execution_count": null,
   "metadata": {},
   "outputs": [],
   "source": [
    "train_df.columns"
   ]
  },
  {
   "cell_type": "code",
   "execution_count": null,
   "metadata": {},
   "outputs": [],
   "source": [
    "rm_cols = train_df.columns.to_list()[7:]\n",
    "rm_cols "
   ]
  },
  {
   "cell_type": "code",
   "execution_count": null,
   "metadata": {},
   "outputs": [],
   "source": [
    "train_df.drop(rm_cols, axis=1, inplace=True)\n",
    "train_df.shape"
   ]
  },
  {
   "cell_type": "code",
   "execution_count": null,
   "metadata": {},
   "outputs": [],
   "source": [
    "save_csv = False\n",
    "\n",
    "if save_csv:\n",
    "    train_df.to_csv(os.path.join(PROC_DIR, \"train_df.csv\"), index=False)"
   ]
  },
  {
   "cell_type": "code",
   "execution_count": null,
   "metadata": {},
   "outputs": [],
   "source": [
    "save_csv = False\n",
    "\n",
    "if save_csv:\n",
    "    test_df.to_csv(os.path.join(PROC_DIR, \"test_df.csv\"), index=False)"
   ]
  },
  {
   "cell_type": "code",
   "execution_count": null,
   "metadata": {},
   "outputs": [],
   "source": [
    "del train_df\n",
    "del test_df"
   ]
  }
 ],
 "metadata": {
  "kernelspec": {
   "display_name": "Python 3",
   "language": "python",
   "name": "python3"
  },
  "language_info": {
   "codemirror_mode": {
    "name": "ipython",
    "version": 3
   },
   "file_extension": ".py",
   "mimetype": "text/x-python",
   "name": "python",
   "nbconvert_exporter": "python",
   "pygments_lexer": "ipython3",
   "version": "3.7.3"
  }
 },
 "nbformat": 4,
 "nbformat_minor": 2
}
