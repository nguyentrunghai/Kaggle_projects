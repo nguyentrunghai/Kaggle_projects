{
 "cells": [
  {
   "cell_type": "code",
   "execution_count": 2,
   "metadata": {},
   "outputs": [],
   "source": [
    "import os\n",
    "from tqdm import tqdm\n",
    "\n",
    "import matplotlib.pyplot as plt\n",
    "%matplotlib inline\n",
    "import seaborn as sns\n",
    "sns.set()\n",
    "\n",
    "from mpl_toolkits.basemap import Basemap\n",
    "\n",
    "import numpy as np\n",
    "import pandas as pd"
   ]
  },
  {
   "cell_type": "markdown",
   "metadata": {},
   "source": [
    "# Loading"
   ]
  },
  {
   "cell_type": "code",
   "execution_count": 3,
   "metadata": {},
   "outputs": [],
   "source": [
    "TRAIN_PATH = \"data/download/train.csv\"\n",
    "TEST_PATH = \"data/download/test.csv\"\n",
    "\n",
    "PROC_DIR = \"data/processed_data\""
   ]
  },
  {
   "cell_type": "code",
   "execution_count": 4,
   "metadata": {},
   "outputs": [
    {
     "name": "stdout",
     "output_type": "stream",
     "text": [
      " 55423856 data/download/train.csv\r\n"
     ]
    }
   ],
   "source": [
    "# number of rows of train\n",
    "!wc -l {TRAIN_PATH}"
   ]
  },
  {
   "cell_type": "code",
   "execution_count": 5,
   "metadata": {},
   "outputs": [
    {
     "name": "stdout",
     "output_type": "stream",
     "text": [
      "    9914 data/download/test.csv\r\n"
     ]
    }
   ],
   "source": [
    "# number of rows of test\n",
    "!wc -l {TEST_PATH}"
   ]
  },
  {
   "cell_type": "code",
   "execution_count": 6,
   "metadata": {},
   "outputs": [
    {
     "data": {
      "text/html": [
       "<div>\n",
       "<style scoped>\n",
       "    .dataframe tbody tr th:only-of-type {\n",
       "        vertical-align: middle;\n",
       "    }\n",
       "\n",
       "    .dataframe tbody tr th {\n",
       "        vertical-align: top;\n",
       "    }\n",
       "\n",
       "    .dataframe thead th {\n",
       "        text-align: right;\n",
       "    }\n",
       "</style>\n",
       "<table border=\"1\" class=\"dataframe\">\n",
       "  <thead>\n",
       "    <tr style=\"text-align: right;\">\n",
       "      <th></th>\n",
       "      <th>key</th>\n",
       "      <th>fare_amount</th>\n",
       "      <th>pickup_datetime</th>\n",
       "      <th>pickup_longitude</th>\n",
       "      <th>pickup_latitude</th>\n",
       "      <th>dropoff_longitude</th>\n",
       "      <th>dropoff_latitude</th>\n",
       "      <th>passenger_count</th>\n",
       "    </tr>\n",
       "  </thead>\n",
       "  <tbody>\n",
       "    <tr>\n",
       "      <th>0</th>\n",
       "      <td>2009-06-15 17:26:21.0000001</td>\n",
       "      <td>4.5</td>\n",
       "      <td>2009-06-15 17:26:21 UTC</td>\n",
       "      <td>-73.844311</td>\n",
       "      <td>40.721319</td>\n",
       "      <td>-73.841610</td>\n",
       "      <td>40.712278</td>\n",
       "      <td>1</td>\n",
       "    </tr>\n",
       "    <tr>\n",
       "      <th>1</th>\n",
       "      <td>2010-01-05 16:52:16.0000002</td>\n",
       "      <td>16.9</td>\n",
       "      <td>2010-01-05 16:52:16 UTC</td>\n",
       "      <td>-74.016048</td>\n",
       "      <td>40.711303</td>\n",
       "      <td>-73.979268</td>\n",
       "      <td>40.782004</td>\n",
       "      <td>1</td>\n",
       "    </tr>\n",
       "    <tr>\n",
       "      <th>2</th>\n",
       "      <td>2011-08-18 00:35:00.00000049</td>\n",
       "      <td>5.7</td>\n",
       "      <td>2011-08-18 00:35:00 UTC</td>\n",
       "      <td>-73.982738</td>\n",
       "      <td>40.761270</td>\n",
       "      <td>-73.991242</td>\n",
       "      <td>40.750562</td>\n",
       "      <td>2</td>\n",
       "    </tr>\n",
       "    <tr>\n",
       "      <th>3</th>\n",
       "      <td>2012-04-21 04:30:42.0000001</td>\n",
       "      <td>7.7</td>\n",
       "      <td>2012-04-21 04:30:42 UTC</td>\n",
       "      <td>-73.987130</td>\n",
       "      <td>40.733143</td>\n",
       "      <td>-73.991567</td>\n",
       "      <td>40.758092</td>\n",
       "      <td>1</td>\n",
       "    </tr>\n",
       "    <tr>\n",
       "      <th>4</th>\n",
       "      <td>2010-03-09 07:51:00.000000135</td>\n",
       "      <td>5.3</td>\n",
       "      <td>2010-03-09 07:51:00 UTC</td>\n",
       "      <td>-73.968095</td>\n",
       "      <td>40.768008</td>\n",
       "      <td>-73.956655</td>\n",
       "      <td>40.783762</td>\n",
       "      <td>1</td>\n",
       "    </tr>\n",
       "  </tbody>\n",
       "</table>\n",
       "</div>"
      ],
      "text/plain": [
       "                             key  fare_amount          pickup_datetime  \\\n",
       "0    2009-06-15 17:26:21.0000001          4.5  2009-06-15 17:26:21 UTC   \n",
       "1    2010-01-05 16:52:16.0000002         16.9  2010-01-05 16:52:16 UTC   \n",
       "2   2011-08-18 00:35:00.00000049          5.7  2011-08-18 00:35:00 UTC   \n",
       "3    2012-04-21 04:30:42.0000001          7.7  2012-04-21 04:30:42 UTC   \n",
       "4  2010-03-09 07:51:00.000000135          5.3  2010-03-09 07:51:00 UTC   \n",
       "\n",
       "   pickup_longitude  pickup_latitude  dropoff_longitude  dropoff_latitude  \\\n",
       "0        -73.844311        40.721319         -73.841610         40.712278   \n",
       "1        -74.016048        40.711303         -73.979268         40.782004   \n",
       "2        -73.982738        40.761270         -73.991242         40.750562   \n",
       "3        -73.987130        40.733143         -73.991567         40.758092   \n",
       "4        -73.968095        40.768008         -73.956655         40.783762   \n",
       "\n",
       "   passenger_count  \n",
       "0                1  \n",
       "1                1  \n",
       "2                2  \n",
       "3                1  \n",
       "4                1  "
      ]
     },
     "execution_count": 6,
     "metadata": {},
     "output_type": "execute_result"
    }
   ],
   "source": [
    "# let's read the first few rows\n",
    "train_df = pd.read_csv(TRAIN_PATH, nrows=5)\n",
    "train_df.head()"
   ]
  },
  {
   "cell_type": "code",
   "execution_count": 7,
   "metadata": {},
   "outputs": [
    {
     "name": "stdout",
     "output_type": "stream",
     "text": [
      "<class 'pandas.core.frame.DataFrame'>\n",
      "RangeIndex: 5 entries, 0 to 4\n",
      "Data columns (total 8 columns):\n",
      "key                  5 non-null object\n",
      "fare_amount          5 non-null float64\n",
      "pickup_datetime      5 non-null object\n",
      "pickup_longitude     5 non-null float64\n",
      "pickup_latitude      5 non-null float64\n",
      "dropoff_longitude    5 non-null float64\n",
      "dropoff_latitude     5 non-null float64\n",
      "passenger_count      5 non-null int64\n",
      "dtypes: float64(5), int64(1), object(2)\n",
      "memory usage: 400.0+ bytes\n"
     ]
    }
   ],
   "source": [
    "train_df.info()"
   ]
  },
  {
   "cell_type": "code",
   "execution_count": 8,
   "metadata": {},
   "outputs": [
    {
     "data": {
      "text/plain": [
       "0   2009-06-15 17:26:21.000000100\n",
       "1   2010-01-05 16:52:16.000000200\n",
       "2   2011-08-18 00:35:00.000000490\n",
       "3   2012-04-21 04:30:42.000000100\n",
       "4   2010-03-09 07:51:00.000000135\n",
       "Name: key, dtype: datetime64[ns]"
      ]
     },
     "execution_count": 8,
     "metadata": {},
     "output_type": "execute_result"
    }
   ],
   "source": [
    "pd.to_datetime(train_df[\"key\"])"
   ]
  },
  {
   "cell_type": "code",
   "execution_count": 9,
   "metadata": {},
   "outputs": [
    {
     "data": {
      "text/plain": [
       "0   2009-06-15 17:26:21+00:00\n",
       "1   2010-01-05 16:52:16+00:00\n",
       "2   2011-08-18 00:35:00+00:00\n",
       "3   2012-04-21 04:30:42+00:00\n",
       "4   2010-03-09 07:51:00+00:00\n",
       "Name: pickup_datetime, dtype: datetime64[ns, UTC]"
      ]
     },
     "execution_count": 9,
     "metadata": {},
     "output_type": "execute_result"
    }
   ],
   "source": [
    "pd.to_datetime(train_df[\"pickup_datetime\"])"
   ]
  },
  {
   "cell_type": "markdown",
   "metadata": {},
   "source": [
    "Columns `key` and and `pickup_datetime` seem to be the same timestamp, except that `pickup_datetime` has second precision whereas `key` has nano second precision. `key` is used to uniquely identify each row and hence not important for data analysis and modeling. We will drop this column in the train set. `key` is still needed for the test set to write out the Kaggle submission file.\n",
    "\n",
    "`train.csv` has a large number of rows (more than 55 million) so it may take a long time to read it into a dataframe. To quickly read the data and reduce its size, we follow this post: https://www.kaggle.com/szelee/how-to-import-a-csv-file-of-55-million-rows ."
   ]
  },
  {
   "cell_type": "code",
   "execution_count": 10,
   "metadata": {},
   "outputs": [],
   "source": [
    "def load_nyc_taxi_fare(path, col_types, chunksize=None):\n",
    "    chunk_iter = pd.read_csv(path, usecols=col_types.keys(), dtype=col_types, chunksize=chunksize)\n",
    "    \n",
    "    if chunksize is None:\n",
    "        chunk_iter[\"pickup_datetime\"] = pd.to_datetime(chunk_iter[\"pickup_datetime\"], \n",
    "                                                       utc=True, format=\"%Y-%m-%d %H:%M:%S UTC\")\n",
    "        return chunk_iter\n",
    "    \n",
    "    df_list = []\n",
    "    # use tqdm to monitor progress\n",
    "    # It would take extremely long time if format were not used.\n",
    "    for df_chunk in tqdm(chunk_iter):\n",
    "        df_chunk[\"pickup_datetime\"] = pd.to_datetime(df_chunk[\"pickup_datetime\"], \n",
    "                                                     utc=True, format=\"%Y-%m-%d %H:%M:%S UTC\")\n",
    "        df_list.append(df_chunk)\n",
    "    return pd.concat(df_list)"
   ]
  },
  {
   "cell_type": "code",
   "execution_count": 11,
   "metadata": {},
   "outputs": [
    {
     "name": "stderr",
     "output_type": "stream",
     "text": [
      "12it [05:29, 21.83s/it]\n"
     ]
    },
    {
     "data": {
      "text/html": [
       "<div>\n",
       "<style scoped>\n",
       "    .dataframe tbody tr th:only-of-type {\n",
       "        vertical-align: middle;\n",
       "    }\n",
       "\n",
       "    .dataframe tbody tr th {\n",
       "        vertical-align: top;\n",
       "    }\n",
       "\n",
       "    .dataframe thead th {\n",
       "        text-align: right;\n",
       "    }\n",
       "</style>\n",
       "<table border=\"1\" class=\"dataframe\">\n",
       "  <thead>\n",
       "    <tr style=\"text-align: right;\">\n",
       "      <th></th>\n",
       "      <th>fare_amount</th>\n",
       "      <th>pickup_datetime</th>\n",
       "      <th>pickup_longitude</th>\n",
       "      <th>pickup_latitude</th>\n",
       "      <th>dropoff_longitude</th>\n",
       "      <th>dropoff_latitude</th>\n",
       "      <th>passenger_count</th>\n",
       "    </tr>\n",
       "  </thead>\n",
       "  <tbody>\n",
       "    <tr>\n",
       "      <th>0</th>\n",
       "      <td>4.5</td>\n",
       "      <td>2009-06-15 17:26:21+00:00</td>\n",
       "      <td>-73.844315</td>\n",
       "      <td>40.721317</td>\n",
       "      <td>-73.841614</td>\n",
       "      <td>40.712276</td>\n",
       "      <td>1</td>\n",
       "    </tr>\n",
       "    <tr>\n",
       "      <th>1</th>\n",
       "      <td>16.9</td>\n",
       "      <td>2010-01-05 16:52:16+00:00</td>\n",
       "      <td>-74.016045</td>\n",
       "      <td>40.711304</td>\n",
       "      <td>-73.979271</td>\n",
       "      <td>40.782005</td>\n",
       "      <td>1</td>\n",
       "    </tr>\n",
       "    <tr>\n",
       "      <th>2</th>\n",
       "      <td>5.7</td>\n",
       "      <td>2011-08-18 00:35:00+00:00</td>\n",
       "      <td>-73.982735</td>\n",
       "      <td>40.761269</td>\n",
       "      <td>-73.991241</td>\n",
       "      <td>40.750561</td>\n",
       "      <td>2</td>\n",
       "    </tr>\n",
       "    <tr>\n",
       "      <th>3</th>\n",
       "      <td>7.7</td>\n",
       "      <td>2012-04-21 04:30:42+00:00</td>\n",
       "      <td>-73.987129</td>\n",
       "      <td>40.733143</td>\n",
       "      <td>-73.991570</td>\n",
       "      <td>40.758091</td>\n",
       "      <td>1</td>\n",
       "    </tr>\n",
       "    <tr>\n",
       "      <th>4</th>\n",
       "      <td>5.3</td>\n",
       "      <td>2010-03-09 07:51:00+00:00</td>\n",
       "      <td>-73.968094</td>\n",
       "      <td>40.768009</td>\n",
       "      <td>-73.956657</td>\n",
       "      <td>40.783764</td>\n",
       "      <td>1</td>\n",
       "    </tr>\n",
       "  </tbody>\n",
       "</table>\n",
       "</div>"
      ],
      "text/plain": [
       "   fare_amount           pickup_datetime  pickup_longitude  pickup_latitude  \\\n",
       "0          4.5 2009-06-15 17:26:21+00:00        -73.844315        40.721317   \n",
       "1         16.9 2010-01-05 16:52:16+00:00        -74.016045        40.711304   \n",
       "2          5.7 2011-08-18 00:35:00+00:00        -73.982735        40.761269   \n",
       "3          7.7 2012-04-21 04:30:42+00:00        -73.987129        40.733143   \n",
       "4          5.3 2010-03-09 07:51:00+00:00        -73.968094        40.768009   \n",
       "\n",
       "   dropoff_longitude  dropoff_latitude  passenger_count  \n",
       "0         -73.841614         40.712276                1  \n",
       "1         -73.979271         40.782005                1  \n",
       "2         -73.991241         40.750561                2  \n",
       "3         -73.991570         40.758091                1  \n",
       "4         -73.956657         40.783764                1  "
      ]
     },
     "execution_count": 11,
     "metadata": {},
     "output_type": "execute_result"
    }
   ],
   "source": [
    "train_types = {\"fare_amount\": \"float32\",\n",
    "              \"pickup_datetime\": \"str\", \n",
    "              \"pickup_longitude\": \"float32\",\n",
    "              \"pickup_latitude\": \"float32\",\n",
    "              \"dropoff_longitude\": \"float32\",\n",
    "              \"dropoff_latitude\": \"float32\",\n",
    "              \"passenger_count\": \"uint8\"}\n",
    "train_df = load_nyc_taxi_fare(TRAIN_PATH, train_types, chunksize=5_000_000)\n",
    "train_df.head()"
   ]
  },
  {
   "cell_type": "code",
   "execution_count": 12,
   "metadata": {},
   "outputs": [
    {
     "name": "stdout",
     "output_type": "stream",
     "text": [
      "<class 'pandas.core.frame.DataFrame'>\n",
      "RangeIndex: 55423856 entries, 0 to 55423855\n",
      "Data columns (total 7 columns):\n",
      "fare_amount          float32\n",
      "pickup_datetime      datetime64[ns, UTC]\n",
      "pickup_longitude     float32\n",
      "pickup_latitude      float32\n",
      "dropoff_longitude    float32\n",
      "dropoff_latitude     float32\n",
      "passenger_count      uint8\n",
      "dtypes: datetime64[ns, UTC](1), float32(5), uint8(1)\n",
      "memory usage: 1.5 GB\n"
     ]
    }
   ],
   "source": [
    "train_df.info(memory_usage=\"deep\")"
   ]
  },
  {
   "cell_type": "code",
   "execution_count": 13,
   "metadata": {
    "scrolled": true
   },
   "outputs": [
    {
     "data": {
      "text/html": [
       "<div>\n",
       "<style scoped>\n",
       "    .dataframe tbody tr th:only-of-type {\n",
       "        vertical-align: middle;\n",
       "    }\n",
       "\n",
       "    .dataframe tbody tr th {\n",
       "        vertical-align: top;\n",
       "    }\n",
       "\n",
       "    .dataframe thead th {\n",
       "        text-align: right;\n",
       "    }\n",
       "</style>\n",
       "<table border=\"1\" class=\"dataframe\">\n",
       "  <thead>\n",
       "    <tr style=\"text-align: right;\">\n",
       "      <th></th>\n",
       "      <th>key</th>\n",
       "      <th>pickup_datetime</th>\n",
       "      <th>pickup_longitude</th>\n",
       "      <th>pickup_latitude</th>\n",
       "      <th>dropoff_longitude</th>\n",
       "      <th>dropoff_latitude</th>\n",
       "      <th>passenger_count</th>\n",
       "    </tr>\n",
       "  </thead>\n",
       "  <tbody>\n",
       "    <tr>\n",
       "      <th>0</th>\n",
       "      <td>2015-01-27 13:08:24.0000002</td>\n",
       "      <td>2015-01-27 13:08:24+00:00</td>\n",
       "      <td>-73.973320</td>\n",
       "      <td>40.763805</td>\n",
       "      <td>-73.981430</td>\n",
       "      <td>40.743835</td>\n",
       "      <td>1</td>\n",
       "    </tr>\n",
       "    <tr>\n",
       "      <th>1</th>\n",
       "      <td>2015-01-27 13:08:24.0000003</td>\n",
       "      <td>2015-01-27 13:08:24+00:00</td>\n",
       "      <td>-73.986862</td>\n",
       "      <td>40.719383</td>\n",
       "      <td>-73.998886</td>\n",
       "      <td>40.739201</td>\n",
       "      <td>1</td>\n",
       "    </tr>\n",
       "    <tr>\n",
       "      <th>2</th>\n",
       "      <td>2011-10-08 11:53:44.0000002</td>\n",
       "      <td>2011-10-08 11:53:44+00:00</td>\n",
       "      <td>-73.982521</td>\n",
       "      <td>40.751259</td>\n",
       "      <td>-73.979652</td>\n",
       "      <td>40.746140</td>\n",
       "      <td>1</td>\n",
       "    </tr>\n",
       "    <tr>\n",
       "      <th>3</th>\n",
       "      <td>2012-12-01 21:12:12.0000002</td>\n",
       "      <td>2012-12-01 21:12:12+00:00</td>\n",
       "      <td>-73.981163</td>\n",
       "      <td>40.767807</td>\n",
       "      <td>-73.990448</td>\n",
       "      <td>40.751637</td>\n",
       "      <td>1</td>\n",
       "    </tr>\n",
       "    <tr>\n",
       "      <th>4</th>\n",
       "      <td>2012-12-01 21:12:12.0000003</td>\n",
       "      <td>2012-12-01 21:12:12+00:00</td>\n",
       "      <td>-73.966049</td>\n",
       "      <td>40.789776</td>\n",
       "      <td>-73.988564</td>\n",
       "      <td>40.744427</td>\n",
       "      <td>1</td>\n",
       "    </tr>\n",
       "  </tbody>\n",
       "</table>\n",
       "</div>"
      ],
      "text/plain": [
       "                           key           pickup_datetime  pickup_longitude  \\\n",
       "0  2015-01-27 13:08:24.0000002 2015-01-27 13:08:24+00:00        -73.973320   \n",
       "1  2015-01-27 13:08:24.0000003 2015-01-27 13:08:24+00:00        -73.986862   \n",
       "2  2011-10-08 11:53:44.0000002 2011-10-08 11:53:44+00:00        -73.982521   \n",
       "3  2012-12-01 21:12:12.0000002 2012-12-01 21:12:12+00:00        -73.981163   \n",
       "4  2012-12-01 21:12:12.0000003 2012-12-01 21:12:12+00:00        -73.966049   \n",
       "\n",
       "   pickup_latitude  dropoff_longitude  dropoff_latitude  passenger_count  \n",
       "0        40.763805         -73.981430         40.743835                1  \n",
       "1        40.719383         -73.998886         40.739201                1  \n",
       "2        40.751259         -73.979652         40.746140                1  \n",
       "3        40.767807         -73.990448         40.751637                1  \n",
       "4        40.789776         -73.988564         40.744427                1  "
      ]
     },
     "execution_count": 13,
     "metadata": {},
     "output_type": "execute_result"
    }
   ],
   "source": [
    "test_types = train_types.copy()\n",
    "test_types.pop(\"fare_amount\")\n",
    "test_types[\"key\"] = \"str\"\n",
    "\n",
    "test_df = load_nyc_taxi_fare(TEST_PATH, test_types)\n",
    "test_df.head()"
   ]
  },
  {
   "cell_type": "code",
   "execution_count": 14,
   "metadata": {},
   "outputs": [
    {
     "data": {
      "text/plain": [
       "(9914, 7)"
      ]
     },
     "execution_count": 14,
     "metadata": {},
     "output_type": "execute_result"
    }
   ],
   "source": [
    "test_df.shape"
   ]
  },
  {
   "cell_type": "markdown",
   "metadata": {},
   "source": [
    "# Cleaning"
   ]
  },
  {
   "cell_type": "code",
   "execution_count": null,
   "metadata": {},
   "outputs": [],
   "source": [
    "train_df.describe()"
   ]
  },
  {
   "cell_type": "markdown",
   "metadata": {},
   "source": [
    "Is there any Null?"
   ]
  },
  {
   "cell_type": "code",
   "execution_count": null,
   "metadata": {},
   "outputs": [],
   "source": [
    "train_df.isna().sum()"
   ]
  },
  {
   "cell_type": "markdown",
   "metadata": {},
   "source": [
    "## Fare amount"
   ]
  },
  {
   "cell_type": "markdown",
   "metadata": {},
   "source": [
    "There are negative fare amounts. Let's count how there are in the training set."
   ]
  },
  {
   "cell_type": "code",
   "execution_count": 16,
   "metadata": {},
   "outputs": [
    {
     "name": "stdout",
     "output_type": "stream",
     "text": [
      "Number of negative values of fare_amount: 2454 \n"
     ]
    }
   ],
   "source": [
    "print(\"Number of negative values of fare_amount: %d \" % (train_df[\"fare_amount\"] < 0).sum())"
   ]
  },
  {
   "cell_type": "markdown",
   "metadata": {},
   "source": [
    "Since negative values of `fare_amount` do not make sense, we will drop them."
   ]
  },
  {
   "cell_type": "code",
   "execution_count": 17,
   "metadata": {},
   "outputs": [
    {
     "name": "stdout",
     "output_type": "stream",
     "text": [
      "Shape before dropping: (55423856, 7)\n",
      "Shape after dropping: (55421402, 7)\n"
     ]
    }
   ],
   "source": [
    "print(\"Shape before dropping:\", train_df.shape)\n",
    "train_df = train_df[train_df[\"fare_amount\"] >= 0]\n",
    "print(\"Shape after dropping:\", train_df.shape)"
   ]
  },
  {
   "cell_type": "markdown",
   "metadata": {},
   "source": [
    "Very large values of `fare_amount` may also be problematic. Let's look the histogram."
   ]
  },
  {
   "cell_type": "code",
   "execution_count": 18,
   "metadata": {},
   "outputs": [
    {
     "data": {
      "text/plain": [
       "Text(0.5,1,'data with fare_amount < 200')"
      ]
     },
     "execution_count": 18,
     "metadata": {},
     "output_type": "execute_result"
    },
    {
     "data": {
      "image/png": "[encoded data removed]",
      "text/plain": [
       "<Figure size 720x288 with 2 Axes>"
      ]
     },
     "metadata": {},
     "output_type": "display_data"
    }
   ],
   "source": [
    "fig, ax = plt.subplots(nrows=1, ncols=2, figsize=(10, 4))\n",
    "train_df[\"fare_amount\"].plot(kind=\"hist\", ax=ax[0])\n",
    "ax[0].set_xlabel(\"fare_amount (USD)\")\n",
    "ax[0].set_title(\"all data\")\n",
    "\n",
    "train_df.loc[train_df[\"fare_amount\"] < 200, \"fare_amount\"].plot(kind=\"hist\", ax=ax[1])\n",
    "ax[1].set_xlabel(\"fare_amount (USD)\")\n",
    "ax[1].set_title(\"data with fare_amount < 200\")"
   ]
  },
  {
   "cell_type": "code",
   "execution_count": 19,
   "metadata": {},
   "outputs": [
    {
     "name": "stdout",
     "output_type": "stream",
     "text": [
      "Number of rows with fare_amount greater than $100 is 20875\n",
      "Number of rows with fare_amount greater than $200 is 1654\n",
      "Number of rows with fare_amount greater than $500 is 43\n",
      "Number of rows with fare_amount greater than $1000 is 12\n",
      "Number of rows with fare_amount greater than $5000 is 4\n",
      "Number of rows with fare_amount greater than $10000 is 3\n"
     ]
    }
   ],
   "source": [
    "for fare in [100, 200, 500, 1000, 5000, 10000]:\n",
    "    print(\"Number of rows with fare_amount greater than $%d is %d\" %(fare, (train_df[\"fare_amount\"] > fare).sum()))"
   ]
  },
  {
   "cell_type": "markdown",
   "metadata": {},
   "source": [
    "There are few values greater than $200. Latter we will see if these expensive trips correspond to long distances and decide whether we will drop them."
   ]
  },
  {
   "cell_type": "markdown",
   "metadata": {},
   "source": [
    "## Pickup and dropoff location data"
   ]
  },
  {
   "cell_type": "code",
   "execution_count": 20,
   "metadata": {},
   "outputs": [
    {
     "data": {
      "text/html": [
       "<div>\n",
       "<style scoped>\n",
       "    .dataframe tbody tr th:only-of-type {\n",
       "        vertical-align: middle;\n",
       "    }\n",
       "\n",
       "    .dataframe tbody tr th {\n",
       "        vertical-align: top;\n",
       "    }\n",
       "\n",
       "    .dataframe thead th {\n",
       "        text-align: right;\n",
       "    }\n",
       "</style>\n",
       "<table border=\"1\" class=\"dataframe\">\n",
       "  <thead>\n",
       "    <tr style=\"text-align: right;\">\n",
       "      <th></th>\n",
       "      <th>fare_amount</th>\n",
       "      <th>pickup_longitude</th>\n",
       "      <th>pickup_latitude</th>\n",
       "      <th>dropoff_longitude</th>\n",
       "      <th>dropoff_latitude</th>\n",
       "      <th>passenger_count</th>\n",
       "    </tr>\n",
       "  </thead>\n",
       "  <tbody>\n",
       "    <tr>\n",
       "      <th>count</th>\n",
       "      <td>5.542140e+07</td>\n",
       "      <td>5.542140e+07</td>\n",
       "      <td>5.542140e+07</td>\n",
       "      <td>5.542103e+07</td>\n",
       "      <td>5.542103e+07</td>\n",
       "      <td>5.542140e+07</td>\n",
       "    </tr>\n",
       "    <tr>\n",
       "      <th>mean</th>\n",
       "      <td>8.078549e+00</td>\n",
       "      <td>-3.875462e+01</td>\n",
       "      <td>1.937414e+01</td>\n",
       "      <td>-3.875433e+01</td>\n",
       "      <td>1.937427e+01</td>\n",
       "      <td>1.685369e+00</td>\n",
       "    </tr>\n",
       "    <tr>\n",
       "      <th>std</th>\n",
       "      <td>2.055111e+01</td>\n",
       "      <td>2.556259e+01</td>\n",
       "      <td>1.414266e+01</td>\n",
       "      <td>2.553895e+01</td>\n",
       "      <td>1.412200e+01</td>\n",
       "      <td>1.327656e+00</td>\n",
       "    </tr>\n",
       "    <tr>\n",
       "      <th>min</th>\n",
       "      <td>0.000000e+00</td>\n",
       "      <td>-3.442060e+03</td>\n",
       "      <td>-3.492264e+03</td>\n",
       "      <td>-3.442025e+03</td>\n",
       "      <td>-3.547887e+03</td>\n",
       "      <td>0.000000e+00</td>\n",
       "    </tr>\n",
       "    <tr>\n",
       "      <th>25%</th>\n",
       "      <td>6.000000e+00</td>\n",
       "      <td>-7.399207e+01</td>\n",
       "      <td>4.073493e+01</td>\n",
       "      <td>-7.399140e+01</td>\n",
       "      <td>4.073403e+01</td>\n",
       "      <td>1.000000e+00</td>\n",
       "    </tr>\n",
       "    <tr>\n",
       "      <th>50%</th>\n",
       "      <td>8.500000e+00</td>\n",
       "      <td>-7.398180e+01</td>\n",
       "      <td>4.075265e+01</td>\n",
       "      <td>-7.398015e+01</td>\n",
       "      <td>4.075316e+01</td>\n",
       "      <td>1.000000e+00</td>\n",
       "    </tr>\n",
       "    <tr>\n",
       "      <th>75%</th>\n",
       "      <td>1.250000e+01</td>\n",
       "      <td>-7.396708e+01</td>\n",
       "      <td>4.076713e+01</td>\n",
       "      <td>-7.396368e+01</td>\n",
       "      <td>4.076810e+01</td>\n",
       "      <td>2.000000e+00</td>\n",
       "    </tr>\n",
       "    <tr>\n",
       "      <th>max</th>\n",
       "      <td>9.396336e+04</td>\n",
       "      <td>3.457626e+03</td>\n",
       "      <td>3.408790e+03</td>\n",
       "      <td>3.457622e+03</td>\n",
       "      <td>3.537133e+03</td>\n",
       "      <td>2.080000e+02</td>\n",
       "    </tr>\n",
       "  </tbody>\n",
       "</table>\n",
       "</div>"
      ],
      "text/plain": [
       "        fare_amount  pickup_longitude  pickup_latitude  dropoff_longitude  \\\n",
       "count  5.542140e+07      5.542140e+07     5.542140e+07       5.542103e+07   \n",
       "mean   8.078549e+00     -3.875462e+01     1.937414e+01      -3.875433e+01   \n",
       "std    2.055111e+01      2.556259e+01     1.414266e+01       2.553895e+01   \n",
       "min    0.000000e+00     -3.442060e+03    -3.492264e+03      -3.442025e+03   \n",
       "25%    6.000000e+00     -7.399207e+01     4.073493e+01      -7.399140e+01   \n",
       "50%    8.500000e+00     -7.398180e+01     4.075265e+01      -7.398015e+01   \n",
       "75%    1.250000e+01     -7.396708e+01     4.076713e+01      -7.396368e+01   \n",
       "max    9.396336e+04      3.457626e+03     3.408790e+03       3.457622e+03   \n",
       "\n",
       "       dropoff_latitude  passenger_count  \n",
       "count      5.542103e+07     5.542140e+07  \n",
       "mean       1.937427e+01     1.685369e+00  \n",
       "std        1.412200e+01     1.327656e+00  \n",
       "min       -3.547887e+03     0.000000e+00  \n",
       "25%        4.073403e+01     1.000000e+00  \n",
       "50%        4.075316e+01     1.000000e+00  \n",
       "75%        4.076810e+01     2.000000e+00  \n",
       "max        3.537133e+03     2.080000e+02  "
      ]
     },
     "execution_count": 20,
     "metadata": {},
     "output_type": "execute_result"
    }
   ],
   "source": [
    "train_df.describe()"
   ]
  },
  {
   "cell_type": "markdown",
   "metadata": {},
   "source": [
    "Latitude ranges from -90$^o$ to 90$^o$ and longitude from -180$^o$ to 180$^o$. Values outside these ranges do not make sense and we will drop them."
   ]
  },
  {
   "cell_type": "code",
   "execution_count": 21,
   "metadata": {},
   "outputs": [],
   "source": [
    "def drop_wrong_gps_coor(df):\n",
    "    print(\"Shape before dropping:\", df.shape)\n",
    "    df = df[(df[\"pickup_longitude\"] >= -180) & (df[\"pickup_longitude\"] <= 180)]\n",
    "    df = df[(df[\"dropoff_longitude\"] >= -180) & (df[\"dropoff_longitude\"] <= 180)]\n",
    "    \n",
    "    df = df[(df[\"pickup_latitude\"] >= -90) & (df[\"pickup_latitude\"] <= 90)]\n",
    "    df = df[(df[\"dropoff_latitude\"] >= -90) & (df[\"dropoff_latitude\"] <= 90)]\n",
    "    print(\"Shape after dropping:\", df.shape)\n",
    "    return df"
   ]
  },
  {
   "cell_type": "code",
   "execution_count": 22,
   "metadata": {},
   "outputs": [
    {
     "name": "stdout",
     "output_type": "stream",
     "text": [
      "Shape before dropping: (55421402, 7)\n",
      "Shape after dropping: (55418281, 7)\n"
     ]
    }
   ],
   "source": [
    "train_df = drop_wrong_gps_coor(train_df)"
   ]
  },
  {
   "cell_type": "code",
   "execution_count": 23,
   "metadata": {},
   "outputs": [
    {
     "data": {
      "text/html": [
       "<div>\n",
       "<style scoped>\n",
       "    .dataframe tbody tr th:only-of-type {\n",
       "        vertical-align: middle;\n",
       "    }\n",
       "\n",
       "    .dataframe tbody tr th {\n",
       "        vertical-align: top;\n",
       "    }\n",
       "\n",
       "    .dataframe thead th {\n",
       "        text-align: right;\n",
       "    }\n",
       "</style>\n",
       "<table border=\"1\" class=\"dataframe\">\n",
       "  <thead>\n",
       "    <tr style=\"text-align: right;\">\n",
       "      <th></th>\n",
       "      <th>fare_amount</th>\n",
       "      <th>pickup_longitude</th>\n",
       "      <th>pickup_latitude</th>\n",
       "      <th>dropoff_longitude</th>\n",
       "      <th>dropoff_latitude</th>\n",
       "      <th>passenger_count</th>\n",
       "    </tr>\n",
       "  </thead>\n",
       "  <tbody>\n",
       "    <tr>\n",
       "      <th>count</th>\n",
       "      <td>5.541828e+07</td>\n",
       "      <td>5.541828e+07</td>\n",
       "      <td>5.541828e+07</td>\n",
       "      <td>5.541828e+07</td>\n",
       "      <td>5.541828e+07</td>\n",
       "      <td>5.541828e+07</td>\n",
       "    </tr>\n",
       "    <tr>\n",
       "      <th>mean</th>\n",
       "      <td>8.078673e+00</td>\n",
       "      <td>-3.875046e+01</td>\n",
       "      <td>1.937523e+01</td>\n",
       "      <td>-3.875046e+01</td>\n",
       "      <td>1.937523e+01</td>\n",
       "      <td>1.685373e+00</td>\n",
       "    </tr>\n",
       "    <tr>\n",
       "      <th>std</th>\n",
       "      <td>2.055150e+01</td>\n",
       "      <td>2.494473e+01</td>\n",
       "      <td>1.257314e+01</td>\n",
       "      <td>2.494466e+01</td>\n",
       "      <td>1.257294e+01</td>\n",
       "      <td>1.327624e+00</td>\n",
       "    </tr>\n",
       "    <tr>\n",
       "      <th>min</th>\n",
       "      <td>0.000000e+00</td>\n",
       "      <td>-1.717973e+02</td>\n",
       "      <td>-7.783388e+01</td>\n",
       "      <td>-1.739576e+02</td>\n",
       "      <td>-7.435461e+01</td>\n",
       "      <td>0.000000e+00</td>\n",
       "    </tr>\n",
       "    <tr>\n",
       "      <th>25%</th>\n",
       "      <td>6.000000e+00</td>\n",
       "      <td>-7.399207e+01</td>\n",
       "      <td>4.073493e+01</td>\n",
       "      <td>-7.399140e+01</td>\n",
       "      <td>4.073403e+01</td>\n",
       "      <td>1.000000e+00</td>\n",
       "    </tr>\n",
       "    <tr>\n",
       "      <th>50%</th>\n",
       "      <td>8.500000e+00</td>\n",
       "      <td>-7.398180e+01</td>\n",
       "      <td>4.075265e+01</td>\n",
       "      <td>-7.398015e+01</td>\n",
       "      <td>4.075316e+01</td>\n",
       "      <td>1.000000e+00</td>\n",
       "    </tr>\n",
       "    <tr>\n",
       "      <th>75%</th>\n",
       "      <td>1.250000e+01</td>\n",
       "      <td>-7.396708e+01</td>\n",
       "      <td>4.076713e+01</td>\n",
       "      <td>-7.396368e+01</td>\n",
       "      <td>4.076810e+01</td>\n",
       "      <td>2.000000e+00</td>\n",
       "    </tr>\n",
       "    <tr>\n",
       "      <th>max</th>\n",
       "      <td>9.396336e+04</td>\n",
       "      <td>1.699728e+02</td>\n",
       "      <td>8.974216e+01</td>\n",
       "      <td>1.699728e+02</td>\n",
       "      <td>8.981667e+01</td>\n",
       "      <td>2.080000e+02</td>\n",
       "    </tr>\n",
       "  </tbody>\n",
       "</table>\n",
       "</div>"
      ],
      "text/plain": [
       "        fare_amount  pickup_longitude  pickup_latitude  dropoff_longitude  \\\n",
       "count  5.541828e+07      5.541828e+07     5.541828e+07       5.541828e+07   \n",
       "mean   8.078673e+00     -3.875046e+01     1.937523e+01      -3.875046e+01   \n",
       "std    2.055150e+01      2.494473e+01     1.257314e+01       2.494466e+01   \n",
       "min    0.000000e+00     -1.717973e+02    -7.783388e+01      -1.739576e+02   \n",
       "25%    6.000000e+00     -7.399207e+01     4.073493e+01      -7.399140e+01   \n",
       "50%    8.500000e+00     -7.398180e+01     4.075265e+01      -7.398015e+01   \n",
       "75%    1.250000e+01     -7.396708e+01     4.076713e+01      -7.396368e+01   \n",
       "max    9.396336e+04      1.699728e+02     8.974216e+01       1.699728e+02   \n",
       "\n",
       "       dropoff_latitude  passenger_count  \n",
       "count      5.541828e+07     5.541828e+07  \n",
       "mean       1.937523e+01     1.685373e+00  \n",
       "std        1.257294e+01     1.327624e+00  \n",
       "min       -7.435461e+01     0.000000e+00  \n",
       "25%        4.073403e+01     1.000000e+00  \n",
       "50%        4.075316e+01     1.000000e+00  \n",
       "75%        4.076810e+01     2.000000e+00  \n",
       "max        8.981667e+01     2.080000e+02  "
      ]
     },
     "execution_count": 23,
     "metadata": {},
     "output_type": "execute_result"
    }
   ],
   "source": [
    "train_df.describe()"
   ]
  },
  {
   "cell_type": "markdown",
   "metadata": {},
   "source": [
    "By googling we know that the geo-coordinate of the center of New York City is (40.7128$^o$ N, 74.0060$^o$ W) which means `latitute` = 40.7128$^o$ and `longitude` = -74.0060$^o$. We expect the pickup and dropoff coordinates in the train data set vary by one or two degrees at most from the center. However, the min and max values of the `longitude` and `latitude` are very extreme. \n",
    "\n",
    "We will focus on the region around New York City. We follow this post: https://www.kaggle.com/breemen/nyc-taxi-fare-data-exploration and define a bounding box from GPS coordinates in the test set."
   ]
  },
  {
   "cell_type": "code",
   "execution_count": 24,
   "metadata": {},
   "outputs": [
    {
     "name": "stdout",
     "output_type": "stream",
     "text": [
      "LON_MIN = -74.26324\n",
      "LON_MAX = -72.98653\n",
      "LAT_MIN = 40.56897\n",
      "LAT_MAX = 41.70956\n"
     ]
    }
   ],
   "source": [
    "LON_MIN = np.min([test_df[\"pickup_longitude\"].min(), test_df[\"dropoff_longitude\"].min()])\n",
    "LON_MAX = np.max([test_df[\"pickup_longitude\"].max(), test_df[\"dropoff_longitude\"].max()])\n",
    "\n",
    "LAT_MIN = np.min([test_df[\"pickup_latitude\"].min(), test_df[\"dropoff_latitude\"].min()])\n",
    "LAT_MAX = np.max([test_df[\"pickup_latitude\"].max(), test_df[\"dropoff_latitude\"].max()])\n",
    "\n",
    "print(\"LON_MIN = %0.5f\" % LON_MIN)\n",
    "print(\"LON_MAX = %0.5f\" % LON_MAX)\n",
    "print(\"LAT_MIN = %0.5f\" % LAT_MIN)\n",
    "print(\"LAT_MAX = %0.5f\" % LAT_MAX)"
   ]
  },
  {
   "cell_type": "markdown",
   "metadata": {},
   "source": [
    "Let's see how many data points are outside the bounding box."
   ]
  },
  {
   "cell_type": "code",
   "execution_count": 25,
   "metadata": {},
   "outputs": [],
   "source": [
    "def is_pickup_inside(df, lon_min, lon_max, lat_min, lat_max):\n",
    "    lat_inside = (df[\"pickup_latitude\"] >= lat_min) & (df[\"pickup_latitude\"] <= lat_max)\n",
    "    lon_inside = (df[\"pickup_longitude\"] >= lon_min) & (df[\"pickup_longitude\"] <= lon_max)\n",
    "    return lat_inside & lon_inside\n",
    "\n",
    "def is_dropoff_inside(df, lon_min, lon_max, lat_min, lat_max):\n",
    "    lat_inside = (df[\"dropoff_latitude\"] >= lat_min) & (df[\"dropoff_latitude\"] <= lat_max)\n",
    "    lon_inside = (df[\"dropoff_longitude\"] >= lon_min) & (df[\"dropoff_longitude\"] <= lon_max)\n",
    "    return lat_inside & lon_inside\n",
    "\n",
    "def is_inside(df, lon_min, lon_max, lat_min, lat_max):\n",
    "    \"\"\"both pickup and dropoff are inside\"\"\"\n",
    "    p_in = is_pickup_inside(df, lon_min, lon_max, lat_min, lat_max)\n",
    "    d_in = is_dropoff_inside(df, lon_min, lon_max, lat_min, lat_max)\n",
    "    return p_in & d_in"
   ]
  },
  {
   "cell_type": "code",
   "execution_count": 26,
   "metadata": {},
   "outputs": [
    {
     "name": "stdout",
     "output_type": "stream",
     "text": [
      "2.135% of points outside the bounding box\n"
     ]
    }
   ],
   "source": [
    "inside = is_inside(train_df, LON_MIN, LON_MAX, LAT_MIN, LAT_MAX)\n",
    "outside = ~inside\n",
    "print(\"%0.3f%% of points outside the bounding box\" % (outside.mean() * 100))"
   ]
  },
  {
   "cell_type": "markdown",
   "metadata": {},
   "source": [
    "Let's increase the bounding box a little bit to include more points in the box."
   ]
  },
  {
   "cell_type": "code",
   "execution_count": 27,
   "metadata": {},
   "outputs": [
    {
     "name": "stdout",
     "output_type": "stream",
     "text": [
      "When increasing each side by 0.050 deg, 2.127% of points are outside.\n",
      "When increasing each side by 0.100 deg, 2.122% of points are outside.\n",
      "When increasing each side by 0.200 deg, 2.116% of points are outside.\n",
      "When increasing each side by 0.500 deg, 2.108% of points are outside.\n",
      "When increasing each side by 1.000 deg, 2.100% of points are outside.\n",
      "When increasing each side by 2.000 deg, 2.083% of points are outside.\n",
      "When increasing each side by 5.000 deg, 2.073% of points are outside.\n"
     ]
    }
   ],
   "source": [
    "for deg in [0.05, 0.1, 0.2, 0.5, 1, 2, 5]:\n",
    "    lat_min = LAT_MIN - deg / 2\n",
    "    lat_max = LAT_MAX + deg / 2\n",
    "    lon_min = LON_MIN - deg / 2\n",
    "    lon_max = LON_MAX + deg / 2\n",
    "    \n",
    "    inside = is_inside(train_df, lon_min, lon_max, lat_min, lat_max)\n",
    "    outside = ~inside\n",
    "    print(\"When increasing each side by %0.3f deg, %0.3f%% of points are outside.\" % (deg, outside.mean()*100))"
   ]
  },
  {
   "cell_type": "markdown",
   "metadata": {},
   "source": [
    "When increasing the boudning box, not a lot of points actually move inside. This means that most of the points outside the box are really far away. There are about 2% of the points having both pickup and dropoff locations maybe far from New York City. Let's look at them on the map."
   ]
  },
  {
   "cell_type": "code",
   "execution_count": 28,
   "metadata": {},
   "outputs": [],
   "source": [
    "def create_nyc_map(ax, lon_min, lon_max, lat_min, lat_max, alpha=1.):\n",
    "    # projection=\"cyl\" or projection=\"lcc\"\n",
    "    bmap = Basemap(projection=\"cyl\", resolution=\"f\", ax=ax,\n",
    "                   llcrnrlat=lat_min, urcrnrlat=lat_max, \n",
    "                   llcrnrlon=lon_min, urcrnrlon=lon_max,\n",
    "                   lat_0=(lat_min + lat_max) / 2, lon_0=(lon_min + lon_max) / 2)\n",
    "    \n",
    "    bmap.drawmapboundary(fill_color='aqua', ax=ax, zorder=0)\n",
    "    bmap.fillcontinents(color=\"coral\", lake_color='aqua', alpha=alpha, ax=ax, zorder=1)\n",
    "    bmap.drawstates(color='gray', ax=ax, zorder=2)\n",
    "    \n",
    "    return bmap\n",
    "\n",
    "def plot_coor_on_map(bmap, lons, lats, marker=\"o\", s=1, c=\"k\", label=None):\n",
    "    bmap.scatter(lons, lats, latlon=True, marker=marker, s=s, c=c, zorder=3, label=label)\n",
    "    return bmap"
   ]
  },
  {
   "cell_type": "code",
   "execution_count": 29,
   "metadata": {},
   "outputs": [
    {
     "name": "stdout",
     "output_type": "stream",
     "text": [
      "train_df_small shape (1108366, 7)\n"
     ]
    },
    {
     "data": {
      "text/plain": [
       "<matplotlib.legend.Legend at 0x1a2b51bf60>"
      ]
     },
     "execution_count": 29,
     "metadata": {},
     "output_type": "execute_result"
    },
    {
     "data": {
      "image/png": "[encoded data removed]",
      "text/plain": [
       "<Figure size 720x432 with 2 Axes>"
      ]
     },
     "metadata": {},
     "output_type": "display_data"
    }
   ],
   "source": [
    "train_df_small = train_df.sample(frac=0.02, random_state=210)\n",
    "print(\"train_df_small shape\", train_df_small.shape)\n",
    "inside_idx = is_pickup_inside(train_df_small, LON_MIN, LON_MAX, LAT_MIN, LAT_MAX)\n",
    "\n",
    "sns.set(font_scale=1)\n",
    "fig, ax = plt.subplots(nrows=1, ncols=2, figsize=(10,6))\n",
    "\n",
    "bmap = create_nyc_map(ax[0], LON_MIN, LON_MAX, LAT_MIN, LAT_MAX)\n",
    "bmap = plot_coor_on_map(bmap,  \n",
    "                        train_df_small[\"pickup_longitude\"].values,\n",
    "                        train_df_small[\"pickup_latitude\"].values,\n",
    "                        marker=\"o\", s=1, c=\"k\", label=None)\n",
    "ax[0].set_title(\"Bounding box determined from test set\")\n",
    "\n",
    "bmap = create_nyc_map(ax[1], LON_MIN-2.5, LON_MAX+2.5, LAT_MIN-2.5, LAT_MAX+2.5)\n",
    "bmap = plot_coor_on_map(bmap,  \n",
    "                        train_df_small.loc[inside_idx, \"pickup_longitude\"].values,\n",
    "                        train_df_small.loc[inside_idx, \"pickup_latitude\"].values,\n",
    "                       marker=\"o\", s=1, c=\"k\", label=\"inside\")\n",
    "bmap = plot_coor_on_map(bmap,  \n",
    "                        train_df_small.loc[~inside_idx, \"pickup_longitude\"].values,\n",
    "                        train_df_small.loc[~inside_idx, \"pickup_latitude\"].values,\n",
    "                       marker=\"o\", s=1, c=\"g\", label=\"outside\")\n",
    "ax[1].set_title(\"Bounding box enlarged by 5 deg each side\")\n",
    "ax[1].legend()"
   ]
  },
  {
   "cell_type": "markdown",
   "metadata": {},
   "source": [
    "The area of the enlarged bounding box is really large. Since we are interested in taxi rides near New York City, we will use the bounding box given by the test set enlarged by 1 degree each side."
   ]
  },
  {
   "cell_type": "code",
   "execution_count": 30,
   "metadata": {},
   "outputs": [
    {
     "name": "stdout",
     "output_type": "stream",
     "text": [
      "Shape before dropping: (55418281, 7)\n",
      "Shape after dropping: (54254567, 7)\n"
     ]
    }
   ],
   "source": [
    "inside_idx = is_inside(train_df, LON_MIN-0.5, LON_MAX+0.5, LAT_MIN-0.5, LAT_MAX+0.5)\n",
    "print(\"Shape before dropping:\", train_df.shape)\n",
    "train_df = train_df[inside_idx]\n",
    "print(\"Shape after dropping:\", train_df.shape)"
   ]
  },
  {
   "cell_type": "code",
   "execution_count": 31,
   "metadata": {},
   "outputs": [
    {
     "data": {
      "text/plain": [
       "Text(0.5,1,'Bounding box enlarged by 1 deg each side')"
      ]
     },
     "execution_count": 31,
     "metadata": {},
     "output_type": "execute_result"
    },
    {
     "data": {
      "image/png": "[encoded data removed]",
      "text/plain": [
       "<Figure size 432x432 with 1 Axes>"
      ]
     },
     "metadata": {},
     "output_type": "display_data"
    }
   ],
   "source": [
    "train_df_small = train_df.sample(frac=0.1, random_state=210)\n",
    "sns.set(font_scale=1)\n",
    "fig, ax = plt.subplots(nrows=1, ncols=1, figsize=(6,6))\n",
    "\n",
    "bmap = create_nyc_map(ax, LON_MIN-0.5, LON_MAX+0.5, LAT_MIN-0.5, LAT_MAX+0.5)\n",
    "bmap = plot_coor_on_map(bmap,  \n",
    "                        train_df_small[\"pickup_longitude\"].values,\n",
    "                        train_df_small[\"pickup_latitude\"].values,\n",
    "                        marker=\"o\", s=1, c=\"k\", label=None)\n",
    "ax.set_title(\"Bounding box enlarged by 1 deg each side\")"
   ]
  },
  {
   "cell_type": "markdown",
   "metadata": {},
   "source": [
    "There are a lot of points on water. This makes little sense. Let's see if this also happens for the test set."
   ]
  },
  {
   "cell_type": "code",
   "execution_count": 32,
   "metadata": {},
   "outputs": [
    {
     "data": {
      "text/plain": [
       "Text(0.5,1,'Pickup coordinates of test set')"
      ]
     },
     "execution_count": 32,
     "metadata": {},
     "output_type": "execute_result"
    },
    {
     "data": {
      "image/png": "[encoded data removed]",
      "text/plain": [
       "<Figure size 432x432 with 1 Axes>"
      ]
     },
     "metadata": {},
     "output_type": "display_data"
    }
   ],
   "source": [
    "sns.set(font_scale=1)\n",
    "fig, ax = plt.subplots(nrows=1, ncols=1, figsize=(6,6))\n",
    "\n",
    "bmap = create_nyc_map(ax, LON_MIN, LON_MAX, LAT_MIN, LAT_MAX)\n",
    "bmap = plot_coor_on_map(bmap,  \n",
    "                        test_df[\"pickup_longitude\"].values,\n",
    "                        test_df[\"pickup_latitude\"].values,\n",
    "                        marker=\"o\", s=2, c=\"k\", label=None)\n",
    "ax.set_title(\"Pickup coordinates of test set\")"
   ]
  },
  {
   "cell_type": "markdown",
   "metadata": {},
   "source": [
    "It happens the test set but rare. Points on water are much closer to shore which may be acceptable. Before deciding whether to remove all the taxi rides which start (pickup) and/or end (dropoff) on water from the training set, let's see if the target variable `fare_amount` is related to whether the pickup or dropoff coordinate in on water. "
   ]
  },
  {
   "cell_type": "code",
   "execution_count": 33,
   "metadata": {},
   "outputs": [],
   "source": [
    "def is_on_land(lons, lats):\n",
    "    #bm = Basemap(projection='cyl', resolution=\"h\", )\n",
    "    \n",
    "    lon_min = np.min(lons) - 0.01\n",
    "    lon_max = np.max(lons) + 0.01\n",
    "    \n",
    "    lat_min = np.min(lats) - 0.01\n",
    "    lat_max = np.max(lats) + 0.01\n",
    "    \n",
    "    lon_0 = (lon_min + lon_max) / 2\n",
    "    lat_0 = (lat_min + lat_max) / 2\n",
    "    \n",
    "    # projection=\"cyl\" or projection=\"lcc\"\n",
    "    bm = Basemap(projection=\"cyl\", resolution=\"h\", \n",
    "                 llcrnrlat=lat_min, urcrnrlat=lat_max, \n",
    "                 llcrnrlon=lon_min, urcrnrlon=lon_max,\n",
    "                 lon_0=lon_0, lat_0=lat_0)\n",
    "    \n",
    "    xpt, ypt = bm(lons, lats)\n",
    "    vec_is_land = np.vectorize(bm.is_land)\n",
    "    return vec_is_land(xpt, ypt)\n",
    "\n",
    "def is_pickup_on_land(df):\n",
    "    return is_on_land(df[\"pickup_longitude\"].values, df[\"pickup_latitude\"].values)\n",
    "\n",
    "def is_dropoff_on_land(df):\n",
    "    return is_on_land(df[\"dropoff_longitude\"].values, df[\"dropoff_latitude\"].values)\n",
    "\n",
    "def is_both_pickup_or_dropoff_on_land(df):\n",
    "    return is_pickup_on_land(df) & is_dropoff_on_land(df)"
   ]
  },
  {
   "cell_type": "markdown",
   "metadata": {},
   "source": [
    "Determining whether pickup and dropoff locations are on land or water takes a long time. So will do that for 2% of the training data."
   ]
  },
  {
   "cell_type": "code",
   "execution_count": 34,
   "metadata": {},
   "outputs": [
    {
     "name": "stdout",
     "output_type": "stream",
     "text": [
      "(1085091, 9)\n"
     ]
    }
   ],
   "source": [
    "create_csv = False\n",
    "\n",
    "if create_csv:\n",
    "    train_df_small = train_df.sample(frac=0.02, random_state=210)\n",
    "    train_df_small[\"on_land\"] = is_both_pickup_or_dropoff_on_land(train_df_small)\n",
    "    train_df_small.to_csv(os.path.join(PROC_DIR, \"train_df_small.csv\"))\n",
    "    print(train_df_small.shape)\n",
    "    \n",
    "else:\n",
    "    train_df_small = pd.read_csv(os.path.join(PROC_DIR, \"train_df_small.csv\"))\n",
    "    print(train_df_small.shape)"
   ]
  },
  {
   "cell_type": "code",
   "execution_count": 35,
   "metadata": {},
   "outputs": [
    {
     "name": "stdout",
     "output_type": "stream",
     "text": [
      "There are 0.338% of points on water.\n"
     ]
    }
   ],
   "source": [
    "print(\"There are %0.3f%% of points on water.\" % ((1 - train_df_small[\"on_land\"].mean())*100) )"
   ]
  },
  {
   "cell_type": "code",
   "execution_count": 36,
   "metadata": {},
   "outputs": [
    {
     "data": {
      "text/plain": [
       "Text(0.5,1,'On Water')"
      ]
     },
     "execution_count": 36,
     "metadata": {},
     "output_type": "execute_result"
    },
    {
     "data": {
      "image/png": "[encoded data removed]",
      "text/plain": [
       "<Figure size 720x432 with 2 Axes>"
      ]
     },
     "metadata": {},
     "output_type": "display_data"
    }
   ],
   "source": [
    "on_land = train_df_small[\"on_land\"]\n",
    "on_water = ~on_land\n",
    "\n",
    "sns.set(font_scale=1)\n",
    "fig, ax = plt.subplots(nrows=1, ncols=2, figsize=(10, 6))\n",
    "\n",
    "bmap = create_nyc_map(ax[0], LON_MIN-0.5, LON_MAX+0.5, LAT_MIN-0.5, LAT_MAX+0.5)\n",
    "bmap = plot_coor_on_map(bmap,  \n",
    "                        train_df_small.loc[on_land, \"pickup_longitude\"].values,\n",
    "                        train_df_small.loc[on_land, \"pickup_latitude\"].values,\n",
    "                        marker=\"o\", s=1, c=\"k\", label=None)\n",
    "ax[0].set_title(\"On Land\")\n",
    "\n",
    "bmap = create_nyc_map(ax[1], LON_MIN-0.5, LON_MAX+0.5, LAT_MIN-0.5, LAT_MAX+0.5)\n",
    "bmap = plot_coor_on_map(bmap,  \n",
    "                        train_df_small.loc[on_water, \"pickup_longitude\"].values,\n",
    "                        train_df_small.loc[on_water, \"pickup_latitude\"].values,\n",
    "                        marker=\"o\", s=1, c=\"k\", label=None)\n",
    "ax[1].set_title(\"On Water\")"
   ]
  },
  {
   "cell_type": "code",
   "execution_count": 37,
   "metadata": {},
   "outputs": [
    {
     "data": {
      "text/plain": [
       "Text(0,0.5,'Density')"
      ]
     },
     "execution_count": 37,
     "metadata": {},
     "output_type": "execute_result"
    },
    {
     "data": {
      "image/png": "[encoded data removed]",
      "text/plain": [
       "<Figure size 432x288 with 1 Axes>"
      ]
     },
     "metadata": {},
     "output_type": "display_data"
    }
   ],
   "source": [
    "fig, ax = plt.subplots(nrows=1, ncols=1, figsize=(6, 4))\n",
    "sns.kdeplot(train_df_small.loc[train_df_small[\"on_land\"], \"fare_amount\"], ax=ax, label=\"On land\")\n",
    "sns.kdeplot(train_df_small.loc[~train_df_small[\"on_land\"], \"fare_amount\"], ax=ax, label=\"On water\")\n",
    "ax.set_xlim([0, 100])\n",
    "ax.set_xlabel(\"Fare\")\n",
    "ax.set_ylabel(\"Density\")"
   ]
  },
  {
   "cell_type": "markdown",
   "metadata": {},
   "source": [
    "The distribution of fare does not seem to be affected by whether pickup and/or dropoff locations are on land or on water. There are only about 0.3% of the taxi rides having pickup and/or dropoff locations on water and determining them are very computationally expensive. So we will ignore them. "
   ]
  },
  {
   "cell_type": "markdown",
   "metadata": {},
   "source": [
    "## Distance\n",
    "Let's calculate the geo distances from pickup and dropoff locations and see how they are related to `fare_amount`. The function below is based on https://stackoverflow.com/questions/27928/calculate-distance-between-two-latitude-longitude-points-haversine-formula"
   ]
  },
  {
   "cell_type": "code",
   "execution_count": 1,
   "metadata": {},
   "outputs": [],
   "source": [
    "# return distance in kilometer\n",
    "def distance(lon1, lat1, lon2, lat2):\n",
    "    lon1_rad = np.radians(lon1)\n",
    "    lat1_rad = np.radians(lat1)\n",
    "    lon2_rad = np.radians(lon2)\n",
    "    lat2_rad = np.radians(lat2)\n",
    "    \n",
    "    a = 0.5 - 0.5*np.cos(lat2_rad - lat1_rad) + np.cos(lat1_rad)*np.cos(lat2_rad)*(1 - np.cos(lon2_rad - lon1_rad))*0.5\n",
    "    return 12742 * np.arcsin(np.sqrt(a)) "
   ]
  },
  {
   "cell_type": "markdown",
   "metadata": {},
   "source": [
    "## Number of passenger"
   ]
  },
  {
   "cell_type": "code",
   "execution_count": 38,
   "metadata": {},
   "outputs": [
    {
     "name": "stdout",
     "output_type": "stream",
     "text": [
      "min 0\n",
      "max 208\n"
     ]
    }
   ],
   "source": [
    "print(\"min\", train_df[\"passenger_count\"].min())\n",
    "print(\"max\", train_df[\"passenger_count\"].max())"
   ]
  },
  {
   "cell_type": "code",
   "execution_count": 39,
   "metadata": {},
   "outputs": [
    {
     "name": "stdout",
     "output_type": "stream",
     "text": [
      "Number of rows with passenger_count greater than 5 is 1150268\n",
      "Number of rows with passenger_count greater than 6 is 65\n",
      "Number of rows with passenger_count greater than 7 is 52\n",
      "Number of rows with passenger_count greater than 10 is 24\n",
      "Number of rows with passenger_count greater than 20 is 24\n",
      "Number of rows with passenger_count greater than 50 is 24\n",
      "Number of rows with passenger_count greater than 100 is 24\n"
     ]
    }
   ],
   "source": [
    "for c in [5, 6, 7, 10, 20, 50, 100]:\n",
    "    print(\"Number of rows with passenger_count greater than %d is %d\" %(c, (train_df[\"passenger_count\"] > c).sum()))"
   ]
  },
  {
   "cell_type": "markdown",
   "metadata": {},
   "source": [
    "We decide to remove rows having `passenger_count` greater than 6."
   ]
  },
  {
   "cell_type": "code",
   "execution_count": 40,
   "metadata": {},
   "outputs": [
    {
     "name": "stdout",
     "output_type": "stream",
     "text": [
      "shape before dropping (54254567, 7)\n",
      "shape after dropping (54254502, 7)\n"
     ]
    }
   ],
   "source": [
    "print(\"shape before dropping\", train_df.shape)\n",
    "train_df = train_df[train_df[\"passenger_count\"] <= 6]\n",
    "print(\"shape after dropping\", train_df.shape)"
   ]
  },
  {
   "cell_type": "code",
   "execution_count": 60,
   "metadata": {},
   "outputs": [
    {
     "data": {
      "text/plain": [
       "Text(0,0.5,'frequency')"
      ]
     },
     "execution_count": 60,
     "metadata": {},
     "output_type": "execute_result"
    },
    {
     "data": {
      "image/png": "[encoded data removed]",
      "text/plain": [
       "<Figure size 432x288 with 1 Axes>"
      ]
     },
     "metadata": {},
     "output_type": "display_data"
    }
   ],
   "source": [
    "fig, ax = plt.subplots(nrows=1, ncols=1, figsize=(6, 4))\n",
    "train_df[\"passenger_count\"].value_counts().sort_index().plot(kind=\"bar\", ax=ax)\n",
    "ax.set_xlabel(\"passenger_count\")\n",
    "ax.set_ylabel(\"frequency\")"
   ]
  },
  {
   "cell_type": "code",
   "execution_count": 67,
   "metadata": {},
   "outputs": [
    {
     "data": {
      "text/plain": [
       "[Text(0,0,'0'),\n",
       " Text(0,0,'1'),\n",
       " Text(0,0,'2'),\n",
       " Text(0,0,'3'),\n",
       " Text(0,0,'4'),\n",
       " Text(0,0,'5'),\n",
       " Text(0,0,'6')]"
      ]
     },
     "execution_count": 67,
     "metadata": {},
     "output_type": "execute_result"
    },
    {
     "data": {
      "image/png": "[encoded data removed]",
      "text/plain": [
       "<Figure size 432x288 with 1 Axes>"
      ]
     },
     "metadata": {},
     "output_type": "display_data"
    }
   ],
   "source": [
    "fig, ax = plt.subplots(nrows=1, ncols=1, figsize=(6, 4))\n",
    "tmp = train_df[\"passenger_count\"].value_counts().sort_index()\n",
    "tmp.plot(kind=\"bar\", ax=ax)\n",
    "\n",
    "ax.set_xlabel(\"passenger_count\")\n",
    "ax.set_ylabel(\"frequency\")\n",
    "\n",
    "xticklabels = tmp.index.to_list()\n",
    "ax.set_xticklabels(xticklabels, rotation=0)"
   ]
  },
  {
   "cell_type": "markdown",
   "metadata": {},
   "source": [
    "## Save to csv"
   ]
  },
  {
   "cell_type": "code",
   "execution_count": 46,
   "metadata": {},
   "outputs": [],
   "source": [
    "train_df.to_csv(os.path.join(PROC_DIR, \"train_df.csv\"))"
   ]
  }
 ],
 "metadata": {
  "kernelspec": {
   "display_name": "Python 3",
   "language": "python",
   "name": "python3"
  },
  "language_info": {
   "codemirror_mode": {
    "name": "ipython",
    "version": 3
   },
   "file_extension": ".py",
   "mimetype": "text/x-python",
   "name": "python",
   "nbconvert_exporter": "python",
   "pygments_lexer": "ipython3",
   "version": "3.7.3"
  }
 },
 "nbformat": 4,
 "nbformat_minor": 2
}
