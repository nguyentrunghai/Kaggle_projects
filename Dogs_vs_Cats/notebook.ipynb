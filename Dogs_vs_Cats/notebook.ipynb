{
 "cells": [
  {
   "cell_type": "markdown",
   "metadata": {},
   "source": [
    "The dataset can be downloaded here:\n",
    "\n",
    "https://www.kaggle.com/c/dogs-vs-cats/data"
   ]
  },
  {
   "cell_type": "code",
   "execution_count": 56,
   "metadata": {},
   "outputs": [],
   "source": [
    "import os\n",
    "import glob\n",
    "import shutil\n",
    "from functools import partial\n",
    "\n",
    "from progressbar import ProgressBar\n",
    "import matplotlib.pyplot as plt\n",
    "\n",
    "import numpy as np\n",
    "import tensorflow as tf\n",
    "from tensorflow import keras"
   ]
  },
  {
   "cell_type": "code",
   "execution_count": 36,
   "metadata": {},
   "outputs": [],
   "source": [
    "INP_TRAIN_DIR = \"data/download/train\"\n",
    "INP_TEST_DIR = \"data/download/test1\"\n",
    "\n",
    "DATASET_DIR = \"data/dataset_\"\n",
    "\n",
    "MODEL_DIR = \"data/models_\""
   ]
  },
  {
   "cell_type": "code",
   "execution_count": 8,
   "metadata": {},
   "outputs": [
    {
     "data": {
      "text/plain": [
       "(12500, 12500, 12500)"
      ]
     },
     "execution_count": 8,
     "metadata": {},
     "output_type": "execute_result"
    }
   ],
   "source": [
    "train_dog_files = glob.glob(os.path.join(INP_TRAIN_DIR, \"dog*.jpg\"))\n",
    "train_cat_files = glob.glob(os.path.join(INP_TRAIN_DIR, \"cat*.jpg\"))\n",
    "\n",
    "np.random.seed(1)\n",
    "np.random.shuffle(train_dog_files)\n",
    "np.random.shuffle(train_cat_files)\n",
    "\n",
    "\n",
    "test_files = glob.glob(os.path.join(INP_TEST_DIR, \"*.jpg\"))\n",
    "\n",
    "len(train_dog_files), len(train_cat_files), len(test_files)"
   ]
  },
  {
   "cell_type": "code",
   "execution_count": 9,
   "metadata": {},
   "outputs": [
    {
     "data": {
      "text/plain": [
       "['data/download/train/dog.1094.jpg',\n",
       " 'data/download/train/dog.10705.jpg',\n",
       " 'data/download/train/dog.784.jpg',\n",
       " 'data/download/train/dog.669.jpg',\n",
       " 'data/download/train/dog.1588.jpg']"
      ]
     },
     "execution_count": 9,
     "metadata": {},
     "output_type": "execute_result"
    }
   ],
   "source": [
    "train_dog_files[:5]"
   ]
  },
  {
   "cell_type": "code",
   "execution_count": 10,
   "metadata": {},
   "outputs": [
    {
     "data": {
      "text/plain": [
       "['data/download/train/cat.5044.jpg',\n",
       " 'data/download/train/cat.6924.jpg',\n",
       " 'data/download/train/cat.3709.jpg',\n",
       " 'data/download/train/cat.5157.jpg',\n",
       " 'data/download/train/cat.9790.jpg']"
      ]
     },
     "execution_count": 10,
     "metadata": {},
     "output_type": "execute_result"
    }
   ],
   "source": [
    "train_cat_files[:5]"
   ]
  },
  {
   "cell_type": "code",
   "execution_count": 11,
   "metadata": {},
   "outputs": [
    {
     "data": {
      "text/plain": [
       "['data/download/test1/10447.jpg',\n",
       " 'data/download/test1/3337.jpg',\n",
       " 'data/download/test1/7556.jpg',\n",
       " 'data/download/test1/5646.jpg',\n",
       " 'data/download/test1/10264.jpg']"
      ]
     },
     "execution_count": 11,
     "metadata": {},
     "output_type": "execute_result"
    }
   ],
   "source": [
    "test_files[:5]"
   ]
  },
  {
   "cell_type": "markdown",
   "metadata": {},
   "source": [
    "Since the true labels for test set are not available from Kaggle page, we will split the original train set into `train`, `validation` and `test` sets."
   ]
  },
  {
   "cell_type": "code",
   "execution_count": 13,
   "metadata": {},
   "outputs": [],
   "source": [
    "TRAIN_SIZE = 20_000\n",
    "VAL_SIZE = 2500\n",
    "TEST_SIZE = 2500\n",
    "\n",
    "TRAIN_SIZE_HALF = TRAIN_SIZE // 2\n",
    "VAL_SIZE_HALF = VAL_SIZE // 2\n",
    "TEST_SIZE_HALF = TEST_SIZE // 2"
   ]
  },
  {
   "cell_type": "code",
   "execution_count": 14,
   "metadata": {},
   "outputs": [],
   "source": [
    "train_dir = os.path.join(DATASET_DIR, \"train\")\n",
    "valid_dir = os.path.join(DATASET_DIR, \"validation\")\n",
    "test_dir = os.path.join(DATASET_DIR, \"test\")\n",
    "\n",
    "train_cats_dir = os.path.join(train_dir, \"cats\")\n",
    "train_dogs_dir = os.path.join(train_dir, \"dogs\")\n",
    "os.makedirs(train_cats_dir, exist_ok=True)\n",
    "os.makedirs(train_dogs_dir, exist_ok=True)\n",
    "\n",
    "valid_cats_dir = os.path.join(valid_dir, \"cats\")\n",
    "valid_dogs_dir = os.path.join(valid_dir, \"dogs\")\n",
    "os.makedirs(valid_cats_dir, exist_ok=True)\n",
    "os.makedirs(valid_dogs_dir, exist_ok=True)\n",
    "\n",
    "test_cats_dir = os.path.join(test_dir, \"cats\")\n",
    "test_dogs_dir = os.path.join(test_dir, \"dogs\")\n",
    "os.makedirs(test_cats_dir, exist_ok=True)\n",
    "os.makedirs(test_dogs_dir, exist_ok=True)"
   ]
  },
  {
   "cell_type": "code",
   "execution_count": 16,
   "metadata": {},
   "outputs": [],
   "source": [
    "# copy files for train/dogs and train/cats\n",
    "for src in train_dog_files[: TRAIN_SIZE_HALF]:\n",
    "    fname = os.path.basename(src)\n",
    "    dst = os.path.join(train_dogs_dir, fname)\n",
    "    shutil.copyfile(src, dst)\n",
    "    \n",
    "for src in train_cat_files[: TRAIN_SIZE_HALF]:\n",
    "    fname = os.path.basename(src)\n",
    "    dst = os.path.join(train_cats_dir, fname)\n",
    "    shutil.copyfile(src, dst)"
   ]
  },
  {
   "cell_type": "code",
   "execution_count": 18,
   "metadata": {},
   "outputs": [],
   "source": [
    "# copy files for validation/dogs and validation/cats\n",
    "for src in train_dog_files[TRAIN_SIZE_HALF: TRAIN_SIZE_HALF + VAL_SIZE_HALF]:\n",
    "    fname = os.path.basename(src)\n",
    "    dst = os.path.join(valid_dogs_dir, fname)\n",
    "    shutil.copyfile(src, dst)\n",
    "    \n",
    "for src in train_cat_files[TRAIN_SIZE_HALF: TRAIN_SIZE_HALF + VAL_SIZE_HALF]:\n",
    "    fname = os.path.basename(src)\n",
    "    dst = os.path.join(valid_cats_dir, fname)\n",
    "    shutil.copyfile(src, dst)"
   ]
  },
  {
   "cell_type": "code",
   "execution_count": 19,
   "metadata": {},
   "outputs": [],
   "source": [
    "# copy files for test/dogs and test/cats\n",
    "for src in train_dog_files[TRAIN_SIZE_HALF + VAL_SIZE_HALF: ]:\n",
    "    fname = os.path.basename(src)\n",
    "    dst = os.path.join(test_dogs_dir, fname)\n",
    "    shutil.copyfile(src, dst)\n",
    "    \n",
    "for src in train_cat_files[TRAIN_SIZE_HALF + VAL_SIZE_HALF: ]:\n",
    "    fname = os.path.basename(src)\n",
    "    dst = os.path.join(test_cats_dir, fname)\n",
    "    shutil.copyfile(src, dst)"
   ]
  },
  {
   "cell_type": "code",
   "execution_count": 20,
   "metadata": {},
   "outputs": [
    {
     "data": {
      "text/plain": [
       "20000"
      ]
     },
     "execution_count": 20,
     "metadata": {},
     "output_type": "execute_result"
    }
   ],
   "source": [
    "train_files = glob.glob(os.path.join(train_dogs_dir, \"*.jpg\"))\n",
    "train_files += glob.glob(os.path.join(train_cats_dir, \"*.jpg\"))\n",
    "len(train_files)"
   ]
  },
  {
   "cell_type": "code",
   "execution_count": 22,
   "metadata": {},
   "outputs": [],
   "source": [
    "# hights and widths\n",
    "heights = []\n",
    "widths = []\n",
    "for fname in train_files:\n",
    "    img = keras.preprocessing.image.load_img(fname)\n",
    "    h, w, _ = keras.preprocessing.image.img_to_array(img).shape\n",
    "    heights.append(h)\n",
    "    widths.append(w)"
   ]
  },
  {
   "cell_type": "code",
   "execution_count": 23,
   "metadata": {},
   "outputs": [
    {
     "data": {
      "text/plain": [
       "(32, 768, 360.46485, 374.0)"
      ]
     },
     "execution_count": 23,
     "metadata": {},
     "output_type": "execute_result"
    }
   ],
   "source": [
    "np.min(heights), np.max(heights), np.mean(heights), np.median(heights)"
   ]
  },
  {
   "cell_type": "code",
   "execution_count": 24,
   "metadata": {},
   "outputs": [
    {
     "data": {
      "text/plain": [
       "(42, 1050, 403.9402, 447.0)"
      ]
     },
     "execution_count": 24,
     "metadata": {},
     "output_type": "execute_result"
    }
   ],
   "source": [
    "np.min(widths), np.max(widths), np.mean(widths), np.median(widths)"
   ]
  },
  {
   "cell_type": "code",
   "execution_count": 79,
   "metadata": {},
   "outputs": [],
   "source": [
    "#HEIGHT, WIDTH = 360, 400\n",
    "\n",
    "HEIGHT, WIDTH = 300, 300"
   ]
  },
  {
   "cell_type": "code",
   "execution_count": 26,
   "metadata": {},
   "outputs": [
    {
     "name": "stdout",
     "output_type": "stream",
     "text": [
      "Found 20000 images belonging to 2 classes.\n",
      "Found 2500 images belonging to 2 classes.\n",
      "Found 2500 images belonging to 2 classes.\n"
     ]
    }
   ],
   "source": [
    "tf.random.set_seed(42)\n",
    "np.random.seed(42)\n",
    "\n",
    "datagen = keras.preprocessing.image.ImageDataGenerator(rescale=1./255)\n",
    "\n",
    "batch_size = 50\n",
    "\n",
    "train_generator = datagen.flow_from_directory(train_dir, \n",
    "                                              target_size=(HEIGHT, WIDTH),\n",
    "                                              classes=[\"cats\", \"dogs\"], \n",
    "                                              class_mode=\"binary\",\n",
    "                                              batch_size=batch_size)\n",
    "\n",
    "valid_generator = datagen.flow_from_directory(valid_dir, \n",
    "                                              target_size=(HEIGHT, WIDTH),\n",
    "                                              classes=[\"cats\", \"dogs\"], \n",
    "                                              class_mode=\"binary\",\n",
    "                                              batch_size=batch_size)\n",
    "\n",
    "test_generator = datagen.flow_from_directory(test_dir, \n",
    "                                              target_size=(HEIGHT, WIDTH),\n",
    "                                              classes=[\"cats\", \"dogs\"], \n",
    "                                              class_mode=\"binary\",\n",
    "                                              batch_size=batch_size)"
   ]
  },
  {
   "cell_type": "code",
   "execution_count": 27,
   "metadata": {},
   "outputs": [],
   "source": [
    "example = next(iter(train_generator))"
   ]
  },
  {
   "cell_type": "code",
   "execution_count": 29,
   "metadata": {},
   "outputs": [
    {
     "data": {
      "text/plain": [
       "(50, 360, 400, 3)"
      ]
     },
     "execution_count": 29,
     "metadata": {},
     "output_type": "execute_result"
    }
   ],
   "source": [
    "# figures in first batch\n",
    "example[0].shape"
   ]
  },
  {
   "cell_type": "code",
   "execution_count": 30,
   "metadata": {},
   "outputs": [
    {
     "data": {
      "text/plain": [
       "(50,)"
      ]
     },
     "execution_count": 30,
     "metadata": {},
     "output_type": "execute_result"
    }
   ],
   "source": [
    "# labels in first batch\n",
    "example[1].shape"
   ]
  },
  {
   "cell_type": "code",
   "execution_count": 31,
   "metadata": {},
   "outputs": [
    {
     "data": {
      "text/plain": [
       "{'cats': 0, 'dogs': 1}"
      ]
     },
     "execution_count": 31,
     "metadata": {},
     "output_type": "execute_result"
    }
   ],
   "source": [
    "train_generator.class_indices"
   ]
  },
  {
   "cell_type": "code",
   "execution_count": null,
   "metadata": {},
   "outputs": [],
   "source": []
  },
  {
   "cell_type": "markdown",
   "metadata": {},
   "source": [
    "# Model 1"
   ]
  },
  {
   "cell_type": "code",
   "execution_count": 34,
   "metadata": {},
   "outputs": [
    {
     "name": "stdout",
     "output_type": "stream",
     "text": [
      "Model: \"sequential\"\n",
      "_________________________________________________________________\n",
      "Layer (type)                 Output Shape              Param #   \n",
      "=================================================================\n",
      "conv2d (Conv2D)              (None, 358, 398, 32)      896       \n",
      "_________________________________________________________________\n",
      "max_pooling2d (MaxPooling2D) (None, 179, 199, 32)      0         \n",
      "_________________________________________________________________\n",
      "conv2d_1 (Conv2D)            (None, 177, 197, 64)      18496     \n",
      "_________________________________________________________________\n",
      "max_pooling2d_1 (MaxPooling2 (None, 88, 98, 64)        0         \n",
      "_________________________________________________________________\n",
      "conv2d_2 (Conv2D)            (None, 86, 96, 128)       73856     \n",
      "_________________________________________________________________\n",
      "max_pooling2d_2 (MaxPooling2 (None, 43, 48, 128)       0         \n",
      "_________________________________________________________________\n",
      "conv2d_3 (Conv2D)            (None, 41, 46, 128)       147584    \n",
      "_________________________________________________________________\n",
      "max_pooling2d_3 (MaxPooling2 (None, 20, 23, 128)       0         \n",
      "_________________________________________________________________\n",
      "conv2d_4 (Conv2D)            (None, 18, 21, 256)       295168    \n",
      "_________________________________________________________________\n",
      "max_pooling2d_4 (MaxPooling2 (None, 9, 10, 256)        0         \n",
      "_________________________________________________________________\n",
      "flatten (Flatten)            (None, 23040)             0         \n",
      "_________________________________________________________________\n",
      "dropout (Dropout)            (None, 23040)             0         \n",
      "_________________________________________________________________\n",
      "dense (Dense)                (None, 512)               11796992  \n",
      "_________________________________________________________________\n",
      "dense_1 (Dense)              (None, 1)                 513       \n",
      "=================================================================\n",
      "Total params: 12,333,505\n",
      "Trainable params: 12,333,505\n",
      "Non-trainable params: 0\n",
      "_________________________________________________________________\n"
     ]
    }
   ],
   "source": [
    "keras.backend.clear_session()\n",
    "tf.random.set_seed(42)\n",
    "np.random.seed(42)\n",
    "\n",
    "model = keras.models.Sequential()\n",
    "\n",
    "model.add(keras.layers.Conv2D(32, (3, 3), activation=\"relu\", input_shape=(HEIGHT, WIDTH, 3)))\n",
    "model.add(keras.layers.MaxPooling2D((2, 2)))\n",
    "\n",
    "model.add(keras.layers.Conv2D(64, (3, 3), activation=\"relu\"))\n",
    "model.add(keras.layers.MaxPooling2D((2, 2)))\n",
    "\n",
    "model.add(keras.layers.Conv2D(128, (3, 3), activation=\"relu\"))\n",
    "model.add(keras.layers.MaxPooling2D((2, 2)))\n",
    "\n",
    "model.add(keras.layers.Conv2D(128, (3, 3), activation=\"relu\"))\n",
    "model.add(keras.layers.MaxPooling2D((2, 2)))\n",
    "\n",
    "model.add(keras.layers.Conv2D(256, (3, 3), activation=\"relu\"))\n",
    "model.add(keras.layers.MaxPooling2D((2, 2)))\n",
    "\n",
    "model.add(keras.layers.Flatten())\n",
    "model.add(keras.layers.Dropout(0.5))\n",
    "\n",
    "model.add(keras.layers.Dense(512, activation=\"relu\"))\n",
    "model.add(keras.layers.Dense(1, activation=\"sigmoid\"))\n",
    "\n",
    "model.summary()"
   ]
  },
  {
   "cell_type": "code",
   "execution_count": 35,
   "metadata": {},
   "outputs": [],
   "source": [
    "model.compile(loss=\"binary_crossentropy\", \n",
    "              optimizer=keras.optimizers.RMSprop(lr=1e-4), \n",
    "              metrics=[\"acc\"])"
   ]
  },
  {
   "cell_type": "code",
   "execution_count": 40,
   "metadata": {},
   "outputs": [
    {
     "name": "stdout",
     "output_type": "stream",
     "text": [
      "Epoch 1/100\n",
      "  2/400 [..............................] - ETA: 56s - loss: 0.6061 - acc: 0.6400WARNING:tensorflow:Callbacks method `on_train_batch_end` is slow compared to the batch time (batch time: 0.0912s vs `on_train_batch_end` time: 0.1927s). Check your callbacks.\n",
      "400/400 [==============================] - 126s 315ms/step - loss: 0.5619 - acc: 0.7053 - val_loss: 0.5134 - val_acc: 0.7504\n",
      "Epoch 2/100\n",
      "400/400 [==============================] - 126s 315ms/step - loss: 0.4830 - acc: 0.7678 - val_loss: 0.4664 - val_acc: 0.7876\n",
      "Epoch 3/100\n",
      "400/400 [==============================] - 126s 316ms/step - loss: 0.4290 - acc: 0.7990 - val_loss: 0.4637 - val_acc: 0.7868\n",
      "Epoch 4/100\n",
      "400/400 [==============================] - 126s 316ms/step - loss: 0.3925 - acc: 0.8242 - val_loss: 0.4078 - val_acc: 0.8236\n",
      "Epoch 5/100\n",
      "400/400 [==============================] - 126s 316ms/step - loss: 0.3598 - acc: 0.8382 - val_loss: 0.3768 - val_acc: 0.8400\n",
      "Epoch 6/100\n",
      "400/400 [==============================] - 126s 316ms/step - loss: 0.3345 - acc: 0.8518 - val_loss: 0.3839 - val_acc: 0.8300\n",
      "Epoch 7/100\n",
      "400/400 [==============================] - 126s 316ms/step - loss: 0.3072 - acc: 0.8658 - val_loss: 0.3665 - val_acc: 0.8392\n",
      "Epoch 8/100\n",
      "400/400 [==============================] - 126s 316ms/step - loss: 0.2831 - acc: 0.8794 - val_loss: 0.3298 - val_acc: 0.8644\n",
      "Epoch 9/100\n",
      "400/400 [==============================] - 126s 316ms/step - loss: 0.2671 - acc: 0.8874 - val_loss: 0.3663 - val_acc: 0.8472\n",
      "Epoch 10/100\n",
      "400/400 [==============================] - 126s 316ms/step - loss: 0.2490 - acc: 0.8959 - val_loss: 0.3400 - val_acc: 0.8560\n",
      "Epoch 11/100\n",
      "400/400 [==============================] - 126s 316ms/step - loss: 0.2327 - acc: 0.9038 - val_loss: 0.3300 - val_acc: 0.8688\n",
      "Epoch 12/100\n",
      "400/400 [==============================] - 127s 317ms/step - loss: 0.2105 - acc: 0.9122 - val_loss: 0.3004 - val_acc: 0.8740\n",
      "Epoch 13/100\n",
      "400/400 [==============================] - 127s 316ms/step - loss: 0.1955 - acc: 0.9191 - val_loss: 0.3147 - val_acc: 0.8748\n",
      "Epoch 14/100\n",
      "400/400 [==============================] - 127s 316ms/step - loss: 0.1795 - acc: 0.9275 - val_loss: 0.3159 - val_acc: 0.8756\n",
      "Epoch 15/100\n",
      "400/400 [==============================] - 127s 317ms/step - loss: 0.1694 - acc: 0.9323 - val_loss: 0.3155 - val_acc: 0.8732\n",
      "Epoch 16/100\n",
      "400/400 [==============================] - 127s 316ms/step - loss: 0.1540 - acc: 0.9377 - val_loss: 0.2926 - val_acc: 0.8840\n",
      "Epoch 17/100\n",
      "400/400 [==============================] - 126s 316ms/step - loss: 0.1458 - acc: 0.9414 - val_loss: 0.2949 - val_acc: 0.8848\n",
      "Epoch 18/100\n",
      "400/400 [==============================] - 127s 316ms/step - loss: 0.1313 - acc: 0.9472 - val_loss: 0.3178 - val_acc: 0.8876\n",
      "Epoch 19/100\n",
      "400/400 [==============================] - 126s 316ms/step - loss: 0.1217 - acc: 0.9532 - val_loss: 0.3117 - val_acc: 0.8908\n",
      "Epoch 20/100\n",
      "400/400 [==============================] - 127s 316ms/step - loss: 0.1134 - acc: 0.9558 - val_loss: 0.3264 - val_acc: 0.8768\n",
      "Epoch 21/100\n",
      "400/400 [==============================] - 127s 317ms/step - loss: 0.1053 - acc: 0.9584 - val_loss: 0.3156 - val_acc: 0.8860\n",
      "Epoch 22/100\n",
      "400/400 [==============================] - 127s 316ms/step - loss: 0.0950 - acc: 0.9624 - val_loss: 0.3175 - val_acc: 0.8920\n",
      "Epoch 23/100\n",
      "400/400 [==============================] - 127s 316ms/step - loss: 0.0925 - acc: 0.9648 - val_loss: 0.4826 - val_acc: 0.8516\n",
      "Epoch 24/100\n",
      "400/400 [==============================] - 127s 317ms/step - loss: 0.0852 - acc: 0.9668 - val_loss: 0.3426 - val_acc: 0.8888\n",
      "Epoch 25/100\n",
      "400/400 [==============================] - 127s 316ms/step - loss: 0.0769 - acc: 0.9698 - val_loss: 0.3879 - val_acc: 0.8896\n",
      "Epoch 26/100\n",
      "400/400 [==============================] - 126s 316ms/step - loss: 0.0735 - acc: 0.9716 - val_loss: 0.3348 - val_acc: 0.8952\n"
     ]
    }
   ],
   "source": [
    "model_file = os.path.join(MODEL_DIR, \"dogcat_model_01.h5\")\n",
    "\n",
    "early_stopping_cb = keras.callbacks.EarlyStopping(patience=10, restore_best_weights=True)\n",
    "#chkp_cb = keras.callbacks.ModelCheckpoint(model_file, save_best_only=True)\n",
    "\n",
    "history = model.fit_generator(train_generator, \n",
    "                              steps_per_epoch=TRAIN_SIZE // batch_size, \n",
    "                              epochs=100,\n",
    "                              validation_data=valid_generator, \n",
    "                              validation_steps=VAL_SIZE // batch_size,\n",
    "                              callbacks=[early_stopping_cb])\n",
    "\n",
    "model.save(model_file)"
   ]
  },
  {
   "cell_type": "code",
   "execution_count": 42,
   "metadata": {},
   "outputs": [
    {
     "data": {
      "text/plain": [
       "<matplotlib.legend.Legend at 0x7f6adf956e10>"
      ]
     },
     "execution_count": 42,
     "metadata": {},
     "output_type": "execute_result"
    },
    {
     "data": {
      "image/png": "[encoded data removed]",
      "text/plain": [
       "<Figure size 720x288 with 2 Axes>"
      ]
     },
     "metadata": {
      "needs_background": "light"
     },
     "output_type": "display_data"
    }
   ],
   "source": [
    "fig, ax = plt.subplots(nrows=1, ncols=2, figsize=(10, 4))\n",
    "\n",
    "ax[0].plot(history.history[\"loss\"], label=\"loss\")\n",
    "ax[0].plot(history.history[\"val_loss\"], label=\"val_loss\")\n",
    "ax[0].legend()\n",
    "\n",
    "ax[1].plot(history.history[\"acc\"], label=\"acc\")\n",
    "ax[1].plot(history.history[\"val_acc\"], label=\"val_acc\")\n",
    "ax[1].legend()"
   ]
  },
  {
   "cell_type": "code",
   "execution_count": 46,
   "metadata": {},
   "outputs": [
    {
     "name": "stdout",
     "output_type": "stream",
     "text": [
      "Train acc: 0.9704\n",
      "Validation acc: 0.8840\n",
      "Test acc: 0.8836\n"
     ]
    }
   ],
   "source": [
    "_, acc_train = model.evaluate(train_generator, steps=TRAIN_SIZE // batch_size, verbose=0)\n",
    "print(\"Train acc: %0.4f\" %acc_train)\n",
    "\n",
    "\n",
    "_, acc_val = model.evaluate(valid_generator, steps=VAL_SIZE // batch_size, verbose=0)\n",
    "print(\"Validation acc: %0.4f\" %acc_val)\n",
    "\n",
    "\n",
    "_, acc_test = model.evaluate(test_generator, steps=TEST_SIZE // batch_size, verbose=0)\n",
    "print(\"Test acc: %0.4f\" %acc_test)"
   ]
  },
  {
   "cell_type": "markdown",
   "metadata": {},
   "source": [
    "# Data augmentation\n",
    "\n",
    "by random rotation, shifting, shearing and zooming."
   ]
  },
  {
   "cell_type": "code",
   "execution_count": 47,
   "metadata": {},
   "outputs": [
    {
     "name": "stdout",
     "output_type": "stream",
     "text": [
      "Found 20000 images belonging to 2 classes.\n",
      "Found 2500 images belonging to 2 classes.\n",
      "Found 2500 images belonging to 2 classes.\n"
     ]
    }
   ],
   "source": [
    "tf.random.set_seed(42)\n",
    "np.random.seed(42)\n",
    "\n",
    "train_datagen = keras.preprocessing.image.ImageDataGenerator(rescale=1./255,\n",
    "                                                            rotation_range=40,\n",
    "                                                            width_shift_range=0.2,\n",
    "                                                            height_shift_range=0.2,\n",
    "                                                            shear_range=0.2,\n",
    "                                                            zoom_range=0.2,\n",
    "                                                            horizontal_flip=True)\n",
    "\n",
    "test_datagen = keras.preprocessing.image.ImageDataGenerator(rescale=1./255)\n",
    "\n",
    "batch_size = 50\n",
    "\n",
    "train_generator = train_datagen.flow_from_directory(train_dir, \n",
    "                                              target_size=(HEIGHT, WIDTH),\n",
    "                                              classes=[\"cats\", \"dogs\"], \n",
    "                                              class_mode=\"binary\",\n",
    "                                              batch_size=batch_size)\n",
    "\n",
    "valid_generator = test_datagen.flow_from_directory(valid_dir, \n",
    "                                              target_size=(HEIGHT, WIDTH),\n",
    "                                              classes=[\"cats\", \"dogs\"], \n",
    "                                              class_mode=\"binary\",\n",
    "                                              batch_size=batch_size)\n",
    "\n",
    "test_generator = test_datagen.flow_from_directory(test_dir, \n",
    "                                              target_size=(HEIGHT, WIDTH),\n",
    "                                              classes=[\"cats\", \"dogs\"], \n",
    "                                              class_mode=\"binary\",\n",
    "                                              batch_size=batch_size)"
   ]
  },
  {
   "cell_type": "code",
   "execution_count": 48,
   "metadata": {},
   "outputs": [
    {
     "name": "stdout",
     "output_type": "stream",
     "text": [
      "Model: \"sequential\"\n",
      "_________________________________________________________________\n",
      "Layer (type)                 Output Shape              Param #   \n",
      "=================================================================\n",
      "conv2d (Conv2D)              (None, 358, 398, 32)      896       \n",
      "_________________________________________________________________\n",
      "max_pooling2d (MaxPooling2D) (None, 179, 199, 32)      0         \n",
      "_________________________________________________________________\n",
      "conv2d_1 (Conv2D)            (None, 177, 197, 64)      18496     \n",
      "_________________________________________________________________\n",
      "max_pooling2d_1 (MaxPooling2 (None, 88, 98, 64)        0         \n",
      "_________________________________________________________________\n",
      "conv2d_2 (Conv2D)            (None, 86, 96, 128)       73856     \n",
      "_________________________________________________________________\n",
      "max_pooling2d_2 (MaxPooling2 (None, 43, 48, 128)       0         \n",
      "_________________________________________________________________\n",
      "conv2d_3 (Conv2D)            (None, 41, 46, 128)       147584    \n",
      "_________________________________________________________________\n",
      "max_pooling2d_3 (MaxPooling2 (None, 20, 23, 128)       0         \n",
      "_________________________________________________________________\n",
      "conv2d_4 (Conv2D)            (None, 18, 21, 256)       295168    \n",
      "_________________________________________________________________\n",
      "max_pooling2d_4 (MaxPooling2 (None, 9, 10, 256)        0         \n",
      "_________________________________________________________________\n",
      "flatten (Flatten)            (None, 23040)             0         \n",
      "_________________________________________________________________\n",
      "dropout (Dropout)            (None, 23040)             0         \n",
      "_________________________________________________________________\n",
      "dense (Dense)                (None, 512)               11796992  \n",
      "_________________________________________________________________\n",
      "dense_1 (Dense)              (None, 1)                 513       \n",
      "=================================================================\n",
      "Total params: 12,333,505\n",
      "Trainable params: 12,333,505\n",
      "Non-trainable params: 0\n",
      "_________________________________________________________________\n"
     ]
    }
   ],
   "source": [
    "keras.backend.clear_session()\n",
    "tf.random.set_seed(42)\n",
    "np.random.seed(42)\n",
    "\n",
    "model = keras.models.Sequential()\n",
    "\n",
    "model.add(keras.layers.Conv2D(32, (3, 3), activation=\"relu\", input_shape=(HEIGHT, WIDTH, 3)))\n",
    "model.add(keras.layers.MaxPooling2D((2, 2)))\n",
    "\n",
    "model.add(keras.layers.Conv2D(64, (3, 3), activation=\"relu\"))\n",
    "model.add(keras.layers.MaxPooling2D((2, 2)))\n",
    "\n",
    "model.add(keras.layers.Conv2D(128, (3, 3), activation=\"relu\"))\n",
    "model.add(keras.layers.MaxPooling2D((2, 2)))\n",
    "\n",
    "model.add(keras.layers.Conv2D(128, (3, 3), activation=\"relu\"))\n",
    "model.add(keras.layers.MaxPooling2D((2, 2)))\n",
    "\n",
    "model.add(keras.layers.Conv2D(256, (3, 3), activation=\"relu\"))\n",
    "model.add(keras.layers.MaxPooling2D((2, 2)))\n",
    "\n",
    "model.add(keras.layers.Flatten())\n",
    "model.add(keras.layers.Dropout(0.5))\n",
    "\n",
    "model.add(keras.layers.Dense(512, activation=\"relu\"))\n",
    "model.add(keras.layers.Dense(1, activation=\"sigmoid\"))\n",
    "\n",
    "model.summary()"
   ]
  },
  {
   "cell_type": "code",
   "execution_count": 49,
   "metadata": {},
   "outputs": [
    {
     "name": "stdout",
     "output_type": "stream",
     "text": [
      "Epoch 1/100\n",
      "400/400 [==============================] - 651s 2s/step - loss: 0.6475 - acc: 0.6095 - val_loss: 0.5617 - val_acc: 0.7180\n",
      "Epoch 2/100\n",
      "400/400 [==============================] - 651s 2s/step - loss: 0.5826 - acc: 0.6870 - val_loss: 0.5345 - val_acc: 0.7228\n",
      "Epoch 3/100\n",
      "400/400 [==============================] - 651s 2s/step - loss: 0.5525 - acc: 0.7165 - val_loss: 0.4944 - val_acc: 0.7596\n",
      "Epoch 4/100\n",
      "400/400 [==============================] - 650s 2s/step - loss: 0.5296 - acc: 0.7336 - val_loss: 0.5157 - val_acc: 0.7372\n",
      "Epoch 5/100\n",
      "400/400 [==============================] - 651s 2s/step - loss: 0.5119 - acc: 0.7506 - val_loss: 0.4635 - val_acc: 0.7812\n",
      "Epoch 6/100\n",
      "400/400 [==============================] - 650s 2s/step - loss: 0.4976 - acc: 0.7567 - val_loss: 0.4457 - val_acc: 0.7824\n",
      "Epoch 7/100\n",
      "400/400 [==============================] - 650s 2s/step - loss: 0.4766 - acc: 0.7701 - val_loss: 0.4896 - val_acc: 0.7728\n",
      "Epoch 8/100\n",
      "400/400 [==============================] - 650s 2s/step - loss: 0.4607 - acc: 0.7812 - val_loss: 0.4172 - val_acc: 0.8136\n",
      "Epoch 9/100\n",
      "400/400 [==============================] - 650s 2s/step - loss: 0.4469 - acc: 0.7919 - val_loss: 0.4311 - val_acc: 0.8048\n",
      "Epoch 10/100\n",
      "400/400 [==============================] - 650s 2s/step - loss: 0.4375 - acc: 0.7977 - val_loss: 0.3940 - val_acc: 0.8308\n",
      "Epoch 11/100\n",
      "400/400 [==============================] - 651s 2s/step - loss: 0.4232 - acc: 0.8027 - val_loss: 0.4152 - val_acc: 0.8220\n",
      "Epoch 12/100\n",
      "400/400 [==============================] - 650s 2s/step - loss: 0.4141 - acc: 0.8109 - val_loss: 0.4085 - val_acc: 0.8184\n",
      "Epoch 13/100\n",
      "400/400 [==============================] - 650s 2s/step - loss: 0.3983 - acc: 0.8214 - val_loss: 0.3483 - val_acc: 0.8552\n",
      "Epoch 14/100\n",
      "400/400 [==============================] - 650s 2s/step - loss: 0.3880 - acc: 0.8269 - val_loss: 0.3586 - val_acc: 0.8416\n",
      "Epoch 15/100\n",
      "400/400 [==============================] - 651s 2s/step - loss: 0.3771 - acc: 0.8325 - val_loss: 0.3246 - val_acc: 0.8664\n",
      "Epoch 16/100\n",
      "400/400 [==============================] - 651s 2s/step - loss: 0.3684 - acc: 0.8383 - val_loss: 0.3195 - val_acc: 0.8676\n",
      "Epoch 17/100\n",
      "400/400 [==============================] - 650s 2s/step - loss: 0.3564 - acc: 0.8451 - val_loss: 0.3310 - val_acc: 0.8620\n",
      "Epoch 18/100\n",
      "400/400 [==============================] - 650s 2s/step - loss: 0.3489 - acc: 0.8468 - val_loss: 0.3175 - val_acc: 0.8724\n",
      "Epoch 19/100\n",
      "400/400 [==============================] - 650s 2s/step - loss: 0.3373 - acc: 0.8510 - val_loss: 0.4151 - val_acc: 0.8344\n",
      "Epoch 20/100\n",
      "400/400 [==============================] - 651s 2s/step - loss: 0.3300 - acc: 0.8555 - val_loss: 0.3080 - val_acc: 0.8672\n",
      "Epoch 21/100\n",
      "400/400 [==============================] - 650s 2s/step - loss: 0.3166 - acc: 0.8620 - val_loss: 0.3340 - val_acc: 0.8636\n",
      "Epoch 22/100\n",
      "400/400 [==============================] - 651s 2s/step - loss: 0.3129 - acc: 0.8622 - val_loss: 0.3273 - val_acc: 0.8576\n",
      "Epoch 23/100\n",
      "400/400 [==============================] - 650s 2s/step - loss: 0.3049 - acc: 0.8706 - val_loss: 0.2920 - val_acc: 0.8796\n",
      "Epoch 24/100\n",
      "400/400 [==============================] - 650s 2s/step - loss: 0.2937 - acc: 0.8749 - val_loss: 0.2557 - val_acc: 0.8988\n",
      "Epoch 25/100\n",
      "400/400 [==============================] - 651s 2s/step - loss: 0.2897 - acc: 0.8755 - val_loss: 0.2829 - val_acc: 0.8876\n",
      "Epoch 26/100\n",
      "400/400 [==============================] - 651s 2s/step - loss: 0.2813 - acc: 0.8801 - val_loss: 0.4010 - val_acc: 0.8320\n",
      "Epoch 27/100\n",
      "400/400 [==============================] - 650s 2s/step - loss: 0.2724 - acc: 0.8864 - val_loss: 0.2727 - val_acc: 0.9012\n",
      "Epoch 28/100\n",
      "400/400 [==============================] - 651s 2s/step - loss: 0.2699 - acc: 0.8841 - val_loss: 0.2116 - val_acc: 0.9148\n",
      "Epoch 29/100\n",
      "400/400 [==============================] - 651s 2s/step - loss: 0.2711 - acc: 0.8848 - val_loss: 0.2434 - val_acc: 0.9012\n",
      "Epoch 30/100\n",
      "400/400 [==============================] - 651s 2s/step - loss: 0.2584 - acc: 0.8917 - val_loss: 0.3200 - val_acc: 0.8884\n",
      "Epoch 31/100\n",
      "400/400 [==============================] - 651s 2s/step - loss: 0.2567 - acc: 0.8941 - val_loss: 0.2161 - val_acc: 0.9160\n",
      "Epoch 32/100\n",
      "400/400 [==============================] - 651s 2s/step - loss: 0.2515 - acc: 0.8940 - val_loss: 0.2106 - val_acc: 0.9176\n",
      "Epoch 33/100\n",
      "400/400 [==============================] - 651s 2s/step - loss: 0.2460 - acc: 0.8980 - val_loss: 0.1972 - val_acc: 0.9208\n",
      "Epoch 34/100\n",
      "400/400 [==============================] - 650s 2s/step - loss: 0.2358 - acc: 0.9018 - val_loss: 0.4338 - val_acc: 0.8592\n",
      "Epoch 35/100\n",
      "400/400 [==============================] - 651s 2s/step - loss: 0.2430 - acc: 0.8989 - val_loss: 0.1936 - val_acc: 0.9228\n",
      "Epoch 36/100\n",
      "400/400 [==============================] - 650s 2s/step - loss: 0.2377 - acc: 0.8988 - val_loss: 0.1880 - val_acc: 0.9308\n",
      "Epoch 37/100\n",
      "400/400 [==============================] - 651s 2s/step - loss: 0.2324 - acc: 0.9033 - val_loss: 0.1906 - val_acc: 0.9264\n",
      "Epoch 38/100\n",
      "400/400 [==============================] - 651s 2s/step - loss: 0.2301 - acc: 0.9055 - val_loss: 0.2077 - val_acc: 0.9216\n",
      "Epoch 39/100\n",
      "400/400 [==============================] - 650s 2s/step - loss: 0.2306 - acc: 0.9035 - val_loss: 0.1954 - val_acc: 0.9304\n",
      "Epoch 40/100\n",
      "400/400 [==============================] - 651s 2s/step - loss: 0.2263 - acc: 0.9086 - val_loss: 0.2041 - val_acc: 0.9212\n",
      "Epoch 41/100\n",
      "400/400 [==============================] - 651s 2s/step - loss: 0.2148 - acc: 0.9101 - val_loss: 0.2189 - val_acc: 0.9096\n",
      "Epoch 42/100\n",
      "400/400 [==============================] - 651s 2s/step - loss: 0.2180 - acc: 0.9096 - val_loss: 0.2075 - val_acc: 0.9240\n",
      "Epoch 43/100\n",
      "400/400 [==============================] - 651s 2s/step - loss: 0.2235 - acc: 0.9086 - val_loss: 0.2591 - val_acc: 0.9044\n",
      "Epoch 44/100\n",
      "400/400 [==============================] - 650s 2s/step - loss: 0.2215 - acc: 0.9089 - val_loss: 0.1669 - val_acc: 0.9368\n",
      "Epoch 45/100\n",
      "400/400 [==============================] - 650s 2s/step - loss: 0.2207 - acc: 0.9088 - val_loss: 0.1668 - val_acc: 0.9368\n",
      "Epoch 46/100\n",
      "400/400 [==============================] - 651s 2s/step - loss: 0.2102 - acc: 0.9121 - val_loss: 0.1815 - val_acc: 0.9348\n",
      "Epoch 47/100\n",
      "400/400 [==============================] - 651s 2s/step - loss: 0.2121 - acc: 0.9136 - val_loss: 0.1785 - val_acc: 0.9288\n",
      "Epoch 48/100\n",
      "400/400 [==============================] - 651s 2s/step - loss: 0.2106 - acc: 0.9151 - val_loss: 0.1682 - val_acc: 0.9332\n",
      "Epoch 49/100\n",
      "400/400 [==============================] - 651s 2s/step - loss: 0.2105 - acc: 0.9146 - val_loss: 0.1826 - val_acc: 0.9300\n",
      "Epoch 50/100\n",
      "400/400 [==============================] - 651s 2s/step - loss: 0.2068 - acc: 0.9169 - val_loss: 0.2786 - val_acc: 0.9104\n",
      "Epoch 51/100\n",
      "400/400 [==============================] - 651s 2s/step - loss: 0.2039 - acc: 0.9175 - val_loss: 0.1808 - val_acc: 0.9280\n",
      "Epoch 52/100\n",
      "400/400 [==============================] - 650s 2s/step - loss: 0.2075 - acc: 0.9147 - val_loss: 0.1638 - val_acc: 0.9344\n",
      "Epoch 53/100\n",
      "400/400 [==============================] - 651s 2s/step - loss: 0.2056 - acc: 0.9145 - val_loss: 0.1763 - val_acc: 0.9336\n",
      "Epoch 54/100\n",
      "400/400 [==============================] - 668s 2s/step - loss: 0.2059 - acc: 0.9165 - val_loss: 0.1845 - val_acc: 0.9288\n",
      "Epoch 55/100\n",
      "400/400 [==============================] - 651s 2s/step - loss: 0.2059 - acc: 0.9175 - val_loss: 0.1719 - val_acc: 0.9276\n",
      "Epoch 56/100\n",
      "400/400 [==============================] - 651s 2s/step - loss: 0.2035 - acc: 0.9168 - val_loss: 0.3598 - val_acc: 0.8832\n",
      "Epoch 57/100\n",
      "400/400 [==============================] - 650s 2s/step - loss: 0.1994 - acc: 0.9207 - val_loss: 0.2929 - val_acc: 0.9036\n",
      "Epoch 58/100\n",
      "400/400 [==============================] - 650s 2s/step - loss: 0.2024 - acc: 0.9183 - val_loss: 0.1640 - val_acc: 0.9408\n",
      "Epoch 59/100\n",
      "400/400 [==============================] - 651s 2s/step - loss: 0.1997 - acc: 0.9198 - val_loss: 0.1563 - val_acc: 0.9372\n",
      "Epoch 60/100\n",
      "400/400 [==============================] - 651s 2s/step - loss: 0.2005 - acc: 0.9198 - val_loss: 0.2321 - val_acc: 0.9056\n",
      "Epoch 61/100\n",
      "400/400 [==============================] - 652s 2s/step - loss: 0.2058 - acc: 0.9175 - val_loss: 0.1541 - val_acc: 0.9420\n"
     ]
    },
    {
     "name": "stdout",
     "output_type": "stream",
     "text": [
      "Epoch 62/100\n",
      "400/400 [==============================] - 651s 2s/step - loss: 0.2025 - acc: 0.9190 - val_loss: 0.1901 - val_acc: 0.9244\n",
      "Epoch 63/100\n",
      "400/400 [==============================] - 651s 2s/step - loss: 0.2020 - acc: 0.9172 - val_loss: 0.1543 - val_acc: 0.9416\n",
      "Epoch 64/100\n",
      "400/400 [==============================] - 651s 2s/step - loss: 0.1978 - acc: 0.9200 - val_loss: 0.2509 - val_acc: 0.9088\n",
      "Epoch 65/100\n",
      "400/400 [==============================] - 652s 2s/step - loss: 0.1963 - acc: 0.9208 - val_loss: 0.1589 - val_acc: 0.9428\n",
      "Epoch 66/100\n",
      "400/400 [==============================] - 652s 2s/step - loss: 0.1979 - acc: 0.9204 - val_loss: 0.1732 - val_acc: 0.9364\n",
      "Epoch 67/100\n",
      "400/400 [==============================] - 651s 2s/step - loss: 0.1968 - acc: 0.9210 - val_loss: 0.1599 - val_acc: 0.9468\n",
      "Epoch 68/100\n",
      "400/400 [==============================] - 652s 2s/step - loss: 0.2004 - acc: 0.9176 - val_loss: 0.1444 - val_acc: 0.9448\n",
      "Epoch 69/100\n",
      "400/400 [==============================] - 652s 2s/step - loss: 0.1969 - acc: 0.9209 - val_loss: 0.1477 - val_acc: 0.9404\n",
      "Epoch 70/100\n",
      "400/400 [==============================] - 652s 2s/step - loss: 0.2023 - acc: 0.9197 - val_loss: 0.2448 - val_acc: 0.9016\n",
      "Epoch 71/100\n",
      "400/400 [==============================] - 651s 2s/step - loss: 0.1994 - acc: 0.9195 - val_loss: 0.1725 - val_acc: 0.9328\n",
      "Epoch 72/100\n",
      "400/400 [==============================] - 651s 2s/step - loss: 0.2062 - acc: 0.9180 - val_loss: 0.1514 - val_acc: 0.9440\n",
      "Epoch 73/100\n",
      "400/400 [==============================] - 651s 2s/step - loss: 0.2030 - acc: 0.9190 - val_loss: 0.1429 - val_acc: 0.9504\n",
      "Epoch 74/100\n",
      "400/400 [==============================] - 652s 2s/step - loss: 0.2048 - acc: 0.9182 - val_loss: 0.3422 - val_acc: 0.8920\n",
      "Epoch 75/100\n",
      "400/400 [==============================] - 652s 2s/step - loss: 0.2045 - acc: 0.9180 - val_loss: 0.1405 - val_acc: 0.9468\n",
      "Epoch 76/100\n",
      "400/400 [==============================] - 651s 2s/step - loss: 0.1979 - acc: 0.9211 - val_loss: 0.1610 - val_acc: 0.9416\n",
      "Epoch 77/100\n",
      "400/400 [==============================] - 651s 2s/step - loss: 0.1973 - acc: 0.9208 - val_loss: 0.3996 - val_acc: 0.9036\n",
      "Epoch 78/100\n",
      "400/400 [==============================] - 651s 2s/step - loss: 0.1966 - acc: 0.9192 - val_loss: 0.1790 - val_acc: 0.9296\n",
      "Epoch 79/100\n",
      "400/400 [==============================] - 651s 2s/step - loss: 0.1981 - acc: 0.9204 - val_loss: 0.1431 - val_acc: 0.9448\n",
      "Epoch 80/100\n",
      "400/400 [==============================] - 651s 2s/step - loss: 0.1996 - acc: 0.9207 - val_loss: 0.1328 - val_acc: 0.9448\n",
      "Epoch 81/100\n",
      "400/400 [==============================] - 651s 2s/step - loss: 0.1984 - acc: 0.9217 - val_loss: 0.1475 - val_acc: 0.9472\n",
      "Epoch 82/100\n",
      "400/400 [==============================] - 652s 2s/step - loss: 0.2028 - acc: 0.9197 - val_loss: 0.1634 - val_acc: 0.9376\n",
      "Epoch 83/100\n",
      "400/400 [==============================] - 651s 2s/step - loss: 0.1975 - acc: 0.9223 - val_loss: 0.1374 - val_acc: 0.9464\n",
      "Epoch 84/100\n",
      "400/400 [==============================] - 652s 2s/step - loss: 0.2016 - acc: 0.9198 - val_loss: 0.1539 - val_acc: 0.9380\n",
      "Epoch 85/100\n",
      "400/400 [==============================] - 652s 2s/step - loss: 0.1993 - acc: 0.9208 - val_loss: 0.1730 - val_acc: 0.9348\n",
      "Epoch 86/100\n",
      "400/400 [==============================] - 651s 2s/step - loss: 0.2021 - acc: 0.9204 - val_loss: 0.2136 - val_acc: 0.9392\n",
      "Epoch 87/100\n",
      "400/400 [==============================] - 652s 2s/step - loss: 0.1969 - acc: 0.9197 - val_loss: 0.1397 - val_acc: 0.9516\n",
      "Epoch 88/100\n",
      "400/400 [==============================] - 651s 2s/step - loss: 0.2025 - acc: 0.9184 - val_loss: 0.2014 - val_acc: 0.9316\n",
      "Epoch 89/100\n",
      "400/400 [==============================] - 651s 2s/step - loss: 0.2014 - acc: 0.9190 - val_loss: 0.1457 - val_acc: 0.9400\n",
      "Epoch 90/100\n",
      "400/400 [==============================] - 652s 2s/step - loss: 0.2055 - acc: 0.9201 - val_loss: 0.1562 - val_acc: 0.9392\n"
     ]
    }
   ],
   "source": [
    "model.compile(loss=\"binary_crossentropy\", \n",
    "              optimizer=keras.optimizers.RMSprop(lr=1e-4), \n",
    "              metrics=[\"acc\"])\n",
    "\n",
    "\n",
    "model_file = os.path.join(MODEL_DIR, \"dogcat_model_01_aug.h5\")\n",
    "\n",
    "early_stopping_cb = keras.callbacks.EarlyStopping(patience=10, restore_best_weights=True)\n",
    "#chkp_cb = keras.callbacks.ModelCheckpoint(model_file, save_best_only=True)\n",
    "\n",
    "history = model.fit_generator(train_generator, \n",
    "                              steps_per_epoch=TRAIN_SIZE // batch_size, \n",
    "                              epochs=100,\n",
    "                              validation_data=valid_generator, \n",
    "                              validation_steps=VAL_SIZE // batch_size,\n",
    "                              callbacks=[early_stopping_cb])\n",
    "\n",
    "model.save(model_file)"
   ]
  },
  {
   "cell_type": "code",
   "execution_count": 51,
   "metadata": {},
   "outputs": [
    {
     "data": {
      "text/plain": [
       "<matplotlib.legend.Legend at 0x7f6adf890590>"
      ]
     },
     "execution_count": 51,
     "metadata": {},
     "output_type": "execute_result"
    },
    {
     "data": {
      "image/png": "[encoded data removed]",
      "text/plain": [
       "<Figure size 720x288 with 2 Axes>"
      ]
     },
     "metadata": {
      "needs_background": "light"
     },
     "output_type": "display_data"
    }
   ],
   "source": [
    "fig, ax = plt.subplots(nrows=1, ncols=2, figsize=(10, 4))\n",
    "\n",
    "ax[0].plot(history.history[\"loss\"], label=\"loss\")\n",
    "ax[0].plot(history.history[\"val_loss\"], label=\"val_loss\")\n",
    "ax[0].legend()\n",
    "\n",
    "ax[1].plot(history.history[\"acc\"], label=\"acc\")\n",
    "ax[1].plot(history.history[\"val_acc\"], label=\"val_acc\")\n",
    "ax[1].legend()"
   ]
  },
  {
   "cell_type": "code",
   "execution_count": 52,
   "metadata": {},
   "outputs": [
    {
     "name": "stdout",
     "output_type": "stream",
     "text": [
      "Train acc: 0.9435\n",
      "Validation acc: 0.9448\n",
      "Test acc: 0.9496\n"
     ]
    }
   ],
   "source": [
    "_, acc_train = model.evaluate(train_generator, steps=TRAIN_SIZE // batch_size, verbose=0)\n",
    "print(\"Train acc: %0.4f\" %acc_train)\n",
    "\n",
    "\n",
    "_, acc_val = model.evaluate(valid_generator, steps=VAL_SIZE // batch_size, verbose=0)\n",
    "print(\"Validation acc: %0.4f\" %acc_val)\n",
    "\n",
    "\n",
    "_, acc_test = model.evaluate(test_generator, steps=TEST_SIZE // batch_size, verbose=0)\n",
    "print(\"Test acc: %0.4f\" %acc_test)"
   ]
  },
  {
   "cell_type": "code",
   "execution_count": null,
   "metadata": {},
   "outputs": [],
   "source": []
  },
  {
   "cell_type": "markdown",
   "metadata": {},
   "source": [
    "# ResNet 34\n",
    "Also use data augmentation here."
   ]
  },
  {
   "cell_type": "code",
   "execution_count": 80,
   "metadata": {},
   "outputs": [
    {
     "name": "stdout",
     "output_type": "stream",
     "text": [
      "Found 20000 images belonging to 2 classes.\n",
      "Found 2500 images belonging to 2 classes.\n",
      "Found 2500 images belonging to 2 classes.\n"
     ]
    }
   ],
   "source": [
    "tf.random.set_seed(321)\n",
    "np.random.seed(591)\n",
    "\n",
    "train_datagen = keras.preprocessing.image.ImageDataGenerator(rescale=1./255,\n",
    "                                                            rotation_range=40,\n",
    "                                                            width_shift_range=0.2,\n",
    "                                                            height_shift_range=0.2,\n",
    "                                                            shear_range=0.2,\n",
    "                                                            zoom_range=0.2,\n",
    "                                                            horizontal_flip=True)\n",
    "\n",
    "test_datagen = keras.preprocessing.image.ImageDataGenerator(rescale=1./255)\n",
    "\n",
    "batch_size = 50\n",
    "\n",
    "train_generator = train_datagen.flow_from_directory(train_dir, \n",
    "                                              target_size=(HEIGHT, WIDTH),\n",
    "                                              classes=[\"cats\", \"dogs\"], \n",
    "                                              class_mode=\"binary\",\n",
    "                                              batch_size=batch_size)\n",
    "\n",
    "valid_generator = test_datagen.flow_from_directory(valid_dir, \n",
    "                                              target_size=(HEIGHT, WIDTH),\n",
    "                                              classes=[\"cats\", \"dogs\"], \n",
    "                                              class_mode=\"binary\",\n",
    "                                              batch_size=batch_size)\n",
    "\n",
    "test_generator = test_datagen.flow_from_directory(test_dir, \n",
    "                                              target_size=(HEIGHT, WIDTH),\n",
    "                                              classes=[\"cats\", \"dogs\"], \n",
    "                                              class_mode=\"binary\",\n",
    "                                              batch_size=batch_size)"
   ]
  },
  {
   "cell_type": "code",
   "execution_count": 81,
   "metadata": {},
   "outputs": [],
   "source": [
    "DefaultConv2D = partial(keras.layers.Conv2D, kernel_size=3, strides=1, padding=\"SAME\", use_bias=False)\n",
    "\n",
    "class ResidualUnit(keras.layers.Layer):\n",
    "    def __init__(self, filters, strides=1, activation=\"relu\", **kwargs):\n",
    "        super().__init__(**kwargs)\n",
    "        \n",
    "        self._activation = keras.activations.get(activation)\n",
    "        self._main_layers = []\n",
    "        self._main_layers.append(DefaultConv2D(filters, strides=strides))\n",
    "        self._main_layers.append(keras.layers.BatchNormalization())\n",
    "        self._main_layers.append(self._activation)\n",
    "        self._main_layers.append(DefaultConv2D(filters))\n",
    "        self._main_layers.append(keras.layers.BatchNormalization())\n",
    "        \n",
    "        self._skip_layers = []\n",
    "        # if strides > 1, the spatial dim (w, h) of the output is smaller than that of input \n",
    "        if strides > 1:\n",
    "            self._skip_layers.append(DefaultConv2D(filters, kernel_size=1, strides=strides))\n",
    "            self._skip_layers.append(keras.layers.BatchNormalization())\n",
    "    \n",
    "    def call(self, inputs):\n",
    "        Z = inputs\n",
    "        \n",
    "        for layer in self._main_layers:\n",
    "            Z = layer(Z)\n",
    "        \n",
    "        skip_Z = inputs\n",
    "        for layer in self._skip_layers:\n",
    "            skip_Z = layer(skip_Z)\n",
    "        return self._activation(Z + skip_Z)\n"
   ]
  },
  {
   "cell_type": "code",
   "execution_count": 82,
   "metadata": {},
   "outputs": [
    {
     "data": {
      "text/plain": [
       "16"
      ]
     },
     "execution_count": 82,
     "metadata": {},
     "output_type": "execute_result"
    }
   ],
   "source": [
    "filters_list = [64] * 3 + [128] * 4 + [256] * 6 + [512] * 3\n",
    "len(filters_list)"
   ]
  },
  {
   "cell_type": "code",
   "execution_count": 83,
   "metadata": {},
   "outputs": [
    {
     "data": {
      "text/plain": [
       "[64, 64, 64, 128, 128, 128, 128, 256, 256, 256, 256, 256, 256, 512, 512, 512]"
      ]
     },
     "execution_count": 83,
     "metadata": {},
     "output_type": "execute_result"
    }
   ],
   "source": [
    "filters_list"
   ]
  },
  {
   "cell_type": "code",
   "execution_count": 84,
   "metadata": {},
   "outputs": [
    {
     "name": "stdout",
     "output_type": "stream",
     "text": [
      "Model: \"sequential\"\n",
      "_________________________________________________________________\n",
      "Layer (type)                 Output Shape              Param #   \n",
      "=================================================================\n",
      "conv2d (Conv2D)              (None, 150, 150, 64)      9408      \n",
      "_________________________________________________________________\n",
      "batch_normalization (BatchNo (None, 150, 150, 64)      256       \n",
      "_________________________________________________________________\n",
      "activation (Activation)      (None, 150, 150, 64)      0         \n",
      "_________________________________________________________________\n",
      "max_pooling2d (MaxPooling2D) (None, 75, 75, 64)        0         \n",
      "_________________________________________________________________\n",
      "residual_unit (ResidualUnit) (None, 75, 75, 64)        74240     \n",
      "_________________________________________________________________\n",
      "residual_unit_1 (ResidualUni (None, 75, 75, 64)        74240     \n",
      "_________________________________________________________________\n",
      "residual_unit_2 (ResidualUni (None, 75, 75, 64)        74240     \n",
      "_________________________________________________________________\n",
      "residual_unit_3 (ResidualUni (None, 38, 38, 128)       230912    \n",
      "_________________________________________________________________\n",
      "residual_unit_4 (ResidualUni (None, 38, 38, 128)       295936    \n",
      "_________________________________________________________________\n",
      "residual_unit_5 (ResidualUni (None, 38, 38, 128)       295936    \n",
      "_________________________________________________________________\n",
      "residual_unit_6 (ResidualUni (None, 38, 38, 128)       295936    \n",
      "_________________________________________________________________\n",
      "residual_unit_7 (ResidualUni (None, 19, 19, 256)       920576    \n",
      "_________________________________________________________________\n",
      "residual_unit_8 (ResidualUni (None, 19, 19, 256)       1181696   \n",
      "_________________________________________________________________\n",
      "residual_unit_9 (ResidualUni (None, 19, 19, 256)       1181696   \n",
      "_________________________________________________________________\n",
      "residual_unit_10 (ResidualUn (None, 19, 19, 256)       1181696   \n",
      "_________________________________________________________________\n",
      "residual_unit_11 (ResidualUn (None, 19, 19, 256)       1181696   \n",
      "_________________________________________________________________\n",
      "residual_unit_12 (ResidualUn (None, 19, 19, 256)       1181696   \n",
      "_________________________________________________________________\n",
      "residual_unit_13 (ResidualUn (None, 10, 10, 512)       3676160   \n",
      "_________________________________________________________________\n",
      "residual_unit_14 (ResidualUn (None, 10, 10, 512)       4722688   \n",
      "_________________________________________________________________\n",
      "residual_unit_15 (ResidualUn (None, 10, 10, 512)       4722688   \n",
      "_________________________________________________________________\n",
      "global_average_pooling2d (Gl (None, 512)               0         \n",
      "_________________________________________________________________\n",
      "flatten (Flatten)            (None, 512)               0         \n",
      "_________________________________________________________________\n",
      "dense (Dense)                (None, 1)                 513       \n",
      "=================================================================\n",
      "Total params: 21,302,209\n",
      "Trainable params: 21,285,185\n",
      "Non-trainable params: 17,024\n",
      "_________________________________________________________________\n"
     ]
    }
   ],
   "source": [
    "keras.backend.clear_session()\n",
    "tf.random.set_seed(320)\n",
    "np.random.seed(439)\n",
    "\n",
    "model = keras.models.Sequential()\n",
    "model.add(DefaultConv2D(filters=64, kernel_size=7, strides=2, input_shape=(HEIGHT, WIDTH, 3)))\n",
    "model.add(keras.layers.BatchNormalization())\n",
    "model.add(keras.layers.Activation(\"relu\"))\n",
    "model.add(keras.layers.MaxPool2D(pool_size=3, strides=2, padding=\"SAME\"))\n",
    "\n",
    "prev_filters = 64\n",
    "for filters in filters_list:\n",
    "    if filters == prev_filters:\n",
    "        strides = 1\n",
    "    else:\n",
    "        strides = 2\n",
    "    \n",
    "    model.add(ResidualUnit(filters, strides=strides))\n",
    "    prev_filters = filters\n",
    "\n",
    "model.add(keras.layers.GlobalAveragePooling2D())\n",
    "model.add(keras.layers.Flatten())\n",
    "model.add(keras.layers.Dense(1, activation=\"sigmoid\"))\n",
    "\n",
    "model.summary()"
   ]
  },
  {
   "cell_type": "code",
   "execution_count": null,
   "metadata": {},
   "outputs": [
    {
     "name": "stdout",
     "output_type": "stream",
     "text": [
      "Epoch 1/100\n",
      "400/400 [==============================] - 441s 1s/step - loss: 0.6565 - acc: 0.6313 - val_loss: 0.8370 - val_acc: 0.5408\n",
      "Epoch 2/100\n",
      "234/400 [================>.............] - ETA: 3:01 - loss: 0.5636 - acc: 0.7110"
     ]
    }
   ],
   "source": [
    "model.compile(loss=\"binary_crossentropy\", \n",
    "              optimizer=keras.optimizers.RMSprop(lr=1e-4), \n",
    "              metrics=[\"acc\"])\n",
    "\n",
    "\n",
    "model_file = os.path.join(MODEL_DIR, \"dogcat_resnet34_aug.h5\")\n",
    "\n",
    "early_stopping_cb = keras.callbacks.EarlyStopping(patience=10, restore_best_weights=True)\n",
    "#chkp_cb = keras.callbacks.ModelCheckpoint(model_file, save_best_only=True)\n",
    "\n",
    "history = model.fit_generator(train_generator, \n",
    "                              steps_per_epoch=TRAIN_SIZE // batch_size, \n",
    "                              epochs=100,\n",
    "                              validation_data=valid_generator, \n",
    "                              validation_steps=VAL_SIZE // batch_size,\n",
    "                              callbacks=[early_stopping_cb])\n",
    "\n",
    "model.save(model_file)"
   ]
  }
 ],
 "metadata": {
  "kernelspec": {
   "display_name": "Python 3",
   "language": "python",
   "name": "python3"
  },
  "language_info": {
   "codemirror_mode": {
    "name": "ipython",
    "version": 3
   },
   "file_extension": ".py",
   "mimetype": "text/x-python",
   "name": "python",
   "nbconvert_exporter": "python",
   "pygments_lexer": "ipython3",
   "version": "3.7.6"
  }
 },
 "nbformat": 4,
 "nbformat_minor": 4
}
