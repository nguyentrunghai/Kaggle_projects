{
 "cells": [
  {
   "cell_type": "markdown",
   "metadata": {},
   "source": [
    "The dataset can be downloaded here:\n",
    "\n",
    "https://www.kaggle.com/c/dogs-vs-cats/data"
   ]
  },
  {
   "cell_type": "code",
   "execution_count": 56,
   "metadata": {},
   "outputs": [],
   "source": [
    "import os\n",
    "import glob\n",
    "import shutil\n",
    "from functools import partial\n",
    "\n",
    "from progressbar import ProgressBar\n",
    "import matplotlib.pyplot as plt\n",
    "\n",
    "import numpy as np\n",
    "import tensorflow as tf\n",
    "from tensorflow import keras"
   ]
  },
  {
   "cell_type": "code",
   "execution_count": 36,
   "metadata": {},
   "outputs": [],
   "source": [
    "INP_TRAIN_DIR = \"data/download/train\"\n",
    "INP_TEST_DIR = \"data/download/test1\"\n",
    "\n",
    "DATASET_DIR = \"data/dataset_\"\n",
    "\n",
    "MODEL_DIR = \"data/models_\""
   ]
  },
  {
   "cell_type": "code",
   "execution_count": 8,
   "metadata": {},
   "outputs": [
    {
     "data": {
      "text/plain": [
       "(12500, 12500, 12500)"
      ]
     },
     "execution_count": 8,
     "metadata": {},
     "output_type": "execute_result"
    }
   ],
   "source": [
    "train_dog_files = glob.glob(os.path.join(INP_TRAIN_DIR, \"dog*.jpg\"))\n",
    "train_cat_files = glob.glob(os.path.join(INP_TRAIN_DIR, \"cat*.jpg\"))\n",
    "\n",
    "np.random.seed(1)\n",
    "np.random.shuffle(train_dog_files)\n",
    "np.random.shuffle(train_cat_files)\n",
    "\n",
    "\n",
    "test_files = glob.glob(os.path.join(INP_TEST_DIR, \"*.jpg\"))\n",
    "\n",
    "len(train_dog_files), len(train_cat_files), len(test_files)"
   ]
  },
  {
   "cell_type": "code",
   "execution_count": 9,
   "metadata": {},
   "outputs": [
    {
     "data": {
      "text/plain": [
       "['data/download/train/dog.1094.jpg',\n",
       " 'data/download/train/dog.10705.jpg',\n",
       " 'data/download/train/dog.784.jpg',\n",
       " 'data/download/train/dog.669.jpg',\n",
       " 'data/download/train/dog.1588.jpg']"
      ]
     },
     "execution_count": 9,
     "metadata": {},
     "output_type": "execute_result"
    }
   ],
   "source": [
    "train_dog_files[:5]"
   ]
  },
  {
   "cell_type": "code",
   "execution_count": 10,
   "metadata": {},
   "outputs": [
    {
     "data": {
      "text/plain": [
       "['data/download/train/cat.5044.jpg',\n",
       " 'data/download/train/cat.6924.jpg',\n",
       " 'data/download/train/cat.3709.jpg',\n",
       " 'data/download/train/cat.5157.jpg',\n",
       " 'data/download/train/cat.9790.jpg']"
      ]
     },
     "execution_count": 10,
     "metadata": {},
     "output_type": "execute_result"
    }
   ],
   "source": [
    "train_cat_files[:5]"
   ]
  },
  {
   "cell_type": "code",
   "execution_count": 11,
   "metadata": {},
   "outputs": [
    {
     "data": {
      "text/plain": [
       "['data/download/test1/10447.jpg',\n",
       " 'data/download/test1/3337.jpg',\n",
       " 'data/download/test1/7556.jpg',\n",
       " 'data/download/test1/5646.jpg',\n",
       " 'data/download/test1/10264.jpg']"
      ]
     },
     "execution_count": 11,
     "metadata": {},
     "output_type": "execute_result"
    }
   ],
   "source": [
    "test_files[:5]"
   ]
  },
  {
   "cell_type": "markdown",
   "metadata": {},
   "source": [
    "Since the true labels for test set are not available from Kaggle page, we will split the original train set into `train`, `validation` and `test` sets."
   ]
  },
  {
   "cell_type": "code",
   "execution_count": 13,
   "metadata": {},
   "outputs": [],
   "source": [
    "TRAIN_SIZE = 20_000\n",
    "VAL_SIZE = 2500\n",
    "TEST_SIZE = 2500\n",
    "\n",
    "TRAIN_SIZE_HALF = TRAIN_SIZE // 2\n",
    "VAL_SIZE_HALF = VAL_SIZE // 2\n",
    "TEST_SIZE_HALF = TEST_SIZE // 2"
   ]
  },
  {
   "cell_type": "code",
   "execution_count": 14,
   "metadata": {},
   "outputs": [],
   "source": [
    "train_dir = os.path.join(DATASET_DIR, \"train\")\n",
    "valid_dir = os.path.join(DATASET_DIR, \"validation\")\n",
    "test_dir = os.path.join(DATASET_DIR, \"test\")\n",
    "\n",
    "train_cats_dir = os.path.join(train_dir, \"cats\")\n",
    "train_dogs_dir = os.path.join(train_dir, \"dogs\")\n",
    "os.makedirs(train_cats_dir, exist_ok=True)\n",
    "os.makedirs(train_dogs_dir, exist_ok=True)\n",
    "\n",
    "valid_cats_dir = os.path.join(valid_dir, \"cats\")\n",
    "valid_dogs_dir = os.path.join(valid_dir, \"dogs\")\n",
    "os.makedirs(valid_cats_dir, exist_ok=True)\n",
    "os.makedirs(valid_dogs_dir, exist_ok=True)\n",
    "\n",
    "test_cats_dir = os.path.join(test_dir, \"cats\")\n",
    "test_dogs_dir = os.path.join(test_dir, \"dogs\")\n",
    "os.makedirs(test_cats_dir, exist_ok=True)\n",
    "os.makedirs(test_dogs_dir, exist_ok=True)"
   ]
  },
  {
   "cell_type": "code",
   "execution_count": 16,
   "metadata": {},
   "outputs": [],
   "source": [
    "# copy files for train/dogs and train/cats\n",
    "for src in train_dog_files[: TRAIN_SIZE_HALF]:\n",
    "    fname = os.path.basename(src)\n",
    "    dst = os.path.join(train_dogs_dir, fname)\n",
    "    shutil.copyfile(src, dst)\n",
    "    \n",
    "for src in train_cat_files[: TRAIN_SIZE_HALF]:\n",
    "    fname = os.path.basename(src)\n",
    "    dst = os.path.join(train_cats_dir, fname)\n",
    "    shutil.copyfile(src, dst)"
   ]
  },
  {
   "cell_type": "code",
   "execution_count": 18,
   "metadata": {},
   "outputs": [],
   "source": [
    "# copy files for validation/dogs and validation/cats\n",
    "for src in train_dog_files[TRAIN_SIZE_HALF: TRAIN_SIZE_HALF + VAL_SIZE_HALF]:\n",
    "    fname = os.path.basename(src)\n",
    "    dst = os.path.join(valid_dogs_dir, fname)\n",
    "    shutil.copyfile(src, dst)\n",
    "    \n",
    "for src in train_cat_files[TRAIN_SIZE_HALF: TRAIN_SIZE_HALF + VAL_SIZE_HALF]:\n",
    "    fname = os.path.basename(src)\n",
    "    dst = os.path.join(valid_cats_dir, fname)\n",
    "    shutil.copyfile(src, dst)"
   ]
  },
  {
   "cell_type": "code",
   "execution_count": 19,
   "metadata": {},
   "outputs": [],
   "source": [
    "# copy files for test/dogs and test/cats\n",
    "for src in train_dog_files[TRAIN_SIZE_HALF + VAL_SIZE_HALF: ]:\n",
    "    fname = os.path.basename(src)\n",
    "    dst = os.path.join(test_dogs_dir, fname)\n",
    "    shutil.copyfile(src, dst)\n",
    "    \n",
    "for src in train_cat_files[TRAIN_SIZE_HALF + VAL_SIZE_HALF: ]:\n",
    "    fname = os.path.basename(src)\n",
    "    dst = os.path.join(test_cats_dir, fname)\n",
    "    shutil.copyfile(src, dst)"
   ]
  },
  {
   "cell_type": "code",
   "execution_count": 20,
   "metadata": {},
   "outputs": [
    {
     "data": {
      "text/plain": [
       "20000"
      ]
     },
     "execution_count": 20,
     "metadata": {},
     "output_type": "execute_result"
    }
   ],
   "source": [
    "train_files = glob.glob(os.path.join(train_dogs_dir, \"*.jpg\"))\n",
    "train_files += glob.glob(os.path.join(train_cats_dir, \"*.jpg\"))\n",
    "len(train_files)"
   ]
  },
  {
   "cell_type": "code",
   "execution_count": 22,
   "metadata": {},
   "outputs": [],
   "source": [
    "# hights and widths\n",
    "heights = []\n",
    "widths = []\n",
    "for fname in train_files:\n",
    "    img = keras.preprocessing.image.load_img(fname)\n",
    "    h, w, _ = keras.preprocessing.image.img_to_array(img).shape\n",
    "    heights.append(h)\n",
    "    widths.append(w)"
   ]
  },
  {
   "cell_type": "code",
   "execution_count": 23,
   "metadata": {},
   "outputs": [
    {
     "data": {
      "text/plain": [
       "(32, 768, 360.46485, 374.0)"
      ]
     },
     "execution_count": 23,
     "metadata": {},
     "output_type": "execute_result"
    }
   ],
   "source": [
    "np.min(heights), np.max(heights), np.mean(heights), np.median(heights)"
   ]
  },
  {
   "cell_type": "code",
   "execution_count": 24,
   "metadata": {},
   "outputs": [
    {
     "data": {
      "text/plain": [
       "(42, 1050, 403.9402, 447.0)"
      ]
     },
     "execution_count": 24,
     "metadata": {},
     "output_type": "execute_result"
    }
   ],
   "source": [
    "np.min(widths), np.max(widths), np.mean(widths), np.median(widths)"
   ]
  },
  {
   "cell_type": "code",
   "execution_count": 115,
   "metadata": {},
   "outputs": [],
   "source": [
    "#HEIGHT, WIDTH = 360, 400\n",
    "\n",
    "HEIGHT, WIDTH = 300, 300"
   ]
  },
  {
   "cell_type": "code",
   "execution_count": 26,
   "metadata": {},
   "outputs": [
    {
     "name": "stdout",
     "output_type": "stream",
     "text": [
      "Found 20000 images belonging to 2 classes.\n",
      "Found 2500 images belonging to 2 classes.\n",
      "Found 2500 images belonging to 2 classes.\n"
     ]
    }
   ],
   "source": [
    "tf.random.set_seed(42)\n",
    "np.random.seed(42)\n",
    "\n",
    "datagen = keras.preprocessing.image.ImageDataGenerator(rescale=1./255)\n",
    "\n",
    "batch_size = 50\n",
    "\n",
    "train_generator = datagen.flow_from_directory(train_dir, \n",
    "                                              target_size=(HEIGHT, WIDTH),\n",
    "                                              classes=[\"cats\", \"dogs\"], \n",
    "                                              class_mode=\"binary\",\n",
    "                                              batch_size=batch_size)\n",
    "\n",
    "valid_generator = datagen.flow_from_directory(valid_dir, \n",
    "                                              target_size=(HEIGHT, WIDTH),\n",
    "                                              classes=[\"cats\", \"dogs\"], \n",
    "                                              class_mode=\"binary\",\n",
    "                                              batch_size=batch_size)\n",
    "\n",
    "test_generator = datagen.flow_from_directory(test_dir, \n",
    "                                              target_size=(HEIGHT, WIDTH),\n",
    "                                              classes=[\"cats\", \"dogs\"], \n",
    "                                              class_mode=\"binary\",\n",
    "                                              batch_size=batch_size)"
   ]
  },
  {
   "cell_type": "code",
   "execution_count": 27,
   "metadata": {},
   "outputs": [],
   "source": [
    "example = next(iter(train_generator))"
   ]
  },
  {
   "cell_type": "code",
   "execution_count": 29,
   "metadata": {},
   "outputs": [
    {
     "data": {
      "text/plain": [
       "(50, 360, 400, 3)"
      ]
     },
     "execution_count": 29,
     "metadata": {},
     "output_type": "execute_result"
    }
   ],
   "source": [
    "# figures in first batch\n",
    "example[0].shape"
   ]
  },
  {
   "cell_type": "code",
   "execution_count": 30,
   "metadata": {},
   "outputs": [
    {
     "data": {
      "text/plain": [
       "(50,)"
      ]
     },
     "execution_count": 30,
     "metadata": {},
     "output_type": "execute_result"
    }
   ],
   "source": [
    "# labels in first batch\n",
    "example[1].shape"
   ]
  },
  {
   "cell_type": "code",
   "execution_count": 31,
   "metadata": {},
   "outputs": [
    {
     "data": {
      "text/plain": [
       "{'cats': 0, 'dogs': 1}"
      ]
     },
     "execution_count": 31,
     "metadata": {},
     "output_type": "execute_result"
    }
   ],
   "source": [
    "train_generator.class_indices"
   ]
  },
  {
   "cell_type": "code",
   "execution_count": null,
   "metadata": {},
   "outputs": [],
   "source": []
  },
  {
   "cell_type": "markdown",
   "metadata": {},
   "source": [
    "# Model 1"
   ]
  },
  {
   "cell_type": "code",
   "execution_count": 34,
   "metadata": {},
   "outputs": [
    {
     "name": "stdout",
     "output_type": "stream",
     "text": [
      "Model: \"sequential\"\n",
      "_________________________________________________________________\n",
      "Layer (type)                 Output Shape              Param #   \n",
      "=================================================================\n",
      "conv2d (Conv2D)              (None, 358, 398, 32)      896       \n",
      "_________________________________________________________________\n",
      "max_pooling2d (MaxPooling2D) (None, 179, 199, 32)      0         \n",
      "_________________________________________________________________\n",
      "conv2d_1 (Conv2D)            (None, 177, 197, 64)      18496     \n",
      "_________________________________________________________________\n",
      "max_pooling2d_1 (MaxPooling2 (None, 88, 98, 64)        0         \n",
      "_________________________________________________________________\n",
      "conv2d_2 (Conv2D)            (None, 86, 96, 128)       73856     \n",
      "_________________________________________________________________\n",
      "max_pooling2d_2 (MaxPooling2 (None, 43, 48, 128)       0         \n",
      "_________________________________________________________________\n",
      "conv2d_3 (Conv2D)            (None, 41, 46, 128)       147584    \n",
      "_________________________________________________________________\n",
      "max_pooling2d_3 (MaxPooling2 (None, 20, 23, 128)       0         \n",
      "_________________________________________________________________\n",
      "conv2d_4 (Conv2D)            (None, 18, 21, 256)       295168    \n",
      "_________________________________________________________________\n",
      "max_pooling2d_4 (MaxPooling2 (None, 9, 10, 256)        0         \n",
      "_________________________________________________________________\n",
      "flatten (Flatten)            (None, 23040)             0         \n",
      "_________________________________________________________________\n",
      "dropout (Dropout)            (None, 23040)             0         \n",
      "_________________________________________________________________\n",
      "dense (Dense)                (None, 512)               11796992  \n",
      "_________________________________________________________________\n",
      "dense_1 (Dense)              (None, 1)                 513       \n",
      "=================================================================\n",
      "Total params: 12,333,505\n",
      "Trainable params: 12,333,505\n",
      "Non-trainable params: 0\n",
      "_________________________________________________________________\n"
     ]
    }
   ],
   "source": [
    "keras.backend.clear_session()\n",
    "tf.random.set_seed(42)\n",
    "np.random.seed(42)\n",
    "\n",
    "model = keras.models.Sequential()\n",
    "\n",
    "model.add(keras.layers.Conv2D(32, (3, 3), activation=\"relu\", input_shape=(HEIGHT, WIDTH, 3)))\n",
    "model.add(keras.layers.MaxPooling2D((2, 2)))\n",
    "\n",
    "model.add(keras.layers.Conv2D(64, (3, 3), activation=\"relu\"))\n",
    "model.add(keras.layers.MaxPooling2D((2, 2)))\n",
    "\n",
    "model.add(keras.layers.Conv2D(128, (3, 3), activation=\"relu\"))\n",
    "model.add(keras.layers.MaxPooling2D((2, 2)))\n",
    "\n",
    "model.add(keras.layers.Conv2D(128, (3, 3), activation=\"relu\"))\n",
    "model.add(keras.layers.MaxPooling2D((2, 2)))\n",
    "\n",
    "model.add(keras.layers.Conv2D(256, (3, 3), activation=\"relu\"))\n",
    "model.add(keras.layers.MaxPooling2D((2, 2)))\n",
    "\n",
    "model.add(keras.layers.Flatten())\n",
    "model.add(keras.layers.Dropout(0.5))\n",
    "\n",
    "model.add(keras.layers.Dense(512, activation=\"relu\"))\n",
    "model.add(keras.layers.Dense(1, activation=\"sigmoid\"))\n",
    "\n",
    "model.summary()"
   ]
  },
  {
   "cell_type": "code",
   "execution_count": 35,
   "metadata": {},
   "outputs": [],
   "source": [
    "model.compile(loss=\"binary_crossentropy\", \n",
    "              optimizer=keras.optimizers.RMSprop(lr=1e-4), \n",
    "              metrics=[\"acc\"])"
   ]
  },
  {
   "cell_type": "code",
   "execution_count": 40,
   "metadata": {},
   "outputs": [
    {
     "name": "stdout",
     "output_type": "stream",
     "text": [
      "Epoch 1/100\n",
      "  2/400 [..............................] - ETA: 56s - loss: 0.6061 - acc: 0.6400WARNING:tensorflow:Callbacks method `on_train_batch_end` is slow compared to the batch time (batch time: 0.0912s vs `on_train_batch_end` time: 0.1927s). Check your callbacks.\n",
      "400/400 [==============================] - 126s 315ms/step - loss: 0.5619 - acc: 0.7053 - val_loss: 0.5134 - val_acc: 0.7504\n",
      "Epoch 2/100\n",
      "400/400 [==============================] - 126s 315ms/step - loss: 0.4830 - acc: 0.7678 - val_loss: 0.4664 - val_acc: 0.7876\n",
      "Epoch 3/100\n",
      "400/400 [==============================] - 126s 316ms/step - loss: 0.4290 - acc: 0.7990 - val_loss: 0.4637 - val_acc: 0.7868\n",
      "Epoch 4/100\n",
      "400/400 [==============================] - 126s 316ms/step - loss: 0.3925 - acc: 0.8242 - val_loss: 0.4078 - val_acc: 0.8236\n",
      "Epoch 5/100\n",
      "400/400 [==============================] - 126s 316ms/step - loss: 0.3598 - acc: 0.8382 - val_loss: 0.3768 - val_acc: 0.8400\n",
      "Epoch 6/100\n",
      "400/400 [==============================] - 126s 316ms/step - loss: 0.3345 - acc: 0.8518 - val_loss: 0.3839 - val_acc: 0.8300\n",
      "Epoch 7/100\n",
      "400/400 [==============================] - 126s 316ms/step - loss: 0.3072 - acc: 0.8658 - val_loss: 0.3665 - val_acc: 0.8392\n",
      "Epoch 8/100\n",
      "400/400 [==============================] - 126s 316ms/step - loss: 0.2831 - acc: 0.8794 - val_loss: 0.3298 - val_acc: 0.8644\n",
      "Epoch 9/100\n",
      "400/400 [==============================] - 126s 316ms/step - loss: 0.2671 - acc: 0.8874 - val_loss: 0.3663 - val_acc: 0.8472\n",
      "Epoch 10/100\n",
      "400/400 [==============================] - 126s 316ms/step - loss: 0.2490 - acc: 0.8959 - val_loss: 0.3400 - val_acc: 0.8560\n",
      "Epoch 11/100\n",
      "400/400 [==============================] - 126s 316ms/step - loss: 0.2327 - acc: 0.9038 - val_loss: 0.3300 - val_acc: 0.8688\n",
      "Epoch 12/100\n",
      "400/400 [==============================] - 127s 317ms/step - loss: 0.2105 - acc: 0.9122 - val_loss: 0.3004 - val_acc: 0.8740\n",
      "Epoch 13/100\n",
      "400/400 [==============================] - 127s 316ms/step - loss: 0.1955 - acc: 0.9191 - val_loss: 0.3147 - val_acc: 0.8748\n",
      "Epoch 14/100\n",
      "400/400 [==============================] - 127s 316ms/step - loss: 0.1795 - acc: 0.9275 - val_loss: 0.3159 - val_acc: 0.8756\n",
      "Epoch 15/100\n",
      "400/400 [==============================] - 127s 317ms/step - loss: 0.1694 - acc: 0.9323 - val_loss: 0.3155 - val_acc: 0.8732\n",
      "Epoch 16/100\n",
      "400/400 [==============================] - 127s 316ms/step - loss: 0.1540 - acc: 0.9377 - val_loss: 0.2926 - val_acc: 0.8840\n",
      "Epoch 17/100\n",
      "400/400 [==============================] - 126s 316ms/step - loss: 0.1458 - acc: 0.9414 - val_loss: 0.2949 - val_acc: 0.8848\n",
      "Epoch 18/100\n",
      "400/400 [==============================] - 127s 316ms/step - loss: 0.1313 - acc: 0.9472 - val_loss: 0.3178 - val_acc: 0.8876\n",
      "Epoch 19/100\n",
      "400/400 [==============================] - 126s 316ms/step - loss: 0.1217 - acc: 0.9532 - val_loss: 0.3117 - val_acc: 0.8908\n",
      "Epoch 20/100\n",
      "400/400 [==============================] - 127s 316ms/step - loss: 0.1134 - acc: 0.9558 - val_loss: 0.3264 - val_acc: 0.8768\n",
      "Epoch 21/100\n",
      "400/400 [==============================] - 127s 317ms/step - loss: 0.1053 - acc: 0.9584 - val_loss: 0.3156 - val_acc: 0.8860\n",
      "Epoch 22/100\n",
      "400/400 [==============================] - 127s 316ms/step - loss: 0.0950 - acc: 0.9624 - val_loss: 0.3175 - val_acc: 0.8920\n",
      "Epoch 23/100\n",
      "400/400 [==============================] - 127s 316ms/step - loss: 0.0925 - acc: 0.9648 - val_loss: 0.4826 - val_acc: 0.8516\n",
      "Epoch 24/100\n",
      "400/400 [==============================] - 127s 317ms/step - loss: 0.0852 - acc: 0.9668 - val_loss: 0.3426 - val_acc: 0.8888\n",
      "Epoch 25/100\n",
      "400/400 [==============================] - 127s 316ms/step - loss: 0.0769 - acc: 0.9698 - val_loss: 0.3879 - val_acc: 0.8896\n",
      "Epoch 26/100\n",
      "400/400 [==============================] - 126s 316ms/step - loss: 0.0735 - acc: 0.9716 - val_loss: 0.3348 - val_acc: 0.8952\n"
     ]
    }
   ],
   "source": [
    "model_file = os.path.join(MODEL_DIR, \"dogcat_model_01.h5\")\n",
    "\n",
    "early_stopping_cb = keras.callbacks.EarlyStopping(patience=10, restore_best_weights=True)\n",
    "#chkp_cb = keras.callbacks.ModelCheckpoint(model_file, save_best_only=True)\n",
    "\n",
    "history = model.fit_generator(train_generator, \n",
    "                              steps_per_epoch=TRAIN_SIZE // batch_size, \n",
    "                              epochs=100,\n",
    "                              validation_data=valid_generator, \n",
    "                              validation_steps=VAL_SIZE // batch_size,\n",
    "                              callbacks=[early_stopping_cb])\n",
    "\n",
    "model.save(model_file)"
   ]
  },
  {
   "cell_type": "code",
   "execution_count": 42,
   "metadata": {},
   "outputs": [
    {
     "data": {
      "text/plain": [
       "<matplotlib.legend.Legend at 0x7f6adf956e10>"
      ]
     },
     "execution_count": 42,
     "metadata": {},
     "output_type": "execute_result"
    },
    {
     "data": {
      "image/png": "[encoded data removed]",
      "text/plain": [
       "<Figure size 720x288 with 2 Axes>"
      ]
     },
     "metadata": {
      "needs_background": "light"
     },
     "output_type": "display_data"
    }
   ],
   "source": [
    "fig, ax = plt.subplots(nrows=1, ncols=2, figsize=(10, 4))\n",
    "\n",
    "ax[0].plot(history.history[\"loss\"], label=\"loss\")\n",
    "ax[0].plot(history.history[\"val_loss\"], label=\"val_loss\")\n",
    "ax[0].legend()\n",
    "\n",
    "ax[1].plot(history.history[\"acc\"], label=\"acc\")\n",
    "ax[1].plot(history.history[\"val_acc\"], label=\"val_acc\")\n",
    "ax[1].legend()"
   ]
  },
  {
   "cell_type": "code",
   "execution_count": 46,
   "metadata": {},
   "outputs": [
    {
     "name": "stdout",
     "output_type": "stream",
     "text": [
      "Train acc: 0.9704\n",
      "Validation acc: 0.8840\n",
      "Test acc: 0.8836\n"
     ]
    }
   ],
   "source": [
    "_, acc_train = model.evaluate(train_generator, steps=TRAIN_SIZE // batch_size, verbose=0)\n",
    "print(\"Train acc: %0.4f\" %acc_train)\n",
    "\n",
    "\n",
    "_, acc_val = model.evaluate(valid_generator, steps=VAL_SIZE // batch_size, verbose=0)\n",
    "print(\"Validation acc: %0.4f\" %acc_val)\n",
    "\n",
    "\n",
    "_, acc_test = model.evaluate(test_generator, steps=TEST_SIZE // batch_size, verbose=0)\n",
    "print(\"Test acc: %0.4f\" %acc_test)"
   ]
  },
  {
   "cell_type": "markdown",
   "metadata": {},
   "source": [
    "# Data augmentation\n",
    "\n",
    "by random rotation, shifting, shearing and zooming."
   ]
  },
  {
   "cell_type": "code",
   "execution_count": 47,
   "metadata": {},
   "outputs": [
    {
     "name": "stdout",
     "output_type": "stream",
     "text": [
      "Found 20000 images belonging to 2 classes.\n",
      "Found 2500 images belonging to 2 classes.\n",
      "Found 2500 images belonging to 2 classes.\n"
     ]
    }
   ],
   "source": [
    "tf.random.set_seed(42)\n",
    "np.random.seed(42)\n",
    "\n",
    "train_datagen = keras.preprocessing.image.ImageDataGenerator(rescale=1./255,\n",
    "                                                            rotation_range=40,\n",
    "                                                            width_shift_range=0.2,\n",
    "                                                            height_shift_range=0.2,\n",
    "                                                            shear_range=0.2,\n",
    "                                                            zoom_range=0.2,\n",
    "                                                            horizontal_flip=True)\n",
    "\n",
    "test_datagen = keras.preprocessing.image.ImageDataGenerator(rescale=1./255)\n",
    "\n",
    "batch_size = 50\n",
    "\n",
    "train_generator = train_datagen.flow_from_directory(train_dir, \n",
    "                                              target_size=(HEIGHT, WIDTH),\n",
    "                                              classes=[\"cats\", \"dogs\"], \n",
    "                                              class_mode=\"binary\",\n",
    "                                              batch_size=batch_size)\n",
    "\n",
    "valid_generator = test_datagen.flow_from_directory(valid_dir, \n",
    "                                              target_size=(HEIGHT, WIDTH),\n",
    "                                              classes=[\"cats\", \"dogs\"], \n",
    "                                              class_mode=\"binary\",\n",
    "                                              batch_size=batch_size)\n",
    "\n",
    "test_generator = test_datagen.flow_from_directory(test_dir, \n",
    "                                              target_size=(HEIGHT, WIDTH),\n",
    "                                              classes=[\"cats\", \"dogs\"], \n",
    "                                              class_mode=\"binary\",\n",
    "                                              batch_size=batch_size)"
   ]
  },
  {
   "cell_type": "code",
   "execution_count": 48,
   "metadata": {},
   "outputs": [
    {
     "name": "stdout",
     "output_type": "stream",
     "text": [
      "Model: \"sequential\"\n",
      "_________________________________________________________________\n",
      "Layer (type)                 Output Shape              Param #   \n",
      "=================================================================\n",
      "conv2d (Conv2D)              (None, 358, 398, 32)      896       \n",
      "_________________________________________________________________\n",
      "max_pooling2d (MaxPooling2D) (None, 179, 199, 32)      0         \n",
      "_________________________________________________________________\n",
      "conv2d_1 (Conv2D)            (None, 177, 197, 64)      18496     \n",
      "_________________________________________________________________\n",
      "max_pooling2d_1 (MaxPooling2 (None, 88, 98, 64)        0         \n",
      "_________________________________________________________________\n",
      "conv2d_2 (Conv2D)            (None, 86, 96, 128)       73856     \n",
      "_________________________________________________________________\n",
      "max_pooling2d_2 (MaxPooling2 (None, 43, 48, 128)       0         \n",
      "_________________________________________________________________\n",
      "conv2d_3 (Conv2D)            (None, 41, 46, 128)       147584    \n",
      "_________________________________________________________________\n",
      "max_pooling2d_3 (MaxPooling2 (None, 20, 23, 128)       0         \n",
      "_________________________________________________________________\n",
      "conv2d_4 (Conv2D)            (None, 18, 21, 256)       295168    \n",
      "_________________________________________________________________\n",
      "max_pooling2d_4 (MaxPooling2 (None, 9, 10, 256)        0         \n",
      "_________________________________________________________________\n",
      "flatten (Flatten)            (None, 23040)             0         \n",
      "_________________________________________________________________\n",
      "dropout (Dropout)            (None, 23040)             0         \n",
      "_________________________________________________________________\n",
      "dense (Dense)                (None, 512)               11796992  \n",
      "_________________________________________________________________\n",
      "dense_1 (Dense)              (None, 1)                 513       \n",
      "=================================================================\n",
      "Total params: 12,333,505\n",
      "Trainable params: 12,333,505\n",
      "Non-trainable params: 0\n",
      "_________________________________________________________________\n"
     ]
    }
   ],
   "source": [
    "keras.backend.clear_session()\n",
    "tf.random.set_seed(42)\n",
    "np.random.seed(42)\n",
    "\n",
    "model = keras.models.Sequential()\n",
    "\n",
    "model.add(keras.layers.Conv2D(32, (3, 3), activation=\"relu\", input_shape=(HEIGHT, WIDTH, 3)))\n",
    "model.add(keras.layers.MaxPooling2D((2, 2)))\n",
    "\n",
    "model.add(keras.layers.Conv2D(64, (3, 3), activation=\"relu\"))\n",
    "model.add(keras.layers.MaxPooling2D((2, 2)))\n",
    "\n",
    "model.add(keras.layers.Conv2D(128, (3, 3), activation=\"relu\"))\n",
    "model.add(keras.layers.MaxPooling2D((2, 2)))\n",
    "\n",
    "model.add(keras.layers.Conv2D(128, (3, 3), activation=\"relu\"))\n",
    "model.add(keras.layers.MaxPooling2D((2, 2)))\n",
    "\n",
    "model.add(keras.layers.Conv2D(256, (3, 3), activation=\"relu\"))\n",
    "model.add(keras.layers.MaxPooling2D((2, 2)))\n",
    "\n",
    "model.add(keras.layers.Flatten())\n",
    "model.add(keras.layers.Dropout(0.5))\n",
    "\n",
    "model.add(keras.layers.Dense(512, activation=\"relu\"))\n",
    "model.add(keras.layers.Dense(1, activation=\"sigmoid\"))\n",
    "\n",
    "model.summary()"
   ]
  },
  {
   "cell_type": "code",
   "execution_count": 49,
   "metadata": {},
   "outputs": [
    {
     "name": "stdout",
     "output_type": "stream",
     "text": [
      "Epoch 1/100\n",
      "400/400 [==============================] - 651s 2s/step - loss: 0.6475 - acc: 0.6095 - val_loss: 0.5617 - val_acc: 0.7180\n",
      "Epoch 2/100\n",
      "400/400 [==============================] - 651s 2s/step - loss: 0.5826 - acc: 0.6870 - val_loss: 0.5345 - val_acc: 0.7228\n",
      "Epoch 3/100\n",
      "400/400 [==============================] - 651s 2s/step - loss: 0.5525 - acc: 0.7165 - val_loss: 0.4944 - val_acc: 0.7596\n",
      "Epoch 4/100\n",
      "400/400 [==============================] - 650s 2s/step - loss: 0.5296 - acc: 0.7336 - val_loss: 0.5157 - val_acc: 0.7372\n",
      "Epoch 5/100\n",
      "400/400 [==============================] - 651s 2s/step - loss: 0.5119 - acc: 0.7506 - val_loss: 0.4635 - val_acc: 0.7812\n",
      "Epoch 6/100\n",
      "400/400 [==============================] - 650s 2s/step - loss: 0.4976 - acc: 0.7567 - val_loss: 0.4457 - val_acc: 0.7824\n",
      "Epoch 7/100\n",
      "400/400 [==============================] - 650s 2s/step - loss: 0.4766 - acc: 0.7701 - val_loss: 0.4896 - val_acc: 0.7728\n",
      "Epoch 8/100\n",
      "400/400 [==============================] - 650s 2s/step - loss: 0.4607 - acc: 0.7812 - val_loss: 0.4172 - val_acc: 0.8136\n",
      "Epoch 9/100\n",
      "400/400 [==============================] - 650s 2s/step - loss: 0.4469 - acc: 0.7919 - val_loss: 0.4311 - val_acc: 0.8048\n",
      "Epoch 10/100\n",
      "400/400 [==============================] - 650s 2s/step - loss: 0.4375 - acc: 0.7977 - val_loss: 0.3940 - val_acc: 0.8308\n",
      "Epoch 11/100\n",
      "400/400 [==============================] - 651s 2s/step - loss: 0.4232 - acc: 0.8027 - val_loss: 0.4152 - val_acc: 0.8220\n",
      "Epoch 12/100\n",
      "400/400 [==============================] - 650s 2s/step - loss: 0.4141 - acc: 0.8109 - val_loss: 0.4085 - val_acc: 0.8184\n",
      "Epoch 13/100\n",
      "400/400 [==============================] - 650s 2s/step - loss: 0.3983 - acc: 0.8214 - val_loss: 0.3483 - val_acc: 0.8552\n",
      "Epoch 14/100\n",
      "400/400 [==============================] - 650s 2s/step - loss: 0.3880 - acc: 0.8269 - val_loss: 0.3586 - val_acc: 0.8416\n",
      "Epoch 15/100\n",
      "400/400 [==============================] - 651s 2s/step - loss: 0.3771 - acc: 0.8325 - val_loss: 0.3246 - val_acc: 0.8664\n",
      "Epoch 16/100\n",
      "400/400 [==============================] - 651s 2s/step - loss: 0.3684 - acc: 0.8383 - val_loss: 0.3195 - val_acc: 0.8676\n",
      "Epoch 17/100\n",
      "400/400 [==============================] - 650s 2s/step - loss: 0.3564 - acc: 0.8451 - val_loss: 0.3310 - val_acc: 0.8620\n",
      "Epoch 18/100\n",
      "400/400 [==============================] - 650s 2s/step - loss: 0.3489 - acc: 0.8468 - val_loss: 0.3175 - val_acc: 0.8724\n",
      "Epoch 19/100\n",
      "400/400 [==============================] - 650s 2s/step - loss: 0.3373 - acc: 0.8510 - val_loss: 0.4151 - val_acc: 0.8344\n",
      "Epoch 20/100\n",
      "400/400 [==============================] - 651s 2s/step - loss: 0.3300 - acc: 0.8555 - val_loss: 0.3080 - val_acc: 0.8672\n",
      "Epoch 21/100\n",
      "400/400 [==============================] - 650s 2s/step - loss: 0.3166 - acc: 0.8620 - val_loss: 0.3340 - val_acc: 0.8636\n",
      "Epoch 22/100\n",
      "400/400 [==============================] - 651s 2s/step - loss: 0.3129 - acc: 0.8622 - val_loss: 0.3273 - val_acc: 0.8576\n",
      "Epoch 23/100\n",
      "400/400 [==============================] - 650s 2s/step - loss: 0.3049 - acc: 0.8706 - val_loss: 0.2920 - val_acc: 0.8796\n",
      "Epoch 24/100\n",
      "400/400 [==============================] - 650s 2s/step - loss: 0.2937 - acc: 0.8749 - val_loss: 0.2557 - val_acc: 0.8988\n",
      "Epoch 25/100\n",
      "400/400 [==============================] - 651s 2s/step - loss: 0.2897 - acc: 0.8755 - val_loss: 0.2829 - val_acc: 0.8876\n",
      "Epoch 26/100\n",
      "400/400 [==============================] - 651s 2s/step - loss: 0.2813 - acc: 0.8801 - val_loss: 0.4010 - val_acc: 0.8320\n",
      "Epoch 27/100\n",
      "400/400 [==============================] - 650s 2s/step - loss: 0.2724 - acc: 0.8864 - val_loss: 0.2727 - val_acc: 0.9012\n",
      "Epoch 28/100\n",
      "400/400 [==============================] - 651s 2s/step - loss: 0.2699 - acc: 0.8841 - val_loss: 0.2116 - val_acc: 0.9148\n",
      "Epoch 29/100\n",
      "400/400 [==============================] - 651s 2s/step - loss: 0.2711 - acc: 0.8848 - val_loss: 0.2434 - val_acc: 0.9012\n",
      "Epoch 30/100\n",
      "400/400 [==============================] - 651s 2s/step - loss: 0.2584 - acc: 0.8917 - val_loss: 0.3200 - val_acc: 0.8884\n",
      "Epoch 31/100\n",
      "400/400 [==============================] - 651s 2s/step - loss: 0.2567 - acc: 0.8941 - val_loss: 0.2161 - val_acc: 0.9160\n",
      "Epoch 32/100\n",
      "400/400 [==============================] - 651s 2s/step - loss: 0.2515 - acc: 0.8940 - val_loss: 0.2106 - val_acc: 0.9176\n",
      "Epoch 33/100\n",
      "400/400 [==============================] - 651s 2s/step - loss: 0.2460 - acc: 0.8980 - val_loss: 0.1972 - val_acc: 0.9208\n",
      "Epoch 34/100\n",
      "400/400 [==============================] - 650s 2s/step - loss: 0.2358 - acc: 0.9018 - val_loss: 0.4338 - val_acc: 0.8592\n",
      "Epoch 35/100\n",
      "400/400 [==============================] - 651s 2s/step - loss: 0.2430 - acc: 0.8989 - val_loss: 0.1936 - val_acc: 0.9228\n",
      "Epoch 36/100\n",
      "400/400 [==============================] - 650s 2s/step - loss: 0.2377 - acc: 0.8988 - val_loss: 0.1880 - val_acc: 0.9308\n",
      "Epoch 37/100\n",
      "400/400 [==============================] - 651s 2s/step - loss: 0.2324 - acc: 0.9033 - val_loss: 0.1906 - val_acc: 0.9264\n",
      "Epoch 38/100\n",
      "400/400 [==============================] - 651s 2s/step - loss: 0.2301 - acc: 0.9055 - val_loss: 0.2077 - val_acc: 0.9216\n",
      "Epoch 39/100\n",
      "400/400 [==============================] - 650s 2s/step - loss: 0.2306 - acc: 0.9035 - val_loss: 0.1954 - val_acc: 0.9304\n",
      "Epoch 40/100\n",
      "400/400 [==============================] - 651s 2s/step - loss: 0.2263 - acc: 0.9086 - val_loss: 0.2041 - val_acc: 0.9212\n",
      "Epoch 41/100\n",
      "400/400 [==============================] - 651s 2s/step - loss: 0.2148 - acc: 0.9101 - val_loss: 0.2189 - val_acc: 0.9096\n",
      "Epoch 42/100\n",
      "400/400 [==============================] - 651s 2s/step - loss: 0.2180 - acc: 0.9096 - val_loss: 0.2075 - val_acc: 0.9240\n",
      "Epoch 43/100\n",
      "400/400 [==============================] - 651s 2s/step - loss: 0.2235 - acc: 0.9086 - val_loss: 0.2591 - val_acc: 0.9044\n",
      "Epoch 44/100\n",
      "400/400 [==============================] - 650s 2s/step - loss: 0.2215 - acc: 0.9089 - val_loss: 0.1669 - val_acc: 0.9368\n",
      "Epoch 45/100\n",
      "400/400 [==============================] - 650s 2s/step - loss: 0.2207 - acc: 0.9088 - val_loss: 0.1668 - val_acc: 0.9368\n",
      "Epoch 46/100\n",
      "400/400 [==============================] - 651s 2s/step - loss: 0.2102 - acc: 0.9121 - val_loss: 0.1815 - val_acc: 0.9348\n",
      "Epoch 47/100\n",
      "400/400 [==============================] - 651s 2s/step - loss: 0.2121 - acc: 0.9136 - val_loss: 0.1785 - val_acc: 0.9288\n",
      "Epoch 48/100\n",
      "400/400 [==============================] - 651s 2s/step - loss: 0.2106 - acc: 0.9151 - val_loss: 0.1682 - val_acc: 0.9332\n",
      "Epoch 49/100\n",
      "400/400 [==============================] - 651s 2s/step - loss: 0.2105 - acc: 0.9146 - val_loss: 0.1826 - val_acc: 0.9300\n",
      "Epoch 50/100\n",
      "400/400 [==============================] - 651s 2s/step - loss: 0.2068 - acc: 0.9169 - val_loss: 0.2786 - val_acc: 0.9104\n",
      "Epoch 51/100\n",
      "400/400 [==============================] - 651s 2s/step - loss: 0.2039 - acc: 0.9175 - val_loss: 0.1808 - val_acc: 0.9280\n",
      "Epoch 52/100\n",
      "400/400 [==============================] - 650s 2s/step - loss: 0.2075 - acc: 0.9147 - val_loss: 0.1638 - val_acc: 0.9344\n",
      "Epoch 53/100\n",
      "400/400 [==============================] - 651s 2s/step - loss: 0.2056 - acc: 0.9145 - val_loss: 0.1763 - val_acc: 0.9336\n",
      "Epoch 54/100\n",
      "400/400 [==============================] - 668s 2s/step - loss: 0.2059 - acc: 0.9165 - val_loss: 0.1845 - val_acc: 0.9288\n",
      "Epoch 55/100\n",
      "400/400 [==============================] - 651s 2s/step - loss: 0.2059 - acc: 0.9175 - val_loss: 0.1719 - val_acc: 0.9276\n",
      "Epoch 56/100\n",
      "400/400 [==============================] - 651s 2s/step - loss: 0.2035 - acc: 0.9168 - val_loss: 0.3598 - val_acc: 0.8832\n",
      "Epoch 57/100\n",
      "400/400 [==============================] - 650s 2s/step - loss: 0.1994 - acc: 0.9207 - val_loss: 0.2929 - val_acc: 0.9036\n",
      "Epoch 58/100\n",
      "400/400 [==============================] - 650s 2s/step - loss: 0.2024 - acc: 0.9183 - val_loss: 0.1640 - val_acc: 0.9408\n",
      "Epoch 59/100\n",
      "400/400 [==============================] - 651s 2s/step - loss: 0.1997 - acc: 0.9198 - val_loss: 0.1563 - val_acc: 0.9372\n",
      "Epoch 60/100\n",
      "400/400 [==============================] - 651s 2s/step - loss: 0.2005 - acc: 0.9198 - val_loss: 0.2321 - val_acc: 0.9056\n",
      "Epoch 61/100\n",
      "400/400 [==============================] - 652s 2s/step - loss: 0.2058 - acc: 0.9175 - val_loss: 0.1541 - val_acc: 0.9420\n"
     ]
    },
    {
     "name": "stdout",
     "output_type": "stream",
     "text": [
      "Epoch 62/100\n",
      "400/400 [==============================] - 651s 2s/step - loss: 0.2025 - acc: 0.9190 - val_loss: 0.1901 - val_acc: 0.9244\n",
      "Epoch 63/100\n",
      "400/400 [==============================] - 651s 2s/step - loss: 0.2020 - acc: 0.9172 - val_loss: 0.1543 - val_acc: 0.9416\n",
      "Epoch 64/100\n",
      "400/400 [==============================] - 651s 2s/step - loss: 0.1978 - acc: 0.9200 - val_loss: 0.2509 - val_acc: 0.9088\n",
      "Epoch 65/100\n",
      "400/400 [==============================] - 652s 2s/step - loss: 0.1963 - acc: 0.9208 - val_loss: 0.1589 - val_acc: 0.9428\n",
      "Epoch 66/100\n",
      "400/400 [==============================] - 652s 2s/step - loss: 0.1979 - acc: 0.9204 - val_loss: 0.1732 - val_acc: 0.9364\n",
      "Epoch 67/100\n",
      "400/400 [==============================] - 651s 2s/step - loss: 0.1968 - acc: 0.9210 - val_loss: 0.1599 - val_acc: 0.9468\n",
      "Epoch 68/100\n",
      "400/400 [==============================] - 652s 2s/step - loss: 0.2004 - acc: 0.9176 - val_loss: 0.1444 - val_acc: 0.9448\n",
      "Epoch 69/100\n",
      "400/400 [==============================] - 652s 2s/step - loss: 0.1969 - acc: 0.9209 - val_loss: 0.1477 - val_acc: 0.9404\n",
      "Epoch 70/100\n",
      "400/400 [==============================] - 652s 2s/step - loss: 0.2023 - acc: 0.9197 - val_loss: 0.2448 - val_acc: 0.9016\n",
      "Epoch 71/100\n",
      "400/400 [==============================] - 651s 2s/step - loss: 0.1994 - acc: 0.9195 - val_loss: 0.1725 - val_acc: 0.9328\n",
      "Epoch 72/100\n",
      "400/400 [==============================] - 651s 2s/step - loss: 0.2062 - acc: 0.9180 - val_loss: 0.1514 - val_acc: 0.9440\n",
      "Epoch 73/100\n",
      "400/400 [==============================] - 651s 2s/step - loss: 0.2030 - acc: 0.9190 - val_loss: 0.1429 - val_acc: 0.9504\n",
      "Epoch 74/100\n",
      "400/400 [==============================] - 652s 2s/step - loss: 0.2048 - acc: 0.9182 - val_loss: 0.3422 - val_acc: 0.8920\n",
      "Epoch 75/100\n",
      "400/400 [==============================] - 652s 2s/step - loss: 0.2045 - acc: 0.9180 - val_loss: 0.1405 - val_acc: 0.9468\n",
      "Epoch 76/100\n",
      "400/400 [==============================] - 651s 2s/step - loss: 0.1979 - acc: 0.9211 - val_loss: 0.1610 - val_acc: 0.9416\n",
      "Epoch 77/100\n",
      "400/400 [==============================] - 651s 2s/step - loss: 0.1973 - acc: 0.9208 - val_loss: 0.3996 - val_acc: 0.9036\n",
      "Epoch 78/100\n",
      "400/400 [==============================] - 651s 2s/step - loss: 0.1966 - acc: 0.9192 - val_loss: 0.1790 - val_acc: 0.9296\n",
      "Epoch 79/100\n",
      "400/400 [==============================] - 651s 2s/step - loss: 0.1981 - acc: 0.9204 - val_loss: 0.1431 - val_acc: 0.9448\n",
      "Epoch 80/100\n",
      "400/400 [==============================] - 651s 2s/step - loss: 0.1996 - acc: 0.9207 - val_loss: 0.1328 - val_acc: 0.9448\n",
      "Epoch 81/100\n",
      "400/400 [==============================] - 651s 2s/step - loss: 0.1984 - acc: 0.9217 - val_loss: 0.1475 - val_acc: 0.9472\n",
      "Epoch 82/100\n",
      "400/400 [==============================] - 652s 2s/step - loss: 0.2028 - acc: 0.9197 - val_loss: 0.1634 - val_acc: 0.9376\n",
      "Epoch 83/100\n",
      "400/400 [==============================] - 651s 2s/step - loss: 0.1975 - acc: 0.9223 - val_loss: 0.1374 - val_acc: 0.9464\n",
      "Epoch 84/100\n",
      "400/400 [==============================] - 652s 2s/step - loss: 0.2016 - acc: 0.9198 - val_loss: 0.1539 - val_acc: 0.9380\n",
      "Epoch 85/100\n",
      "400/400 [==============================] - 652s 2s/step - loss: 0.1993 - acc: 0.9208 - val_loss: 0.1730 - val_acc: 0.9348\n",
      "Epoch 86/100\n",
      "400/400 [==============================] - 651s 2s/step - loss: 0.2021 - acc: 0.9204 - val_loss: 0.2136 - val_acc: 0.9392\n",
      "Epoch 87/100\n",
      "400/400 [==============================] - 652s 2s/step - loss: 0.1969 - acc: 0.9197 - val_loss: 0.1397 - val_acc: 0.9516\n",
      "Epoch 88/100\n",
      "400/400 [==============================] - 651s 2s/step - loss: 0.2025 - acc: 0.9184 - val_loss: 0.2014 - val_acc: 0.9316\n",
      "Epoch 89/100\n",
      "400/400 [==============================] - 651s 2s/step - loss: 0.2014 - acc: 0.9190 - val_loss: 0.1457 - val_acc: 0.9400\n",
      "Epoch 90/100\n",
      "400/400 [==============================] - 652s 2s/step - loss: 0.2055 - acc: 0.9201 - val_loss: 0.1562 - val_acc: 0.9392\n"
     ]
    }
   ],
   "source": [
    "model.compile(loss=\"binary_crossentropy\", \n",
    "              optimizer=keras.optimizers.RMSprop(lr=1e-4), \n",
    "              metrics=[\"acc\"])\n",
    "\n",
    "\n",
    "model_file = os.path.join(MODEL_DIR, \"dogcat_model_01_aug.h5\")\n",
    "\n",
    "early_stopping_cb = keras.callbacks.EarlyStopping(patience=10, restore_best_weights=True)\n",
    "#chkp_cb = keras.callbacks.ModelCheckpoint(model_file, save_best_only=True)\n",
    "\n",
    "history = model.fit_generator(train_generator, \n",
    "                              steps_per_epoch=TRAIN_SIZE // batch_size, \n",
    "                              epochs=100,\n",
    "                              validation_data=valid_generator, \n",
    "                              validation_steps=VAL_SIZE // batch_size,\n",
    "                              callbacks=[early_stopping_cb])\n",
    "\n",
    "model.save(model_file)"
   ]
  },
  {
   "cell_type": "code",
   "execution_count": 51,
   "metadata": {},
   "outputs": [
    {
     "data": {
      "text/plain": [
       "<matplotlib.legend.Legend at 0x7f6adf890590>"
      ]
     },
     "execution_count": 51,
     "metadata": {},
     "output_type": "execute_result"
    },
    {
     "data": {
      "image/png": "[encoded data removed]",
      "text/plain": [
       "<Figure size 720x288 with 2 Axes>"
      ]
     },
     "metadata": {
      "needs_background": "light"
     },
     "output_type": "display_data"
    }
   ],
   "source": [
    "fig, ax = plt.subplots(nrows=1, ncols=2, figsize=(10, 4))\n",
    "\n",
    "ax[0].plot(history.history[\"loss\"], label=\"loss\")\n",
    "ax[0].plot(history.history[\"val_loss\"], label=\"val_loss\")\n",
    "ax[0].legend()\n",
    "\n",
    "ax[1].plot(history.history[\"acc\"], label=\"acc\")\n",
    "ax[1].plot(history.history[\"val_acc\"], label=\"val_acc\")\n",
    "ax[1].legend()"
   ]
  },
  {
   "cell_type": "code",
   "execution_count": 52,
   "metadata": {},
   "outputs": [
    {
     "name": "stdout",
     "output_type": "stream",
     "text": [
      "Train acc: 0.9435\n",
      "Validation acc: 0.9448\n",
      "Test acc: 0.9496\n"
     ]
    }
   ],
   "source": [
    "_, acc_train = model.evaluate(train_generator, steps=TRAIN_SIZE // batch_size, verbose=0)\n",
    "print(\"Train acc: %0.4f\" %acc_train)\n",
    "\n",
    "\n",
    "_, acc_val = model.evaluate(valid_generator, steps=VAL_SIZE // batch_size, verbose=0)\n",
    "print(\"Validation acc: %0.4f\" %acc_val)\n",
    "\n",
    "\n",
    "_, acc_test = model.evaluate(test_generator, steps=TEST_SIZE // batch_size, verbose=0)\n",
    "print(\"Test acc: %0.4f\" %acc_test)"
   ]
  },
  {
   "cell_type": "code",
   "execution_count": null,
   "metadata": {},
   "outputs": [],
   "source": []
  },
  {
   "cell_type": "markdown",
   "metadata": {},
   "source": [
    "# ResNet 34\n",
    "Also use data augmentation here."
   ]
  },
  {
   "cell_type": "code",
   "execution_count": 100,
   "metadata": {},
   "outputs": [
    {
     "name": "stdout",
     "output_type": "stream",
     "text": [
      "Found 20000 images belonging to 2 classes.\n",
      "Found 2500 images belonging to 2 classes.\n",
      "Found 2500 images belonging to 2 classes.\n"
     ]
    }
   ],
   "source": [
    "tf.random.set_seed(321)\n",
    "np.random.seed(591)\n",
    "\n",
    "train_datagen = keras.preprocessing.image.ImageDataGenerator(rescale=1./255,\n",
    "                                                            rotation_range=40,\n",
    "                                                            width_shift_range=0.2,\n",
    "                                                            height_shift_range=0.2,\n",
    "                                                            shear_range=0.2,\n",
    "                                                            zoom_range=0.2,\n",
    "                                                            horizontal_flip=True)\n",
    "\n",
    "test_datagen = keras.preprocessing.image.ImageDataGenerator(rescale=1./255)\n",
    "\n",
    "batch_size = 50\n",
    "\n",
    "train_generator = train_datagen.flow_from_directory(train_dir, \n",
    "                                              target_size=(HEIGHT, WIDTH),\n",
    "                                              classes=[\"cats\", \"dogs\"], \n",
    "                                              class_mode=\"binary\",\n",
    "                                              batch_size=batch_size)\n",
    "\n",
    "valid_generator = test_datagen.flow_from_directory(valid_dir, \n",
    "                                              target_size=(HEIGHT, WIDTH),\n",
    "                                              classes=[\"cats\", \"dogs\"], \n",
    "                                              class_mode=\"binary\",\n",
    "                                              batch_size=batch_size)\n",
    "\n",
    "test_generator = test_datagen.flow_from_directory(test_dir, \n",
    "                                              target_size=(HEIGHT, WIDTH),\n",
    "                                              classes=[\"cats\", \"dogs\"], \n",
    "                                              class_mode=\"binary\",\n",
    "                                              batch_size=batch_size)"
   ]
  },
  {
   "cell_type": "code",
   "execution_count": 101,
   "metadata": {},
   "outputs": [],
   "source": [
    "DefaultConv2D = partial(keras.layers.Conv2D, kernel_size=3, strides=1, padding=\"SAME\", use_bias=False)\n",
    "\n",
    "class ResidualUnit(keras.layers.Layer):\n",
    "    def __init__(self, filters, strides=1, activation=\"relu\", **kwargs):\n",
    "        super().__init__(**kwargs)\n",
    "        \n",
    "        self._activation = keras.activations.get(activation)\n",
    "        self._main_layers = []\n",
    "        self._main_layers.append(DefaultConv2D(filters, strides=strides))\n",
    "        self._main_layers.append(keras.layers.BatchNormalization())\n",
    "        self._main_layers.append(self._activation)\n",
    "        self._main_layers.append(DefaultConv2D(filters))\n",
    "        self._main_layers.append(keras.layers.BatchNormalization())\n",
    "        \n",
    "        self._skip_layers = []\n",
    "        # if strides > 1, the spatial dim (w, h) of the output is smaller than that of input \n",
    "        if strides > 1:\n",
    "            self._skip_layers.append(DefaultConv2D(filters, kernel_size=1, strides=strides))\n",
    "            self._skip_layers.append(keras.layers.BatchNormalization())\n",
    "    \n",
    "    def call(self, inputs):\n",
    "        Z = inputs\n",
    "        \n",
    "        for layer in self._main_layers:\n",
    "            Z = layer(Z)\n",
    "        \n",
    "        skip_Z = inputs\n",
    "        for layer in self._skip_layers:\n",
    "            skip_Z = layer(skip_Z)\n",
    "        return self._activation(Z + skip_Z)\n"
   ]
  },
  {
   "cell_type": "code",
   "execution_count": 102,
   "metadata": {},
   "outputs": [
    {
     "data": {
      "text/plain": [
       "16"
      ]
     },
     "execution_count": 102,
     "metadata": {},
     "output_type": "execute_result"
    }
   ],
   "source": [
    "filters_list = [64] * 3 + [128] * 4 + [256] * 6 + [512] * 3\n",
    "len(filters_list)"
   ]
  },
  {
   "cell_type": "code",
   "execution_count": 103,
   "metadata": {},
   "outputs": [
    {
     "data": {
      "text/plain": [
       "[64, 64, 64, 128, 128, 128, 128, 256, 256, 256, 256, 256, 256, 512, 512, 512]"
      ]
     },
     "execution_count": 103,
     "metadata": {},
     "output_type": "execute_result"
    }
   ],
   "source": [
    "filters_list"
   ]
  },
  {
   "cell_type": "code",
   "execution_count": 104,
   "metadata": {},
   "outputs": [
    {
     "name": "stdout",
     "output_type": "stream",
     "text": [
      "Model: \"sequential\"\n",
      "_________________________________________________________________\n",
      "Layer (type)                 Output Shape              Param #   \n",
      "=================================================================\n",
      "conv2d (Conv2D)              (None, 150, 150, 64)      9408      \n",
      "_________________________________________________________________\n",
      "batch_normalization (BatchNo (None, 150, 150, 64)      256       \n",
      "_________________________________________________________________\n",
      "activation (Activation)      (None, 150, 150, 64)      0         \n",
      "_________________________________________________________________\n",
      "max_pooling2d (MaxPooling2D) (None, 75, 75, 64)        0         \n",
      "_________________________________________________________________\n",
      "residual_unit (ResidualUnit) (None, 75, 75, 64)        74240     \n",
      "_________________________________________________________________\n",
      "residual_unit_1 (ResidualUni (None, 75, 75, 64)        74240     \n",
      "_________________________________________________________________\n",
      "residual_unit_2 (ResidualUni (None, 75, 75, 64)        74240     \n",
      "_________________________________________________________________\n",
      "residual_unit_3 (ResidualUni (None, 38, 38, 128)       230912    \n",
      "_________________________________________________________________\n",
      "residual_unit_4 (ResidualUni (None, 38, 38, 128)       295936    \n",
      "_________________________________________________________________\n",
      "residual_unit_5 (ResidualUni (None, 38, 38, 128)       295936    \n",
      "_________________________________________________________________\n",
      "residual_unit_6 (ResidualUni (None, 38, 38, 128)       295936    \n",
      "_________________________________________________________________\n",
      "residual_unit_7 (ResidualUni (None, 19, 19, 256)       920576    \n",
      "_________________________________________________________________\n",
      "residual_unit_8 (ResidualUni (None, 19, 19, 256)       1181696   \n",
      "_________________________________________________________________\n",
      "residual_unit_9 (ResidualUni (None, 19, 19, 256)       1181696   \n",
      "_________________________________________________________________\n",
      "residual_unit_10 (ResidualUn (None, 19, 19, 256)       1181696   \n",
      "_________________________________________________________________\n",
      "residual_unit_11 (ResidualUn (None, 19, 19, 256)       1181696   \n",
      "_________________________________________________________________\n",
      "residual_unit_12 (ResidualUn (None, 19, 19, 256)       1181696   \n",
      "_________________________________________________________________\n",
      "residual_unit_13 (ResidualUn (None, 10, 10, 512)       3676160   \n",
      "_________________________________________________________________\n",
      "residual_unit_14 (ResidualUn (None, 10, 10, 512)       4722688   \n",
      "_________________________________________________________________\n",
      "residual_unit_15 (ResidualUn (None, 10, 10, 512)       4722688   \n",
      "_________________________________________________________________\n",
      "global_average_pooling2d (Gl (None, 512)               0         \n",
      "_________________________________________________________________\n",
      "flatten (Flatten)            (None, 512)               0         \n",
      "_________________________________________________________________\n",
      "dense (Dense)                (None, 1)                 513       \n",
      "=================================================================\n",
      "Total params: 21,302,209\n",
      "Trainable params: 21,285,185\n",
      "Non-trainable params: 17,024\n",
      "_________________________________________________________________\n"
     ]
    }
   ],
   "source": [
    "keras.backend.clear_session()\n",
    "tf.random.set_seed(320)\n",
    "np.random.seed(439)\n",
    "\n",
    "model = keras.models.Sequential()\n",
    "model.add(DefaultConv2D(filters=64, kernel_size=7, strides=2, input_shape=(HEIGHT, WIDTH, 3)))\n",
    "model.add(keras.layers.BatchNormalization())\n",
    "model.add(keras.layers.Activation(\"relu\"))\n",
    "model.add(keras.layers.MaxPool2D(pool_size=3, strides=2, padding=\"SAME\"))\n",
    "\n",
    "prev_filters = 64\n",
    "for filters in filters_list:\n",
    "    if filters == prev_filters:\n",
    "        strides = 1\n",
    "    else:\n",
    "        strides = 2\n",
    "    \n",
    "    model.add(ResidualUnit(filters, strides=strides))\n",
    "    prev_filters = filters\n",
    "\n",
    "model.add(keras.layers.GlobalAveragePooling2D())\n",
    "model.add(keras.layers.Flatten())\n",
    "model.add(keras.layers.Dense(1, activation=\"sigmoid\"))\n",
    "\n",
    "model.summary()"
   ]
  },
  {
   "cell_type": "code",
   "execution_count": 105,
   "metadata": {},
   "outputs": [
    {
     "name": "stdout",
     "output_type": "stream",
     "text": [
      "Epoch 1/200\n",
      "400/400 [==============================] - 438s 1s/step - loss: 0.6226 - acc: 0.6527 - val_loss: 1.0283 - val_acc: 0.5160\n",
      "Epoch 2/200\n",
      "400/400 [==============================] - 438s 1s/step - loss: 0.5337 - acc: 0.7293 - val_loss: 0.7698 - val_acc: 0.6592\n",
      "Epoch 3/200\n",
      "400/400 [==============================] - 438s 1s/step - loss: 0.4588 - acc: 0.7799 - val_loss: 1.0214 - val_acc: 0.5188\n",
      "Epoch 4/200\n",
      "400/400 [==============================] - 438s 1s/step - loss: 0.3794 - acc: 0.8276 - val_loss: 0.6839 - val_acc: 0.6240\n",
      "Epoch 5/200\n",
      "400/400 [==============================] - 438s 1s/step - loss: 0.3124 - acc: 0.8618 - val_loss: 0.4142 - val_acc: 0.8212\n",
      "Epoch 6/200\n",
      "400/400 [==============================] - 438s 1s/step - loss: 0.2743 - acc: 0.8789 - val_loss: 0.2682 - val_acc: 0.8904\n",
      "Epoch 7/200\n",
      "400/400 [==============================] - 437s 1s/step - loss: 0.2466 - acc: 0.8938 - val_loss: 0.2673 - val_acc: 0.8876\n",
      "Epoch 8/200\n",
      "400/400 [==============================] - 438s 1s/step - loss: 0.2248 - acc: 0.9043 - val_loss: 0.3651 - val_acc: 0.8880\n",
      "Epoch 9/200\n",
      "400/400 [==============================] - 438s 1s/step - loss: 0.2114 - acc: 0.9104 - val_loss: 0.2589 - val_acc: 0.8896\n",
      "Epoch 10/200\n",
      "400/400 [==============================] - 438s 1s/step - loss: 0.1919 - acc: 0.9188 - val_loss: 0.2023 - val_acc: 0.9172\n",
      "Epoch 11/200\n",
      "400/400 [==============================] - 439s 1s/step - loss: 0.1812 - acc: 0.9222 - val_loss: 0.1995 - val_acc: 0.9208\n",
      "Epoch 12/200\n",
      "400/400 [==============================] - 438s 1s/step - loss: 0.1723 - acc: 0.9283 - val_loss: 0.5056 - val_acc: 0.7408\n",
      "Epoch 13/200\n",
      "400/400 [==============================] - 437s 1s/step - loss: 0.1631 - acc: 0.9323 - val_loss: 0.3612 - val_acc: 0.8592\n",
      "Epoch 14/200\n",
      "400/400 [==============================] - 438s 1s/step - loss: 0.1555 - acc: 0.9352 - val_loss: 0.1492 - val_acc: 0.9392\n",
      "Epoch 15/200\n",
      "400/400 [==============================] - 438s 1s/step - loss: 0.1517 - acc: 0.9359 - val_loss: 0.1535 - val_acc: 0.9320\n",
      "Epoch 16/200\n",
      "400/400 [==============================] - 438s 1s/step - loss: 0.1445 - acc: 0.9398 - val_loss: 0.1828 - val_acc: 0.9228\n",
      "Epoch 17/200\n",
      "400/400 [==============================] - 438s 1s/step - loss: 0.1377 - acc: 0.9434 - val_loss: 0.1633 - val_acc: 0.9352\n",
      "Epoch 18/200\n",
      "400/400 [==============================] - 438s 1s/step - loss: 0.1310 - acc: 0.9456 - val_loss: 0.2454 - val_acc: 0.9176\n",
      "Epoch 19/200\n",
      "400/400 [==============================] - 437s 1s/step - loss: 0.1280 - acc: 0.9452 - val_loss: 0.1610 - val_acc: 0.9336\n",
      "Epoch 20/200\n",
      "400/400 [==============================] - 438s 1s/step - loss: 0.1231 - acc: 0.9491 - val_loss: 0.2516 - val_acc: 0.8944\n",
      "Epoch 21/200\n",
      "400/400 [==============================] - 438s 1s/step - loss: 0.1186 - acc: 0.9515 - val_loss: 0.1103 - val_acc: 0.9584\n",
      "Epoch 22/200\n",
      "400/400 [==============================] - 438s 1s/step - loss: 0.1169 - acc: 0.9527 - val_loss: 0.3324 - val_acc: 0.8748\n",
      "Epoch 23/200\n",
      "400/400 [==============================] - 438s 1s/step - loss: 0.1089 - acc: 0.9553 - val_loss: 0.1286 - val_acc: 0.9480\n",
      "Epoch 24/200\n",
      "400/400 [==============================] - 438s 1s/step - loss: 0.1121 - acc: 0.9550 - val_loss: 0.1337 - val_acc: 0.9448\n",
      "Epoch 25/200\n",
      "400/400 [==============================] - 438s 1s/step - loss: 0.1036 - acc: 0.9589 - val_loss: 0.1135 - val_acc: 0.9520\n",
      "Epoch 26/200\n",
      "400/400 [==============================] - 437s 1s/step - loss: 0.1044 - acc: 0.9584 - val_loss: 0.1103 - val_acc: 0.9544\n",
      "Epoch 27/200\n",
      "400/400 [==============================] - 438s 1s/step - loss: 0.0992 - acc: 0.9592 - val_loss: 0.1096 - val_acc: 0.9548\n",
      "Epoch 28/200\n",
      "400/400 [==============================] - 437s 1s/step - loss: 0.0975 - acc: 0.9608 - val_loss: 0.1701 - val_acc: 0.9408\n",
      "Epoch 29/200\n",
      "400/400 [==============================] - 438s 1s/step - loss: 0.0963 - acc: 0.9620 - val_loss: 0.0951 - val_acc: 0.9592\n",
      "Epoch 30/200\n",
      "400/400 [==============================] - 437s 1s/step - loss: 0.0893 - acc: 0.9639 - val_loss: 0.1268 - val_acc: 0.9528\n",
      "Epoch 31/200\n",
      "400/400 [==============================] - 438s 1s/step - loss: 0.0924 - acc: 0.9628 - val_loss: 0.1431 - val_acc: 0.9396\n",
      "Epoch 32/200\n",
      "400/400 [==============================] - 437s 1s/step - loss: 0.0840 - acc: 0.9657 - val_loss: 0.1055 - val_acc: 0.9592\n",
      "Epoch 33/200\n",
      "400/400 [==============================] - 438s 1s/step - loss: 0.0875 - acc: 0.9648 - val_loss: 0.1198 - val_acc: 0.9552\n",
      "Epoch 34/200\n",
      "400/400 [==============================] - 437s 1s/step - loss: 0.0855 - acc: 0.9651 - val_loss: 0.1962 - val_acc: 0.9344\n",
      "Epoch 35/200\n",
      "400/400 [==============================] - 437s 1s/step - loss: 0.0808 - acc: 0.9680 - val_loss: 0.1765 - val_acc: 0.9336\n",
      "Epoch 36/200\n",
      "400/400 [==============================] - 438s 1s/step - loss: 0.0799 - acc: 0.9664 - val_loss: 0.1373 - val_acc: 0.9528\n",
      "Epoch 37/200\n",
      "400/400 [==============================] - 437s 1s/step - loss: 0.0750 - acc: 0.9711 - val_loss: 0.1194 - val_acc: 0.9492\n",
      "Epoch 38/200\n",
      "400/400 [==============================] - 438s 1s/step - loss: 0.0730 - acc: 0.9696 - val_loss: 0.1050 - val_acc: 0.9596\n",
      "Epoch 39/200\n",
      "400/400 [==============================] - 437s 1s/step - loss: 0.0769 - acc: 0.9692 - val_loss: 0.1787 - val_acc: 0.9376\n",
      "Epoch 40/200\n",
      "400/400 [==============================] - 438s 1s/step - loss: 0.0777 - acc: 0.9690 - val_loss: 0.1041 - val_acc: 0.9576\n",
      "Epoch 41/200\n",
      "400/400 [==============================] - 438s 1s/step - loss: 0.0654 - acc: 0.9742 - val_loss: 0.1075 - val_acc: 0.9548\n",
      "Epoch 42/200\n",
      "400/400 [==============================] - 438s 1s/step - loss: 0.0720 - acc: 0.9723 - val_loss: 0.1035 - val_acc: 0.9576\n",
      "Epoch 43/200\n",
      "400/400 [==============================] - 438s 1s/step - loss: 0.0703 - acc: 0.9718 - val_loss: 0.0903 - val_acc: 0.9660\n",
      "Epoch 44/200\n",
      "400/400 [==============================] - 438s 1s/step - loss: 0.0677 - acc: 0.9732 - val_loss: 0.1302 - val_acc: 0.9456\n",
      "Epoch 45/200\n",
      "400/400 [==============================] - 438s 1s/step - loss: 0.0680 - acc: 0.9726 - val_loss: 0.0958 - val_acc: 0.9564\n",
      "Epoch 46/200\n",
      "400/400 [==============================] - 437s 1s/step - loss: 0.0656 - acc: 0.9741 - val_loss: 0.2375 - val_acc: 0.9252\n",
      "Epoch 47/200\n",
      "400/400 [==============================] - 437s 1s/step - loss: 0.0621 - acc: 0.9751 - val_loss: 0.0813 - val_acc: 0.9636\n",
      "Epoch 48/200\n",
      "400/400 [==============================] - 438s 1s/step - loss: 0.0613 - acc: 0.9760 - val_loss: 0.1364 - val_acc: 0.9512\n",
      "Epoch 49/200\n",
      "400/400 [==============================] - 438s 1s/step - loss: 0.0591 - acc: 0.9769 - val_loss: 0.1356 - val_acc: 0.9552\n",
      "Epoch 50/200\n",
      "400/400 [==============================] - 438s 1s/step - loss: 0.0598 - acc: 0.9765 - val_loss: 0.0955 - val_acc: 0.9644\n",
      "Epoch 51/200\n",
      "400/400 [==============================] - 437s 1s/step - loss: 0.0589 - acc: 0.9768 - val_loss: 0.0978 - val_acc: 0.9584\n",
      "Epoch 52/200\n",
      "400/400 [==============================] - 437s 1s/step - loss: 0.0615 - acc: 0.9759 - val_loss: 0.0925 - val_acc: 0.9684\n",
      "Epoch 53/200\n",
      "400/400 [==============================] - 437s 1s/step - loss: 0.0588 - acc: 0.9752 - val_loss: 0.1065 - val_acc: 0.9568\n",
      "Epoch 54/200\n",
      "400/400 [==============================] - 438s 1s/step - loss: 0.0533 - acc: 0.9790 - val_loss: 0.1252 - val_acc: 0.9600\n",
      "Epoch 55/200\n",
      "400/400 [==============================] - 437s 1s/step - loss: 0.0538 - acc: 0.9785 - val_loss: 0.1127 - val_acc: 0.9592\n",
      "Epoch 56/200\n",
      "400/400 [==============================] - 438s 1s/step - loss: 0.0561 - acc: 0.9775 - val_loss: 0.1424 - val_acc: 0.9488\n",
      "Epoch 57/200\n",
      "400/400 [==============================] - 438s 1s/step - loss: 0.0522 - acc: 0.9793 - val_loss: 0.1447 - val_acc: 0.9504\n",
      "Epoch 58/200\n",
      "400/400 [==============================] - 438s 1s/step - loss: 0.0541 - acc: 0.9780 - val_loss: 0.0861 - val_acc: 0.9688\n",
      "Epoch 59/200\n",
      "400/400 [==============================] - 438s 1s/step - loss: 0.0507 - acc: 0.9794 - val_loss: 0.1381 - val_acc: 0.9520\n",
      "Epoch 60/200\n",
      "400/400 [==============================] - 438s 1s/step - loss: 0.0519 - acc: 0.9797 - val_loss: 0.1370 - val_acc: 0.9416\n",
      "Epoch 61/200\n",
      "400/400 [==============================] - 438s 1s/step - loss: 0.0484 - acc: 0.9812 - val_loss: 0.1416 - val_acc: 0.9560\n"
     ]
    },
    {
     "name": "stdout",
     "output_type": "stream",
     "text": [
      "Epoch 62/200\n",
      "400/400 [==============================] - 438s 1s/step - loss: 0.0508 - acc: 0.9815 - val_loss: 0.0792 - val_acc: 0.9700\n",
      "Epoch 63/200\n",
      "400/400 [==============================] - 438s 1s/step - loss: 0.0488 - acc: 0.9801 - val_loss: 0.1030 - val_acc: 0.9620\n",
      "Epoch 64/200\n",
      "400/400 [==============================] - 438s 1s/step - loss: 0.0475 - acc: 0.9807 - val_loss: 0.1064 - val_acc: 0.9620\n",
      "Epoch 65/200\n",
      "400/400 [==============================] - 437s 1s/step - loss: 0.0485 - acc: 0.9811 - val_loss: 0.0721 - val_acc: 0.9724\n",
      "Epoch 66/200\n",
      "400/400 [==============================] - 437s 1s/step - loss: 0.0470 - acc: 0.9819 - val_loss: 0.0816 - val_acc: 0.9688\n",
      "Epoch 67/200\n",
      "400/400 [==============================] - 438s 1s/step - loss: 0.0435 - acc: 0.9821 - val_loss: 0.1123 - val_acc: 0.9588\n",
      "Epoch 68/200\n",
      "400/400 [==============================] - 437s 1s/step - loss: 0.0467 - acc: 0.9811 - val_loss: 0.1284 - val_acc: 0.9616\n",
      "Epoch 69/200\n",
      "400/400 [==============================] - 437s 1s/step - loss: 0.0447 - acc: 0.9827 - val_loss: 0.0915 - val_acc: 0.9656\n",
      "Epoch 70/200\n",
      "400/400 [==============================] - 438s 1s/step - loss: 0.0458 - acc: 0.9818 - val_loss: 0.0850 - val_acc: 0.9692\n",
      "Epoch 71/200\n",
      "400/400 [==============================] - 438s 1s/step - loss: 0.0411 - acc: 0.9834 - val_loss: 0.1162 - val_acc: 0.9568\n",
      "Epoch 72/200\n",
      "400/400 [==============================] - 437s 1s/step - loss: 0.0432 - acc: 0.9826 - val_loss: 0.0804 - val_acc: 0.9668\n",
      "Epoch 73/200\n",
      "400/400 [==============================] - 437s 1s/step - loss: 0.0406 - acc: 0.9837 - val_loss: 0.0724 - val_acc: 0.9684\n",
      "Epoch 74/200\n",
      "400/400 [==============================] - 438s 1s/step - loss: 0.0447 - acc: 0.9826 - val_loss: 0.1300 - val_acc: 0.9576\n",
      "Epoch 75/200\n",
      "400/400 [==============================] - 438s 1s/step - loss: 0.0416 - acc: 0.9839 - val_loss: 0.1225 - val_acc: 0.9636\n",
      "Epoch 76/200\n",
      "400/400 [==============================] - 437s 1s/step - loss: 0.0395 - acc: 0.9844 - val_loss: 0.2328 - val_acc: 0.9264\n",
      "Epoch 77/200\n",
      "400/400 [==============================] - 438s 1s/step - loss: 0.0412 - acc: 0.9843 - val_loss: 0.0874 - val_acc: 0.9688\n",
      "Epoch 78/200\n",
      "400/400 [==============================] - 438s 1s/step - loss: 0.0397 - acc: 0.9843 - val_loss: 0.0903 - val_acc: 0.9720\n",
      "Epoch 79/200\n",
      "400/400 [==============================] - 437s 1s/step - loss: 0.0380 - acc: 0.9847 - val_loss: 0.0885 - val_acc: 0.9648\n",
      "Epoch 80/200\n",
      "400/400 [==============================] - 437s 1s/step - loss: 0.0369 - acc: 0.9856 - val_loss: 0.0837 - val_acc: 0.9680\n",
      "Epoch 81/200\n",
      "400/400 [==============================] - 437s 1s/step - loss: 0.0379 - acc: 0.9861 - val_loss: 0.1395 - val_acc: 0.9592\n",
      "Epoch 82/200\n",
      "400/400 [==============================] - 438s 1s/step - loss: 0.0374 - acc: 0.9861 - val_loss: 0.0828 - val_acc: 0.9708\n",
      "Epoch 83/200\n",
      "400/400 [==============================] - 437s 1s/step - loss: 0.0369 - acc: 0.9858 - val_loss: 0.0861 - val_acc: 0.9676\n",
      "Epoch 84/200\n",
      "400/400 [==============================] - 439s 1s/step - loss: 0.0345 - acc: 0.9862 - val_loss: 0.0714 - val_acc: 0.9764\n",
      "Epoch 85/200\n",
      "400/400 [==============================] - 438s 1s/step - loss: 0.0339 - acc: 0.9872 - val_loss: 0.1932 - val_acc: 0.9524\n",
      "Epoch 86/200\n",
      "400/400 [==============================] - 438s 1s/step - loss: 0.0356 - acc: 0.9860 - val_loss: 0.1100 - val_acc: 0.9636\n",
      "Epoch 87/200\n",
      "400/400 [==============================] - 438s 1s/step - loss: 0.0388 - acc: 0.9849 - val_loss: 0.0899 - val_acc: 0.9688\n",
      "Epoch 88/200\n",
      "400/400 [==============================] - 438s 1s/step - loss: 0.0307 - acc: 0.9883 - val_loss: 0.0936 - val_acc: 0.9688\n",
      "Epoch 89/200\n",
      "400/400 [==============================] - 438s 1s/step - loss: 0.0390 - acc: 0.9857 - val_loss: 0.0872 - val_acc: 0.9668\n",
      "Epoch 90/200\n",
      "400/400 [==============================] - 438s 1s/step - loss: 0.0326 - acc: 0.9880 - val_loss: 0.1223 - val_acc: 0.9604\n",
      "Epoch 91/200\n",
      "400/400 [==============================] - 438s 1s/step - loss: 0.0345 - acc: 0.9867 - val_loss: 0.1449 - val_acc: 0.9412\n",
      "Epoch 92/200\n",
      "400/400 [==============================] - 438s 1s/step - loss: 0.0361 - acc: 0.9858 - val_loss: 0.0992 - val_acc: 0.9684\n",
      "Epoch 93/200\n",
      "400/400 [==============================] - 438s 1s/step - loss: 0.0324 - acc: 0.9876 - val_loss: 0.1076 - val_acc: 0.9676\n",
      "Epoch 94/200\n",
      "400/400 [==============================] - 438s 1s/step - loss: 0.0302 - acc: 0.9886 - val_loss: 0.0920 - val_acc: 0.9704\n",
      "Epoch 95/200\n",
      "400/400 [==============================] - 438s 1s/step - loss: 0.0343 - acc: 0.9869 - val_loss: 0.1452 - val_acc: 0.9552\n",
      "Epoch 96/200\n",
      "400/400 [==============================] - 437s 1s/step - loss: 0.0322 - acc: 0.9878 - val_loss: 0.0847 - val_acc: 0.9720\n",
      "Epoch 97/200\n",
      "400/400 [==============================] - 437s 1s/step - loss: 0.0312 - acc: 0.9873 - val_loss: 0.0887 - val_acc: 0.9728\n",
      "Epoch 98/200\n",
      "400/400 [==============================] - 438s 1s/step - loss: 0.0282 - acc: 0.9895 - val_loss: 0.0782 - val_acc: 0.9696\n",
      "Epoch 99/200\n",
      "400/400 [==============================] - 438s 1s/step - loss: 0.0341 - acc: 0.9864 - val_loss: 0.0768 - val_acc: 0.9716\n",
      "Epoch 100/200\n",
      "400/400 [==============================] - 438s 1s/step - loss: 0.0299 - acc: 0.9887 - val_loss: 0.0998 - val_acc: 0.9684\n",
      "Epoch 101/200\n",
      "400/400 [==============================] - 438s 1s/step - loss: 0.0298 - acc: 0.9891 - val_loss: 0.1485 - val_acc: 0.9624\n",
      "Epoch 102/200\n",
      "400/400 [==============================] - 438s 1s/step - loss: 0.0302 - acc: 0.9882 - val_loss: 0.0686 - val_acc: 0.9768\n",
      "Epoch 103/200\n",
      "400/400 [==============================] - 439s 1s/step - loss: 0.0316 - acc: 0.9875 - val_loss: 0.1057 - val_acc: 0.9660\n",
      "Epoch 104/200\n",
      "400/400 [==============================] - 438s 1s/step - loss: 0.0288 - acc: 0.9890 - val_loss: 0.1018 - val_acc: 0.9724\n",
      "Epoch 105/200\n",
      "400/400 [==============================] - 438s 1s/step - loss: 0.0247 - acc: 0.9900 - val_loss: 0.1006 - val_acc: 0.9724\n",
      "Epoch 106/200\n",
      "400/400 [==============================] - 438s 1s/step - loss: 0.0304 - acc: 0.9883 - val_loss: 0.0726 - val_acc: 0.9728\n",
      "Epoch 107/200\n",
      "400/400 [==============================] - 438s 1s/step - loss: 0.0297 - acc: 0.9894 - val_loss: 0.0946 - val_acc: 0.9684\n",
      "Epoch 108/200\n",
      "400/400 [==============================] - 438s 1s/step - loss: 0.0278 - acc: 0.9894 - val_loss: 0.1334 - val_acc: 0.9584\n",
      "Epoch 109/200\n",
      "400/400 [==============================] - 439s 1s/step - loss: 0.0308 - acc: 0.9879 - val_loss: 0.0977 - val_acc: 0.9672\n",
      "Epoch 110/200\n",
      "400/400 [==============================] - 437s 1s/step - loss: 0.0278 - acc: 0.9895 - val_loss: 0.1176 - val_acc: 0.9660\n",
      "Epoch 111/200\n",
      "400/400 [==============================] - 438s 1s/step - loss: 0.0283 - acc: 0.9894 - val_loss: 0.0797 - val_acc: 0.9748\n",
      "Epoch 112/200\n",
      "400/400 [==============================] - 438s 1s/step - loss: 0.0280 - acc: 0.9890 - val_loss: 0.1198 - val_acc: 0.9664\n",
      "Epoch 113/200\n",
      "400/400 [==============================] - 438s 1s/step - loss: 0.0267 - acc: 0.9906 - val_loss: 0.1506 - val_acc: 0.9616\n",
      "Epoch 114/200\n",
      "400/400 [==============================] - 438s 1s/step - loss: 0.0270 - acc: 0.9901 - val_loss: 0.1262 - val_acc: 0.9656\n",
      "Epoch 115/200\n",
      "400/400 [==============================] - 438s 1s/step - loss: 0.0270 - acc: 0.9900 - val_loss: 0.1434 - val_acc: 0.9556\n",
      "Epoch 116/200\n",
      "400/400 [==============================] - 437s 1s/step - loss: 0.0252 - acc: 0.9900 - val_loss: 0.0829 - val_acc: 0.9748\n",
      "Epoch 117/200\n",
      "400/400 [==============================] - 438s 1s/step - loss: 0.0262 - acc: 0.9898 - val_loss: 0.1002 - val_acc: 0.9724\n",
      "Epoch 118/200\n",
      "400/400 [==============================] - 438s 1s/step - loss: 0.0254 - acc: 0.9904 - val_loss: 0.1305 - val_acc: 0.9628\n",
      "Epoch 119/200\n",
      "400/400 [==============================] - 438s 1s/step - loss: 0.0250 - acc: 0.9905 - val_loss: 0.0822 - val_acc: 0.9704\n",
      "Epoch 120/200\n",
      "400/400 [==============================] - 437s 1s/step - loss: 0.0258 - acc: 0.9903 - val_loss: 0.1063 - val_acc: 0.9708\n",
      "Epoch 121/200\n",
      "400/400 [==============================] - 438s 1s/step - loss: 0.0250 - acc: 0.9908 - val_loss: 0.0842 - val_acc: 0.9716\n",
      "Epoch 122/200\n"
     ]
    },
    {
     "name": "stdout",
     "output_type": "stream",
     "text": [
      "400/400 [==============================] - 438s 1s/step - loss: 0.0239 - acc: 0.9910 - val_loss: 0.1331 - val_acc: 0.9572\n"
     ]
    }
   ],
   "source": [
    "model.compile(loss=\"binary_crossentropy\", \n",
    "              optimizer=keras.optimizers.Adam(lr=1e-4), \n",
    "              metrics=[\"acc\"])\n",
    "\n",
    "\n",
    "model_file = os.path.join(MODEL_DIR, \"dogcat_resnet34_aug.h5\")\n",
    "\n",
    "early_stopping_cb = keras.callbacks.EarlyStopping(patience=20, restore_best_weights=True)\n",
    "#chkp_cb = keras.callbacks.ModelCheckpoint(model_file, save_best_only=True)\n",
    "\n",
    "history = model.fit_generator(train_generator, \n",
    "                              steps_per_epoch=TRAIN_SIZE // batch_size, \n",
    "                              epochs=200,\n",
    "                              validation_data=valid_generator, \n",
    "                              validation_steps=VAL_SIZE // batch_size,\n",
    "                              callbacks=[early_stopping_cb])\n"
   ]
  },
  {
   "cell_type": "code",
   "execution_count": 106,
   "metadata": {},
   "outputs": [
    {
     "data": {
      "text/plain": [
       "<matplotlib.legend.Legend at 0x7f6ac51ace50>"
      ]
     },
     "execution_count": 106,
     "metadata": {},
     "output_type": "execute_result"
    },
    {
     "data": {
      "image/png": "[encoded data removed]",
      "text/plain": [
       "<Figure size 720x288 with 2 Axes>"
      ]
     },
     "metadata": {
      "needs_background": "light"
     },
     "output_type": "display_data"
    }
   ],
   "source": [
    "fig, ax = plt.subplots(nrows=1, ncols=2, figsize=(10, 4))\n",
    "\n",
    "ax[0].plot(history.history[\"loss\"], label=\"loss\")\n",
    "ax[0].plot(history.history[\"val_loss\"], label=\"val_loss\")\n",
    "ax[0].legend()\n",
    "\n",
    "ax[1].plot(history.history[\"acc\"], label=\"acc\")\n",
    "ax[1].plot(history.history[\"val_acc\"], label=\"val_acc\")\n",
    "ax[1].legend()"
   ]
  },
  {
   "cell_type": "code",
   "execution_count": 107,
   "metadata": {},
   "outputs": [
    {
     "name": "stdout",
     "output_type": "stream",
     "text": [
      "Train acc: 0.9865\n",
      "Validation acc: 0.9768\n",
      "Test acc: 0.9776\n"
     ]
    }
   ],
   "source": [
    "_, acc_train = model.evaluate(train_generator, steps=TRAIN_SIZE // batch_size, verbose=0)\n",
    "print(\"Train acc: %0.4f\" %acc_train)\n",
    "\n",
    "\n",
    "_, acc_val = model.evaluate(valid_generator, steps=VAL_SIZE // batch_size, verbose=0)\n",
    "print(\"Validation acc: %0.4f\" %acc_val)\n",
    "\n",
    "\n",
    "_, acc_test = model.evaluate(test_generator, steps=TEST_SIZE // batch_size, verbose=0)\n",
    "print(\"Test acc: %0.4f\" %acc_test)"
   ]
  },
  {
   "cell_type": "code",
   "execution_count": null,
   "metadata": {},
   "outputs": [],
   "source": []
  },
  {
   "cell_type": "markdown",
   "metadata": {},
   "source": [
    "# Pretrained Xception model"
   ]
  },
  {
   "cell_type": "code",
   "execution_count": 127,
   "metadata": {},
   "outputs": [
    {
     "name": "stdout",
     "output_type": "stream",
     "text": [
      "Found 20000 images belonging to 2 classes.\n",
      "Found 2500 images belonging to 2 classes.\n",
      "Found 2500 images belonging to 2 classes.\n"
     ]
    }
   ],
   "source": [
    "tf.random.set_seed(321)\n",
    "np.random.seed(591)\n",
    "\n",
    "train_datagen = keras.preprocessing.image.ImageDataGenerator(rescale=1./255,\n",
    "                                                            rotation_range=40,\n",
    "                                                            width_shift_range=0.2,\n",
    "                                                            height_shift_range=0.2,\n",
    "                                                            shear_range=0.2,\n",
    "                                                            zoom_range=0.2,\n",
    "                                                            horizontal_flip=True)\n",
    "\n",
    "test_datagen = keras.preprocessing.image.ImageDataGenerator(rescale=1./255)\n",
    "\n",
    "batch_size = 50\n",
    "\n",
    "train_generator = train_datagen.flow_from_directory(train_dir, \n",
    "                                              target_size=(HEIGHT, WIDTH),\n",
    "                                              classes=[\"cats\", \"dogs\"], \n",
    "                                              class_mode=\"binary\",\n",
    "                                              batch_size=batch_size)\n",
    "\n",
    "valid_generator = test_datagen.flow_from_directory(valid_dir, \n",
    "                                              target_size=(HEIGHT, WIDTH),\n",
    "                                              classes=[\"cats\", \"dogs\"], \n",
    "                                              class_mode=\"binary\",\n",
    "                                              batch_size=batch_size)\n",
    "\n",
    "test_generator = test_datagen.flow_from_directory(test_dir, \n",
    "                                              target_size=(HEIGHT, WIDTH),\n",
    "                                              classes=[\"cats\", \"dogs\"], \n",
    "                                              class_mode=\"binary\",\n",
    "                                              batch_size=batch_size)"
   ]
  },
  {
   "cell_type": "code",
   "execution_count": 126,
   "metadata": {},
   "outputs": [],
   "source": [
    "conv_base = keras.applications.Xception(weights=\"imagenet\", \n",
    "                                        include_top=False,\n",
    "                                        input_shape=(HEIGHT, WIDTH, 3))"
   ]
  },
  {
   "cell_type": "code",
   "execution_count": 128,
   "metadata": {},
   "outputs": [
    {
     "name": "stdout",
     "output_type": "stream",
     "text": [
      "Model: \"sequential_3\"\n",
      "_________________________________________________________________\n",
      "Layer (type)                 Output Shape              Param #   \n",
      "=================================================================\n",
      "xception (Functional)        (None, 10, 10, 2048)      20861480  \n",
      "_________________________________________________________________\n",
      "flatten_3 (Flatten)          (None, 204800)            0         \n",
      "_________________________________________________________________\n",
      "dense_5 (Dense)              (None, 512)               104858112 \n",
      "_________________________________________________________________\n",
      "dense_6 (Dense)              (None, 1)                 513       \n",
      "=================================================================\n",
      "Total params: 125,720,105\n",
      "Trainable params: 125,665,577\n",
      "Non-trainable params: 54,528\n",
      "_________________________________________________________________\n"
     ]
    }
   ],
   "source": [
    "model = keras.models.Sequential()\n",
    "model.add(conv_base)\n",
    "model.add(keras.layers.Flatten())\n",
    "model.add(keras.layers.Dense(512, activation=\"relu\"))\n",
    "model.add(keras.layers.Dense(1, activation=\"sigmoid\"))\n",
    "\n",
    "model.summary()"
   ]
  },
  {
   "cell_type": "code",
   "execution_count": 129,
   "metadata": {},
   "outputs": [
    {
     "data": {
      "text/plain": [
       "158"
      ]
     },
     "execution_count": 129,
     "metadata": {},
     "output_type": "execute_result"
    }
   ],
   "source": [
    "len(model.trainable_weights)"
   ]
  },
  {
   "cell_type": "code",
   "execution_count": 130,
   "metadata": {},
   "outputs": [
    {
     "data": {
      "text/plain": [
       "4"
      ]
     },
     "execution_count": 130,
     "metadata": {},
     "output_type": "execute_result"
    }
   ],
   "source": [
    "# freeze conv_base\n",
    "conv_base.trainable = False\n",
    "len(model.trainable_weights)"
   ]
  },
  {
   "cell_type": "code",
   "execution_count": 131,
   "metadata": {},
   "outputs": [
    {
     "name": "stdout",
     "output_type": "stream",
     "text": [
      "Epoch 1/200\n",
      "400/400 [==============================] - 449s 1s/step - loss: 0.1035 - acc: 0.9776 - val_loss: 0.0400 - val_acc: 0.9896\n",
      "Epoch 2/200\n",
      "400/400 [==============================] - 448s 1s/step - loss: 0.0592 - acc: 0.9825 - val_loss: 0.0206 - val_acc: 0.9952\n",
      "Epoch 3/200\n",
      "400/400 [==============================] - 448s 1s/step - loss: 0.0434 - acc: 0.9845 - val_loss: 0.0242 - val_acc: 0.9920\n",
      "Epoch 4/200\n",
      "400/400 [==============================] - 448s 1s/step - loss: 0.0378 - acc: 0.9868 - val_loss: 0.0198 - val_acc: 0.9940\n",
      "Epoch 5/200\n",
      "400/400 [==============================] - 446s 1s/step - loss: 0.0386 - acc: 0.9857 - val_loss: 0.0214 - val_acc: 0.9920\n",
      "Epoch 6/200\n",
      "400/400 [==============================] - 448s 1s/step - loss: 0.0331 - acc: 0.9876 - val_loss: 0.0216 - val_acc: 0.9928\n",
      "Epoch 7/200\n",
      "400/400 [==============================] - 448s 1s/step - loss: 0.0385 - acc: 0.9862 - val_loss: 0.0202 - val_acc: 0.9944\n",
      "Epoch 8/200\n",
      "400/400 [==============================] - 447s 1s/step - loss: 0.0340 - acc: 0.9876 - val_loss: 0.0218 - val_acc: 0.9928\n",
      "Epoch 9/200\n",
      "400/400 [==============================] - 448s 1s/step - loss: 0.0266 - acc: 0.9901 - val_loss: 0.0210 - val_acc: 0.9932\n",
      "Epoch 10/200\n",
      "400/400 [==============================] - 449s 1s/step - loss: 0.0311 - acc: 0.9891 - val_loss: 0.0184 - val_acc: 0.9936\n",
      "Epoch 11/200\n",
      "400/400 [==============================] - 449s 1s/step - loss: 0.0278 - acc: 0.9905 - val_loss: 0.0179 - val_acc: 0.9948\n",
      "Epoch 12/200\n",
      "400/400 [==============================] - 448s 1s/step - loss: 0.0288 - acc: 0.9905 - val_loss: 0.0331 - val_acc: 0.9916\n",
      "Epoch 13/200\n",
      "400/400 [==============================] - 448s 1s/step - loss: 0.0267 - acc: 0.9904 - val_loss: 0.0176 - val_acc: 0.9952\n",
      "Epoch 14/200\n",
      "400/400 [==============================] - 448s 1s/step - loss: 0.0268 - acc: 0.9900 - val_loss: 0.0159 - val_acc: 0.9956\n",
      "Epoch 15/200\n",
      "400/400 [==============================] - 447s 1s/step - loss: 0.0232 - acc: 0.9915 - val_loss: 0.0223 - val_acc: 0.9940\n",
      "Epoch 16/200\n",
      "400/400 [==============================] - 448s 1s/step - loss: 0.0196 - acc: 0.9931 - val_loss: 0.0242 - val_acc: 0.9932\n",
      "Epoch 17/200\n",
      "400/400 [==============================] - 448s 1s/step - loss: 0.0232 - acc: 0.9911 - val_loss: 0.0179 - val_acc: 0.9944\n",
      "Epoch 18/200\n",
      "400/400 [==============================] - 448s 1s/step - loss: 0.0237 - acc: 0.9912 - val_loss: 0.0177 - val_acc: 0.9944\n",
      "Epoch 19/200\n",
      "400/400 [==============================] - 447s 1s/step - loss: 0.0201 - acc: 0.9921 - val_loss: 0.0211 - val_acc: 0.9952\n",
      "Epoch 20/200\n",
      "400/400 [==============================] - 449s 1s/step - loss: 0.0210 - acc: 0.9924 - val_loss: 0.0198 - val_acc: 0.9944\n",
      "Epoch 21/200\n",
      "400/400 [==============================] - 448s 1s/step - loss: 0.0188 - acc: 0.9930 - val_loss: 0.0220 - val_acc: 0.9944\n",
      "Epoch 22/200\n",
      "400/400 [==============================] - 448s 1s/step - loss: 0.0166 - acc: 0.9934 - val_loss: 0.0247 - val_acc: 0.9944\n",
      "Epoch 23/200\n",
      "400/400 [==============================] - 449s 1s/step - loss: 0.0228 - acc: 0.9915 - val_loss: 0.0240 - val_acc: 0.9928\n",
      "Epoch 24/200\n",
      "400/400 [==============================] - 448s 1s/step - loss: 0.0194 - acc: 0.9931 - val_loss: 0.0174 - val_acc: 0.9956\n",
      "Epoch 25/200\n",
      "400/400 [==============================] - 448s 1s/step - loss: 0.0160 - acc: 0.9944 - val_loss: 0.0230 - val_acc: 0.9944\n",
      "Epoch 26/200\n",
      "400/400 [==============================] - 448s 1s/step - loss: 0.0172 - acc: 0.9937 - val_loss: 0.0202 - val_acc: 0.9948\n",
      "Epoch 27/200\n",
      "400/400 [==============================] - 448s 1s/step - loss: 0.0195 - acc: 0.9931 - val_loss: 0.0255 - val_acc: 0.9952\n",
      "Epoch 28/200\n",
      "400/400 [==============================] - 448s 1s/step - loss: 0.0169 - acc: 0.9938 - val_loss: 0.0237 - val_acc: 0.9940\n",
      "Epoch 29/200\n",
      "400/400 [==============================] - 448s 1s/step - loss: 0.0158 - acc: 0.9944 - val_loss: 0.0218 - val_acc: 0.9952\n",
      "Epoch 30/200\n",
      "400/400 [==============================] - 448s 1s/step - loss: 0.0177 - acc: 0.9936 - val_loss: 0.0207 - val_acc: 0.9940\n",
      "Epoch 31/200\n",
      "400/400 [==============================] - 447s 1s/step - loss: 0.0193 - acc: 0.9937 - val_loss: 0.0190 - val_acc: 0.9944\n",
      "Epoch 32/200\n",
      "400/400 [==============================] - 448s 1s/step - loss: 0.0158 - acc: 0.9939 - val_loss: 0.0231 - val_acc: 0.9940\n",
      "Epoch 33/200\n",
      "400/400 [==============================] - 448s 1s/step - loss: 0.0176 - acc: 0.9934 - val_loss: 0.0300 - val_acc: 0.9940\n",
      "Epoch 34/200\n",
      "400/400 [==============================] - 449s 1s/step - loss: 0.0152 - acc: 0.9942 - val_loss: 0.0240 - val_acc: 0.9940\n"
     ]
    }
   ],
   "source": [
    "model.compile(loss=\"binary_crossentropy\", \n",
    "              optimizer=keras.optimizers.Adam(lr=1e-4), \n",
    "              metrics=[\"acc\"])\n",
    "\n",
    "\n",
    "#model_file = os.path.join(MODEL_DIR, \"dogcat_pretrained_Xception_aug.h5\")\n",
    "\n",
    "early_stopping_cb = keras.callbacks.EarlyStopping(patience=20, restore_best_weights=True)\n",
    "#chkp_cb = keras.callbacks.ModelCheckpoint(model_file, save_best_only=True)\n",
    "\n",
    "history = model.fit_generator(train_generator, \n",
    "                              steps_per_epoch=TRAIN_SIZE // batch_size, \n",
    "                              epochs=200,\n",
    "                              validation_data=valid_generator, \n",
    "                              validation_steps=VAL_SIZE // batch_size,\n",
    "                              callbacks=[early_stopping_cb])\n"
   ]
  },
  {
   "cell_type": "code",
   "execution_count": 132,
   "metadata": {},
   "outputs": [
    {
     "data": {
      "text/plain": [
       "<matplotlib.legend.Legend at 0x7f6ad15e2f50>"
      ]
     },
     "execution_count": 132,
     "metadata": {},
     "output_type": "execute_result"
    },
    {
     "data": {
      "image/png": "[encoded data removed]",
      "text/plain": [
       "<Figure size 720x288 with 2 Axes>"
      ]
     },
     "metadata": {
      "needs_background": "light"
     },
     "output_type": "display_data"
    }
   ],
   "source": [
    "fig, ax = plt.subplots(nrows=1, ncols=2, figsize=(10, 4))\n",
    "\n",
    "ax[0].plot(history.history[\"loss\"], label=\"loss\")\n",
    "ax[0].plot(history.history[\"val_loss\"], label=\"val_loss\")\n",
    "ax[0].legend()\n",
    "\n",
    "ax[1].plot(history.history[\"acc\"], label=\"acc\")\n",
    "ax[1].plot(history.history[\"val_acc\"], label=\"val_acc\")\n",
    "ax[1].legend()"
   ]
  },
  {
   "cell_type": "code",
   "execution_count": 133,
   "metadata": {},
   "outputs": [
    {
     "name": "stdout",
     "output_type": "stream",
     "text": [
      "Train acc: 0.9921\n",
      "Validation acc: 0.9956\n",
      "Test acc: 0.9940\n"
     ]
    }
   ],
   "source": [
    "_, acc_train = model.evaluate(train_generator, steps=TRAIN_SIZE // batch_size, verbose=0)\n",
    "print(\"Train acc: %0.4f\" %acc_train)\n",
    "\n",
    "\n",
    "_, acc_val = model.evaluate(valid_generator, steps=VAL_SIZE // batch_size, verbose=0)\n",
    "print(\"Validation acc: %0.4f\" %acc_val)\n",
    "\n",
    "\n",
    "_, acc_test = model.evaluate(test_generator, steps=TEST_SIZE // batch_size, verbose=0)\n",
    "print(\"Test acc: %0.4f\" %acc_test)"
   ]
  }
 ],
 "metadata": {
  "kernelspec": {
   "display_name": "Python 3",
   "language": "python",
   "name": "python3"
  },
  "language_info": {
   "codemirror_mode": {
    "name": "ipython",
    "version": 3
   },
   "file_extension": ".py",
   "mimetype": "text/x-python",
   "name": "python",
   "nbconvert_exporter": "python",
   "pygments_lexer": "ipython3",
   "version": "3.7.6"
  }
 },
 "nbformat": 4,
 "nbformat_minor": 4
}
