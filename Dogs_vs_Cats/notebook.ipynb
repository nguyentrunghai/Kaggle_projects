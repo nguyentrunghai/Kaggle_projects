{
 "cells": [
  {
   "cell_type": "markdown",
   "metadata": {},
   "source": [
    "The dataset can be downloaded here:\n",
    "\n",
    "https://www.kaggle.com/c/dogs-vs-cats/data"
   ]
  },
  {
   "cell_type": "code",
   "execution_count": 41,
   "metadata": {},
   "outputs": [],
   "source": [
    "import os\n",
    "import glob\n",
    "import shutil\n",
    "\n",
    "from progressbar import ProgressBar\n",
    "import matplotlib.pyplot as plt\n",
    "\n",
    "import numpy as np\n",
    "import tensorflow as tf\n",
    "from tensorflow import keras"
   ]
  },
  {
   "cell_type": "code",
   "execution_count": 36,
   "metadata": {},
   "outputs": [],
   "source": [
    "INP_TRAIN_DIR = \"data/download/train\"\n",
    "INP_TEST_DIR = \"data/download/test1\"\n",
    "\n",
    "DATASET_DIR = \"data/dataset_\"\n",
    "\n",
    "MODEL_DIR = \"data/models_\""
   ]
  },
  {
   "cell_type": "code",
   "execution_count": 8,
   "metadata": {},
   "outputs": [
    {
     "data": {
      "text/plain": [
       "(12500, 12500, 12500)"
      ]
     },
     "execution_count": 8,
     "metadata": {},
     "output_type": "execute_result"
    }
   ],
   "source": [
    "train_dog_files = glob.glob(os.path.join(INP_TRAIN_DIR, \"dog*.jpg\"))\n",
    "train_cat_files = glob.glob(os.path.join(INP_TRAIN_DIR, \"cat*.jpg\"))\n",
    "\n",
    "np.random.seed(1)\n",
    "np.random.shuffle(train_dog_files)\n",
    "np.random.shuffle(train_cat_files)\n",
    "\n",
    "\n",
    "test_files = glob.glob(os.path.join(INP_TEST_DIR, \"*.jpg\"))\n",
    "\n",
    "len(train_dog_files), len(train_cat_files), len(test_files)"
   ]
  },
  {
   "cell_type": "code",
   "execution_count": 9,
   "metadata": {},
   "outputs": [
    {
     "data": {
      "text/plain": [
       "['data/download/train/dog.1094.jpg',\n",
       " 'data/download/train/dog.10705.jpg',\n",
       " 'data/download/train/dog.784.jpg',\n",
       " 'data/download/train/dog.669.jpg',\n",
       " 'data/download/train/dog.1588.jpg']"
      ]
     },
     "execution_count": 9,
     "metadata": {},
     "output_type": "execute_result"
    }
   ],
   "source": [
    "train_dog_files[:5]"
   ]
  },
  {
   "cell_type": "code",
   "execution_count": 10,
   "metadata": {},
   "outputs": [
    {
     "data": {
      "text/plain": [
       "['data/download/train/cat.5044.jpg',\n",
       " 'data/download/train/cat.6924.jpg',\n",
       " 'data/download/train/cat.3709.jpg',\n",
       " 'data/download/train/cat.5157.jpg',\n",
       " 'data/download/train/cat.9790.jpg']"
      ]
     },
     "execution_count": 10,
     "metadata": {},
     "output_type": "execute_result"
    }
   ],
   "source": [
    "train_cat_files[:5]"
   ]
  },
  {
   "cell_type": "code",
   "execution_count": 11,
   "metadata": {},
   "outputs": [
    {
     "data": {
      "text/plain": [
       "['data/download/test1/10447.jpg',\n",
       " 'data/download/test1/3337.jpg',\n",
       " 'data/download/test1/7556.jpg',\n",
       " 'data/download/test1/5646.jpg',\n",
       " 'data/download/test1/10264.jpg']"
      ]
     },
     "execution_count": 11,
     "metadata": {},
     "output_type": "execute_result"
    }
   ],
   "source": [
    "test_files[:5]"
   ]
  },
  {
   "cell_type": "markdown",
   "metadata": {},
   "source": [
    "Since the true labels for test set are not available from Kaggle page, we will split the original train set into `train`, `validation` and `test` sets."
   ]
  },
  {
   "cell_type": "code",
   "execution_count": 13,
   "metadata": {},
   "outputs": [],
   "source": [
    "TRAIN_SIZE = 20_000\n",
    "VAL_SIZE = 2500\n",
    "TEST_SIZE = 2500\n",
    "\n",
    "TRAIN_SIZE_HALF = TRAIN_SIZE // 2\n",
    "VAL_SIZE_HALF = VAL_SIZE // 2\n",
    "TEST_SIZE_HALF = TEST_SIZE // 2"
   ]
  },
  {
   "cell_type": "code",
   "execution_count": 14,
   "metadata": {},
   "outputs": [],
   "source": [
    "train_dir = os.path.join(DATASET_DIR, \"train\")\n",
    "valid_dir = os.path.join(DATASET_DIR, \"validation\")\n",
    "test_dir = os.path.join(DATASET_DIR, \"test\")\n",
    "\n",
    "train_cats_dir = os.path.join(train_dir, \"cats\")\n",
    "train_dogs_dir = os.path.join(train_dir, \"dogs\")\n",
    "os.makedirs(train_cats_dir, exist_ok=True)\n",
    "os.makedirs(train_dogs_dir, exist_ok=True)\n",
    "\n",
    "valid_cats_dir = os.path.join(valid_dir, \"cats\")\n",
    "valid_dogs_dir = os.path.join(valid_dir, \"dogs\")\n",
    "os.makedirs(valid_cats_dir, exist_ok=True)\n",
    "os.makedirs(valid_dogs_dir, exist_ok=True)\n",
    "\n",
    "test_cats_dir = os.path.join(test_dir, \"cats\")\n",
    "test_dogs_dir = os.path.join(test_dir, \"dogs\")\n",
    "os.makedirs(test_cats_dir, exist_ok=True)\n",
    "os.makedirs(test_dogs_dir, exist_ok=True)"
   ]
  },
  {
   "cell_type": "code",
   "execution_count": 16,
   "metadata": {},
   "outputs": [],
   "source": [
    "# copy files for train/dogs and train/cats\n",
    "for src in train_dog_files[: TRAIN_SIZE_HALF]:\n",
    "    fname = os.path.basename(src)\n",
    "    dst = os.path.join(train_dogs_dir, fname)\n",
    "    shutil.copyfile(src, dst)\n",
    "    \n",
    "for src in train_cat_files[: TRAIN_SIZE_HALF]:\n",
    "    fname = os.path.basename(src)\n",
    "    dst = os.path.join(train_cats_dir, fname)\n",
    "    shutil.copyfile(src, dst)"
   ]
  },
  {
   "cell_type": "code",
   "execution_count": 18,
   "metadata": {},
   "outputs": [],
   "source": [
    "# copy files for validation/dogs and validation/cats\n",
    "for src in train_dog_files[TRAIN_SIZE_HALF: TRAIN_SIZE_HALF + VAL_SIZE_HALF]:\n",
    "    fname = os.path.basename(src)\n",
    "    dst = os.path.join(valid_dogs_dir, fname)\n",
    "    shutil.copyfile(src, dst)\n",
    "    \n",
    "for src in train_cat_files[TRAIN_SIZE_HALF: TRAIN_SIZE_HALF + VAL_SIZE_HALF]:\n",
    "    fname = os.path.basename(src)\n",
    "    dst = os.path.join(valid_cats_dir, fname)\n",
    "    shutil.copyfile(src, dst)"
   ]
  },
  {
   "cell_type": "code",
   "execution_count": 19,
   "metadata": {},
   "outputs": [],
   "source": [
    "# copy files for test/dogs and test/cats\n",
    "for src in train_dog_files[TRAIN_SIZE_HALF + VAL_SIZE_HALF: ]:\n",
    "    fname = os.path.basename(src)\n",
    "    dst = os.path.join(test_dogs_dir, fname)\n",
    "    shutil.copyfile(src, dst)\n",
    "    \n",
    "for src in train_cat_files[TRAIN_SIZE_HALF + VAL_SIZE_HALF: ]:\n",
    "    fname = os.path.basename(src)\n",
    "    dst = os.path.join(test_cats_dir, fname)\n",
    "    shutil.copyfile(src, dst)"
   ]
  },
  {
   "cell_type": "code",
   "execution_count": 20,
   "metadata": {},
   "outputs": [
    {
     "data": {
      "text/plain": [
       "20000"
      ]
     },
     "execution_count": 20,
     "metadata": {},
     "output_type": "execute_result"
    }
   ],
   "source": [
    "train_files = glob.glob(os.path.join(train_dogs_dir, \"*.jpg\"))\n",
    "train_files += glob.glob(os.path.join(train_cats_dir, \"*.jpg\"))\n",
    "len(train_files)"
   ]
  },
  {
   "cell_type": "code",
   "execution_count": 22,
   "metadata": {},
   "outputs": [],
   "source": [
    "# hights and widths\n",
    "heights = []\n",
    "widths = []\n",
    "for fname in train_files:\n",
    "    img = keras.preprocessing.image.load_img(fname)\n",
    "    h, w, _ = keras.preprocessing.image.img_to_array(img).shape\n",
    "    heights.append(h)\n",
    "    widths.append(w)"
   ]
  },
  {
   "cell_type": "code",
   "execution_count": 23,
   "metadata": {},
   "outputs": [
    {
     "data": {
      "text/plain": [
       "(32, 768, 360.46485, 374.0)"
      ]
     },
     "execution_count": 23,
     "metadata": {},
     "output_type": "execute_result"
    }
   ],
   "source": [
    "np.min(heights), np.max(heights), np.mean(heights), np.median(heights)"
   ]
  },
  {
   "cell_type": "code",
   "execution_count": 24,
   "metadata": {},
   "outputs": [
    {
     "data": {
      "text/plain": [
       "(42, 1050, 403.9402, 447.0)"
      ]
     },
     "execution_count": 24,
     "metadata": {},
     "output_type": "execute_result"
    }
   ],
   "source": [
    "np.min(widths), np.max(widths), np.mean(widths), np.median(widths)"
   ]
  },
  {
   "cell_type": "code",
   "execution_count": 25,
   "metadata": {},
   "outputs": [],
   "source": [
    "HEIGHT, WIDTH = 360, 400"
   ]
  },
  {
   "cell_type": "code",
   "execution_count": 26,
   "metadata": {},
   "outputs": [
    {
     "name": "stdout",
     "output_type": "stream",
     "text": [
      "Found 20000 images belonging to 2 classes.\n",
      "Found 2500 images belonging to 2 classes.\n",
      "Found 2500 images belonging to 2 classes.\n"
     ]
    }
   ],
   "source": [
    "tf.random.set_seed(42)\n",
    "np.random.seed(42)\n",
    "\n",
    "datagen = keras.preprocessing.image.ImageDataGenerator(rescale=1./255)\n",
    "\n",
    "batch_size = 50\n",
    "\n",
    "train_generator = datagen.flow_from_directory(train_dir, \n",
    "                                              target_size=(HEIGHT, WIDTH),\n",
    "                                              classes=[\"cats\", \"dogs\"], \n",
    "                                              class_mode=\"binary\",\n",
    "                                              batch_size=batch_size)\n",
    "\n",
    "valid_generator = datagen.flow_from_directory(valid_dir, \n",
    "                                              target_size=(HEIGHT, WIDTH),\n",
    "                                              classes=[\"cats\", \"dogs\"], \n",
    "                                              class_mode=\"binary\",\n",
    "                                              batch_size=batch_size)\n",
    "\n",
    "test_generator = datagen.flow_from_directory(test_dir, \n",
    "                                              target_size=(HEIGHT, WIDTH),\n",
    "                                              classes=[\"cats\", \"dogs\"], \n",
    "                                              class_mode=\"binary\",\n",
    "                                              batch_size=batch_size)"
   ]
  },
  {
   "cell_type": "code",
   "execution_count": 27,
   "metadata": {},
   "outputs": [],
   "source": [
    "example = next(iter(train_generator))"
   ]
  },
  {
   "cell_type": "code",
   "execution_count": 29,
   "metadata": {},
   "outputs": [
    {
     "data": {
      "text/plain": [
       "(50, 360, 400, 3)"
      ]
     },
     "execution_count": 29,
     "metadata": {},
     "output_type": "execute_result"
    }
   ],
   "source": [
    "# figures in first batch\n",
    "example[0].shape"
   ]
  },
  {
   "cell_type": "code",
   "execution_count": 30,
   "metadata": {},
   "outputs": [
    {
     "data": {
      "text/plain": [
       "(50,)"
      ]
     },
     "execution_count": 30,
     "metadata": {},
     "output_type": "execute_result"
    }
   ],
   "source": [
    "# labels in first batch\n",
    "example[1].shape"
   ]
  },
  {
   "cell_type": "code",
   "execution_count": 31,
   "metadata": {},
   "outputs": [
    {
     "data": {
      "text/plain": [
       "{'cats': 0, 'dogs': 1}"
      ]
     },
     "execution_count": 31,
     "metadata": {},
     "output_type": "execute_result"
    }
   ],
   "source": [
    "train_generator.class_indices"
   ]
  },
  {
   "cell_type": "code",
   "execution_count": null,
   "metadata": {},
   "outputs": [],
   "source": []
  },
  {
   "cell_type": "markdown",
   "metadata": {},
   "source": [
    "# Model 1"
   ]
  },
  {
   "cell_type": "code",
   "execution_count": 34,
   "metadata": {},
   "outputs": [
    {
     "name": "stdout",
     "output_type": "stream",
     "text": [
      "Model: \"sequential\"\n",
      "_________________________________________________________________\n",
      "Layer (type)                 Output Shape              Param #   \n",
      "=================================================================\n",
      "conv2d (Conv2D)              (None, 358, 398, 32)      896       \n",
      "_________________________________________________________________\n",
      "max_pooling2d (MaxPooling2D) (None, 179, 199, 32)      0         \n",
      "_________________________________________________________________\n",
      "conv2d_1 (Conv2D)            (None, 177, 197, 64)      18496     \n",
      "_________________________________________________________________\n",
      "max_pooling2d_1 (MaxPooling2 (None, 88, 98, 64)        0         \n",
      "_________________________________________________________________\n",
      "conv2d_2 (Conv2D)            (None, 86, 96, 128)       73856     \n",
      "_________________________________________________________________\n",
      "max_pooling2d_2 (MaxPooling2 (None, 43, 48, 128)       0         \n",
      "_________________________________________________________________\n",
      "conv2d_3 (Conv2D)            (None, 41, 46, 128)       147584    \n",
      "_________________________________________________________________\n",
      "max_pooling2d_3 (MaxPooling2 (None, 20, 23, 128)       0         \n",
      "_________________________________________________________________\n",
      "conv2d_4 (Conv2D)            (None, 18, 21, 256)       295168    \n",
      "_________________________________________________________________\n",
      "max_pooling2d_4 (MaxPooling2 (None, 9, 10, 256)        0         \n",
      "_________________________________________________________________\n",
      "flatten (Flatten)            (None, 23040)             0         \n",
      "_________________________________________________________________\n",
      "dropout (Dropout)            (None, 23040)             0         \n",
      "_________________________________________________________________\n",
      "dense (Dense)                (None, 512)               11796992  \n",
      "_________________________________________________________________\n",
      "dense_1 (Dense)              (None, 1)                 513       \n",
      "=================================================================\n",
      "Total params: 12,333,505\n",
      "Trainable params: 12,333,505\n",
      "Non-trainable params: 0\n",
      "_________________________________________________________________\n"
     ]
    }
   ],
   "source": [
    "keras.backend.clear_session()\n",
    "tf.random.set_seed(42)\n",
    "np.random.seed(42)\n",
    "\n",
    "model = keras.models.Sequential()\n",
    "\n",
    "model.add(keras.layers.Conv2D(32, (3, 3), activation=\"relu\", input_shape=(HEIGHT, WIDTH, 3)))\n",
    "model.add(keras.layers.MaxPooling2D((2, 2)))\n",
    "\n",
    "model.add(keras.layers.Conv2D(64, (3, 3), activation=\"relu\"))\n",
    "model.add(keras.layers.MaxPooling2D((2, 2)))\n",
    "\n",
    "model.add(keras.layers.Conv2D(128, (3, 3), activation=\"relu\"))\n",
    "model.add(keras.layers.MaxPooling2D((2, 2)))\n",
    "\n",
    "model.add(keras.layers.Conv2D(128, (3, 3), activation=\"relu\"))\n",
    "model.add(keras.layers.MaxPooling2D((2, 2)))\n",
    "\n",
    "model.add(keras.layers.Conv2D(256, (3, 3), activation=\"relu\"))\n",
    "model.add(keras.layers.MaxPooling2D((2, 2)))\n",
    "\n",
    "model.add(keras.layers.Flatten())\n",
    "model.add(keras.layers.Dropout(0.5))\n",
    "\n",
    "model.add(keras.layers.Dense(512, activation=\"relu\"))\n",
    "model.add(keras.layers.Dense(1, activation=\"sigmoid\"))\n",
    "\n",
    "model.summary()"
   ]
  },
  {
   "cell_type": "code",
   "execution_count": 35,
   "metadata": {},
   "outputs": [],
   "source": [
    "model.compile(loss=\"binary_crossentropy\", \n",
    "              optimizer=keras.optimizers.RMSprop(lr=1e-4), \n",
    "              metrics=[\"acc\"])"
   ]
  },
  {
   "cell_type": "code",
   "execution_count": 40,
   "metadata": {},
   "outputs": [
    {
     "name": "stdout",
     "output_type": "stream",
     "text": [
      "Epoch 1/100\n",
      "  2/400 [..............................] - ETA: 56s - loss: 0.6061 - acc: 0.6400WARNING:tensorflow:Callbacks method `on_train_batch_end` is slow compared to the batch time (batch time: 0.0912s vs `on_train_batch_end` time: 0.1927s). Check your callbacks.\n",
      "400/400 [==============================] - 126s 315ms/step - loss: 0.5619 - acc: 0.7053 - val_loss: 0.5134 - val_acc: 0.7504\n",
      "Epoch 2/100\n",
      "400/400 [==============================] - 126s 315ms/step - loss: 0.4830 - acc: 0.7678 - val_loss: 0.4664 - val_acc: 0.7876\n",
      "Epoch 3/100\n",
      "400/400 [==============================] - 126s 316ms/step - loss: 0.4290 - acc: 0.7990 - val_loss: 0.4637 - val_acc: 0.7868\n",
      "Epoch 4/100\n",
      "400/400 [==============================] - 126s 316ms/step - loss: 0.3925 - acc: 0.8242 - val_loss: 0.4078 - val_acc: 0.8236\n",
      "Epoch 5/100\n",
      "400/400 [==============================] - 126s 316ms/step - loss: 0.3598 - acc: 0.8382 - val_loss: 0.3768 - val_acc: 0.8400\n",
      "Epoch 6/100\n",
      "400/400 [==============================] - 126s 316ms/step - loss: 0.3345 - acc: 0.8518 - val_loss: 0.3839 - val_acc: 0.8300\n",
      "Epoch 7/100\n",
      "400/400 [==============================] - 126s 316ms/step - loss: 0.3072 - acc: 0.8658 - val_loss: 0.3665 - val_acc: 0.8392\n",
      "Epoch 8/100\n",
      "400/400 [==============================] - 126s 316ms/step - loss: 0.2831 - acc: 0.8794 - val_loss: 0.3298 - val_acc: 0.8644\n",
      "Epoch 9/100\n",
      "400/400 [==============================] - 126s 316ms/step - loss: 0.2671 - acc: 0.8874 - val_loss: 0.3663 - val_acc: 0.8472\n",
      "Epoch 10/100\n",
      "400/400 [==============================] - 126s 316ms/step - loss: 0.2490 - acc: 0.8959 - val_loss: 0.3400 - val_acc: 0.8560\n",
      "Epoch 11/100\n",
      "400/400 [==============================] - 126s 316ms/step - loss: 0.2327 - acc: 0.9038 - val_loss: 0.3300 - val_acc: 0.8688\n",
      "Epoch 12/100\n",
      "400/400 [==============================] - 127s 317ms/step - loss: 0.2105 - acc: 0.9122 - val_loss: 0.3004 - val_acc: 0.8740\n",
      "Epoch 13/100\n",
      "400/400 [==============================] - 127s 316ms/step - loss: 0.1955 - acc: 0.9191 - val_loss: 0.3147 - val_acc: 0.8748\n",
      "Epoch 14/100\n",
      "400/400 [==============================] - 127s 316ms/step - loss: 0.1795 - acc: 0.9275 - val_loss: 0.3159 - val_acc: 0.8756\n",
      "Epoch 15/100\n",
      "400/400 [==============================] - 127s 317ms/step - loss: 0.1694 - acc: 0.9323 - val_loss: 0.3155 - val_acc: 0.8732\n",
      "Epoch 16/100\n",
      "400/400 [==============================] - 127s 316ms/step - loss: 0.1540 - acc: 0.9377 - val_loss: 0.2926 - val_acc: 0.8840\n",
      "Epoch 17/100\n",
      "400/400 [==============================] - 126s 316ms/step - loss: 0.1458 - acc: 0.9414 - val_loss: 0.2949 - val_acc: 0.8848\n",
      "Epoch 18/100\n",
      "400/400 [==============================] - 127s 316ms/step - loss: 0.1313 - acc: 0.9472 - val_loss: 0.3178 - val_acc: 0.8876\n",
      "Epoch 19/100\n",
      "400/400 [==============================] - 126s 316ms/step - loss: 0.1217 - acc: 0.9532 - val_loss: 0.3117 - val_acc: 0.8908\n",
      "Epoch 20/100\n",
      "400/400 [==============================] - 127s 316ms/step - loss: 0.1134 - acc: 0.9558 - val_loss: 0.3264 - val_acc: 0.8768\n",
      "Epoch 21/100\n",
      "400/400 [==============================] - 127s 317ms/step - loss: 0.1053 - acc: 0.9584 - val_loss: 0.3156 - val_acc: 0.8860\n",
      "Epoch 22/100\n",
      "400/400 [==============================] - 127s 316ms/step - loss: 0.0950 - acc: 0.9624 - val_loss: 0.3175 - val_acc: 0.8920\n",
      "Epoch 23/100\n",
      "400/400 [==============================] - 127s 316ms/step - loss: 0.0925 - acc: 0.9648 - val_loss: 0.4826 - val_acc: 0.8516\n",
      "Epoch 24/100\n",
      "400/400 [==============================] - 127s 317ms/step - loss: 0.0852 - acc: 0.9668 - val_loss: 0.3426 - val_acc: 0.8888\n",
      "Epoch 25/100\n",
      "400/400 [==============================] - 127s 316ms/step - loss: 0.0769 - acc: 0.9698 - val_loss: 0.3879 - val_acc: 0.8896\n",
      "Epoch 26/100\n",
      "400/400 [==============================] - 126s 316ms/step - loss: 0.0735 - acc: 0.9716 - val_loss: 0.3348 - val_acc: 0.8952\n"
     ]
    }
   ],
   "source": [
    "model_file = os.path.join(MODEL_DIR, \"dogcat_model_01.h5\")\n",
    "\n",
    "early_stopping_cb = keras.callbacks.EarlyStopping(patience=10, restore_best_weights=True)\n",
    "#chkp_cb = keras.callbacks.ModelCheckpoint(model_file, save_best_only=True)\n",
    "\n",
    "history = model.fit_generator(train_generator, \n",
    "                              steps_per_epoch=TRAIN_SIZE // batch_size, \n",
    "                              epochs=100,\n",
    "                              validation_data=valid_generator, \n",
    "                              validation_steps=VAL_SIZE // batch_size,\n",
    "                              callbacks=[early_stopping_cb])\n",
    "\n",
    "model.save(model_file)"
   ]
  },
  {
   "cell_type": "code",
   "execution_count": 42,
   "metadata": {},
   "outputs": [
    {
     "data": {
      "text/plain": [
       "<matplotlib.legend.Legend at 0x7f6adf956e10>"
      ]
     },
     "execution_count": 42,
     "metadata": {},
     "output_type": "execute_result"
    },
    {
     "data": {
      "image/png": "[encoded data removed]",
      "text/plain": [
       "<Figure size 720x288 with 2 Axes>"
      ]
     },
     "metadata": {
      "needs_background": "light"
     },
     "output_type": "display_data"
    }
   ],
   "source": [
    "fig, ax = plt.subplots(nrows=1, ncols=2, figsize=(10, 4))\n",
    "\n",
    "ax[0].plot(history.history[\"loss\"], label=\"loss\")\n",
    "ax[0].plot(history.history[\"val_loss\"], label=\"val_loss\")\n",
    "ax[0].legend()\n",
    "\n",
    "ax[1].plot(history.history[\"acc\"], label=\"acc\")\n",
    "ax[1].plot(history.history[\"val_acc\"], label=\"val_acc\")\n",
    "ax[1].legend()"
   ]
  },
  {
   "cell_type": "code",
   "execution_count": 46,
   "metadata": {},
   "outputs": [
    {
     "name": "stdout",
     "output_type": "stream",
     "text": [
      "Train acc: 0.9704\n",
      "Validation acc: 0.8840\n",
      "Test acc: 0.8836\n"
     ]
    }
   ],
   "source": [
    "_, acc_train = model.evaluate(train_generator, steps=TRAIN_SIZE // batch_size, verbose=0)\n",
    "print(\"Train acc: %0.4f\" %acc_train)\n",
    "\n",
    "\n",
    "_, acc_val = model.evaluate(valid_generator, steps=VAL_SIZE // batch_size, verbose=0)\n",
    "print(\"Validation acc: %0.4f\" %acc_val)\n",
    "\n",
    "\n",
    "_, acc_test = model.evaluate(test_generator, steps=TEST_SIZE // batch_size, verbose=0)\n",
    "print(\"Test acc: %0.4f\" %acc_test)"
   ]
  },
  {
   "cell_type": "markdown",
   "metadata": {},
   "source": [
    "# Data augmentation\n",
    "\n",
    "by random rotation, shifting, shearing and zooming."
   ]
  },
  {
   "cell_type": "code",
   "execution_count": 47,
   "metadata": {},
   "outputs": [
    {
     "name": "stdout",
     "output_type": "stream",
     "text": [
      "Found 20000 images belonging to 2 classes.\n",
      "Found 2500 images belonging to 2 classes.\n",
      "Found 2500 images belonging to 2 classes.\n"
     ]
    }
   ],
   "source": [
    "tf.random.set_seed(42)\n",
    "np.random.seed(42)\n",
    "\n",
    "train_datagen = keras.preprocessing.image.ImageDataGenerator(rescale=1./255,\n",
    "                                                            rotation_range=40,\n",
    "                                                            width_shift_range=0.2,\n",
    "                                                            height_shift_range=0.2,\n",
    "                                                            shear_range=0.2,\n",
    "                                                            zoom_range=0.2,\n",
    "                                                            horizontal_flip=True)\n",
    "\n",
    "test_datagen = keras.preprocessing.image.ImageDataGenerator(rescale=1./255)\n",
    "\n",
    "batch_size = 50\n",
    "\n",
    "train_generator = train_datagen.flow_from_directory(train_dir, \n",
    "                                              target_size=(HEIGHT, WIDTH),\n",
    "                                              classes=[\"cats\", \"dogs\"], \n",
    "                                              class_mode=\"binary\",\n",
    "                                              batch_size=batch_size)\n",
    "\n",
    "valid_generator = test_datagen.flow_from_directory(valid_dir, \n",
    "                                              target_size=(HEIGHT, WIDTH),\n",
    "                                              classes=[\"cats\", \"dogs\"], \n",
    "                                              class_mode=\"binary\",\n",
    "                                              batch_size=batch_size)\n",
    "\n",
    "test_generator = test_datagen.flow_from_directory(test_dir, \n",
    "                                              target_size=(HEIGHT, WIDTH),\n",
    "                                              classes=[\"cats\", \"dogs\"], \n",
    "                                              class_mode=\"binary\",\n",
    "                                              batch_size=batch_size)"
   ]
  },
  {
   "cell_type": "code",
   "execution_count": 48,
   "metadata": {},
   "outputs": [
    {
     "name": "stdout",
     "output_type": "stream",
     "text": [
      "Model: \"sequential\"\n",
      "_________________________________________________________________\n",
      "Layer (type)                 Output Shape              Param #   \n",
      "=================================================================\n",
      "conv2d (Conv2D)              (None, 358, 398, 32)      896       \n",
      "_________________________________________________________________\n",
      "max_pooling2d (MaxPooling2D) (None, 179, 199, 32)      0         \n",
      "_________________________________________________________________\n",
      "conv2d_1 (Conv2D)            (None, 177, 197, 64)      18496     \n",
      "_________________________________________________________________\n",
      "max_pooling2d_1 (MaxPooling2 (None, 88, 98, 64)        0         \n",
      "_________________________________________________________________\n",
      "conv2d_2 (Conv2D)            (None, 86, 96, 128)       73856     \n",
      "_________________________________________________________________\n",
      "max_pooling2d_2 (MaxPooling2 (None, 43, 48, 128)       0         \n",
      "_________________________________________________________________\n",
      "conv2d_3 (Conv2D)            (None, 41, 46, 128)       147584    \n",
      "_________________________________________________________________\n",
      "max_pooling2d_3 (MaxPooling2 (None, 20, 23, 128)       0         \n",
      "_________________________________________________________________\n",
      "conv2d_4 (Conv2D)            (None, 18, 21, 256)       295168    \n",
      "_________________________________________________________________\n",
      "max_pooling2d_4 (MaxPooling2 (None, 9, 10, 256)        0         \n",
      "_________________________________________________________________\n",
      "flatten (Flatten)            (None, 23040)             0         \n",
      "_________________________________________________________________\n",
      "dropout (Dropout)            (None, 23040)             0         \n",
      "_________________________________________________________________\n",
      "dense (Dense)                (None, 512)               11796992  \n",
      "_________________________________________________________________\n",
      "dense_1 (Dense)              (None, 1)                 513       \n",
      "=================================================================\n",
      "Total params: 12,333,505\n",
      "Trainable params: 12,333,505\n",
      "Non-trainable params: 0\n",
      "_________________________________________________________________\n"
     ]
    }
   ],
   "source": [
    "keras.backend.clear_session()\n",
    "tf.random.set_seed(42)\n",
    "np.random.seed(42)\n",
    "\n",
    "model = keras.models.Sequential()\n",
    "\n",
    "model.add(keras.layers.Conv2D(32, (3, 3), activation=\"relu\", input_shape=(HEIGHT, WIDTH, 3)))\n",
    "model.add(keras.layers.MaxPooling2D((2, 2)))\n",
    "\n",
    "model.add(keras.layers.Conv2D(64, (3, 3), activation=\"relu\"))\n",
    "model.add(keras.layers.MaxPooling2D((2, 2)))\n",
    "\n",
    "model.add(keras.layers.Conv2D(128, (3, 3), activation=\"relu\"))\n",
    "model.add(keras.layers.MaxPooling2D((2, 2)))\n",
    "\n",
    "model.add(keras.layers.Conv2D(128, (3, 3), activation=\"relu\"))\n",
    "model.add(keras.layers.MaxPooling2D((2, 2)))\n",
    "\n",
    "model.add(keras.layers.Conv2D(256, (3, 3), activation=\"relu\"))\n",
    "model.add(keras.layers.MaxPooling2D((2, 2)))\n",
    "\n",
    "model.add(keras.layers.Flatten())\n",
    "model.add(keras.layers.Dropout(0.5))\n",
    "\n",
    "model.add(keras.layers.Dense(512, activation=\"relu\"))\n",
    "model.add(keras.layers.Dense(1, activation=\"sigmoid\"))\n",
    "\n",
    "model.summary()"
   ]
  },
  {
   "cell_type": "code",
   "execution_count": null,
   "metadata": {},
   "outputs": [],
   "source": [
    "model.compile(loss=\"binary_crossentropy\", \n",
    "              optimizer=keras.optimizers.RMSprop(lr=1e-4), \n",
    "              metrics=[\"acc\"])\n",
    "\n",
    "\n"
   ]
  }
 ],
 "metadata": {
  "kernelspec": {
   "display_name": "Python 3",
   "language": "python",
   "name": "python3"
  },
  "language_info": {
   "codemirror_mode": {
    "name": "ipython",
    "version": 3
   },
   "file_extension": ".py",
   "mimetype": "text/x-python",
   "name": "python",
   "nbconvert_exporter": "python",
   "pygments_lexer": "ipython3",
   "version": "3.7.6"
  }
 },
 "nbformat": 4,
 "nbformat_minor": 4
}
