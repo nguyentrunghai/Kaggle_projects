{
 "cells": [
  {
   "cell_type": "markdown",
   "metadata": {},
   "source": [
    "The dataset can be downloaded here:\n",
    "\n",
    "https://www.kaggle.com/c/dogs-vs-cats/data"
   ]
  },
  {
   "cell_type": "code",
   "execution_count": 15,
   "metadata": {},
   "outputs": [],
   "source": [
    "import os\n",
    "import glob\n",
    "import shutil\n",
    "\n",
    "import numpy as np"
   ]
  },
  {
   "cell_type": "code",
   "execution_count": 12,
   "metadata": {},
   "outputs": [],
   "source": [
    "INP_TRAIN_DIR = \"data/download/train\"\n",
    "INP_TEST_DIR = \"data/download/test1\"\n",
    "\n",
    "DATASET_DIR = \"data/dataset_\""
   ]
  },
  {
   "cell_type": "code",
   "execution_count": 8,
   "metadata": {},
   "outputs": [
    {
     "data": {
      "text/plain": [
       "(12500, 12500, 12500)"
      ]
     },
     "execution_count": 8,
     "metadata": {},
     "output_type": "execute_result"
    }
   ],
   "source": [
    "train_dog_files = glob.glob(os.path.join(INP_TRAIN_DIR, \"dog*.jpg\"))\n",
    "train_cat_files = glob.glob(os.path.join(INP_TRAIN_DIR, \"cat*.jpg\"))\n",
    "\n",
    "np.random.seed(1)\n",
    "np.random.shuffle(train_dog_files)\n",
    "np.random.shuffle(train_cat_files)\n",
    "\n",
    "\n",
    "test_files = glob.glob(os.path.join(INP_TEST_DIR, \"*.jpg\"))\n",
    "\n",
    "len(train_dog_files), len(train_cat_files), len(test_files)"
   ]
  },
  {
   "cell_type": "code",
   "execution_count": 9,
   "metadata": {},
   "outputs": [
    {
     "data": {
      "text/plain": [
       "['data/download/train/dog.1094.jpg',\n",
       " 'data/download/train/dog.10705.jpg',\n",
       " 'data/download/train/dog.784.jpg',\n",
       " 'data/download/train/dog.669.jpg',\n",
       " 'data/download/train/dog.1588.jpg']"
      ]
     },
     "execution_count": 9,
     "metadata": {},
     "output_type": "execute_result"
    }
   ],
   "source": [
    "train_dog_files[:5]"
   ]
  },
  {
   "cell_type": "code",
   "execution_count": 10,
   "metadata": {},
   "outputs": [
    {
     "data": {
      "text/plain": [
       "['data/download/train/cat.5044.jpg',\n",
       " 'data/download/train/cat.6924.jpg',\n",
       " 'data/download/train/cat.3709.jpg',\n",
       " 'data/download/train/cat.5157.jpg',\n",
       " 'data/download/train/cat.9790.jpg']"
      ]
     },
     "execution_count": 10,
     "metadata": {},
     "output_type": "execute_result"
    }
   ],
   "source": [
    "train_cat_files[:5]"
   ]
  },
  {
   "cell_type": "code",
   "execution_count": 11,
   "metadata": {},
   "outputs": [
    {
     "data": {
      "text/plain": [
       "['data/download/test1/10447.jpg',\n",
       " 'data/download/test1/3337.jpg',\n",
       " 'data/download/test1/7556.jpg',\n",
       " 'data/download/test1/5646.jpg',\n",
       " 'data/download/test1/10264.jpg']"
      ]
     },
     "execution_count": 11,
     "metadata": {},
     "output_type": "execute_result"
    }
   ],
   "source": [
    "test_files[:5]"
   ]
  },
  {
   "cell_type": "markdown",
   "metadata": {},
   "source": [
    "Since the true labels for test set are not available from Kaggle page, we will split the original train set into `train`, `validation` and `test` sets."
   ]
  },
  {
   "cell_type": "code",
   "execution_count": 13,
   "metadata": {},
   "outputs": [],
   "source": [
    "TRAIN_SIZE = 20_000\n",
    "VAL_SIZE = 2500\n",
    "TEST_SIZE = 2500\n",
    "\n",
    "TRAIN_SIZE_HALF = TRAIN_SIZE // 2\n",
    "VAL_SIZE_HALF = VAL_SIZE // 2\n",
    "TEST_SIZE_HALF = TEST_SIZE // 2"
   ]
  },
  {
   "cell_type": "code",
   "execution_count": 14,
   "metadata": {},
   "outputs": [],
   "source": [
    "train_dir = os.path.join(DATASET_DIR, \"train\")\n",
    "valid_dir = os.path.join(DATASET_DIR, \"validation\")\n",
    "test_dir = os.path.join(DATASET_DIR, \"test\")\n",
    "\n",
    "train_cats_dir = os.path.join(train_dir, \"cats\")\n",
    "train_dogs_dir = os.path.join(train_dir, \"dogs\")\n",
    "os.makedirs(train_cats_dir, exist_ok=True)\n",
    "os.makedirs(train_dogs_dir, exist_ok=True)\n",
    "\n",
    "valid_cats_dir = os.path.join(valid_dir, \"cats\")\n",
    "valid_dogs_dir = os.path.join(valid_dir, \"dogs\")\n",
    "os.makedirs(valid_cats_dir, exist_ok=True)\n",
    "os.makedirs(valid_dogs_dir, exist_ok=True)\n",
    "\n",
    "test_cats_dir = os.path.join(test_dir, \"cats\")\n",
    "test_dogs_dir = os.path.join(test_dir, \"dogs\")\n",
    "os.makedirs(test_cats_dir, exist_ok=True)\n",
    "os.makedirs(test_dogs_dir, exist_ok=True)"
   ]
  },
  {
   "cell_type": "code",
   "execution_count": 16,
   "metadata": {},
   "outputs": [],
   "source": [
    "# copy files for train/dogs and train/cats\n",
    "for src in train_dog_files[: TRAIN_SIZE_HALF]:\n",
    "    fname = os.path.basename(src)\n",
    "    dst = os.path.join(train_dogs_dir, fname)\n",
    "    shutil.copyfile(src, dst)\n",
    "    \n",
    "for src in train_cat_files[: TRAIN_SIZE_HALF]:\n",
    "    fname = os.path.basename(src)\n",
    "    dst = os.path.join(train_cats_dir, fname)\n",
    "    shutil.copyfile(src, dst)"
   ]
  },
  {
   "cell_type": "code",
   "execution_count": 18,
   "metadata": {},
   "outputs": [],
   "source": [
    "# copy files for validation/dogs and validation/cats\n",
    "for src in train_dog_files[TRAIN_SIZE_HALF: TRAIN_SIZE_HALF + VAL_SIZE_HALF]:\n",
    "    fname = os.path.basename(src)\n",
    "    dst = os.path.join(valid_dogs_dir, fname)\n",
    "    shutil.copyfile(src, dst)\n",
    "    \n",
    "for src in train_cat_files[TRAIN_SIZE_HALF: TRAIN_SIZE_HALF + VAL_SIZE_HALF]:\n",
    "    fname = os.path.basename(src)\n",
    "    dst = os.path.join(valid_cats_dir, fname)\n",
    "    shutil.copyfile(src, dst)"
   ]
  },
  {
   "cell_type": "code",
   "execution_count": 19,
   "metadata": {},
   "outputs": [],
   "source": [
    "# copy files for test/dogs and test/cats\n",
    "for src in train_dog_files[TRAIN_SIZE_HALF + VAL_SIZE_HALF: ]:\n",
    "    fname = os.path.basename(src)\n",
    "    dst = os.path.join(test_dogs_dir, fname)\n",
    "    shutil.copyfile(src, dst)\n",
    "    \n",
    "for src in train_cat_files[TRAIN_SIZE_HALF + VAL_SIZE_HALF: ]:\n",
    "    fname = os.path.basename(src)\n",
    "    dst = os.path.join(test_cats_dir, fname)\n",
    "    shutil.copyfile(src, dst)"
   ]
  }
 ],
 "metadata": {
  "kernelspec": {
   "display_name": "Python 3",
   "language": "python",
   "name": "python3"
  },
  "language_info": {
   "codemirror_mode": {
    "name": "ipython",
    "version": 3
   },
   "file_extension": ".py",
   "mimetype": "text/x-python",
   "name": "python",
   "nbconvert_exporter": "python",
   "pygments_lexer": "ipython3",
   "version": "3.7.6"
  }
 },
 "nbformat": 4,
 "nbformat_minor": 4
}
