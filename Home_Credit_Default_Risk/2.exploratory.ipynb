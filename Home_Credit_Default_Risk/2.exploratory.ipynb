{
 "cells": [
  {
   "cell_type": "code",
   "execution_count": 37,
   "metadata": {},
   "outputs": [
    {
     "name": "stdout",
     "output_type": "stream",
     "text": [
      "The autoreload extension is already loaded. To reload it, use:\n",
      "  %reload_ext autoreload\n"
     ]
    }
   ],
   "source": [
    "%load_ext autoreload\n",
    "%autoreload 2\n",
    "\n",
    "import warnings\n",
    "warnings.filterwarnings('ignore')\n",
    "\n",
    "import os\n",
    "from IPython.display import display, HTML\n",
    "\n",
    "import pandas as pd\n",
    "import numpy as np\n",
    "\n",
    "import matplotlib.pyplot as plt\n",
    "import seaborn as sns\n",
    "sns.set()\n",
    "\n",
    "from _preprocessing import change_dtypes\n",
    "from _preprocessing import aggregate\n",
    "from _stats import f_ratio\n",
    "from _stats import corrwith\n",
    "from _stats import mode\n",
    "from _stats import mean_diff, var_diff, range_diff\n",
    "\n",
    "INP_DIR = \"data/download\""
   ]
  },
  {
   "cell_type": "markdown",
   "metadata": {},
   "source": [
    "# 1. `application`"
   ]
  },
  {
   "cell_type": "code",
   "execution_count": 2,
   "metadata": {},
   "outputs": [
    {
     "name": "stdout",
     "output_type": "stream",
     "text": [
      "Memory usage before changing types 300.13 MB\n",
      "Memory usage after changing types 129.78 MB\n",
      "application_train.shape: (307511, 122)\n"
     ]
    },
    {
     "data": {
      "text/html": [
       "<div>\n",
       "<style scoped>\n",
       "    .dataframe tbody tr th:only-of-type {\n",
       "        vertical-align: middle;\n",
       "    }\n",
       "\n",
       "    .dataframe tbody tr th {\n",
       "        vertical-align: top;\n",
       "    }\n",
       "\n",
       "    .dataframe thead th {\n",
       "        text-align: right;\n",
       "    }\n",
       "</style>\n",
       "<table border=\"1\" class=\"dataframe\">\n",
       "  <thead>\n",
       "    <tr style=\"text-align: right;\">\n",
       "      <th></th>\n",
       "      <th>SK_ID_CURR</th>\n",
       "      <th>TARGET</th>\n",
       "      <th>NAME_CONTRACT_TYPE</th>\n",
       "      <th>CODE_GENDER</th>\n",
       "      <th>FLAG_OWN_CAR</th>\n",
       "      <th>FLAG_OWN_REALTY</th>\n",
       "      <th>CNT_CHILDREN</th>\n",
       "      <th>AMT_INCOME_TOTAL</th>\n",
       "      <th>AMT_CREDIT</th>\n",
       "      <th>AMT_ANNUITY</th>\n",
       "      <th>...</th>\n",
       "      <th>FLAG_DOCUMENT_18</th>\n",
       "      <th>FLAG_DOCUMENT_19</th>\n",
       "      <th>FLAG_DOCUMENT_20</th>\n",
       "      <th>FLAG_DOCUMENT_21</th>\n",
       "      <th>AMT_REQ_CREDIT_BUREAU_HOUR</th>\n",
       "      <th>AMT_REQ_CREDIT_BUREAU_DAY</th>\n",
       "      <th>AMT_REQ_CREDIT_BUREAU_WEEK</th>\n",
       "      <th>AMT_REQ_CREDIT_BUREAU_MON</th>\n",
       "      <th>AMT_REQ_CREDIT_BUREAU_QRT</th>\n",
       "      <th>AMT_REQ_CREDIT_BUREAU_YEAR</th>\n",
       "    </tr>\n",
       "  </thead>\n",
       "  <tbody>\n",
       "    <tr>\n",
       "      <th>0</th>\n",
       "      <td>100002</td>\n",
       "      <td>True</td>\n",
       "      <td>Cash loans</td>\n",
       "      <td>M</td>\n",
       "      <td>N</td>\n",
       "      <td>Y</td>\n",
       "      <td>0</td>\n",
       "      <td>202500.0</td>\n",
       "      <td>406597.5</td>\n",
       "      <td>24700.5</td>\n",
       "      <td>...</td>\n",
       "      <td>0</td>\n",
       "      <td>0</td>\n",
       "      <td>0</td>\n",
       "      <td>0</td>\n",
       "      <td>0.0</td>\n",
       "      <td>0.0</td>\n",
       "      <td>0.0</td>\n",
       "      <td>0.0</td>\n",
       "      <td>0.0</td>\n",
       "      <td>1.0</td>\n",
       "    </tr>\n",
       "    <tr>\n",
       "      <th>1</th>\n",
       "      <td>100003</td>\n",
       "      <td>False</td>\n",
       "      <td>Cash loans</td>\n",
       "      <td>F</td>\n",
       "      <td>N</td>\n",
       "      <td>N</td>\n",
       "      <td>0</td>\n",
       "      <td>270000.0</td>\n",
       "      <td>1293502.5</td>\n",
       "      <td>35698.5</td>\n",
       "      <td>...</td>\n",
       "      <td>0</td>\n",
       "      <td>0</td>\n",
       "      <td>0</td>\n",
       "      <td>0</td>\n",
       "      <td>0.0</td>\n",
       "      <td>0.0</td>\n",
       "      <td>0.0</td>\n",
       "      <td>0.0</td>\n",
       "      <td>0.0</td>\n",
       "      <td>0.0</td>\n",
       "    </tr>\n",
       "    <tr>\n",
       "      <th>2</th>\n",
       "      <td>100004</td>\n",
       "      <td>False</td>\n",
       "      <td>Revolving loans</td>\n",
       "      <td>M</td>\n",
       "      <td>Y</td>\n",
       "      <td>Y</td>\n",
       "      <td>0</td>\n",
       "      <td>67500.0</td>\n",
       "      <td>135000.0</td>\n",
       "      <td>6750.0</td>\n",
       "      <td>...</td>\n",
       "      <td>0</td>\n",
       "      <td>0</td>\n",
       "      <td>0</td>\n",
       "      <td>0</td>\n",
       "      <td>0.0</td>\n",
       "      <td>0.0</td>\n",
       "      <td>0.0</td>\n",
       "      <td>0.0</td>\n",
       "      <td>0.0</td>\n",
       "      <td>0.0</td>\n",
       "    </tr>\n",
       "    <tr>\n",
       "      <th>3</th>\n",
       "      <td>100006</td>\n",
       "      <td>False</td>\n",
       "      <td>Cash loans</td>\n",
       "      <td>F</td>\n",
       "      <td>N</td>\n",
       "      <td>Y</td>\n",
       "      <td>0</td>\n",
       "      <td>135000.0</td>\n",
       "      <td>312682.5</td>\n",
       "      <td>29686.5</td>\n",
       "      <td>...</td>\n",
       "      <td>0</td>\n",
       "      <td>0</td>\n",
       "      <td>0</td>\n",
       "      <td>0</td>\n",
       "      <td>NaN</td>\n",
       "      <td>NaN</td>\n",
       "      <td>NaN</td>\n",
       "      <td>NaN</td>\n",
       "      <td>NaN</td>\n",
       "      <td>NaN</td>\n",
       "    </tr>\n",
       "    <tr>\n",
       "      <th>4</th>\n",
       "      <td>100007</td>\n",
       "      <td>False</td>\n",
       "      <td>Cash loans</td>\n",
       "      <td>M</td>\n",
       "      <td>N</td>\n",
       "      <td>Y</td>\n",
       "      <td>0</td>\n",
       "      <td>121500.0</td>\n",
       "      <td>513000.0</td>\n",
       "      <td>21865.5</td>\n",
       "      <td>...</td>\n",
       "      <td>0</td>\n",
       "      <td>0</td>\n",
       "      <td>0</td>\n",
       "      <td>0</td>\n",
       "      <td>0.0</td>\n",
       "      <td>0.0</td>\n",
       "      <td>0.0</td>\n",
       "      <td>0.0</td>\n",
       "      <td>0.0</td>\n",
       "      <td>0.0</td>\n",
       "    </tr>\n",
       "  </tbody>\n",
       "</table>\n",
       "<p>5 rows × 122 columns</p>\n",
       "</div>"
      ],
      "text/plain": [
       "   SK_ID_CURR  TARGET NAME_CONTRACT_TYPE CODE_GENDER FLAG_OWN_CAR  \\\n",
       "0      100002    True         Cash loans           M            N   \n",
       "1      100003   False         Cash loans           F            N   \n",
       "2      100004   False    Revolving loans           M            Y   \n",
       "3      100006   False         Cash loans           F            N   \n",
       "4      100007   False         Cash loans           M            N   \n",
       "\n",
       "  FLAG_OWN_REALTY  CNT_CHILDREN  AMT_INCOME_TOTAL  AMT_CREDIT  AMT_ANNUITY  \\\n",
       "0               Y             0          202500.0    406597.5      24700.5   \n",
       "1               N             0          270000.0   1293502.5      35698.5   \n",
       "2               Y             0           67500.0    135000.0       6750.0   \n",
       "3               Y             0          135000.0    312682.5      29686.5   \n",
       "4               Y             0          121500.0    513000.0      21865.5   \n",
       "\n",
       "   ...  FLAG_DOCUMENT_18 FLAG_DOCUMENT_19 FLAG_DOCUMENT_20 FLAG_DOCUMENT_21  \\\n",
       "0  ...                 0                0                0                0   \n",
       "1  ...                 0                0                0                0   \n",
       "2  ...                 0                0                0                0   \n",
       "3  ...                 0                0                0                0   \n",
       "4  ...                 0                0                0                0   \n",
       "\n",
       "  AMT_REQ_CREDIT_BUREAU_HOUR AMT_REQ_CREDIT_BUREAU_DAY  \\\n",
       "0                        0.0                       0.0   \n",
       "1                        0.0                       0.0   \n",
       "2                        0.0                       0.0   \n",
       "3                        NaN                       NaN   \n",
       "4                        0.0                       0.0   \n",
       "\n",
       "   AMT_REQ_CREDIT_BUREAU_WEEK  AMT_REQ_CREDIT_BUREAU_MON  \\\n",
       "0                         0.0                        0.0   \n",
       "1                         0.0                        0.0   \n",
       "2                         0.0                        0.0   \n",
       "3                         NaN                        NaN   \n",
       "4                         0.0                        0.0   \n",
       "\n",
       "   AMT_REQ_CREDIT_BUREAU_QRT  AMT_REQ_CREDIT_BUREAU_YEAR  \n",
       "0                        0.0                         1.0  \n",
       "1                        0.0                         0.0  \n",
       "2                        0.0                         0.0  \n",
       "3                        NaN                         NaN  \n",
       "4                        0.0                         0.0  \n",
       "\n",
       "[5 rows x 122 columns]"
      ]
     },
     "execution_count": 2,
     "metadata": {},
     "output_type": "execute_result"
    }
   ],
   "source": [
    "application_train = pd.read_csv(os.path.join(INP_DIR, \"application_train.csv\"))\n",
    "application_train = change_dtypes(application_train)\n",
    "\n",
    "print(\"application_train.shape:\", application_train.shape)\n",
    "application_train.head()"
   ]
  },
  {
   "cell_type": "markdown",
   "metadata": {},
   "source": [
    "## Missing values"
   ]
  },
  {
   "cell_type": "code",
   "execution_count": 3,
   "metadata": {},
   "outputs": [
    {
     "name": "stdout",
     "output_type": "stream",
     "text": [
      "Total number of features: 122\n",
      "Number of features having missing values: 67\n",
      "head:\n"
     ]
    },
    {
     "data": {
      "text/plain": [
       "COMMONAREA_MEDI             0.698723\n",
       "COMMONAREA_AVG              0.698723\n",
       "COMMONAREA_MODE             0.698723\n",
       "NONLIVINGAPARTMENTS_MODE    0.694330\n",
       "NONLIVINGAPARTMENTS_MEDI    0.694330\n",
       "NONLIVINGAPARTMENTS_AVG     0.694330\n",
       "FONDKAPREMONT_MODE          0.683862\n",
       "LIVINGAPARTMENTS_MEDI       0.683550\n",
       "LIVINGAPARTMENTS_MODE       0.683550\n",
       "LIVINGAPARTMENTS_AVG        0.683550\n",
       "FLOORSMIN_MEDI              0.678486\n",
       "FLOORSMIN_MODE              0.678486\n",
       "FLOORSMIN_AVG               0.678486\n",
       "YEARS_BUILD_MEDI            0.664978\n",
       "YEARS_BUILD_AVG             0.664978\n",
       "YEARS_BUILD_MODE            0.664978\n",
       "OWN_CAR_AGE                 0.659908\n",
       "LANDAREA_MODE               0.593767\n",
       "LANDAREA_AVG                0.593767\n",
       "LANDAREA_MEDI               0.593767\n",
       "dtype: float64"
      ]
     },
     "metadata": {},
     "output_type": "display_data"
    },
    {
     "name": "stdout",
     "output_type": "stream",
     "text": [
      "tail\n"
     ]
    },
    {
     "data": {
      "text/plain": [
       "TOTALAREA_MODE                0.482685\n",
       "EMERGENCYSTATE_MODE           0.473983\n",
       "OCCUPATION_TYPE               0.313455\n",
       "EXT_SOURCE_3                  0.198253\n",
       "AMT_REQ_CREDIT_BUREAU_QRT     0.135016\n",
       "AMT_REQ_CREDIT_BUREAU_YEAR    0.135016\n",
       "AMT_REQ_CREDIT_BUREAU_WEEK    0.135016\n",
       "AMT_REQ_CREDIT_BUREAU_MON     0.135016\n",
       "AMT_REQ_CREDIT_BUREAU_DAY     0.135016\n",
       "AMT_REQ_CREDIT_BUREAU_HOUR    0.135016\n",
       "NAME_TYPE_SUITE               0.004201\n",
       "OBS_30_CNT_SOCIAL_CIRCLE      0.003320\n",
       "OBS_60_CNT_SOCIAL_CIRCLE      0.003320\n",
       "DEF_60_CNT_SOCIAL_CIRCLE      0.003320\n",
       "DEF_30_CNT_SOCIAL_CIRCLE      0.003320\n",
       "EXT_SOURCE_2                  0.002146\n",
       "AMT_GOODS_PRICE               0.000904\n",
       "AMT_ANNUITY                   0.000039\n",
       "CNT_FAM_MEMBERS               0.000007\n",
       "DAYS_LAST_PHONE_CHANGE        0.000003\n",
       "dtype: float64"
      ]
     },
     "metadata": {},
     "output_type": "display_data"
    }
   ],
   "source": [
    "missing_vals = application_train.isnull().mean()\n",
    "missing_vals = missing_vals.sort_values(ascending=False)\n",
    "print(\"Total number of features:\", application_train.shape[1])\n",
    "print(\"Number of features having missing values:\", (missing_vals > 0).sum())\n",
    "\n",
    "print(\"head:\")\n",
    "display(missing_vals.head(20))\n",
    "print(\"tail\")\n",
    "display(missing_vals[missing_vals > 0].tail(20))"
   ]
  },
  {
   "cell_type": "markdown",
   "metadata": {},
   "source": [
    "## Categorical columns"
   ]
  },
  {
   "cell_type": "markdown",
   "metadata": {},
   "source": [
    "We group the `TARGET` by a categorical feature. `TARGET` in each group is aggregated by `mean`, `var` and `count`. The resulting `group mean`, `group variance` and `group count` are used to calculate the F-ratio which is define as the `between-group variance` divided by `within-group variance`."
   ]
  },
  {
   "cell_type": "code",
   "execution_count": 4,
   "metadata": {},
   "outputs": [],
   "source": [
    "def f_ratio_df(df):\n",
    "    return f_ratio(df[\"default_rate\"], df[\"var_of_default_rate\"], df[\"count\"])"
   ]
  },
  {
   "cell_type": "code",
   "execution_count": 5,
   "metadata": {},
   "outputs": [
    {
     "name": "stdout",
     "output_type": "stream",
     "text": [
      "OCCUPATION_TYPE, f-ratio=0.00646\n"
     ]
    },
    {
     "data": {
      "text/html": [
       "<div>\n",
       "<style scoped>\n",
       "    .dataframe tbody tr th:only-of-type {\n",
       "        vertical-align: middle;\n",
       "    }\n",
       "\n",
       "    .dataframe tbody tr th {\n",
       "        vertical-align: top;\n",
       "    }\n",
       "\n",
       "    .dataframe thead th {\n",
       "        text-align: right;\n",
       "    }\n",
       "</style>\n",
       "<table border=\"1\" class=\"dataframe\">\n",
       "  <thead>\n",
       "    <tr style=\"text-align: right;\">\n",
       "      <th></th>\n",
       "      <th>default_rate</th>\n",
       "      <th>var_of_default_rate</th>\n",
       "      <th>count</th>\n",
       "    </tr>\n",
       "    <tr>\n",
       "      <th>OCCUPATION_TYPE</th>\n",
       "      <th></th>\n",
       "      <th></th>\n",
       "      <th></th>\n",
       "    </tr>\n",
       "  </thead>\n",
       "  <tbody>\n",
       "    <tr>\n",
       "      <th>Low-skill Laborers</th>\n",
       "      <td>0.171524</td>\n",
       "      <td>0.142172</td>\n",
       "      <td>2093</td>\n",
       "    </tr>\n",
       "    <tr>\n",
       "      <th>Drivers</th>\n",
       "      <td>0.113261</td>\n",
       "      <td>0.100439</td>\n",
       "      <td>18603</td>\n",
       "    </tr>\n",
       "    <tr>\n",
       "      <th>Waiters/barmen staff</th>\n",
       "      <td>0.112760</td>\n",
       "      <td>0.100119</td>\n",
       "      <td>1348</td>\n",
       "    </tr>\n",
       "    <tr>\n",
       "      <th>Security staff</th>\n",
       "      <td>0.107424</td>\n",
       "      <td>0.095899</td>\n",
       "      <td>6721</td>\n",
       "    </tr>\n",
       "    <tr>\n",
       "      <th>Laborers</th>\n",
       "      <td>0.105788</td>\n",
       "      <td>0.094598</td>\n",
       "      <td>55186</td>\n",
       "    </tr>\n",
       "    <tr>\n",
       "      <th>Cooking staff</th>\n",
       "      <td>0.104440</td>\n",
       "      <td>0.093548</td>\n",
       "      <td>5946</td>\n",
       "    </tr>\n",
       "    <tr>\n",
       "      <th>Sales staff</th>\n",
       "      <td>0.096318</td>\n",
       "      <td>0.087044</td>\n",
       "      <td>32102</td>\n",
       "    </tr>\n",
       "    <tr>\n",
       "      <th>Cleaning staff</th>\n",
       "      <td>0.096067</td>\n",
       "      <td>0.086857</td>\n",
       "      <td>4653</td>\n",
       "    </tr>\n",
       "    <tr>\n",
       "      <th>Realty agents</th>\n",
       "      <td>0.078562</td>\n",
       "      <td>0.072486</td>\n",
       "      <td>751</td>\n",
       "    </tr>\n",
       "    <tr>\n",
       "      <th>Secretaries</th>\n",
       "      <td>0.070498</td>\n",
       "      <td>0.065578</td>\n",
       "      <td>1305</td>\n",
       "    </tr>\n",
       "    <tr>\n",
       "      <th>Medicine staff</th>\n",
       "      <td>0.067002</td>\n",
       "      <td>0.062520</td>\n",
       "      <td>8537</td>\n",
       "    </tr>\n",
       "    <tr>\n",
       "      <th>Private service staff</th>\n",
       "      <td>0.065988</td>\n",
       "      <td>0.061657</td>\n",
       "      <td>2652</td>\n",
       "    </tr>\n",
       "    <tr>\n",
       "      <th>nan</th>\n",
       "      <td>0.065131</td>\n",
       "      <td>0.060889</td>\n",
       "      <td>96391</td>\n",
       "    </tr>\n",
       "    <tr>\n",
       "      <th>IT staff</th>\n",
       "      <td>0.064639</td>\n",
       "      <td>0.060576</td>\n",
       "      <td>526</td>\n",
       "    </tr>\n",
       "    <tr>\n",
       "      <th>HR staff</th>\n",
       "      <td>0.063943</td>\n",
       "      <td>0.059961</td>\n",
       "      <td>563</td>\n",
       "    </tr>\n",
       "    <tr>\n",
       "      <th>Core staff</th>\n",
       "      <td>0.063040</td>\n",
       "      <td>0.059068</td>\n",
       "      <td>27570</td>\n",
       "    </tr>\n",
       "    <tr>\n",
       "      <th>Managers</th>\n",
       "      <td>0.062140</td>\n",
       "      <td>0.058282</td>\n",
       "      <td>21371</td>\n",
       "    </tr>\n",
       "    <tr>\n",
       "      <th>High skill tech staff</th>\n",
       "      <td>0.061599</td>\n",
       "      <td>0.057810</td>\n",
       "      <td>11380</td>\n",
       "    </tr>\n",
       "    <tr>\n",
       "      <th>Accountants</th>\n",
       "      <td>0.048303</td>\n",
       "      <td>0.045975</td>\n",
       "      <td>9813</td>\n",
       "    </tr>\n",
       "  </tbody>\n",
       "</table>\n",
       "</div>"
      ],
      "text/plain": [
       "                       default_rate  var_of_default_rate  count\n",
       "OCCUPATION_TYPE                                                \n",
       "Low-skill Laborers         0.171524             0.142172   2093\n",
       "Drivers                    0.113261             0.100439  18603\n",
       "Waiters/barmen staff       0.112760             0.100119   1348\n",
       "Security staff             0.107424             0.095899   6721\n",
       "Laborers                   0.105788             0.094598  55186\n",
       "Cooking staff              0.104440             0.093548   5946\n",
       "Sales staff                0.096318             0.087044  32102\n",
       "Cleaning staff             0.096067             0.086857   4653\n",
       "Realty agents              0.078562             0.072486    751\n",
       "Secretaries                0.070498             0.065578   1305\n",
       "Medicine staff             0.067002             0.062520   8537\n",
       "Private service staff      0.065988             0.061657   2652\n",
       "nan                        0.065131             0.060889  96391\n",
       "IT staff                   0.064639             0.060576    526\n",
       "HR staff                   0.063943             0.059961    563\n",
       "Core staff                 0.063040             0.059068  27570\n",
       "Managers                   0.062140             0.058282  21371\n",
       "High skill tech staff      0.061599             0.057810  11380\n",
       "Accountants                0.048303             0.045975   9813"
      ]
     },
     "metadata": {},
     "output_type": "display_data"
    },
    {
     "name": "stdout",
     "output_type": "stream",
     "text": [
      "------------------------------------------\n",
      "\n",
      "\n",
      "ORGANIZATION_TYPE, f-ratio=0.00526\n"
     ]
    },
    {
     "data": {
      "text/html": [
       "<div>\n",
       "<style scoped>\n",
       "    .dataframe tbody tr th:only-of-type {\n",
       "        vertical-align: middle;\n",
       "    }\n",
       "\n",
       "    .dataframe tbody tr th {\n",
       "        vertical-align: top;\n",
       "    }\n",
       "\n",
       "    .dataframe thead th {\n",
       "        text-align: right;\n",
       "    }\n",
       "</style>\n",
       "<table border=\"1\" class=\"dataframe\">\n",
       "  <thead>\n",
       "    <tr style=\"text-align: right;\">\n",
       "      <th></th>\n",
       "      <th>default_rate</th>\n",
       "      <th>var_of_default_rate</th>\n",
       "      <th>count</th>\n",
       "    </tr>\n",
       "    <tr>\n",
       "      <th>ORGANIZATION_TYPE</th>\n",
       "      <th></th>\n",
       "      <th></th>\n",
       "      <th></th>\n",
       "    </tr>\n",
       "  </thead>\n",
       "  <tbody>\n",
       "    <tr>\n",
       "      <th>Transport: type 3</th>\n",
       "      <td>0.157540</td>\n",
       "      <td>0.132833</td>\n",
       "      <td>1187</td>\n",
       "    </tr>\n",
       "    <tr>\n",
       "      <th>Industry: type 13</th>\n",
       "      <td>0.134328</td>\n",
       "      <td>0.118046</td>\n",
       "      <td>67</td>\n",
       "    </tr>\n",
       "    <tr>\n",
       "      <th>Industry: type 8</th>\n",
       "      <td>0.125000</td>\n",
       "      <td>0.114130</td>\n",
       "      <td>24</td>\n",
       "    </tr>\n",
       "    <tr>\n",
       "      <th>Restaurant</th>\n",
       "      <td>0.117062</td>\n",
       "      <td>0.103416</td>\n",
       "      <td>1811</td>\n",
       "    </tr>\n",
       "    <tr>\n",
       "      <th>Construction</th>\n",
       "      <td>0.116798</td>\n",
       "      <td>0.103172</td>\n",
       "      <td>6721</td>\n",
       "    </tr>\n",
       "    <tr>\n",
       "      <th>Cleaning</th>\n",
       "      <td>0.111538</td>\n",
       "      <td>0.099480</td>\n",
       "      <td>260</td>\n",
       "    </tr>\n",
       "    <tr>\n",
       "      <th>Industry: type 1</th>\n",
       "      <td>0.110683</td>\n",
       "      <td>0.098527</td>\n",
       "      <td>1039</td>\n",
       "    </tr>\n",
       "    <tr>\n",
       "      <th>Industry: type 3</th>\n",
       "      <td>0.106162</td>\n",
       "      <td>0.094921</td>\n",
       "      <td>3278</td>\n",
       "    </tr>\n",
       "    <tr>\n",
       "      <th>Realtor</th>\n",
       "      <td>0.106061</td>\n",
       "      <td>0.095052</td>\n",
       "      <td>396</td>\n",
       "    </tr>\n",
       "    <tr>\n",
       "      <th>Agriculture</th>\n",
       "      <td>0.104727</td>\n",
       "      <td>0.093797</td>\n",
       "      <td>2454</td>\n",
       "    </tr>\n",
       "    <tr>\n",
       "      <th>Trade: type 3</th>\n",
       "      <td>0.103379</td>\n",
       "      <td>0.092718</td>\n",
       "      <td>3492</td>\n",
       "    </tr>\n",
       "    <tr>\n",
       "      <th>Self-employed</th>\n",
       "      <td>0.101739</td>\n",
       "      <td>0.091391</td>\n",
       "      <td>38412</td>\n",
       "    </tr>\n",
       "    <tr>\n",
       "      <th>Industry: type 4</th>\n",
       "      <td>0.101482</td>\n",
       "      <td>0.091288</td>\n",
       "      <td>877</td>\n",
       "    </tr>\n",
       "    <tr>\n",
       "      <th>Security</th>\n",
       "      <td>0.099784</td>\n",
       "      <td>0.089855</td>\n",
       "      <td>3247</td>\n",
       "    </tr>\n",
       "    <tr>\n",
       "      <th>Trade: type 7</th>\n",
       "      <td>0.094496</td>\n",
       "      <td>0.085578</td>\n",
       "      <td>7831</td>\n",
       "    </tr>\n",
       "    <tr>\n",
       "      <th>Business Entity Type 3</th>\n",
       "      <td>0.092996</td>\n",
       "      <td>0.084349</td>\n",
       "      <td>67992</td>\n",
       "    </tr>\n",
       "    <tr>\n",
       "      <th>Transport: type 4</th>\n",
       "      <td>0.092812</td>\n",
       "      <td>0.084214</td>\n",
       "      <td>5398</td>\n",
       "    </tr>\n",
       "    <tr>\n",
       "      <th>Mobile</th>\n",
       "      <td>0.091483</td>\n",
       "      <td>0.083377</td>\n",
       "      <td>317</td>\n",
       "    </tr>\n",
       "    <tr>\n",
       "      <th>Trade: type 1</th>\n",
       "      <td>0.089080</td>\n",
       "      <td>0.081379</td>\n",
       "      <td>348</td>\n",
       "    </tr>\n",
       "    <tr>\n",
       "      <th>Industry: type 11</th>\n",
       "      <td>0.086538</td>\n",
       "      <td>0.079079</td>\n",
       "      <td>2704</td>\n",
       "    </tr>\n",
       "    <tr>\n",
       "      <th>Business Entity Type 2</th>\n",
       "      <td>0.085284</td>\n",
       "      <td>0.078018</td>\n",
       "      <td>10553</td>\n",
       "    </tr>\n",
       "    <tr>\n",
       "      <th>Postal</th>\n",
       "      <td>0.084376</td>\n",
       "      <td>0.077293</td>\n",
       "      <td>2157</td>\n",
       "    </tr>\n",
       "    <tr>\n",
       "      <th>Advertising</th>\n",
       "      <td>0.081585</td>\n",
       "      <td>0.075104</td>\n",
       "      <td>429</td>\n",
       "    </tr>\n",
       "    <tr>\n",
       "      <th>Business Entity Type 1</th>\n",
       "      <td>0.081384</td>\n",
       "      <td>0.074773</td>\n",
       "      <td>5984</td>\n",
       "    </tr>\n",
       "    <tr>\n",
       "      <th>Industry: type 7</th>\n",
       "      <td>0.080337</td>\n",
       "      <td>0.073939</td>\n",
       "      <td>1307</td>\n",
       "    </tr>\n",
       "    <tr>\n",
       "      <th>Housing</th>\n",
       "      <td>0.079446</td>\n",
       "      <td>0.073159</td>\n",
       "      <td>2958</td>\n",
       "    </tr>\n",
       "    <tr>\n",
       "      <th>Legal Services</th>\n",
       "      <td>0.078689</td>\n",
       "      <td>0.072735</td>\n",
       "      <td>305</td>\n",
       "    </tr>\n",
       "    <tr>\n",
       "      <th>Transport: type 2</th>\n",
       "      <td>0.078040</td>\n",
       "      <td>0.071982</td>\n",
       "      <td>2204</td>\n",
       "    </tr>\n",
       "    <tr>\n",
       "      <th>Other</th>\n",
       "      <td>0.076425</td>\n",
       "      <td>0.070589</td>\n",
       "      <td>16683</td>\n",
       "    </tr>\n",
       "    <tr>\n",
       "      <th>Telecom</th>\n",
       "      <td>0.076256</td>\n",
       "      <td>0.070564</td>\n",
       "      <td>577</td>\n",
       "    </tr>\n",
       "    <tr>\n",
       "      <th>Industry: type 2</th>\n",
       "      <td>0.072052</td>\n",
       "      <td>0.067007</td>\n",
       "      <td>458</td>\n",
       "    </tr>\n",
       "    <tr>\n",
       "      <th>Industry: type 6</th>\n",
       "      <td>0.071429</td>\n",
       "      <td>0.066924</td>\n",
       "      <td>112</td>\n",
       "    </tr>\n",
       "    <tr>\n",
       "      <th>Emergency</th>\n",
       "      <td>0.071429</td>\n",
       "      <td>0.066445</td>\n",
       "      <td>560</td>\n",
       "    </tr>\n",
       "    <tr>\n",
       "      <th>Kindergarten</th>\n",
       "      <td>0.070349</td>\n",
       "      <td>0.065409</td>\n",
       "      <td>6880</td>\n",
       "    </tr>\n",
       "    <tr>\n",
       "      <th>Trade: type 2</th>\n",
       "      <td>0.070000</td>\n",
       "      <td>0.065134</td>\n",
       "      <td>1900</td>\n",
       "    </tr>\n",
       "    <tr>\n",
       "      <th>Government</th>\n",
       "      <td>0.069781</td>\n",
       "      <td>0.064918</td>\n",
       "      <td>10404</td>\n",
       "    </tr>\n",
       "    <tr>\n",
       "      <th>Industry: type 5</th>\n",
       "      <td>0.068447</td>\n",
       "      <td>0.063869</td>\n",
       "      <td>599</td>\n",
       "    </tr>\n",
       "    <tr>\n",
       "      <th>Industry: type 9</th>\n",
       "      <td>0.066805</td>\n",
       "      <td>0.062361</td>\n",
       "      <td>3368</td>\n",
       "    </tr>\n",
       "    <tr>\n",
       "      <th>Electricity</th>\n",
       "      <td>0.066316</td>\n",
       "      <td>0.061983</td>\n",
       "      <td>950</td>\n",
       "    </tr>\n",
       "    <tr>\n",
       "      <th>Services</th>\n",
       "      <td>0.066032</td>\n",
       "      <td>0.061711</td>\n",
       "      <td>1575</td>\n",
       "    </tr>\n",
       "    <tr>\n",
       "      <th>Medicine</th>\n",
       "      <td>0.065845</td>\n",
       "      <td>0.061515</td>\n",
       "      <td>11193</td>\n",
       "    </tr>\n",
       "    <tr>\n",
       "      <th>Industry: type 10</th>\n",
       "      <td>0.064220</td>\n",
       "      <td>0.060652</td>\n",
       "      <td>109</td>\n",
       "    </tr>\n",
       "    <tr>\n",
       "      <th>Hotel</th>\n",
       "      <td>0.064182</td>\n",
       "      <td>0.060125</td>\n",
       "      <td>966</td>\n",
       "    </tr>\n",
       "    <tr>\n",
       "      <th>Trade: type 5</th>\n",
       "      <td>0.061224</td>\n",
       "      <td>0.058673</td>\n",
       "      <td>49</td>\n",
       "    </tr>\n",
       "    <tr>\n",
       "      <th>School</th>\n",
       "      <td>0.059148</td>\n",
       "      <td>0.055655</td>\n",
       "      <td>8893</td>\n",
       "    </tr>\n",
       "    <tr>\n",
       "      <th>Religion</th>\n",
       "      <td>0.058824</td>\n",
       "      <td>0.056022</td>\n",
       "      <td>85</td>\n",
       "    </tr>\n",
       "    <tr>\n",
       "      <th>Insurance</th>\n",
       "      <td>0.056951</td>\n",
       "      <td>0.053798</td>\n",
       "      <td>597</td>\n",
       "    </tr>\n",
       "    <tr>\n",
       "      <th>Culture</th>\n",
       "      <td>0.055409</td>\n",
       "      <td>0.052477</td>\n",
       "      <td>379</td>\n",
       "    </tr>\n",
       "    <tr>\n",
       "      <th>XNA</th>\n",
       "      <td>0.053996</td>\n",
       "      <td>0.051082</td>\n",
       "      <td>55374</td>\n",
       "    </tr>\n",
       "    <tr>\n",
       "      <th>Bank</th>\n",
       "      <td>0.051855</td>\n",
       "      <td>0.049186</td>\n",
       "      <td>2507</td>\n",
       "    </tr>\n",
       "    <tr>\n",
       "      <th>Military</th>\n",
       "      <td>0.051253</td>\n",
       "      <td>0.048644</td>\n",
       "      <td>2634</td>\n",
       "    </tr>\n",
       "    <tr>\n",
       "      <th>Police</th>\n",
       "      <td>0.049979</td>\n",
       "      <td>0.047501</td>\n",
       "      <td>2341</td>\n",
       "    </tr>\n",
       "    <tr>\n",
       "      <th>University</th>\n",
       "      <td>0.048983</td>\n",
       "      <td>0.046618</td>\n",
       "      <td>1327</td>\n",
       "    </tr>\n",
       "    <tr>\n",
       "      <th>Security Ministries</th>\n",
       "      <td>0.048632</td>\n",
       "      <td>0.046291</td>\n",
       "      <td>1974</td>\n",
       "    </tr>\n",
       "    <tr>\n",
       "      <th>Trade: type 6</th>\n",
       "      <td>0.045959</td>\n",
       "      <td>0.043916</td>\n",
       "      <td>631</td>\n",
       "    </tr>\n",
       "    <tr>\n",
       "      <th>Transport: type 1</th>\n",
       "      <td>0.044776</td>\n",
       "      <td>0.042985</td>\n",
       "      <td>201</td>\n",
       "    </tr>\n",
       "    <tr>\n",
       "      <th>Industry: type 12</th>\n",
       "      <td>0.037940</td>\n",
       "      <td>0.036600</td>\n",
       "      <td>369</td>\n",
       "    </tr>\n",
       "    <tr>\n",
       "      <th>Trade: type 4</th>\n",
       "      <td>0.031250</td>\n",
       "      <td>0.030754</td>\n",
       "      <td>64</td>\n",
       "    </tr>\n",
       "  </tbody>\n",
       "</table>\n",
       "</div>"
      ],
      "text/plain": [
       "                        default_rate  var_of_default_rate  count\n",
       "ORGANIZATION_TYPE                                               \n",
       "Transport: type 3           0.157540             0.132833   1187\n",
       "Industry: type 13           0.134328             0.118046     67\n",
       "Industry: type 8            0.125000             0.114130     24\n",
       "Restaurant                  0.117062             0.103416   1811\n",
       "Construction                0.116798             0.103172   6721\n",
       "Cleaning                    0.111538             0.099480    260\n",
       "Industry: type 1            0.110683             0.098527   1039\n",
       "Industry: type 3            0.106162             0.094921   3278\n",
       "Realtor                     0.106061             0.095052    396\n",
       "Agriculture                 0.104727             0.093797   2454\n",
       "Trade: type 3               0.103379             0.092718   3492\n",
       "Self-employed               0.101739             0.091391  38412\n",
       "Industry: type 4            0.101482             0.091288    877\n",
       "Security                    0.099784             0.089855   3247\n",
       "Trade: type 7               0.094496             0.085578   7831\n",
       "Business Entity Type 3      0.092996             0.084349  67992\n",
       "Transport: type 4           0.092812             0.084214   5398\n",
       "Mobile                      0.091483             0.083377    317\n",
       "Trade: type 1               0.089080             0.081379    348\n",
       "Industry: type 11           0.086538             0.079079   2704\n",
       "Business Entity Type 2      0.085284             0.078018  10553\n",
       "Postal                      0.084376             0.077293   2157\n",
       "Advertising                 0.081585             0.075104    429\n",
       "Business Entity Type 1      0.081384             0.074773   5984\n",
       "Industry: type 7            0.080337             0.073939   1307\n",
       "Housing                     0.079446             0.073159   2958\n",
       "Legal Services              0.078689             0.072735    305\n",
       "Transport: type 2           0.078040             0.071982   2204\n",
       "Other                       0.076425             0.070589  16683\n",
       "Telecom                     0.076256             0.070564    577\n",
       "Industry: type 2            0.072052             0.067007    458\n",
       "Industry: type 6            0.071429             0.066924    112\n",
       "Emergency                   0.071429             0.066445    560\n",
       "Kindergarten                0.070349             0.065409   6880\n",
       "Trade: type 2               0.070000             0.065134   1900\n",
       "Government                  0.069781             0.064918  10404\n",
       "Industry: type 5            0.068447             0.063869    599\n",
       "Industry: type 9            0.066805             0.062361   3368\n",
       "Electricity                 0.066316             0.061983    950\n",
       "Services                    0.066032             0.061711   1575\n",
       "Medicine                    0.065845             0.061515  11193\n",
       "Industry: type 10           0.064220             0.060652    109\n",
       "Hotel                       0.064182             0.060125    966\n",
       "Trade: type 5               0.061224             0.058673     49\n",
       "School                      0.059148             0.055655   8893\n",
       "Religion                    0.058824             0.056022     85\n",
       "Insurance                   0.056951             0.053798    597\n",
       "Culture                     0.055409             0.052477    379\n",
       "XNA                         0.053996             0.051082  55374\n",
       "Bank                        0.051855             0.049186   2507\n",
       "Military                    0.051253             0.048644   2634\n",
       "Police                      0.049979             0.047501   2341\n",
       "University                  0.048983             0.046618   1327\n",
       "Security Ministries         0.048632             0.046291   1974\n",
       "Trade: type 6               0.045959             0.043916    631\n",
       "Transport: type 1           0.044776             0.042985    201\n",
       "Industry: type 12           0.037940             0.036600    369\n",
       "Trade: type 4               0.031250             0.030754     64"
      ]
     },
     "metadata": {},
     "output_type": "display_data"
    },
    {
     "name": "stdout",
     "output_type": "stream",
     "text": [
      "------------------------------------------\n",
      "\n",
      "\n",
      "NAME_INCOME_TYPE, f-ratio=0.00409\n"
     ]
    },
    {
     "data": {
      "text/html": [
       "<div>\n",
       "<style scoped>\n",
       "    .dataframe tbody tr th:only-of-type {\n",
       "        vertical-align: middle;\n",
       "    }\n",
       "\n",
       "    .dataframe tbody tr th {\n",
       "        vertical-align: top;\n",
       "    }\n",
       "\n",
       "    .dataframe thead th {\n",
       "        text-align: right;\n",
       "    }\n",
       "</style>\n",
       "<table border=\"1\" class=\"dataframe\">\n",
       "  <thead>\n",
       "    <tr style=\"text-align: right;\">\n",
       "      <th></th>\n",
       "      <th>default_rate</th>\n",
       "      <th>var_of_default_rate</th>\n",
       "      <th>count</th>\n",
       "    </tr>\n",
       "    <tr>\n",
       "      <th>NAME_INCOME_TYPE</th>\n",
       "      <th></th>\n",
       "      <th></th>\n",
       "      <th></th>\n",
       "    </tr>\n",
       "  </thead>\n",
       "  <tbody>\n",
       "    <tr>\n",
       "      <th>Maternity leave</th>\n",
       "      <td>0.400000</td>\n",
       "      <td>0.300000</td>\n",
       "      <td>5</td>\n",
       "    </tr>\n",
       "    <tr>\n",
       "      <th>Unemployed</th>\n",
       "      <td>0.363636</td>\n",
       "      <td>0.242424</td>\n",
       "      <td>22</td>\n",
       "    </tr>\n",
       "    <tr>\n",
       "      <th>Working</th>\n",
       "      <td>0.095885</td>\n",
       "      <td>0.086691</td>\n",
       "      <td>158774</td>\n",
       "    </tr>\n",
       "    <tr>\n",
       "      <th>Commercial associate</th>\n",
       "      <td>0.074843</td>\n",
       "      <td>0.069242</td>\n",
       "      <td>71617</td>\n",
       "    </tr>\n",
       "    <tr>\n",
       "      <th>State servant</th>\n",
       "      <td>0.057550</td>\n",
       "      <td>0.054240</td>\n",
       "      <td>21703</td>\n",
       "    </tr>\n",
       "    <tr>\n",
       "      <th>Pensioner</th>\n",
       "      <td>0.053864</td>\n",
       "      <td>0.050963</td>\n",
       "      <td>55362</td>\n",
       "    </tr>\n",
       "    <tr>\n",
       "      <th>Businessman</th>\n",
       "      <td>0.000000</td>\n",
       "      <td>0.000000</td>\n",
       "      <td>10</td>\n",
       "    </tr>\n",
       "    <tr>\n",
       "      <th>Student</th>\n",
       "      <td>0.000000</td>\n",
       "      <td>0.000000</td>\n",
       "      <td>18</td>\n",
       "    </tr>\n",
       "  </tbody>\n",
       "</table>\n",
       "</div>"
      ],
      "text/plain": [
       "                      default_rate  var_of_default_rate   count\n",
       "NAME_INCOME_TYPE                                               \n",
       "Maternity leave           0.400000             0.300000       5\n",
       "Unemployed                0.363636             0.242424      22\n",
       "Working                   0.095885             0.086691  158774\n",
       "Commercial associate      0.074843             0.069242   71617\n",
       "State servant             0.057550             0.054240   21703\n",
       "Pensioner                 0.053864             0.050963   55362\n",
       "Businessman               0.000000             0.000000      10\n",
       "Student                   0.000000             0.000000      18"
      ]
     },
     "metadata": {},
     "output_type": "display_data"
    },
    {
     "name": "stdout",
     "output_type": "stream",
     "text": [
      "------------------------------------------\n",
      "\n",
      "\n",
      "NAME_EDUCATION_TYPE, f-ratio=0.00333\n"
     ]
    },
    {
     "data": {
      "text/html": [
       "<div>\n",
       "<style scoped>\n",
       "    .dataframe tbody tr th:only-of-type {\n",
       "        vertical-align: middle;\n",
       "    }\n",
       "\n",
       "    .dataframe tbody tr th {\n",
       "        vertical-align: top;\n",
       "    }\n",
       "\n",
       "    .dataframe thead th {\n",
       "        text-align: right;\n",
       "    }\n",
       "</style>\n",
       "<table border=\"1\" class=\"dataframe\">\n",
       "  <thead>\n",
       "    <tr style=\"text-align: right;\">\n",
       "      <th></th>\n",
       "      <th>default_rate</th>\n",
       "      <th>var_of_default_rate</th>\n",
       "      <th>count</th>\n",
       "    </tr>\n",
       "    <tr>\n",
       "      <th>NAME_EDUCATION_TYPE</th>\n",
       "      <th></th>\n",
       "      <th></th>\n",
       "      <th></th>\n",
       "    </tr>\n",
       "  </thead>\n",
       "  <tbody>\n",
       "    <tr>\n",
       "      <th>Lower secondary</th>\n",
       "      <td>0.109277</td>\n",
       "      <td>0.097361</td>\n",
       "      <td>3816</td>\n",
       "    </tr>\n",
       "    <tr>\n",
       "      <th>Secondary / secondary special</th>\n",
       "      <td>0.089399</td>\n",
       "      <td>0.081407</td>\n",
       "      <td>218391</td>\n",
       "    </tr>\n",
       "    <tr>\n",
       "      <th>Incomplete higher</th>\n",
       "      <td>0.084850</td>\n",
       "      <td>0.077658</td>\n",
       "      <td>10277</td>\n",
       "    </tr>\n",
       "    <tr>\n",
       "      <th>Higher education</th>\n",
       "      <td>0.053551</td>\n",
       "      <td>0.050684</td>\n",
       "      <td>74863</td>\n",
       "    </tr>\n",
       "    <tr>\n",
       "      <th>Academic degree</th>\n",
       "      <td>0.018293</td>\n",
       "      <td>0.018068</td>\n",
       "      <td>164</td>\n",
       "    </tr>\n",
       "  </tbody>\n",
       "</table>\n",
       "</div>"
      ],
      "text/plain": [
       "                               default_rate  var_of_default_rate   count\n",
       "NAME_EDUCATION_TYPE                                                     \n",
       "Lower secondary                    0.109277             0.097361    3816\n",
       "Secondary / secondary special      0.089399             0.081407  218391\n",
       "Incomplete higher                  0.084850             0.077658   10277\n",
       "Higher education                   0.053551             0.050684   74863\n",
       "Academic degree                    0.018293             0.018068     164"
      ]
     },
     "metadata": {},
     "output_type": "display_data"
    },
    {
     "name": "stdout",
     "output_type": "stream",
     "text": [
      "------------------------------------------\n",
      "\n",
      "\n",
      "CODE_GENDER, f-ratio=0.00300\n"
     ]
    },
    {
     "data": {
      "text/html": [
       "<div>\n",
       "<style scoped>\n",
       "    .dataframe tbody tr th:only-of-type {\n",
       "        vertical-align: middle;\n",
       "    }\n",
       "\n",
       "    .dataframe tbody tr th {\n",
       "        vertical-align: top;\n",
       "    }\n",
       "\n",
       "    .dataframe thead th {\n",
       "        text-align: right;\n",
       "    }\n",
       "</style>\n",
       "<table border=\"1\" class=\"dataframe\">\n",
       "  <thead>\n",
       "    <tr style=\"text-align: right;\">\n",
       "      <th></th>\n",
       "      <th>default_rate</th>\n",
       "      <th>var_of_default_rate</th>\n",
       "      <th>count</th>\n",
       "    </tr>\n",
       "    <tr>\n",
       "      <th>CODE_GENDER</th>\n",
       "      <th></th>\n",
       "      <th></th>\n",
       "      <th></th>\n",
       "    </tr>\n",
       "  </thead>\n",
       "  <tbody>\n",
       "    <tr>\n",
       "      <th>M</th>\n",
       "      <td>0.101419</td>\n",
       "      <td>0.091134</td>\n",
       "      <td>105059</td>\n",
       "    </tr>\n",
       "    <tr>\n",
       "      <th>F</th>\n",
       "      <td>0.069993</td>\n",
       "      <td>0.065095</td>\n",
       "      <td>202448</td>\n",
       "    </tr>\n",
       "    <tr>\n",
       "      <th>XNA</th>\n",
       "      <td>0.000000</td>\n",
       "      <td>0.000000</td>\n",
       "      <td>4</td>\n",
       "    </tr>\n",
       "  </tbody>\n",
       "</table>\n",
       "</div>"
      ],
      "text/plain": [
       "             default_rate  var_of_default_rate   count\n",
       "CODE_GENDER                                           \n",
       "M                0.101419             0.091134  105059\n",
       "F                0.069993             0.065095  202448\n",
       "XNA              0.000000             0.000000       4"
      ]
     },
     "metadata": {},
     "output_type": "display_data"
    },
    {
     "name": "stdout",
     "output_type": "stream",
     "text": [
      "------------------------------------------\n",
      "\n",
      "\n",
      "WALLSMATERIAL_MODE, f-ratio=0.00195\n"
     ]
    },
    {
     "data": {
      "text/html": [
       "<div>\n",
       "<style scoped>\n",
       "    .dataframe tbody tr th:only-of-type {\n",
       "        vertical-align: middle;\n",
       "    }\n",
       "\n",
       "    .dataframe tbody tr th {\n",
       "        vertical-align: top;\n",
       "    }\n",
       "\n",
       "    .dataframe thead th {\n",
       "        text-align: right;\n",
       "    }\n",
       "</style>\n",
       "<table border=\"1\" class=\"dataframe\">\n",
       "  <thead>\n",
       "    <tr style=\"text-align: right;\">\n",
       "      <th></th>\n",
       "      <th>default_rate</th>\n",
       "      <th>var_of_default_rate</th>\n",
       "      <th>count</th>\n",
       "    </tr>\n",
       "    <tr>\n",
       "      <th>WALLSMATERIAL_MODE</th>\n",
       "      <th></th>\n",
       "      <th></th>\n",
       "      <th></th>\n",
       "    </tr>\n",
       "  </thead>\n",
       "  <tbody>\n",
       "    <tr>\n",
       "      <th>Wooden</th>\n",
       "      <td>0.096979</td>\n",
       "      <td>0.087590</td>\n",
       "      <td>5362</td>\n",
       "    </tr>\n",
       "    <tr>\n",
       "      <th>nan</th>\n",
       "      <td>0.091281</td>\n",
       "      <td>0.082950</td>\n",
       "      <td>156341</td>\n",
       "    </tr>\n",
       "    <tr>\n",
       "      <th>Others</th>\n",
       "      <td>0.083077</td>\n",
       "      <td>0.076222</td>\n",
       "      <td>1625</td>\n",
       "    </tr>\n",
       "    <tr>\n",
       "      <th>Mixed</th>\n",
       "      <td>0.075348</td>\n",
       "      <td>0.069701</td>\n",
       "      <td>2296</td>\n",
       "    </tr>\n",
       "    <tr>\n",
       "      <th>Stone, brick</th>\n",
       "      <td>0.074057</td>\n",
       "      <td>0.068574</td>\n",
       "      <td>64815</td>\n",
       "    </tr>\n",
       "    <tr>\n",
       "      <th>Block</th>\n",
       "      <td>0.070247</td>\n",
       "      <td>0.065320</td>\n",
       "      <td>9253</td>\n",
       "    </tr>\n",
       "    <tr>\n",
       "      <th>Panel</th>\n",
       "      <td>0.063477</td>\n",
       "      <td>0.059448</td>\n",
       "      <td>66040</td>\n",
       "    </tr>\n",
       "    <tr>\n",
       "      <th>Monolithic</th>\n",
       "      <td>0.047218</td>\n",
       "      <td>0.045013</td>\n",
       "      <td>1779</td>\n",
       "    </tr>\n",
       "  </tbody>\n",
       "</table>\n",
       "</div>"
      ],
      "text/plain": [
       "                    default_rate  var_of_default_rate   count\n",
       "WALLSMATERIAL_MODE                                           \n",
       "Wooden                  0.096979             0.087590    5362\n",
       "nan                     0.091281             0.082950  156341\n",
       "Others                  0.083077             0.076222    1625\n",
       "Mixed                   0.075348             0.069701    2296\n",
       "Stone, brick            0.074057             0.068574   64815\n",
       "Block                   0.070247             0.065320    9253\n",
       "Panel                   0.063477             0.059448   66040\n",
       "Monolithic              0.047218             0.045013    1779"
      ]
     },
     "metadata": {},
     "output_type": "display_data"
    },
    {
     "name": "stdout",
     "output_type": "stream",
     "text": [
      "------------------------------------------\n",
      "\n",
      "\n",
      "EMERGENCYSTATE_MODE, f-ratio=0.00179\n"
     ]
    },
    {
     "data": {
      "text/html": [
       "<div>\n",
       "<style scoped>\n",
       "    .dataframe tbody tr th:only-of-type {\n",
       "        vertical-align: middle;\n",
       "    }\n",
       "\n",
       "    .dataframe tbody tr th {\n",
       "        vertical-align: top;\n",
       "    }\n",
       "\n",
       "    .dataframe thead th {\n",
       "        text-align: right;\n",
       "    }\n",
       "</style>\n",
       "<table border=\"1\" class=\"dataframe\">\n",
       "  <thead>\n",
       "    <tr style=\"text-align: right;\">\n",
       "      <th></th>\n",
       "      <th>default_rate</th>\n",
       "      <th>var_of_default_rate</th>\n",
       "      <th>count</th>\n",
       "    </tr>\n",
       "    <tr>\n",
       "      <th>EMERGENCYSTATE_MODE</th>\n",
       "      <th></th>\n",
       "      <th></th>\n",
       "      <th></th>\n",
       "    </tr>\n",
       "  </thead>\n",
       "  <tbody>\n",
       "    <tr>\n",
       "      <th>Yes</th>\n",
       "      <td>0.095790</td>\n",
       "      <td>0.086652</td>\n",
       "      <td>2328</td>\n",
       "    </tr>\n",
       "    <tr>\n",
       "      <th>nan</th>\n",
       "      <td>0.092607</td>\n",
       "      <td>0.084032</td>\n",
       "      <td>145755</td>\n",
       "    </tr>\n",
       "    <tr>\n",
       "      <th>No</th>\n",
       "      <td>0.069649</td>\n",
       "      <td>0.064798</td>\n",
       "      <td>159428</td>\n",
       "    </tr>\n",
       "  </tbody>\n",
       "</table>\n",
       "</div>"
      ],
      "text/plain": [
       "                     default_rate  var_of_default_rate   count\n",
       "EMERGENCYSTATE_MODE                                           \n",
       "Yes                      0.095790             0.086652    2328\n",
       "nan                      0.092607             0.084032  145755\n",
       "No                       0.069649             0.064798  159428"
      ]
     },
     "metadata": {},
     "output_type": "display_data"
    },
    {
     "name": "stdout",
     "output_type": "stream",
     "text": [
      "------------------------------------------\n",
      "\n",
      "\n",
      "HOUSETYPE_MODE, f-ratio=0.00166\n"
     ]
    },
    {
     "data": {
      "text/html": [
       "<div>\n",
       "<style scoped>\n",
       "    .dataframe tbody tr th:only-of-type {\n",
       "        vertical-align: middle;\n",
       "    }\n",
       "\n",
       "    .dataframe tbody tr th {\n",
       "        vertical-align: top;\n",
       "    }\n",
       "\n",
       "    .dataframe thead th {\n",
       "        text-align: right;\n",
       "    }\n",
       "</style>\n",
       "<table border=\"1\" class=\"dataframe\">\n",
       "  <thead>\n",
       "    <tr style=\"text-align: right;\">\n",
       "      <th></th>\n",
       "      <th>default_rate</th>\n",
       "      <th>var_of_default_rate</th>\n",
       "      <th>count</th>\n",
       "    </tr>\n",
       "    <tr>\n",
       "      <th>HOUSETYPE_MODE</th>\n",
       "      <th></th>\n",
       "      <th></th>\n",
       "      <th></th>\n",
       "    </tr>\n",
       "  </thead>\n",
       "  <tbody>\n",
       "    <tr>\n",
       "      <th>specific housing</th>\n",
       "      <td>0.101401</td>\n",
       "      <td>0.091180</td>\n",
       "      <td>1499</td>\n",
       "    </tr>\n",
       "    <tr>\n",
       "      <th>nan</th>\n",
       "      <td>0.091512</td>\n",
       "      <td>0.083138</td>\n",
       "      <td>154297</td>\n",
       "    </tr>\n",
       "    <tr>\n",
       "      <th>terraced house</th>\n",
       "      <td>0.084983</td>\n",
       "      <td>0.077826</td>\n",
       "      <td>1212</td>\n",
       "    </tr>\n",
       "    <tr>\n",
       "      <th>block of flats</th>\n",
       "      <td>0.069434</td>\n",
       "      <td>0.064613</td>\n",
       "      <td>150503</td>\n",
       "    </tr>\n",
       "  </tbody>\n",
       "</table>\n",
       "</div>"
      ],
      "text/plain": [
       "                  default_rate  var_of_default_rate   count\n",
       "HOUSETYPE_MODE                                             \n",
       "specific housing      0.101401             0.091180    1499\n",
       "nan                   0.091512             0.083138  154297\n",
       "terraced house        0.084983             0.077826    1212\n",
       "block of flats        0.069434             0.064613  150503"
      ]
     },
     "metadata": {},
     "output_type": "display_data"
    },
    {
     "name": "stdout",
     "output_type": "stream",
     "text": [
      "------------------------------------------\n",
      "\n",
      "\n",
      "NAME_FAMILY_STATUS, f-ratio=0.00164\n"
     ]
    },
    {
     "data": {
      "text/html": [
       "<div>\n",
       "<style scoped>\n",
       "    .dataframe tbody tr th:only-of-type {\n",
       "        vertical-align: middle;\n",
       "    }\n",
       "\n",
       "    .dataframe tbody tr th {\n",
       "        vertical-align: top;\n",
       "    }\n",
       "\n",
       "    .dataframe thead th {\n",
       "        text-align: right;\n",
       "    }\n",
       "</style>\n",
       "<table border=\"1\" class=\"dataframe\">\n",
       "  <thead>\n",
       "    <tr style=\"text-align: right;\">\n",
       "      <th></th>\n",
       "      <th>default_rate</th>\n",
       "      <th>var_of_default_rate</th>\n",
       "      <th>count</th>\n",
       "    </tr>\n",
       "    <tr>\n",
       "      <th>NAME_FAMILY_STATUS</th>\n",
       "      <th></th>\n",
       "      <th></th>\n",
       "      <th></th>\n",
       "    </tr>\n",
       "  </thead>\n",
       "  <tbody>\n",
       "    <tr>\n",
       "      <th>Civil marriage</th>\n",
       "      <td>0.099446</td>\n",
       "      <td>0.089559</td>\n",
       "      <td>29775</td>\n",
       "    </tr>\n",
       "    <tr>\n",
       "      <th>Single / not married</th>\n",
       "      <td>0.098077</td>\n",
       "      <td>0.088460</td>\n",
       "      <td>45444</td>\n",
       "    </tr>\n",
       "    <tr>\n",
       "      <th>Separated</th>\n",
       "      <td>0.081942</td>\n",
       "      <td>0.075232</td>\n",
       "      <td>19770</td>\n",
       "    </tr>\n",
       "    <tr>\n",
       "      <th>Married</th>\n",
       "      <td>0.075599</td>\n",
       "      <td>0.069884</td>\n",
       "      <td>196432</td>\n",
       "    </tr>\n",
       "    <tr>\n",
       "      <th>Widow</th>\n",
       "      <td>0.058242</td>\n",
       "      <td>0.054853</td>\n",
       "      <td>16088</td>\n",
       "    </tr>\n",
       "    <tr>\n",
       "      <th>Unknown</th>\n",
       "      <td>0.000000</td>\n",
       "      <td>0.000000</td>\n",
       "      <td>2</td>\n",
       "    </tr>\n",
       "  </tbody>\n",
       "</table>\n",
       "</div>"
      ],
      "text/plain": [
       "                      default_rate  var_of_default_rate   count\n",
       "NAME_FAMILY_STATUS                                             \n",
       "Civil marriage            0.099446             0.089559   29775\n",
       "Single / not married      0.098077             0.088460   45444\n",
       "Separated                 0.081942             0.075232   19770\n",
       "Married                   0.075599             0.069884  196432\n",
       "Widow                     0.058242             0.054853   16088\n",
       "Unknown                   0.000000             0.000000       2"
      ]
     },
     "metadata": {},
     "output_type": "display_data"
    },
    {
     "name": "stdout",
     "output_type": "stream",
     "text": [
      "------------------------------------------\n",
      "\n",
      "\n",
      "NAME_HOUSING_TYPE, f-ratio=0.00137\n"
     ]
    },
    {
     "data": {
      "text/html": [
       "<div>\n",
       "<style scoped>\n",
       "    .dataframe tbody tr th:only-of-type {\n",
       "        vertical-align: middle;\n",
       "    }\n",
       "\n",
       "    .dataframe tbody tr th {\n",
       "        vertical-align: top;\n",
       "    }\n",
       "\n",
       "    .dataframe thead th {\n",
       "        text-align: right;\n",
       "    }\n",
       "</style>\n",
       "<table border=\"1\" class=\"dataframe\">\n",
       "  <thead>\n",
       "    <tr style=\"text-align: right;\">\n",
       "      <th></th>\n",
       "      <th>default_rate</th>\n",
       "      <th>var_of_default_rate</th>\n",
       "      <th>count</th>\n",
       "    </tr>\n",
       "    <tr>\n",
       "      <th>NAME_HOUSING_TYPE</th>\n",
       "      <th></th>\n",
       "      <th></th>\n",
       "      <th></th>\n",
       "    </tr>\n",
       "  </thead>\n",
       "  <tbody>\n",
       "    <tr>\n",
       "      <th>Rented apartment</th>\n",
       "      <td>0.123131</td>\n",
       "      <td>0.107992</td>\n",
       "      <td>4881</td>\n",
       "    </tr>\n",
       "    <tr>\n",
       "      <th>With parents</th>\n",
       "      <td>0.116981</td>\n",
       "      <td>0.103304</td>\n",
       "      <td>14840</td>\n",
       "    </tr>\n",
       "    <tr>\n",
       "      <th>Municipal apartment</th>\n",
       "      <td>0.085397</td>\n",
       "      <td>0.078112</td>\n",
       "      <td>11183</td>\n",
       "    </tr>\n",
       "    <tr>\n",
       "      <th>Co-op apartment</th>\n",
       "      <td>0.079323</td>\n",
       "      <td>0.073096</td>\n",
       "      <td>1122</td>\n",
       "    </tr>\n",
       "    <tr>\n",
       "      <th>House / apartment</th>\n",
       "      <td>0.077957</td>\n",
       "      <td>0.071880</td>\n",
       "      <td>272868</td>\n",
       "    </tr>\n",
       "    <tr>\n",
       "      <th>Office apartment</th>\n",
       "      <td>0.065724</td>\n",
       "      <td>0.061428</td>\n",
       "      <td>2617</td>\n",
       "    </tr>\n",
       "  </tbody>\n",
       "</table>\n",
       "</div>"
      ],
      "text/plain": [
       "                     default_rate  var_of_default_rate   count\n",
       "NAME_HOUSING_TYPE                                             \n",
       "Rented apartment         0.123131             0.107992    4881\n",
       "With parents             0.116981             0.103304   14840\n",
       "Municipal apartment      0.085397             0.078112   11183\n",
       "Co-op apartment          0.079323             0.073096    1122\n",
       "House / apartment        0.077957             0.071880  272868\n",
       "Office apartment         0.065724             0.061428    2617"
      ]
     },
     "metadata": {},
     "output_type": "display_data"
    },
    {
     "name": "stdout",
     "output_type": "stream",
     "text": [
      "------------------------------------------\n",
      "\n",
      "\n",
      "NAME_CONTRACT_TYPE, f-ratio=0.00096\n"
     ]
    },
    {
     "data": {
      "text/html": [
       "<div>\n",
       "<style scoped>\n",
       "    .dataframe tbody tr th:only-of-type {\n",
       "        vertical-align: middle;\n",
       "    }\n",
       "\n",
       "    .dataframe tbody tr th {\n",
       "        vertical-align: top;\n",
       "    }\n",
       "\n",
       "    .dataframe thead th {\n",
       "        text-align: right;\n",
       "    }\n",
       "</style>\n",
       "<table border=\"1\" class=\"dataframe\">\n",
       "  <thead>\n",
       "    <tr style=\"text-align: right;\">\n",
       "      <th></th>\n",
       "      <th>default_rate</th>\n",
       "      <th>var_of_default_rate</th>\n",
       "      <th>count</th>\n",
       "    </tr>\n",
       "    <tr>\n",
       "      <th>NAME_CONTRACT_TYPE</th>\n",
       "      <th></th>\n",
       "      <th></th>\n",
       "      <th></th>\n",
       "    </tr>\n",
       "  </thead>\n",
       "  <tbody>\n",
       "    <tr>\n",
       "      <th>Cash loans</th>\n",
       "      <td>0.083459</td>\n",
       "      <td>0.076494</td>\n",
       "      <td>278232</td>\n",
       "    </tr>\n",
       "    <tr>\n",
       "      <th>Revolving loans</th>\n",
       "      <td>0.054783</td>\n",
       "      <td>0.051784</td>\n",
       "      <td>29279</td>\n",
       "    </tr>\n",
       "  </tbody>\n",
       "</table>\n",
       "</div>"
      ],
      "text/plain": [
       "                    default_rate  var_of_default_rate   count\n",
       "NAME_CONTRACT_TYPE                                           \n",
       "Cash loans              0.083459             0.076494  278232\n",
       "Revolving loans         0.054783             0.051784   29279"
      ]
     },
     "metadata": {},
     "output_type": "display_data"
    },
    {
     "name": "stdout",
     "output_type": "stream",
     "text": [
      "------------------------------------------\n",
      "\n",
      "\n",
      "FONDKAPREMONT_MODE, f-ratio=0.00092\n"
     ]
    },
    {
     "data": {
      "text/html": [
       "<div>\n",
       "<style scoped>\n",
       "    .dataframe tbody tr th:only-of-type {\n",
       "        vertical-align: middle;\n",
       "    }\n",
       "\n",
       "    .dataframe tbody tr th {\n",
       "        vertical-align: top;\n",
       "    }\n",
       "\n",
       "    .dataframe thead th {\n",
       "        text-align: right;\n",
       "    }\n",
       "</style>\n",
       "<table border=\"1\" class=\"dataframe\">\n",
       "  <thead>\n",
       "    <tr style=\"text-align: right;\">\n",
       "      <th></th>\n",
       "      <th>default_rate</th>\n",
       "      <th>var_of_default_rate</th>\n",
       "      <th>count</th>\n",
       "    </tr>\n",
       "    <tr>\n",
       "      <th>FONDKAPREMONT_MODE</th>\n",
       "      <th></th>\n",
       "      <th></th>\n",
       "      <th></th>\n",
       "    </tr>\n",
       "  </thead>\n",
       "  <tbody>\n",
       "    <tr>\n",
       "      <th>nan</th>\n",
       "      <td>0.086188</td>\n",
       "      <td>0.078760</td>\n",
       "      <td>210295</td>\n",
       "    </tr>\n",
       "    <tr>\n",
       "      <th>not specified</th>\n",
       "      <td>0.075435</td>\n",
       "      <td>0.069757</td>\n",
       "      <td>5687</td>\n",
       "    </tr>\n",
       "    <tr>\n",
       "      <th>reg oper account</th>\n",
       "      <td>0.069782</td>\n",
       "      <td>0.064913</td>\n",
       "      <td>73830</td>\n",
       "    </tr>\n",
       "    <tr>\n",
       "      <th>reg oper spec account</th>\n",
       "      <td>0.065563</td>\n",
       "      <td>0.061269</td>\n",
       "      <td>12080</td>\n",
       "    </tr>\n",
       "    <tr>\n",
       "      <th>org spec account</th>\n",
       "      <td>0.058195</td>\n",
       "      <td>0.054818</td>\n",
       "      <td>5619</td>\n",
       "    </tr>\n",
       "  </tbody>\n",
       "</table>\n",
       "</div>"
      ],
      "text/plain": [
       "                       default_rate  var_of_default_rate   count\n",
       "FONDKAPREMONT_MODE                                              \n",
       "nan                        0.086188             0.078760  210295\n",
       "not specified              0.075435             0.069757    5687\n",
       "reg oper account           0.069782             0.064913   73830\n",
       "reg oper spec account      0.065563             0.061269   12080\n",
       "org spec account           0.058195             0.054818    5619"
      ]
     },
     "metadata": {},
     "output_type": "display_data"
    },
    {
     "name": "stdout",
     "output_type": "stream",
     "text": [
      "------------------------------------------\n",
      "\n",
      "\n",
      "FLAG_OWN_CAR, f-ratio=0.00048\n"
     ]
    },
    {
     "data": {
      "text/html": [
       "<div>\n",
       "<style scoped>\n",
       "    .dataframe tbody tr th:only-of-type {\n",
       "        vertical-align: middle;\n",
       "    }\n",
       "\n",
       "    .dataframe tbody tr th {\n",
       "        vertical-align: top;\n",
       "    }\n",
       "\n",
       "    .dataframe thead th {\n",
       "        text-align: right;\n",
       "    }\n",
       "</style>\n",
       "<table border=\"1\" class=\"dataframe\">\n",
       "  <thead>\n",
       "    <tr style=\"text-align: right;\">\n",
       "      <th></th>\n",
       "      <th>default_rate</th>\n",
       "      <th>var_of_default_rate</th>\n",
       "      <th>count</th>\n",
       "    </tr>\n",
       "    <tr>\n",
       "      <th>FLAG_OWN_CAR</th>\n",
       "      <th></th>\n",
       "      <th></th>\n",
       "      <th></th>\n",
       "    </tr>\n",
       "  </thead>\n",
       "  <tbody>\n",
       "    <tr>\n",
       "      <th>N</th>\n",
       "      <td>0.085002</td>\n",
       "      <td>0.077777</td>\n",
       "      <td>202924</td>\n",
       "    </tr>\n",
       "    <tr>\n",
       "      <th>Y</th>\n",
       "      <td>0.072437</td>\n",
       "      <td>0.067191</td>\n",
       "      <td>104587</td>\n",
       "    </tr>\n",
       "  </tbody>\n",
       "</table>\n",
       "</div>"
      ],
      "text/plain": [
       "              default_rate  var_of_default_rate   count\n",
       "FLAG_OWN_CAR                                           \n",
       "N                 0.085002             0.077777  202924\n",
       "Y                 0.072437             0.067191  104587"
      ]
     },
     "metadata": {},
     "output_type": "display_data"
    },
    {
     "name": "stdout",
     "output_type": "stream",
     "text": [
      "------------------------------------------\n",
      "\n",
      "\n",
      "NAME_TYPE_SUITE, f-ratio=0.00015\n"
     ]
    },
    {
     "data": {
      "text/html": [
       "<div>\n",
       "<style scoped>\n",
       "    .dataframe tbody tr th:only-of-type {\n",
       "        vertical-align: middle;\n",
       "    }\n",
       "\n",
       "    .dataframe tbody tr th {\n",
       "        vertical-align: top;\n",
       "    }\n",
       "\n",
       "    .dataframe thead th {\n",
       "        text-align: right;\n",
       "    }\n",
       "</style>\n",
       "<table border=\"1\" class=\"dataframe\">\n",
       "  <thead>\n",
       "    <tr style=\"text-align: right;\">\n",
       "      <th></th>\n",
       "      <th>default_rate</th>\n",
       "      <th>var_of_default_rate</th>\n",
       "      <th>count</th>\n",
       "    </tr>\n",
       "    <tr>\n",
       "      <th>NAME_TYPE_SUITE</th>\n",
       "      <th></th>\n",
       "      <th></th>\n",
       "      <th></th>\n",
       "    </tr>\n",
       "  </thead>\n",
       "  <tbody>\n",
       "    <tr>\n",
       "      <th>Other_B</th>\n",
       "      <td>0.098305</td>\n",
       "      <td>0.088691</td>\n",
       "      <td>1770</td>\n",
       "    </tr>\n",
       "    <tr>\n",
       "      <th>Other_A</th>\n",
       "      <td>0.087760</td>\n",
       "      <td>0.080151</td>\n",
       "      <td>866</td>\n",
       "    </tr>\n",
       "    <tr>\n",
       "      <th>Group of people</th>\n",
       "      <td>0.084871</td>\n",
       "      <td>0.077955</td>\n",
       "      <td>271</td>\n",
       "    </tr>\n",
       "    <tr>\n",
       "      <th>Unaccompanied</th>\n",
       "      <td>0.081830</td>\n",
       "      <td>0.075135</td>\n",
       "      <td>248526</td>\n",
       "    </tr>\n",
       "    <tr>\n",
       "      <th>Spouse, partner</th>\n",
       "      <td>0.078716</td>\n",
       "      <td>0.072526</td>\n",
       "      <td>11370</td>\n",
       "    </tr>\n",
       "    <tr>\n",
       "      <th>Family</th>\n",
       "      <td>0.074946</td>\n",
       "      <td>0.069331</td>\n",
       "      <td>40149</td>\n",
       "    </tr>\n",
       "    <tr>\n",
       "      <th>Children</th>\n",
       "      <td>0.073768</td>\n",
       "      <td>0.068347</td>\n",
       "      <td>3267</td>\n",
       "    </tr>\n",
       "    <tr>\n",
       "      <th>nan</th>\n",
       "      <td>0.054180</td>\n",
       "      <td>0.051284</td>\n",
       "      <td>1292</td>\n",
       "    </tr>\n",
       "  </tbody>\n",
       "</table>\n",
       "</div>"
      ],
      "text/plain": [
       "                 default_rate  var_of_default_rate   count\n",
       "NAME_TYPE_SUITE                                           \n",
       "Other_B              0.098305             0.088691    1770\n",
       "Other_A              0.087760             0.080151     866\n",
       "Group of people      0.084871             0.077955     271\n",
       "Unaccompanied        0.081830             0.075135  248526\n",
       "Spouse, partner      0.078716             0.072526   11370\n",
       "Family               0.074946             0.069331   40149\n",
       "Children             0.073768             0.068347    3267\n",
       "nan                  0.054180             0.051284    1292"
      ]
     },
     "metadata": {},
     "output_type": "display_data"
    },
    {
     "name": "stdout",
     "output_type": "stream",
     "text": [
      "------------------------------------------\n",
      "\n",
      "\n",
      "WEEKDAY_APPR_PROCESS_START, f-ratio=0.00005\n"
     ]
    },
    {
     "data": {
      "text/html": [
       "<div>\n",
       "<style scoped>\n",
       "    .dataframe tbody tr th:only-of-type {\n",
       "        vertical-align: middle;\n",
       "    }\n",
       "\n",
       "    .dataframe tbody tr th {\n",
       "        vertical-align: top;\n",
       "    }\n",
       "\n",
       "    .dataframe thead th {\n",
       "        text-align: right;\n",
       "    }\n",
       "</style>\n",
       "<table border=\"1\" class=\"dataframe\">\n",
       "  <thead>\n",
       "    <tr style=\"text-align: right;\">\n",
       "      <th></th>\n",
       "      <th>default_rate</th>\n",
       "      <th>var_of_default_rate</th>\n",
       "      <th>count</th>\n",
       "    </tr>\n",
       "    <tr>\n",
       "      <th>WEEKDAY_APPR_PROCESS_START</th>\n",
       "      <th></th>\n",
       "      <th></th>\n",
       "      <th></th>\n",
       "    </tr>\n",
       "  </thead>\n",
       "  <tbody>\n",
       "    <tr>\n",
       "      <th>TUESDAY</th>\n",
       "      <td>0.083505</td>\n",
       "      <td>0.076533</td>\n",
       "      <td>53901</td>\n",
       "    </tr>\n",
       "    <tr>\n",
       "      <th>WEDNESDAY</th>\n",
       "      <td>0.081604</td>\n",
       "      <td>0.074946</td>\n",
       "      <td>51934</td>\n",
       "    </tr>\n",
       "    <tr>\n",
       "      <th>FRIDAY</th>\n",
       "      <td>0.081469</td>\n",
       "      <td>0.074834</td>\n",
       "      <td>50338</td>\n",
       "    </tr>\n",
       "    <tr>\n",
       "      <th>THURSDAY</th>\n",
       "      <td>0.081003</td>\n",
       "      <td>0.074443</td>\n",
       "      <td>50591</td>\n",
       "    </tr>\n",
       "    <tr>\n",
       "      <th>SUNDAY</th>\n",
       "      <td>0.079291</td>\n",
       "      <td>0.073008</td>\n",
       "      <td>16181</td>\n",
       "    </tr>\n",
       "    <tr>\n",
       "      <th>SATURDAY</th>\n",
       "      <td>0.078873</td>\n",
       "      <td>0.072654</td>\n",
       "      <td>33852</td>\n",
       "    </tr>\n",
       "    <tr>\n",
       "      <th>MONDAY</th>\n",
       "      <td>0.077572</td>\n",
       "      <td>0.071556</td>\n",
       "      <td>50714</td>\n",
       "    </tr>\n",
       "  </tbody>\n",
       "</table>\n",
       "</div>"
      ],
      "text/plain": [
       "                            default_rate  var_of_default_rate  count\n",
       "WEEKDAY_APPR_PROCESS_START                                          \n",
       "TUESDAY                         0.083505             0.076533  53901\n",
       "WEDNESDAY                       0.081604             0.074946  51934\n",
       "FRIDAY                          0.081469             0.074834  50338\n",
       "THURSDAY                        0.081003             0.074443  50591\n",
       "SUNDAY                          0.079291             0.073008  16181\n",
       "SATURDAY                        0.078873             0.072654  33852\n",
       "MONDAY                          0.077572             0.071556  50714"
      ]
     },
     "metadata": {},
     "output_type": "display_data"
    },
    {
     "name": "stdout",
     "output_type": "stream",
     "text": [
      "------------------------------------------\n",
      "\n",
      "\n",
      "FLAG_OWN_REALTY, f-ratio=0.00004\n"
     ]
    },
    {
     "data": {
      "text/html": [
       "<div>\n",
       "<style scoped>\n",
       "    .dataframe tbody tr th:only-of-type {\n",
       "        vertical-align: middle;\n",
       "    }\n",
       "\n",
       "    .dataframe tbody tr th {\n",
       "        vertical-align: top;\n",
       "    }\n",
       "\n",
       "    .dataframe thead th {\n",
       "        text-align: right;\n",
       "    }\n",
       "</style>\n",
       "<table border=\"1\" class=\"dataframe\">\n",
       "  <thead>\n",
       "    <tr style=\"text-align: right;\">\n",
       "      <th></th>\n",
       "      <th>default_rate</th>\n",
       "      <th>var_of_default_rate</th>\n",
       "      <th>count</th>\n",
       "    </tr>\n",
       "    <tr>\n",
       "      <th>FLAG_OWN_REALTY</th>\n",
       "      <th></th>\n",
       "      <th></th>\n",
       "      <th></th>\n",
       "    </tr>\n",
       "  </thead>\n",
       "  <tbody>\n",
       "    <tr>\n",
       "      <th>N</th>\n",
       "      <td>0.083249</td>\n",
       "      <td>0.076320</td>\n",
       "      <td>94199</td>\n",
       "    </tr>\n",
       "    <tr>\n",
       "      <th>Y</th>\n",
       "      <td>0.079616</td>\n",
       "      <td>0.073277</td>\n",
       "      <td>213312</td>\n",
       "    </tr>\n",
       "  </tbody>\n",
       "</table>\n",
       "</div>"
      ],
      "text/plain": [
       "                 default_rate  var_of_default_rate   count\n",
       "FLAG_OWN_REALTY                                           \n",
       "N                    0.083249             0.076320   94199\n",
       "Y                    0.079616             0.073277  213312"
      ]
     },
     "metadata": {},
     "output_type": "display_data"
    },
    {
     "name": "stdout",
     "output_type": "stream",
     "text": [
      "------------------------------------------\n",
      "\n",
      "\n"
     ]
    }
   ],
   "source": [
    "# columns of categorical type\n",
    "cat_cols = application_train.select_dtypes([\"category\"]).columns\n",
    "agg_stats = [(\"default_rate\", \"mean\"), (\"var_of_default_rate\", np.var), \"count\"]\n",
    "\n",
    "results = []\n",
    "for col in cat_cols:\n",
    "    df = application_train.groupby(\n",
    "        application_train[col].astype(str))[\"TARGET\"].agg(agg_stats)\n",
    "    df = df.sort_values(\"default_rate\", ascending=False)\n",
    "    results.append((col, df))\n",
    "\n",
    "# sort by the F-ratio\n",
    "results = sorted(results, key=lambda x: f_ratio_df(x[1]), reverse=True)\n",
    "for col, df in results:\n",
    "    print(\"%s, f-ratio=%0.5f\" % (col, f_ratio_df(df)))\n",
    "    display(df)\n",
    "    print(\"------------------------------------------\\n\\n\")"
   ]
  },
  {
   "cell_type": "markdown",
   "metadata": {},
   "source": [
    "## Binary columns"
   ]
  },
  {
   "cell_type": "code",
   "execution_count": 6,
   "metadata": {},
   "outputs": [
    {
     "name": "stdout",
     "output_type": "stream",
     "text": [
      "FLAG_MOBIL, f-ratio=nan\n"
     ]
    },
    {
     "data": {
      "text/html": [
       "<div>\n",
       "<style scoped>\n",
       "    .dataframe tbody tr th:only-of-type {\n",
       "        vertical-align: middle;\n",
       "    }\n",
       "\n",
       "    .dataframe tbody tr th {\n",
       "        vertical-align: top;\n",
       "    }\n",
       "\n",
       "    .dataframe thead th {\n",
       "        text-align: right;\n",
       "    }\n",
       "</style>\n",
       "<table border=\"1\" class=\"dataframe\">\n",
       "  <thead>\n",
       "    <tr style=\"text-align: right;\">\n",
       "      <th></th>\n",
       "      <th>default_rate</th>\n",
       "      <th>var_of_default_rate</th>\n",
       "      <th>count</th>\n",
       "    </tr>\n",
       "    <tr>\n",
       "      <th>FLAG_MOBIL</th>\n",
       "      <th></th>\n",
       "      <th></th>\n",
       "      <th></th>\n",
       "    </tr>\n",
       "  </thead>\n",
       "  <tbody>\n",
       "    <tr>\n",
       "      <th>True</th>\n",
       "      <td>0.080729</td>\n",
       "      <td>0.074212</td>\n",
       "      <td>307510</td>\n",
       "    </tr>\n",
       "    <tr>\n",
       "      <th>False</th>\n",
       "      <td>0.000000</td>\n",
       "      <td>NaN</td>\n",
       "      <td>1</td>\n",
       "    </tr>\n",
       "  </tbody>\n",
       "</table>\n",
       "</div>"
      ],
      "text/plain": [
       "            default_rate  var_of_default_rate   count\n",
       "FLAG_MOBIL                                           \n",
       "True            0.080729             0.074212  307510\n",
       "False           0.000000                  NaN       1"
      ]
     },
     "metadata": {},
     "output_type": "display_data"
    },
    {
     "name": "stdout",
     "output_type": "stream",
     "text": [
      "------------------------------------------\n",
      "\n",
      "\n",
      "FLAG_EMP_PHONE, f-ratio=0.00212\n"
     ]
    },
    {
     "data": {
      "text/html": [
       "<div>\n",
       "<style scoped>\n",
       "    .dataframe tbody tr th:only-of-type {\n",
       "        vertical-align: middle;\n",
       "    }\n",
       "\n",
       "    .dataframe tbody tr th {\n",
       "        vertical-align: top;\n",
       "    }\n",
       "\n",
       "    .dataframe thead th {\n",
       "        text-align: right;\n",
       "    }\n",
       "</style>\n",
       "<table border=\"1\" class=\"dataframe\">\n",
       "  <thead>\n",
       "    <tr style=\"text-align: right;\">\n",
       "      <th></th>\n",
       "      <th>default_rate</th>\n",
       "      <th>var_of_default_rate</th>\n",
       "      <th>count</th>\n",
       "    </tr>\n",
       "    <tr>\n",
       "      <th>FLAG_EMP_PHONE</th>\n",
       "      <th></th>\n",
       "      <th></th>\n",
       "      <th></th>\n",
       "    </tr>\n",
       "  </thead>\n",
       "  <tbody>\n",
       "    <tr>\n",
       "      <th>True</th>\n",
       "      <td>0.086600</td>\n",
       "      <td>0.079101</td>\n",
       "      <td>252125</td>\n",
       "    </tr>\n",
       "    <tr>\n",
       "      <th>False</th>\n",
       "      <td>0.054003</td>\n",
       "      <td>0.051087</td>\n",
       "      <td>55386</td>\n",
       "    </tr>\n",
       "  </tbody>\n",
       "</table>\n",
       "</div>"
      ],
      "text/plain": [
       "                default_rate  var_of_default_rate   count\n",
       "FLAG_EMP_PHONE                                           \n",
       "True                0.086600             0.079101  252125\n",
       "False               0.054003             0.051087   55386"
      ]
     },
     "metadata": {},
     "output_type": "display_data"
    },
    {
     "name": "stdout",
     "output_type": "stream",
     "text": [
      "------------------------------------------\n",
      "\n",
      "\n",
      "FLAG_DOCUMENT_3, f-ratio=0.00197\n"
     ]
    },
    {
     "data": {
      "text/html": [
       "<div>\n",
       "<style scoped>\n",
       "    .dataframe tbody tr th:only-of-type {\n",
       "        vertical-align: middle;\n",
       "    }\n",
       "\n",
       "    .dataframe tbody tr th {\n",
       "        vertical-align: top;\n",
       "    }\n",
       "\n",
       "    .dataframe thead th {\n",
       "        text-align: right;\n",
       "    }\n",
       "</style>\n",
       "<table border=\"1\" class=\"dataframe\">\n",
       "  <thead>\n",
       "    <tr style=\"text-align: right;\">\n",
       "      <th></th>\n",
       "      <th>default_rate</th>\n",
       "      <th>var_of_default_rate</th>\n",
       "      <th>count</th>\n",
       "    </tr>\n",
       "    <tr>\n",
       "      <th>FLAG_DOCUMENT_3</th>\n",
       "      <th></th>\n",
       "      <th></th>\n",
       "      <th></th>\n",
       "    </tr>\n",
       "  </thead>\n",
       "  <tbody>\n",
       "    <tr>\n",
       "      <th>True</th>\n",
       "      <td>0.088449</td>\n",
       "      <td>0.080626</td>\n",
       "      <td>218340</td>\n",
       "    </tr>\n",
       "    <tr>\n",
       "      <th>False</th>\n",
       "      <td>0.061825</td>\n",
       "      <td>0.058003</td>\n",
       "      <td>89171</td>\n",
       "    </tr>\n",
       "  </tbody>\n",
       "</table>\n",
       "</div>"
      ],
      "text/plain": [
       "                 default_rate  var_of_default_rate   count\n",
       "FLAG_DOCUMENT_3                                           \n",
       "True                 0.088449             0.080626  218340\n",
       "False                0.061825             0.058003   89171"
      ]
     },
     "metadata": {},
     "output_type": "display_data"
    },
    {
     "name": "stdout",
     "output_type": "stream",
     "text": [
      "------------------------------------------\n",
      "\n",
      "\n",
      "FLAG_PHONE, f-ratio=0.00057\n"
     ]
    },
    {
     "data": {
      "text/html": [
       "<div>\n",
       "<style scoped>\n",
       "    .dataframe tbody tr th:only-of-type {\n",
       "        vertical-align: middle;\n",
       "    }\n",
       "\n",
       "    .dataframe tbody tr th {\n",
       "        vertical-align: top;\n",
       "    }\n",
       "\n",
       "    .dataframe thead th {\n",
       "        text-align: right;\n",
       "    }\n",
       "</style>\n",
       "<table border=\"1\" class=\"dataframe\">\n",
       "  <thead>\n",
       "    <tr style=\"text-align: right;\">\n",
       "      <th></th>\n",
       "      <th>default_rate</th>\n",
       "      <th>var_of_default_rate</th>\n",
       "      <th>count</th>\n",
       "    </tr>\n",
       "    <tr>\n",
       "      <th>FLAG_PHONE</th>\n",
       "      <th></th>\n",
       "      <th></th>\n",
       "      <th></th>\n",
       "    </tr>\n",
       "  </thead>\n",
       "  <tbody>\n",
       "    <tr>\n",
       "      <th>False</th>\n",
       "      <td>0.084784</td>\n",
       "      <td>0.077596</td>\n",
       "      <td>221080</td>\n",
       "    </tr>\n",
       "    <tr>\n",
       "      <th>True</th>\n",
       "      <td>0.070357</td>\n",
       "      <td>0.065407</td>\n",
       "      <td>86431</td>\n",
       "    </tr>\n",
       "  </tbody>\n",
       "</table>\n",
       "</div>"
      ],
      "text/plain": [
       "            default_rate  var_of_default_rate   count\n",
       "FLAG_PHONE                                           \n",
       "False           0.084784             0.077596  221080\n",
       "True            0.070357             0.065407   86431"
      ]
     },
     "metadata": {},
     "output_type": "display_data"
    },
    {
     "name": "stdout",
     "output_type": "stream",
     "text": [
      "------------------------------------------\n",
      "\n",
      "\n",
      "FLAG_CONT_MOBILE, f-ratio=0.00000\n"
     ]
    },
    {
     "data": {
      "text/html": [
       "<div>\n",
       "<style scoped>\n",
       "    .dataframe tbody tr th:only-of-type {\n",
       "        vertical-align: middle;\n",
       "    }\n",
       "\n",
       "    .dataframe tbody tr th {\n",
       "        vertical-align: top;\n",
       "    }\n",
       "\n",
       "    .dataframe thead th {\n",
       "        text-align: right;\n",
       "    }\n",
       "</style>\n",
       "<table border=\"1\" class=\"dataframe\">\n",
       "  <thead>\n",
       "    <tr style=\"text-align: right;\">\n",
       "      <th></th>\n",
       "      <th>default_rate</th>\n",
       "      <th>var_of_default_rate</th>\n",
       "      <th>count</th>\n",
       "    </tr>\n",
       "    <tr>\n",
       "      <th>FLAG_CONT_MOBILE</th>\n",
       "      <th></th>\n",
       "      <th></th>\n",
       "      <th></th>\n",
       "    </tr>\n",
       "  </thead>\n",
       "  <tbody>\n",
       "    <tr>\n",
       "      <th>True</th>\n",
       "      <td>0.080733</td>\n",
       "      <td>0.074216</td>\n",
       "      <td>306937</td>\n",
       "    </tr>\n",
       "    <tr>\n",
       "      <th>False</th>\n",
       "      <td>0.078397</td>\n",
       "      <td>0.072377</td>\n",
       "      <td>574</td>\n",
       "    </tr>\n",
       "  </tbody>\n",
       "</table>\n",
       "</div>"
      ],
      "text/plain": [
       "                  default_rate  var_of_default_rate   count\n",
       "FLAG_CONT_MOBILE                                           \n",
       "True                  0.080733             0.074216  306937\n",
       "False                 0.078397             0.072377     574"
      ]
     },
     "metadata": {},
     "output_type": "display_data"
    },
    {
     "name": "stdout",
     "output_type": "stream",
     "text": [
      "------------------------------------------\n",
      "\n",
      "\n"
     ]
    }
   ],
   "source": [
    "bool_cols = application_train.drop([\"TARGET\"], axis=1).select_dtypes([\"bool\"]).columns\n",
    "\n",
    "agg_stats = [(\"default_rate\", \"mean\"), (\"var_of_default_rate\", np.var), \"count\"]\n",
    "\n",
    "results = []\n",
    "for col in bool_cols:\n",
    "    df = application_train.groupby(\n",
    "        application_train[col].astype(str))[\"TARGET\"].agg(agg_stats)\n",
    "    df = df.sort_values(\"default_rate\", ascending=False)\n",
    "    results.append((col, df))\n",
    "\n",
    "# sort by the F-ratio of default_rate\n",
    "results = sorted(results, key=lambda x: f_ratio_df(x[1]), reverse=True)\n",
    "for col, df in results:\n",
    "    print(\"%s, f-ratio=%0.5f\" % (col, f_ratio_df(df)))\n",
    "    display(df)\n",
    "    print(\"------------------------------------------\\n\\n\")"
   ]
  },
  {
   "cell_type": "markdown",
   "metadata": {},
   "source": [
    "## Correlation of numerical features with the target"
   ]
  },
  {
   "cell_type": "code",
   "execution_count": 7,
   "metadata": {},
   "outputs": [
    {
     "data": {
      "text/plain": [
       "feature\n",
       "EXT_SOURCE_3                  -0.178919\n",
       "EXT_SOURCE_2                  -0.160472\n",
       "EXT_SOURCE_1                  -0.155317\n",
       "DAYS_BIRTH                     0.078239\n",
       "REGION_RATING_CLIENT_W_CITY    0.060893\n",
       "REGION_RATING_CLIENT           0.058899\n",
       "DAYS_LAST_PHONE_CHANGE         0.055218\n",
       "DAYS_ID_PUBLISH                0.051457\n",
       "REG_CITY_NOT_WORK_CITY         0.050994\n",
       "DAYS_EMPLOYED                 -0.044932\n",
       "REG_CITY_NOT_LIVE_CITY         0.044395\n",
       "FLOORSMAX_AVG                 -0.044003\n",
       "FLOORSMAX_MEDI                -0.043768\n",
       "FLOORSMAX_MODE                -0.043226\n",
       "DAYS_REGISTRATION              0.041975\n",
       "AMT_GOODS_PRICE               -0.039645\n",
       "OWN_CAR_AGE                    0.037612\n",
       "REGION_POPULATION_RELATIVE    -0.037227\n",
       "ELEVATORS_AVG                 -0.034199\n",
       "ELEVATORS_MEDI                -0.033863\n",
       "Name: corr, dtype: float64"
      ]
     },
     "execution_count": 7,
     "metadata": {},
     "output_type": "execute_result"
    }
   ],
   "source": [
    "num_cols = application_train.drop([\"TARGET\", \"SK_ID_CURR\"] + list(cat_cols) + list(bool_cols), axis=1).columns\n",
    "\n",
    "corrs = application_train.loc[:, num_cols].corrwith(application_train[\"TARGET\"])\n",
    "corrs = corrwith(application_train.loc[:, num_cols], application_train[\"TARGET\"])\n",
    "\n",
    "corrs.head(20)"
   ]
  },
  {
   "cell_type": "code",
   "execution_count": 8,
   "metadata": {},
   "outputs": [
    {
     "data": {
      "text/plain": [
       "feature\n",
       "FLAG_EMAIL                   -0.001758\n",
       "NONLIVINGAPARTMENTS_MODE     -0.001557\n",
       "FLAG_DOCUMENT_7              -0.001520\n",
       "FLAG_DOCUMENT_10             -0.001414\n",
       "FLAG_DOCUMENT_19             -0.001358\n",
       "AMT_REQ_CREDIT_BUREAU_HOUR    0.000930\n",
       "AMT_REQ_CREDIT_BUREAU_WEEK    0.000788\n",
       "FLAG_DOCUMENT_12             -0.000756\n",
       "FLAG_DOCUMENT_5              -0.000316\n",
       "FLAG_DOCUMENT_20              0.000215\n",
       "Name: corr, dtype: float64"
      ]
     },
     "execution_count": 8,
     "metadata": {},
     "output_type": "execute_result"
    }
   ],
   "source": [
    "corrs.tail(10)"
   ]
  },
  {
   "cell_type": "markdown",
   "metadata": {},
   "source": [
    "## Histogram of numerical features"
   ]
  },
  {
   "cell_type": "code",
   "execution_count": 9,
   "metadata": {},
   "outputs": [
    {
     "data": {
      "image/png": "[encoded data removed]",
      "text/plain": [
       "<Figure size 1152x8640 with 100 Axes>"
      ]
     },
     "metadata": {
      "needs_background": "light"
     },
     "output_type": "display_data"
    }
   ],
   "source": [
    "fig, axes = plt.subplots(nrows=25, ncols=4, figsize=(16, 120))\n",
    "plt.subplots_adjust(hspace=0.3)\n",
    "axes = axes.flatten()\n",
    "\n",
    "for i, col in enumerate(corrs.index):\n",
    "    application_train[col].plot(kind=\"hist\", ax=axes[i])\n",
    "    axes[i].set_title(col)"
   ]
  },
  {
   "cell_type": "markdown",
   "metadata": {},
   "source": [
    "Some features are very screwed and range over many orders of magnitude such as `AMT_GOODS_PRICE`, `AMT_CREDIT`, `AMT_ANNUITY`, `AMT_INCOME_TOTAL`. May consider log transforming them.\n",
    "\n",
    "`DAYS_EMPLOYED` are supposed to be negative but there is a very large positive value."
   ]
  },
  {
   "cell_type": "code",
   "execution_count": 10,
   "metadata": {},
   "outputs": [
    {
     "name": "stdout",
     "output_type": "stream",
     "text": [
      "days_emp_max: 365243\n",
      "Count of the maximun value: 55374\n",
      "Count of positive values: 55374\n",
      "Default rate for positive DAYS_EMPLOYED: 0.05400\n",
      "Default rate for negative DAYS_EMPLOYED: 0.08660\n"
     ]
    }
   ],
   "source": [
    "days_emp_max = application_train[\"DAYS_EMPLOYED\"].max()\n",
    "print(\"days_emp_max:\", days_emp_max)\n",
    "\n",
    "print(\"Count of the maximun value:\", sum(application_train[\"DAYS_EMPLOYED\"] == days_emp_max))\n",
    "print(\"Count of positive values:\", sum(application_train[\"DAYS_EMPLOYED\"] > 0))\n",
    "\n",
    "default_rate_pos = application_train.loc[application_train[\"DAYS_EMPLOYED\"] == days_emp_max, \"TARGET\"].mean()\n",
    "print(\"Default rate for positive DAYS_EMPLOYED: %0.5f\" % default_rate_pos)\n",
    "\n",
    "default_rate_neg = application_train.loc[application_train[\"DAYS_EMPLOYED\"] < days_emp_max, \"TARGET\"].mean()\n",
    "print(\"Default rate for negative DAYS_EMPLOYED: %0.5f\" % default_rate_neg)\n"
   ]
  },
  {
   "cell_type": "markdown",
   "metadata": {},
   "source": [
    "The difference is quite significant. So we may consider adding a binary column which indicates whether `DAYS_EMPLOYED` is positive. Also we may change the maximum to 1 or `np.nan`."
   ]
  },
  {
   "cell_type": "markdown",
   "metadata": {},
   "source": [
    "## Some engineered features"
   ]
  },
  {
   "cell_type": "code",
   "execution_count": 11,
   "metadata": {},
   "outputs": [
    {
     "name": "stdout",
     "output_type": "stream",
     "text": [
      "AMT_GOODS_PRICE False\n",
      "AMT_CREDIT False\n",
      "AMT_ANNUITY False\n",
      "AMT_INCOME_TOTAL False\n"
     ]
    },
    {
     "data": {
      "text/plain": [
       "feature\n",
       "AMT_GOODS_PRICE        -0.039645\n",
       "AMT_CREDIT             -0.030369\n",
       "AMT_GOODS_PRICE_log    -0.022424\n",
       "AMT_INCOME_TOTAL_log   -0.018482\n",
       "AMT_ANNUITY            -0.012817\n",
       "AMT_CREDIT_log         -0.012181\n",
       "AMT_INCOME_TOTAL       -0.003982\n",
       "AMT_ANNUITY_log         0.000779\n",
       "Name: corr, dtype: float64"
      ]
     },
     "execution_count": 11,
     "metadata": {},
     "output_type": "execute_result"
    }
   ],
   "source": [
    "cols = [\"AMT_GOODS_PRICE\", \"AMT_CREDIT\", \"AMT_ANNUITY\", \"AMT_INCOME_TOTAL\"]\n",
    "log_transformed_features = application_train[cols]\n",
    "for col in cols:\n",
    "    print(col, (log_transformed_features[col] < 0).any())\n",
    "\n",
    "for col in cols:\n",
    "    log_transformed_features[col + \"_log\"] = np.log(log_transformed_features[col] + 1)\n",
    "\n",
    "corrs = corrwith(log_transformed_features, application_train[\"TARGET\"])\n",
    "corrs"
   ]
  },
  {
   "cell_type": "markdown",
   "metadata": {},
   "source": [
    "It looks like only AMT_INCOME_TOTAL_log improves the correlation. "
   ]
  },
  {
   "cell_type": "code",
   "execution_count": 12,
   "metadata": {},
   "outputs": [
    {
     "data": {
      "text/plain": [
       "-0.007726797153464906"
      ]
     },
     "execution_count": 12,
     "metadata": {},
     "output_type": "execute_result"
    }
   ],
   "source": [
    "credit_to_income = application_train[\"AMT_CREDIT\"] / application_train[\"AMT_INCOME_TOTAL\"]\n",
    "credit_to_income.corr(application_train[\"TARGET\"])"
   ]
  },
  {
   "cell_type": "code",
   "execution_count": 13,
   "metadata": {},
   "outputs": [
    {
     "data": {
      "text/plain": [
       "0.06942698687673082"
      ]
     },
     "execution_count": 13,
     "metadata": {},
     "output_type": "execute_result"
    }
   ],
   "source": [
    "# this may be a useful feature\n",
    "credit_to_goods = application_train[\"AMT_CREDIT\"] / application_train[\"AMT_GOODS_PRICE\"]\n",
    "credit_to_goods.corr(application_train[\"TARGET\"])"
   ]
  },
  {
   "cell_type": "markdown",
   "metadata": {},
   "source": [
    "# 2. bureau"
   ]
  },
  {
   "cell_type": "code",
   "execution_count": 14,
   "metadata": {},
   "outputs": [
    {
     "name": "stdout",
     "output_type": "stream",
     "text": [
      "Memory usage before changing types 233.43 MB\n",
      "Memory usage after changing types 101.27 MB\n",
      "bureau.shape: (1716428, 17)\n"
     ]
    },
    {
     "data": {
      "text/html": [
       "<div>\n",
       "<style scoped>\n",
       "    .dataframe tbody tr th:only-of-type {\n",
       "        vertical-align: middle;\n",
       "    }\n",
       "\n",
       "    .dataframe tbody tr th {\n",
       "        vertical-align: top;\n",
       "    }\n",
       "\n",
       "    .dataframe thead th {\n",
       "        text-align: right;\n",
       "    }\n",
       "</style>\n",
       "<table border=\"1\" class=\"dataframe\">\n",
       "  <thead>\n",
       "    <tr style=\"text-align: right;\">\n",
       "      <th></th>\n",
       "      <th>SK_ID_CURR</th>\n",
       "      <th>SK_ID_BUREAU</th>\n",
       "      <th>CREDIT_ACTIVE</th>\n",
       "      <th>CREDIT_CURRENCY</th>\n",
       "      <th>DAYS_CREDIT</th>\n",
       "      <th>CREDIT_DAY_OVERDUE</th>\n",
       "      <th>DAYS_CREDIT_ENDDATE</th>\n",
       "      <th>DAYS_ENDDATE_FACT</th>\n",
       "      <th>AMT_CREDIT_MAX_OVERDUE</th>\n",
       "      <th>CNT_CREDIT_PROLONG</th>\n",
       "      <th>AMT_CREDIT_SUM</th>\n",
       "      <th>AMT_CREDIT_SUM_DEBT</th>\n",
       "      <th>AMT_CREDIT_SUM_LIMIT</th>\n",
       "      <th>AMT_CREDIT_SUM_OVERDUE</th>\n",
       "      <th>CREDIT_TYPE</th>\n",
       "      <th>DAYS_CREDIT_UPDATE</th>\n",
       "      <th>AMT_ANNUITY</th>\n",
       "    </tr>\n",
       "  </thead>\n",
       "  <tbody>\n",
       "    <tr>\n",
       "      <th>0</th>\n",
       "      <td>215354</td>\n",
       "      <td>5714462</td>\n",
       "      <td>Closed</td>\n",
       "      <td>currency 1</td>\n",
       "      <td>-497</td>\n",
       "      <td>0</td>\n",
       "      <td>-153.0</td>\n",
       "      <td>-153.0</td>\n",
       "      <td>NaN</td>\n",
       "      <td>0</td>\n",
       "      <td>91323.0</td>\n",
       "      <td>0.0</td>\n",
       "      <td>NaN</td>\n",
       "      <td>0.0</td>\n",
       "      <td>Consumer credit</td>\n",
       "      <td>-131</td>\n",
       "      <td>NaN</td>\n",
       "    </tr>\n",
       "    <tr>\n",
       "      <th>1</th>\n",
       "      <td>215354</td>\n",
       "      <td>5714463</td>\n",
       "      <td>Active</td>\n",
       "      <td>currency 1</td>\n",
       "      <td>-208</td>\n",
       "      <td>0</td>\n",
       "      <td>1075.0</td>\n",
       "      <td>NaN</td>\n",
       "      <td>NaN</td>\n",
       "      <td>0</td>\n",
       "      <td>225000.0</td>\n",
       "      <td>171342.0</td>\n",
       "      <td>NaN</td>\n",
       "      <td>0.0</td>\n",
       "      <td>Credit card</td>\n",
       "      <td>-20</td>\n",
       "      <td>NaN</td>\n",
       "    </tr>\n",
       "    <tr>\n",
       "      <th>2</th>\n",
       "      <td>215354</td>\n",
       "      <td>5714464</td>\n",
       "      <td>Active</td>\n",
       "      <td>currency 1</td>\n",
       "      <td>-203</td>\n",
       "      <td>0</td>\n",
       "      <td>528.0</td>\n",
       "      <td>NaN</td>\n",
       "      <td>NaN</td>\n",
       "      <td>0</td>\n",
       "      <td>464323.5</td>\n",
       "      <td>NaN</td>\n",
       "      <td>NaN</td>\n",
       "      <td>0.0</td>\n",
       "      <td>Consumer credit</td>\n",
       "      <td>-16</td>\n",
       "      <td>NaN</td>\n",
       "    </tr>\n",
       "    <tr>\n",
       "      <th>3</th>\n",
       "      <td>215354</td>\n",
       "      <td>5714465</td>\n",
       "      <td>Active</td>\n",
       "      <td>currency 1</td>\n",
       "      <td>-203</td>\n",
       "      <td>0</td>\n",
       "      <td>NaN</td>\n",
       "      <td>NaN</td>\n",
       "      <td>NaN</td>\n",
       "      <td>0</td>\n",
       "      <td>90000.0</td>\n",
       "      <td>NaN</td>\n",
       "      <td>NaN</td>\n",
       "      <td>0.0</td>\n",
       "      <td>Credit card</td>\n",
       "      <td>-16</td>\n",
       "      <td>NaN</td>\n",
       "    </tr>\n",
       "    <tr>\n",
       "      <th>4</th>\n",
       "      <td>215354</td>\n",
       "      <td>5714466</td>\n",
       "      <td>Active</td>\n",
       "      <td>currency 1</td>\n",
       "      <td>-629</td>\n",
       "      <td>0</td>\n",
       "      <td>1197.0</td>\n",
       "      <td>NaN</td>\n",
       "      <td>77674.5</td>\n",
       "      <td>0</td>\n",
       "      <td>2700000.0</td>\n",
       "      <td>NaN</td>\n",
       "      <td>NaN</td>\n",
       "      <td>0.0</td>\n",
       "      <td>Consumer credit</td>\n",
       "      <td>-21</td>\n",
       "      <td>NaN</td>\n",
       "    </tr>\n",
       "  </tbody>\n",
       "</table>\n",
       "</div>"
      ],
      "text/plain": [
       "   SK_ID_CURR  SK_ID_BUREAU CREDIT_ACTIVE CREDIT_CURRENCY  DAYS_CREDIT  \\\n",
       "0      215354       5714462        Closed      currency 1         -497   \n",
       "1      215354       5714463        Active      currency 1         -208   \n",
       "2      215354       5714464        Active      currency 1         -203   \n",
       "3      215354       5714465        Active      currency 1         -203   \n",
       "4      215354       5714466        Active      currency 1         -629   \n",
       "\n",
       "   CREDIT_DAY_OVERDUE  DAYS_CREDIT_ENDDATE  DAYS_ENDDATE_FACT  \\\n",
       "0                   0               -153.0             -153.0   \n",
       "1                   0               1075.0                NaN   \n",
       "2                   0                528.0                NaN   \n",
       "3                   0                  NaN                NaN   \n",
       "4                   0               1197.0                NaN   \n",
       "\n",
       "   AMT_CREDIT_MAX_OVERDUE  CNT_CREDIT_PROLONG  AMT_CREDIT_SUM  \\\n",
       "0                     NaN                   0         91323.0   \n",
       "1                     NaN                   0        225000.0   \n",
       "2                     NaN                   0        464323.5   \n",
       "3                     NaN                   0         90000.0   \n",
       "4                 77674.5                   0       2700000.0   \n",
       "\n",
       "   AMT_CREDIT_SUM_DEBT  AMT_CREDIT_SUM_LIMIT  AMT_CREDIT_SUM_OVERDUE  \\\n",
       "0                  0.0                   NaN                     0.0   \n",
       "1             171342.0                   NaN                     0.0   \n",
       "2                  NaN                   NaN                     0.0   \n",
       "3                  NaN                   NaN                     0.0   \n",
       "4                  NaN                   NaN                     0.0   \n",
       "\n",
       "       CREDIT_TYPE  DAYS_CREDIT_UPDATE  AMT_ANNUITY  \n",
       "0  Consumer credit                -131          NaN  \n",
       "1      Credit card                 -20          NaN  \n",
       "2  Consumer credit                 -16          NaN  \n",
       "3      Credit card                 -16          NaN  \n",
       "4  Consumer credit                 -21          NaN  "
      ]
     },
     "execution_count": 14,
     "metadata": {},
     "output_type": "execute_result"
    }
   ],
   "source": [
    "bureau = pd.read_csv(os.path.join(INP_DIR, \"bureau.csv\"))\n",
    "bureau = change_dtypes(bureau)\n",
    "\n",
    "print(\"bureau.shape:\", bureau.shape)\n",
    "bureau.head()"
   ]
  },
  {
   "cell_type": "markdown",
   "metadata": {},
   "source": [
    "## Missing values"
   ]
  },
  {
   "cell_type": "code",
   "execution_count": 15,
   "metadata": {},
   "outputs": [
    {
     "name": "stdout",
     "output_type": "stream",
     "text": [
      "Total number of features: 17\n",
      "Number of features having missing values: 7\n",
      "head:\n"
     ]
    },
    {
     "data": {
      "text/plain": [
       "AMT_ANNUITY               0.714735\n",
       "AMT_CREDIT_MAX_OVERDUE    0.655133\n",
       "DAYS_ENDDATE_FACT         0.369170\n",
       "AMT_CREDIT_SUM_LIMIT      0.344774\n",
       "AMT_CREDIT_SUM_DEBT       0.150119\n",
       "DAYS_CREDIT_ENDDATE       0.061496\n",
       "AMT_CREDIT_SUM            0.000008\n",
       "CREDIT_TYPE               0.000000\n",
       "AMT_CREDIT_SUM_OVERDUE    0.000000\n",
       "CNT_CREDIT_PROLONG        0.000000\n",
       "dtype: float64"
      ]
     },
     "metadata": {},
     "output_type": "display_data"
    }
   ],
   "source": [
    "missing_vals = bureau.isnull().mean()\n",
    "missing_vals = missing_vals.sort_values(ascending=False)\n",
    "print(\"Total number of features:\", bureau.shape[1])\n",
    "print(\"Number of features having missing values:\", (missing_vals > 0).sum())\n",
    "\n",
    "print(\"head:\")\n",
    "display(missing_vals.head(10))"
   ]
  },
  {
   "cell_type": "markdown",
   "metadata": {},
   "source": [
    "## Correlation of aggregated features with `TARGET`"
   ]
  },
  {
   "cell_type": "markdown",
   "metadata": {},
   "source": [
    "### Numerical features"
   ]
  },
  {
   "cell_type": "code",
   "execution_count": 16,
   "metadata": {},
   "outputs": [
    {
     "name": "stdout",
     "output_type": "stream",
     "text": [
      "Drop 5 collinear columns\n",
      "bureau_agg shape: (305811, 8)\n"
     ]
    },
    {
     "data": {
      "text/plain": [
       "feature\n",
       "DAYS_ENDDATE_FACT_count        -0.036969\n",
       "DAYS_CREDIT_ENDDATE_count      -0.016496\n",
       "DAYS_CREDIT_count              -0.010020\n",
       "AMT_CREDIT_SUM_LIMIT_count     -0.009552\n",
       "AMT_ANNUITY_count               0.008354\n",
       "AMT_CREDIT_SUM_DEBT_count      -0.007407\n",
       "AMT_CREDIT_MAX_OVERDUE_count   -0.002313\n",
       "Name: corr, dtype: float64"
      ]
     },
     "execution_count": 16,
     "metadata": {},
     "output_type": "execute_result"
    }
   ],
   "source": [
    "# aggregate numerical columns with count\n",
    "\n",
    "bureau_agg = aggregate(bureau.drop([\"SK_ID_BUREAU\"], axis=1), \n",
    "                       by=[\"SK_ID_CURR\"], dtype=\"num\", num_stats=(\"count\",))\n",
    "print(\"bureau_agg shape:\", bureau_agg.shape)\n",
    "\n",
    "bureau_agg = application_train[[\"SK_ID_CURR\", \"TARGET\"]].merge(bureau_agg, how=\"left\", on=\"SK_ID_CURR\")\n",
    "bureau_agg = bureau_agg.fillna(0)\n",
    "\n",
    "corrs = corrwith(bureau_agg.drop([\"SK_ID_CURR\", \"TARGET\"], axis=1), bureau_agg[\"TARGET\"])\n",
    "corrs"
   ]
  },
  {
   "cell_type": "code",
   "execution_count": 17,
   "metadata": {},
   "outputs": [
    {
     "name": "stdout",
     "output_type": "stream",
     "text": [
      "Drop 0 collinear columns\n",
      "bureau_agg shape: (305811, 13)\n"
     ]
    },
    {
     "data": {
      "text/plain": [
       "feature\n",
       "DAYS_CREDIT_mean               0.089729\n",
       "DAYS_CREDIT_UPDATE_mean        0.068927\n",
       "DAYS_ENDDATE_FACT_mean         0.053200\n",
       "DAYS_CREDIT_ENDDATE_mean       0.046983\n",
       "AMT_CREDIT_SUM_mean           -0.019957\n",
       "AMT_CREDIT_SUM_LIMIT_mean     -0.011446\n",
       "CREDIT_DAY_OVERDUE_mean        0.008118\n",
       "AMT_CREDIT_SUM_OVERDUE_mean    0.007150\n",
       "CNT_CREDIT_PROLONG_mean        0.003031\n",
       "AMT_CREDIT_MAX_OVERDUE_mean    0.002435\n",
       "AMT_ANNUITY_mean              -0.001391\n",
       "AMT_CREDIT_SUM_DEBT_mean      -0.000637\n",
       "Name: corr, dtype: float64"
      ]
     },
     "execution_count": 17,
     "metadata": {},
     "output_type": "execute_result"
    }
   ],
   "source": [
    "# aggregate numerical columns with mean\n",
    "\n",
    "bureau_agg = aggregate(bureau.drop([\"SK_ID_BUREAU\"], axis=1), \n",
    "                       by=[\"SK_ID_CURR\"], dtype=\"num\", num_stats=(\"mean\",))\n",
    "\n",
    "print(\"bureau_agg shape:\", bureau_agg.shape)\n",
    "\n",
    "bureau_agg = application_train[[\"SK_ID_CURR\", \"TARGET\"]].merge(bureau_agg, how=\"left\", on=\"SK_ID_CURR\")\n",
    "\n",
    "corrs = corrwith(bureau_agg.drop([\"SK_ID_CURR\", \"TARGET\"], axis=1), bureau_agg[\"TARGET\"])\n",
    "corrs"
   ]
  },
  {
   "cell_type": "code",
   "execution_count": 18,
   "metadata": {},
   "outputs": [
    {
     "name": "stdout",
     "output_type": "stream",
     "text": [
      "Drop 0 collinear columns\n",
      "bureau_agg shape: (305811, 13)\n"
     ]
    },
    {
     "data": {
      "text/plain": [
       "feature\n",
       "DAYS_CREDIT_median               0.085414\n",
       "DAYS_CREDIT_UPDATE_median        0.067338\n",
       "DAYS_ENDDATE_FACT_median         0.050603\n",
       "DAYS_CREDIT_ENDDATE_median       0.039929\n",
       "AMT_CREDIT_SUM_median           -0.015676\n",
       "CREDIT_DAY_OVERDUE_median        0.007847\n",
       "AMT_CREDIT_SUM_LIMIT_median     -0.006510\n",
       "AMT_CREDIT_SUM_OVERDUE_median    0.003785\n",
       "AMT_CREDIT_MAX_OVERDUE_median    0.002251\n",
       "AMT_ANNUITY_median              -0.002110\n",
       "AMT_CREDIT_SUM_DEBT_median       0.001666\n",
       "CNT_CREDIT_PROLONG_median        0.001477\n",
       "Name: corr, dtype: float64"
      ]
     },
     "execution_count": 18,
     "metadata": {},
     "output_type": "execute_result"
    }
   ],
   "source": [
    "# aggregate numerical columns with median\n",
    "\n",
    "bureau_agg = aggregate(bureau.drop([\"SK_ID_BUREAU\"], axis=1), \n",
    "                       by=[\"SK_ID_CURR\"], dtype=\"num\", num_stats=(\"median\",))\n",
    "\n",
    "print(\"bureau_agg shape:\", bureau_agg.shape)\n",
    "\n",
    "bureau_agg = application_train[[\"SK_ID_CURR\", \"TARGET\"]].merge(bureau_agg, how=\"left\", on=\"SK_ID_CURR\")\n",
    "\n",
    "corrs = corrwith(bureau_agg.drop([\"SK_ID_CURR\", \"TARGET\"], axis=1), bureau_agg[\"TARGET\"])\n",
    "corrs"
   ]
  },
  {
   "cell_type": "code",
   "execution_count": 19,
   "metadata": {},
   "outputs": [
    {
     "name": "stdout",
     "output_type": "stream",
     "text": [
      "Drop 0 collinear columns\n",
      "bureau_agg shape: (305811, 13)\n"
     ]
    },
    {
     "data": {
      "text/plain": [
       "feature\n",
       "DAYS_CREDIT_var              -0.038440\n",
       "DAYS_CREDIT_ENDDATE_var       0.037370\n",
       "DAYS_ENDDATE_FACT_var        -0.017603\n",
       "AMT_CREDIT_SUM_LIMIT_var     -0.007636\n",
       "AMT_CREDIT_SUM_DEBT_var      -0.005604\n",
       "AMT_CREDIT_SUM_OVERDUE_var    0.002222\n",
       "CREDIT_DAY_OVERDUE_var        0.001516\n",
       "AMT_CREDIT_SUM_var           -0.001435\n",
       "AMT_ANNUITY_var               0.001413\n",
       "DAYS_CREDIT_UPDATE_var        0.001366\n",
       "AMT_CREDIT_MAX_OVERDUE_var   -0.000870\n",
       "CNT_CREDIT_PROLONG_var        0.000426\n",
       "Name: corr, dtype: float64"
      ]
     },
     "execution_count": 19,
     "metadata": {},
     "output_type": "execute_result"
    }
   ],
   "source": [
    "# aggregate numerical columns with variance\n",
    "\n",
    "bureau_agg = aggregate(bureau.drop([\"SK_ID_BUREAU\"], axis=1), \n",
    "                       by=[\"SK_ID_CURR\"], dtype=\"num\", num_stats=(np.var,))\n",
    "\n",
    "print(\"bureau_agg shape:\", bureau_agg.shape)\n",
    "\n",
    "bureau_agg = application_train[[\"SK_ID_CURR\", \"TARGET\"]].merge(bureau_agg, how=\"left\", on=\"SK_ID_CURR\")\n",
    "\n",
    "corrs = corrwith(bureau_agg.drop([\"SK_ID_CURR\", \"TARGET\"], axis=1), bureau_agg[\"TARGET\"])\n",
    "corrs"
   ]
  },
  {
   "cell_type": "code",
   "execution_count": 20,
   "metadata": {},
   "outputs": [
    {
     "name": "stdout",
     "output_type": "stream",
     "text": [
      "Drop 0 collinear columns\n",
      "bureau_agg shape: (305811, 13)\n"
     ]
    },
    {
     "data": {
      "text/plain": [
       "feature\n",
       "DAYS_CREDIT_min               0.075248\n",
       "DAYS_ENDDATE_FACT_min         0.055887\n",
       "DAYS_CREDIT_UPDATE_min        0.042864\n",
       "DAYS_CREDIT_ENDDATE_min       0.034281\n",
       "AMT_CREDIT_SUM_min           -0.010764\n",
       "CREDIT_DAY_OVERDUE_min        0.007573\n",
       "AMT_CREDIT_SUM_LIMIT_min     -0.004779\n",
       "AMT_ANNUITY_min              -0.002542\n",
       "AMT_CREDIT_MAX_OVERDUE_min    0.002329\n",
       "AMT_CREDIT_SUM_DEBT_min       0.000242\n",
       "CNT_CREDIT_PROLONG_min       -0.000182\n",
       "AMT_CREDIT_SUM_OVERDUE_min    0.000003\n",
       "Name: corr, dtype: float64"
      ]
     },
     "execution_count": 20,
     "metadata": {},
     "output_type": "execute_result"
    }
   ],
   "source": [
    "# aggregate numerical columns with min\n",
    "\n",
    "bureau_agg = aggregate(bureau.drop([\"SK_ID_BUREAU\"], axis=1), \n",
    "                       by=[\"SK_ID_CURR\"], dtype=\"num\", num_stats=(\"min\",))\n",
    "\n",
    "print(\"bureau_agg shape:\", bureau_agg.shape)\n",
    "\n",
    "bureau_agg = application_train[[\"SK_ID_CURR\", \"TARGET\"]].merge(bureau_agg, how=\"left\", on=\"SK_ID_CURR\")\n",
    "\n",
    "corrs = corrwith(bureau_agg.drop([\"SK_ID_CURR\", \"TARGET\"], axis=1), bureau_agg[\"TARGET\"])\n",
    "corrs"
   ]
  },
  {
   "cell_type": "code",
   "execution_count": 21,
   "metadata": {},
   "outputs": [
    {
     "name": "stdout",
     "output_type": "stream",
     "text": [
      "Drop 0 collinear columns\n",
      "bureau_agg shape: (305811, 13)\n"
     ]
    },
    {
     "data": {
      "text/plain": [
       "feature\n",
       "DAYS_CREDIT_max               0.049782\n",
       "DAYS_CREDIT_ENDDATE_max       0.036590\n",
       "DAYS_CREDIT_UPDATE_max        0.028234\n",
       "AMT_CREDIT_SUM_max           -0.019737\n",
       "DAYS_ENDDATE_FACT_max         0.019644\n",
       "AMT_CREDIT_SUM_LIMIT_max     -0.010633\n",
       "AMT_CREDIT_SUM_OVERDUE_max    0.010614\n",
       "CREDIT_DAY_OVERDUE_max        0.005493\n",
       "CNT_CREDIT_PROLONG_max        0.003951\n",
       "AMT_CREDIT_MAX_OVERDUE_max    0.002540\n",
       "AMT_CREDIT_SUM_DEBT_max      -0.002173\n",
       "AMT_ANNUITY_max               0.001120\n",
       "Name: corr, dtype: float64"
      ]
     },
     "execution_count": 21,
     "metadata": {},
     "output_type": "execute_result"
    }
   ],
   "source": [
    "# aggregate numerical columns with max\n",
    "\n",
    "bureau_agg = aggregate(bureau.drop([\"SK_ID_BUREAU\"], axis=1), \n",
    "                       by=[\"SK_ID_CURR\"], dtype=\"num\", num_stats=(\"max\",))\n",
    "\n",
    "print(\"bureau_agg shape:\", bureau_agg.shape)\n",
    "\n",
    "bureau_agg = application_train[[\"SK_ID_CURR\", \"TARGET\"]].merge(bureau_agg, how=\"left\", on=\"SK_ID_CURR\")\n",
    "\n",
    "corrs = corrwith(bureau_agg.drop([\"SK_ID_CURR\", \"TARGET\"], axis=1), bureau_agg[\"TARGET\"])\n",
    "corrs"
   ]
  },
  {
   "cell_type": "markdown",
   "metadata": {},
   "source": [
    "### Categorical features"
   ]
  },
  {
   "cell_type": "code",
   "execution_count": 22,
   "metadata": {},
   "outputs": [
    {
     "name": "stdout",
     "output_type": "stream",
     "text": [
      "CREDIT_ACTIVE 4\n",
      "CREDIT_CURRENCY 4\n",
      "CREDIT_TYPE 15\n"
     ]
    }
   ],
   "source": [
    "cat_cols = bureau.select_dtypes([\"category\", \"object\", \"bool\"]).columns\n",
    "for col in cat_cols:\n",
    "    print(col, bureau[col].nunique())"
   ]
  },
  {
   "cell_type": "code",
   "execution_count": 23,
   "metadata": {},
   "outputs": [
    {
     "name": "stdout",
     "output_type": "stream",
     "text": [
      "Drop 0 collinear columns\n",
      "bureau_agg shape: (305811, 24)\n"
     ]
    },
    {
     "data": {
      "text/plain": [
       "feature\n",
       "CREDIT_ACTIVE_Active_sum                                        0.067128\n",
       "CREDIT_TYPE_Credit card_sum                                     0.034818\n",
       "CREDIT_TYPE_Microloan_sum                                       0.034110\n",
       "CREDIT_ACTIVE_Closed_sum                                       -0.030812\n",
       "CREDIT_TYPE_Mortgage_sum                                       -0.023307\n",
       "CREDIT_TYPE_Car loan_sum                                       -0.020817\n",
       "CREDIT_ACTIVE_Sold_sum                                          0.012058\n",
       "CREDIT_TYPE_Consumer credit_sum                                -0.010707\n",
       "CREDIT_TYPE_Loan for working capital replenishment_sum          0.006018\n",
       "CREDIT_CURRENCY_currency 2_sum                                 -0.006003\n",
       "CREDIT_TYPE_Loan for the purchase of equipment_sum              0.004495\n",
       "CREDIT_CURRENCY_currency 1_sum                                  0.004154\n",
       "CREDIT_ACTIVE_Bad debt_sum                                      0.004003\n",
       "CREDIT_TYPE_Loan for business development_sum                  -0.003783\n",
       "CREDIT_CURRENCY_currency 3_sum                                  0.002923\n",
       "CREDIT_TYPE_Real estate loan_sum                               -0.002704\n",
       "CREDIT_TYPE_Unknown type of loan_sum                           -0.002265\n",
       "CREDIT_CURRENCY_currency 4_sum                                 -0.001692\n",
       "CREDIT_TYPE_Another type of loan_sum                           -0.001186\n",
       "CREDIT_TYPE_Loan for purchase of shares (margin lending)_sum   -0.001128\n",
       "CREDIT_TYPE_Cash loan (non-earmarked)_sum                      -0.001054\n",
       "CREDIT_TYPE_Mobile operator loan_sum                           -0.000564\n",
       "CREDIT_TYPE_Interbank credit_sum                               -0.000564\n",
       "Name: corr, dtype: float64"
      ]
     },
     "execution_count": 23,
     "metadata": {},
     "output_type": "execute_result"
    }
   ],
   "source": [
    "# aggregate categorical columns with sum\n",
    "\n",
    "bureau_agg = aggregate(bureau.drop([\"SK_ID_BUREAU\"], axis=1), \n",
    "                       by=[\"SK_ID_CURR\"], dtype=\"cat\", cat_stats=(\"sum\",))\n",
    "print(\"bureau_agg shape:\", bureau_agg.shape)\n",
    "\n",
    "bureau_agg = application_train[[\"SK_ID_CURR\", \"TARGET\"]].merge(bureau_agg, how=\"left\", on=\"SK_ID_CURR\")\n",
    "#bureau_agg = bureau_agg.fillna(0)\n",
    "\n",
    "corrs = corrwith(bureau_agg.drop([\"SK_ID_CURR\", \"TARGET\"], axis=1), bureau_agg[\"TARGET\"])\n",
    "corrs"
   ]
  },
  {
   "cell_type": "code",
   "execution_count": 24,
   "metadata": {},
   "outputs": [
    {
     "name": "stdout",
     "output_type": "stream",
     "text": [
      "Drop 0 collinear columns\n",
      "bureau_agg shape: (305811, 24)\n"
     ]
    },
    {
     "data": {
      "text/plain": [
       "feature\n",
       "CREDIT_ACTIVE_Closed_mean                                       -0.079369\n",
       "CREDIT_ACTIVE_Active_mean                                        0.077356\n",
       "CREDIT_TYPE_Microloan_mean                                       0.044439\n",
       "CREDIT_TYPE_Credit card_mean                                     0.034684\n",
       "CREDIT_TYPE_Consumer credit_mean                                -0.026258\n",
       "CREDIT_TYPE_Mortgage_mean                                       -0.020867\n",
       "CREDIT_TYPE_Car loan_mean                                       -0.020134\n",
       "CREDIT_ACTIVE_Sold_mean                                          0.016530\n",
       "CREDIT_CURRENCY_currency 2_mean                                 -0.006821\n",
       "CREDIT_CURRENCY_currency 1_mean                                  0.006037\n",
       "CREDIT_ACTIVE_Bad debt_mean                                      0.004638\n",
       "CREDIT_CURRENCY_currency 3_mean                                  0.002783\n",
       "CREDIT_TYPE_Loan for business development_mean                  -0.002759\n",
       "CREDIT_TYPE_Unknown type of loan_mean                           -0.002476\n",
       "CREDIT_TYPE_Real estate loan_mean                               -0.001905\n",
       "CREDIT_TYPE_Another type of loan_mean                           -0.001761\n",
       "CREDIT_TYPE_Loan for working capital replenishment_mean          0.001605\n",
       "CREDIT_CURRENCY_currency 4_mean                                 -0.001444\n",
       "CREDIT_TYPE_Cash loan (non-earmarked)_mean                      -0.000969\n",
       "CREDIT_TYPE_Loan for purchase of shares (margin lending)_mean   -0.000903\n",
       "CREDIT_TYPE_Interbank credit_mean                               -0.000564\n",
       "CREDIT_TYPE_Mobile operator loan_mean                           -0.000564\n",
       "CREDIT_TYPE_Loan for the purchase of equipment_mean              0.000286\n",
       "Name: corr, dtype: float64"
      ]
     },
     "execution_count": 24,
     "metadata": {},
     "output_type": "execute_result"
    }
   ],
   "source": [
    "# aggregate categorical columns with mean\n",
    "\n",
    "bureau_agg = aggregate(bureau.drop([\"SK_ID_BUREAU\"], axis=1), \n",
    "                       by=[\"SK_ID_CURR\"], dtype=\"cat\", cat_stats=(\"mean\",))\n",
    "print(\"bureau_agg shape:\", bureau_agg.shape)\n",
    "\n",
    "bureau_agg = application_train[[\"SK_ID_CURR\", \"TARGET\"]].merge(bureau_agg, how=\"left\", on=\"SK_ID_CURR\")\n",
    "\n",
    "corrs = corrwith(bureau_agg.drop([\"SK_ID_CURR\", \"TARGET\"], axis=1), bureau_agg[\"TARGET\"])\n",
    "corrs"
   ]
  },
  {
   "cell_type": "code",
   "execution_count": 25,
   "metadata": {},
   "outputs": [
    {
     "name": "stdout",
     "output_type": "stream",
     "text": [
      "Drop 0 collinear columns\n",
      "bureau_agg shape: (305811, 4)\n"
     ]
    },
    {
     "data": {
      "text/plain": [
       "feature\n",
       "CREDIT_CURRENCY_nunique   -0.031060\n",
       "CREDIT_ACTIVE_nunique     -0.025051\n",
       "CREDIT_TYPE_nunique       -0.019160\n",
       "Name: corr, dtype: float64"
      ]
     },
     "execution_count": 25,
     "metadata": {},
     "output_type": "execute_result"
    }
   ],
   "source": [
    "# aggregate categorical columns with number of unique values\n",
    "\n",
    "bureau_agg = aggregate(bureau.drop([\"SK_ID_BUREAU\"], axis=1), \n",
    "                       by=[\"SK_ID_CURR\"], dtype=\"cat\", cat_stats=(\"nunique\",), onehot_encode=False)\n",
    "print(\"bureau_agg shape:\", bureau_agg.shape)\n",
    "\n",
    "bureau_agg = application_train[[\"SK_ID_CURR\", \"TARGET\"]].merge(bureau_agg, how=\"left\", on=\"SK_ID_CURR\")\n",
    "bureau_agg = bureau_agg.fillna(0)\n",
    "\n",
    "corrs = corrwith(bureau_agg.drop([\"SK_ID_CURR\", \"TARGET\"], axis=1), bureau_agg[\"TARGET\"])\n",
    "corrs"
   ]
  },
  {
   "cell_type": "code",
   "execution_count": 26,
   "metadata": {},
   "outputs": [
    {
     "name": "stdout",
     "output_type": "stream",
     "text": [
      "Drop 0 collinear columns\n",
      "bureau_agg shape: (305811, 4)\n"
     ]
    },
    {
     "data": {
      "text/html": [
       "<div>\n",
       "<style scoped>\n",
       "    .dataframe tbody tr th:only-of-type {\n",
       "        vertical-align: middle;\n",
       "    }\n",
       "\n",
       "    .dataframe tbody tr th {\n",
       "        vertical-align: top;\n",
       "    }\n",
       "\n",
       "    .dataframe thead th {\n",
       "        text-align: right;\n",
       "    }\n",
       "</style>\n",
       "<table border=\"1\" class=\"dataframe\">\n",
       "  <thead>\n",
       "    <tr style=\"text-align: right;\">\n",
       "      <th></th>\n",
       "      <th>SK_ID_CURR</th>\n",
       "      <th>CREDIT_ACTIVE_mode</th>\n",
       "      <th>CREDIT_CURRENCY_mode</th>\n",
       "      <th>CREDIT_TYPE_mode</th>\n",
       "    </tr>\n",
       "  </thead>\n",
       "  <tbody>\n",
       "    <tr>\n",
       "      <th>0</th>\n",
       "      <td>100001</td>\n",
       "      <td>Closed</td>\n",
       "      <td>currency 1</td>\n",
       "      <td>Consumer credit</td>\n",
       "    </tr>\n",
       "    <tr>\n",
       "      <th>1</th>\n",
       "      <td>100002</td>\n",
       "      <td>Closed</td>\n",
       "      <td>currency 1</td>\n",
       "      <td>Consumer credit</td>\n",
       "    </tr>\n",
       "    <tr>\n",
       "      <th>2</th>\n",
       "      <td>100003</td>\n",
       "      <td>Closed</td>\n",
       "      <td>currency 1</td>\n",
       "      <td>Consumer credit</td>\n",
       "    </tr>\n",
       "    <tr>\n",
       "      <th>3</th>\n",
       "      <td>100004</td>\n",
       "      <td>Closed</td>\n",
       "      <td>currency 1</td>\n",
       "      <td>Consumer credit</td>\n",
       "    </tr>\n",
       "    <tr>\n",
       "      <th>4</th>\n",
       "      <td>100005</td>\n",
       "      <td>Active</td>\n",
       "      <td>currency 1</td>\n",
       "      <td>Consumer credit</td>\n",
       "    </tr>\n",
       "  </tbody>\n",
       "</table>\n",
       "</div>"
      ],
      "text/plain": [
       "   SK_ID_CURR CREDIT_ACTIVE_mode CREDIT_CURRENCY_mode CREDIT_TYPE_mode\n",
       "0      100001             Closed           currency 1  Consumer credit\n",
       "1      100002             Closed           currency 1  Consumer credit\n",
       "2      100003             Closed           currency 1  Consumer credit\n",
       "3      100004             Closed           currency 1  Consumer credit\n",
       "4      100005             Active           currency 1  Consumer credit"
      ]
     },
     "execution_count": 26,
     "metadata": {},
     "output_type": "execute_result"
    }
   ],
   "source": [
    "# aggregate categorical columns with mode\n",
    "\n",
    "bureau_agg = aggregate(bureau.drop([\"SK_ID_BUREAU\"], axis=1), \n",
    "                       by=[\"SK_ID_CURR\"], dtype=\"cat\", cat_stats=(mode,), onehot_encode=False)\n",
    "print(\"bureau_agg shape:\", bureau_agg.shape)\n",
    "bureau_agg.head()"
   ]
  },
  {
   "cell_type": "markdown",
   "metadata": {},
   "source": [
    "### Engineered features"
   ]
  },
  {
   "cell_type": "markdown",
   "metadata": {},
   "source": [
    "#### Count and percent of number of times DPD are over 1, 3, and 6 months"
   ]
  },
  {
   "cell_type": "code",
   "execution_count": 27,
   "metadata": {},
   "outputs": [
    {
     "name": "stdout",
     "output_type": "stream",
     "text": [
      "Drop 0 collinear columns\n",
      "credit_day_overdue_agg shape: (305811, 5)\n"
     ]
    },
    {
     "data": {
      "text/plain": [
       "feature\n",
       "CREDIT_DAY_OVERDUE_OVER_0M_mean   -0.031932\n",
       "CREDIT_DAY_OVERDUE_OVER_1M_mean    0.020789\n",
       "CREDIT_DAY_OVERDUE_OVER_3M_mean    0.013065\n",
       "CREDIT_DAY_OVERDUE_OVER_6M_mean    0.012058\n",
       "Name: corr, dtype: float64"
      ]
     },
     "execution_count": 27,
     "metadata": {},
     "output_type": "execute_result"
    }
   ],
   "source": [
    "# agg by mean\n",
    "\n",
    "credit_day_overdue = bureau[[\"SK_ID_CURR\"]]\n",
    "credit_day_overdue[\"CREDIT_DAY_OVERDUE_OVER_0M\"] = bureau[\"CREDIT_DAY_OVERDUE\"] == 0\n",
    "credit_day_overdue[\"CREDIT_DAY_OVERDUE_OVER_1M\"] = bureau[\"CREDIT_DAY_OVERDUE\"] > 30\n",
    "credit_day_overdue[\"CREDIT_DAY_OVERDUE_OVER_3M\"] = bureau[\"CREDIT_DAY_OVERDUE\"] > 90\n",
    "credit_day_overdue[\"CREDIT_DAY_OVERDUE_OVER_6M\"] = bureau[\"CREDIT_DAY_OVERDUE\"] > 120\n",
    "\n",
    "credit_day_overdue_agg = aggregate(credit_day_overdue, by=[\"SK_ID_CURR\"], dtype=\"cat\", cat_stats=(\"mean\",))\n",
    "print(\"credit_day_overdue_agg shape:\", credit_day_overdue_agg.shape)\n",
    "\n",
    "credit_day_overdue_agg = application_train[[\"SK_ID_CURR\", \"TARGET\"]].merge(credit_day_overdue_agg, \n",
    "                                                                           how=\"left\", on=\"SK_ID_CURR\")\n",
    "\n",
    "corrs = corrwith(credit_day_overdue_agg.drop([\"SK_ID_CURR\", \"TARGET\"], axis=1), credit_day_overdue_agg[\"TARGET\"])\n",
    "corrs"
   ]
  },
  {
   "cell_type": "code",
   "execution_count": 28,
   "metadata": {},
   "outputs": [
    {
     "name": "stdout",
     "output_type": "stream",
     "text": [
      "Drop 0 collinear columns\n",
      "credit_day_overdue_agg shape: (305811, 5)\n"
     ]
    },
    {
     "data": {
      "text/plain": [
       "feature\n",
       "CREDIT_DAY_OVERDUE_OVER_1M_sum    0.021439\n",
       "CREDIT_DAY_OVERDUE_OVER_0M_sum   -0.011034\n",
       "CREDIT_DAY_OVERDUE_OVER_3M_sum    0.009345\n",
       "CREDIT_DAY_OVERDUE_OVER_6M_sum    0.007664\n",
       "Name: corr, dtype: float64"
      ]
     },
     "execution_count": 28,
     "metadata": {},
     "output_type": "execute_result"
    }
   ],
   "source": [
    "# agg by sum\n",
    "\n",
    "credit_day_overdue_agg = aggregate(credit_day_overdue, by=[\"SK_ID_CURR\"], dtype=\"cat\", cat_stats=(\"sum\",))\n",
    "print(\"credit_day_overdue_agg shape:\", credit_day_overdue_agg.shape)\n",
    "\n",
    "credit_day_overdue_agg = application_train[[\"SK_ID_CURR\", \"TARGET\"]].merge(credit_day_overdue_agg, \n",
    "                                                                           how=\"left\", on=\"SK_ID_CURR\")\n",
    "credit_day_overdue_agg = credit_day_overdue_agg.fillna(0)\n",
    "corrs = corrwith(credit_day_overdue_agg.drop([\"SK_ID_CURR\", \"TARGET\"], axis=1), credit_day_overdue_agg[\"TARGET\"])\n",
    "corrs"
   ]
  },
  {
   "cell_type": "markdown",
   "metadata": {},
   "source": [
    "#### Whether `DAYS_CREDIT_ENDDATE` is positive"
   ]
  },
  {
   "cell_type": "code",
   "execution_count": 29,
   "metadata": {},
   "outputs": [
    {
     "name": "stdout",
     "output_type": "stream",
     "text": [
      "Drop 0 collinear columns\n",
      "days_credit_enddate_pos_agg shape: (305811, 2)\n"
     ]
    },
    {
     "data": {
      "text/plain": [
       "feature\n",
       "DAYS_CREDIT_ENDDATE_POS_mean    0.055305\n",
       "Name: corr, dtype: float64"
      ]
     },
     "execution_count": 29,
     "metadata": {},
     "output_type": "execute_result"
    }
   ],
   "source": [
    "# agg by mean\n",
    "\n",
    "days_credit_enddate_pos = bureau[[\"SK_ID_CURR\"]]\n",
    "days_credit_enddate_pos[\"DAYS_CREDIT_ENDDATE_POS\"] = bureau[\"DAYS_CREDIT_ENDDATE\"] > 0\n",
    "\n",
    "days_credit_enddate_pos_agg = aggregate(days_credit_enddate_pos, by=[\"SK_ID_CURR\"], dtype=\"cat\", cat_stats=(\"mean\",))\n",
    "\n",
    "print(\"days_credit_enddate_pos_agg shape:\", days_credit_enddate_pos_agg.shape)\n",
    "\n",
    "days_credit_enddate_pos_agg = application_train[[\"SK_ID_CURR\", \"TARGET\"]].merge(days_credit_enddate_pos_agg, \n",
    "                                                                           how=\"left\", on=\"SK_ID_CURR\")\n",
    "\n",
    "corrs = corrwith(days_credit_enddate_pos_agg.drop([\"SK_ID_CURR\", \"TARGET\"], axis=1), \n",
    "                 days_credit_enddate_pos_agg[\"TARGET\"])\n",
    "corrs"
   ]
  },
  {
   "cell_type": "code",
   "execution_count": 30,
   "metadata": {},
   "outputs": [
    {
     "name": "stdout",
     "output_type": "stream",
     "text": [
      "Drop 0 collinear columns\n",
      "days_credit_enddate_pos_agg shape: (305811, 2)\n"
     ]
    },
    {
     "data": {
      "text/plain": [
       "feature\n",
       "DAYS_CREDIT_ENDDATE_POS_sum    0.032456\n",
       "Name: corr, dtype: float64"
      ]
     },
     "execution_count": 30,
     "metadata": {},
     "output_type": "execute_result"
    }
   ],
   "source": [
    "# agg by sum\n",
    "days_credit_enddate_pos_agg = aggregate(days_credit_enddate_pos, by=[\"SK_ID_CURR\"], dtype=\"cat\", cat_stats=(\"sum\",))\n",
    "\n",
    "print(\"days_credit_enddate_pos_agg shape:\", days_credit_enddate_pos_agg.shape)\n",
    "\n",
    "days_credit_enddate_pos_agg = application_train[[\"SK_ID_CURR\", \"TARGET\"]].merge(days_credit_enddate_pos_agg, \n",
    "                                                                           how=\"left\", on=\"SK_ID_CURR\")\n",
    "days_credit_enddate_pos_agg = days_credit_enddate_pos_agg.fillna(0)\n",
    "\n",
    "corrs = corrwith(days_credit_enddate_pos_agg.drop([\"SK_ID_CURR\", \"TARGET\"], axis=1), \n",
    "                 days_credit_enddate_pos_agg[\"TARGET\"])\n",
    "corrs"
   ]
  },
  {
   "cell_type": "markdown",
   "metadata": {},
   "source": [
    "#### Whether `DAYS_CREDIT_UPDATE` is positive"
   ]
  },
  {
   "cell_type": "code",
   "execution_count": 31,
   "metadata": {},
   "outputs": [
    {
     "data": {
      "text/plain": [
       "17"
      ]
     },
     "execution_count": 31,
     "metadata": {},
     "output_type": "execute_result"
    }
   ],
   "source": [
    "# very few cases \n",
    "(bureau[\"DAYS_CREDIT_UPDATE\"] > 0).sum()"
   ]
  },
  {
   "cell_type": "markdown",
   "metadata": {},
   "source": [
    "### Debt to Credit ratio and Total overdue to debt ratio"
   ]
  },
  {
   "cell_type": "code",
   "execution_count": 33,
   "metadata": {},
   "outputs": [
    {
     "name": "stdout",
     "output_type": "stream",
     "text": [
      "Drop 0 collinear columns\n"
     ]
    },
    {
     "data": {
      "text/plain": [
       "feature\n",
       "DEBT_TO_CREDIT                0.060235\n",
       "AMT_CREDIT_SUM_sum           -0.014057\n",
       "AMT_CREDIT_SUM_OVERDUE_sum    0.013335\n",
       "AMT_CREDIT_SUM_DEBT_sum       0.007144\n",
       "OVERDUE_TO_DEBT               0.000939\n",
       "Name: corr, dtype: float64"
      ]
     },
     "execution_count": 33,
     "metadata": {},
     "output_type": "execute_result"
    }
   ],
   "source": [
    "amt_agg = aggregate(bureau[[\"SK_ID_CURR\", \"AMT_CREDIT_SUM\", \"AMT_CREDIT_SUM_DEBT\", \"AMT_CREDIT_SUM_OVERDUE\"]],\n",
    "                   by=[\"SK_ID_CURR\"], dtype=\"num\", num_stats=(\"sum\",))\n",
    "\n",
    "amt_agg[\"DEBT_TO_CREDIT\"] = amt_agg[\"AMT_CREDIT_SUM_DEBT_sum\"] / amt_agg[\"AMT_CREDIT_SUM_sum\"]\n",
    "amt_agg[\"OVERDUE_TO_DEBT\"] = amt_agg[\"AMT_CREDIT_SUM_OVERDUE_sum\"] / amt_agg[\"AMT_CREDIT_SUM_DEBT_sum\"]\n",
    "\n",
    "amt_agg = application_train[[\"SK_ID_CURR\", \"TARGET\"]].merge(amt_agg, how=\"left\", on=\"SK_ID_CURR\")\n",
    "\n",
    "amt_agg[\"DEBT_TO_CREDIT\"] = amt_agg[\"DEBT_TO_CREDIT\"].replace({np.inf: np.nan, -np.inf: np.nan})\n",
    "\n",
    "amt_agg[\"OVERDUE_TO_DEBT\"] = amt_agg[\"OVERDUE_TO_DEBT\"].replace({np.inf: np.nan, -np.inf: np.nan})\n",
    "\n",
    "corrs = corrwith(amt_agg.drop([\"SK_ID_CURR\", \"TARGET\"], axis=1), amt_agg[\"TARGET\"])\n",
    "corrs"
   ]
  },
  {
   "cell_type": "markdown",
   "metadata": {},
   "source": [
    "#### Time between successive loans"
   ]
  },
  {
   "cell_type": "code",
   "execution_count": 38,
   "metadata": {},
   "outputs": [
    {
     "name": "stdout",
     "output_type": "stream",
     "text": [
      "Drop 0 collinear columns\n"
     ]
    }
   ],
   "source": [
    "time_bet_loans = aggregate(bureau[[\"SK_ID_CURR\", \"DAYS_CREDIT\"]], by=[\"SK_ID_CURR\"], dtype=\"num\",\n",
    "                           num_stats=(mean_diff, var_diff, range_diff,))\n",
    "time_bet_loans = application_train[[\"SK_ID_CURR\", \"TARGET\"]].merge(time_bet_loans, how=\"left\", on=\"SK_ID_CURR\")"
   ]
  },
  {
   "cell_type": "code",
   "execution_count": 39,
   "metadata": {},
   "outputs": [
    {
     "data": {
      "text/plain": [
       "feature\n",
       "DAYS_CREDIT_mean_diff    -0.035060\n",
       "DAYS_CREDIT_range_diff   -0.025896\n",
       "DAYS_CREDIT_var_diff     -0.014703\n",
       "Name: corr, dtype: float64"
      ]
     },
     "execution_count": 39,
     "metadata": {},
     "output_type": "execute_result"
    }
   ],
   "source": [
    "for col in time_bet_loans.columns:\n",
    "    time_bet_loans[col] = time_bet_loans[col].replace({np.inf: np.nan, -np.inf: np.nan})\n",
    "    \n",
    "corrs = corrwith(time_bet_loans.drop([\"SK_ID_CURR\", \"TARGET\"], axis=1), time_bet_loans[\"TARGET\"])\n",
    "corrs"
   ]
  },
  {
   "cell_type": "markdown",
   "metadata": {},
   "source": [
    "# 3. `bureau_balance`"
   ]
  },
  {
   "cell_type": "code",
   "execution_count": 40,
   "metadata": {},
   "outputs": [
    {
     "name": "stdout",
     "output_type": "stream",
     "text": [
      "Memory usage before changing types 655.20 MB\n",
      "Memory usage after changing types 245.70 MB\n",
      "bureau_balance.shape: (27299925, 3)\n"
     ]
    },
    {
     "data": {
      "text/html": [
       "<div>\n",
       "<style scoped>\n",
       "    .dataframe tbody tr th:only-of-type {\n",
       "        vertical-align: middle;\n",
       "    }\n",
       "\n",
       "    .dataframe tbody tr th {\n",
       "        vertical-align: top;\n",
       "    }\n",
       "\n",
       "    .dataframe thead th {\n",
       "        text-align: right;\n",
       "    }\n",
       "</style>\n",
       "<table border=\"1\" class=\"dataframe\">\n",
       "  <thead>\n",
       "    <tr style=\"text-align: right;\">\n",
       "      <th></th>\n",
       "      <th>SK_ID_BUREAU</th>\n",
       "      <th>MONTHS_BALANCE</th>\n",
       "      <th>STATUS</th>\n",
       "    </tr>\n",
       "  </thead>\n",
       "  <tbody>\n",
       "    <tr>\n",
       "      <th>0</th>\n",
       "      <td>5715448</td>\n",
       "      <td>0</td>\n",
       "      <td>C</td>\n",
       "    </tr>\n",
       "    <tr>\n",
       "      <th>1</th>\n",
       "      <td>5715448</td>\n",
       "      <td>-1</td>\n",
       "      <td>C</td>\n",
       "    </tr>\n",
       "    <tr>\n",
       "      <th>2</th>\n",
       "      <td>5715448</td>\n",
       "      <td>-2</td>\n",
       "      <td>C</td>\n",
       "    </tr>\n",
       "    <tr>\n",
       "      <th>3</th>\n",
       "      <td>5715448</td>\n",
       "      <td>-3</td>\n",
       "      <td>C</td>\n",
       "    </tr>\n",
       "    <tr>\n",
       "      <th>4</th>\n",
       "      <td>5715448</td>\n",
       "      <td>-4</td>\n",
       "      <td>C</td>\n",
       "    </tr>\n",
       "  </tbody>\n",
       "</table>\n",
       "</div>"
      ],
      "text/plain": [
       "   SK_ID_BUREAU  MONTHS_BALANCE STATUS\n",
       "0       5715448               0      C\n",
       "1       5715448              -1      C\n",
       "2       5715448              -2      C\n",
       "3       5715448              -3      C\n",
       "4       5715448              -4      C"
      ]
     },
     "execution_count": 40,
     "metadata": {},
     "output_type": "execute_result"
    }
   ],
   "source": [
    "bureau_balance = pd.read_csv(os.path.join(INP_DIR, \"bureau_balance.csv\"))\n",
    "bureau_balance = change_dtypes(bureau_balance)\n",
    "\n",
    "print(\"bureau_balance.shape:\", bureau_balance.shape)\n",
    "bureau_balance.head()"
   ]
  },
  {
   "cell_type": "code",
   "execution_count": 41,
   "metadata": {},
   "outputs": [
    {
     "name": "stdout",
     "output_type": "stream",
     "text": [
      "MONTHS_BALANCE min: -96\n",
      "MONTHS_BALANCE max: 0\n",
      "STATUS unique values: [C, 0, X, 1, 2, 3, 5, 4]\n",
      "Categories (8, object): [C, 0, X, 1, 2, 3, 5, 4]\n"
     ]
    }
   ],
   "source": [
    "print(\"MONTHS_BALANCE min:\", bureau_balance[\"MONTHS_BALANCE\"].min())\n",
    "print(\"MONTHS_BALANCE max:\", bureau_balance[\"MONTHS_BALANCE\"].max())\n",
    "\n",
    "print(\"STATUS unique values:\", bureau_balance[\"STATUS\"].unique())"
   ]
  },
  {
   "cell_type": "markdown",
   "metadata": {},
   "source": [
    "## Missing values"
   ]
  },
  {
   "cell_type": "code",
   "execution_count": 42,
   "metadata": {},
   "outputs": [
    {
     "name": "stdout",
     "output_type": "stream",
     "text": [
      "Total number of features: 3\n",
      "Number of features having missing values: 0\n",
      "head:\n"
     ]
    },
    {
     "data": {
      "text/plain": [
       "STATUS            0.0\n",
       "MONTHS_BALANCE    0.0\n",
       "SK_ID_BUREAU      0.0\n",
       "dtype: float64"
      ]
     },
     "metadata": {},
     "output_type": "display_data"
    }
   ],
   "source": [
    "missing_vals = bureau_balance.isnull().mean()\n",
    "missing_vals = missing_vals.sort_values(ascending=False)\n",
    "print(\"Total number of features:\", bureau_balance.shape[1])\n",
    "print(\"Number of features having missing values:\", (missing_vals > 0).sum())\n",
    "\n",
    "print(\"head:\")\n",
    "display(missing_vals.head(10))"
   ]
  },
  {
   "cell_type": "markdown",
   "metadata": {},
   "source": [
    "## Aggregate once"
   ]
  },
  {
   "cell_type": "code",
   "execution_count": 43,
   "metadata": {
    "scrolled": true
   },
   "outputs": [
    {
     "name": "stdout",
     "output_type": "stream",
     "text": [
      "Drop 0 collinear columns\n",
      "Drop 0 collinear columns\n",
      "bureau_balance_agg shape: (307511, 30)\n"
     ]
    },
    {
     "data": {
      "text/plain": [
       "feature\n",
       "MONTHS_BALANCE_mean     0.074416\n",
       "MONTHS_BALANCE_min      0.073225\n",
       "MONTHS_BALANCE_var     -0.051335\n",
       "STATUS_1_mean           0.033021\n",
       "STATUS_1_nunique        0.023553\n",
       "STATUS_C_sum           -0.021756\n",
       "STATUS_C_mean          -0.017915\n",
       "MONTHS_BALANCE_count   -0.017482\n",
       "STATUS_0_mean           0.016825\n",
       "STATUS_1_sum            0.013991\n",
       "STATUS_2_mean           0.011150\n",
       "STATUS_X_sum           -0.011022\n",
       "STATUS_5_mean           0.010525\n",
       "STATUS_3_mean           0.010089\n",
       "STATUS_4_nunique        0.010085\n",
       "STATUS_4_mean           0.009940\n",
       "STATUS_C_nunique       -0.009337\n",
       "STATUS_5_nunique        0.009054\n",
       "STATUS_3_nunique        0.008935\n",
       "STATUS_4_sum            0.008585\n",
       "STATUS_2_nunique        0.008455\n",
       "STATUS_3_sum            0.007912\n",
       "STATUS_2_sum            0.007755\n",
       "STATUS_0_sum           -0.007233\n",
       "STATUS_5_sum            0.005691\n",
       "MONTHS_BALANCE_max      0.005119\n",
       "STATUS_X_nunique        0.002118\n",
       "STATUS_0_nunique        0.000558\n",
       "STATUS_X_mean           0.000528\n",
       "Name: corr, dtype: float64"
      ]
     },
     "execution_count": 43,
     "metadata": {},
     "output_type": "execute_result"
    }
   ],
   "source": [
    "bureau_balance_merge = application_train[[\"SK_ID_CURR\"]].merge(bureau[[\"SK_ID_CURR\", \"SK_ID_BUREAU\"]], \n",
    "                                                                      how=\"left\", on=\"SK_ID_CURR\")\n",
    "\n",
    "bureau_balance_merge = bureau_balance_merge.merge(bureau_balance, how=\"left\", on=\"SK_ID_BUREAU\")\n",
    "bureau_balance_merge = bureau_balance_merge.drop([\"SK_ID_BUREAU\"], axis=1)\n",
    "\n",
    "bureau_balance_agg = aggregate(bureau_balance_merge, by=[\"SK_ID_CURR\"], \n",
    "                               num_stats=(\"count\", \"mean\", \"min\", \"max\", np.var),\n",
    "                              cat_stats=(\"sum\", \"mean\"))\n",
    "\n",
    "bureau_balance_agg_uniq = aggregate(bureau_balance_merge, by=[\"SK_ID_CURR\"], dtype=\"cat\", \n",
    "                                    cat_stats=(\"nunique\",))\n",
    "\n",
    "bureau_balance_agg = bureau_balance_agg.merge(bureau_balance_agg_uniq, how=\"outer\", on=\"SK_ID_CURR\")\n",
    "\n",
    "print(\"bureau_balance_agg shape:\", bureau_balance_agg.shape)\n",
    "\n",
    "bureau_balance_agg = application_train[[\"SK_ID_CURR\", \"TARGET\"]].merge(bureau_balance_agg, \n",
    "                                                                       how=\"left\", on=\"SK_ID_CURR\")\n",
    "\n",
    "corrs = corrwith(bureau_balance_agg.drop([\"SK_ID_CURR\", \"TARGET\"], axis=1), bureau_balance_agg[\"TARGET\"])\n",
    "corrs"
   ]
  },
  {
   "cell_type": "markdown",
   "metadata": {},
   "source": [
    "## Aggregate stepwise"
   ]
  },
  {
   "cell_type": "code",
   "execution_count": 45,
   "metadata": {},
   "outputs": [
    {
     "name": "stdout",
     "output_type": "stream",
     "text": [
      "Drop 0 collinear columns\n",
      "Drop 0 collinear columns\n",
      "Drop 20 collinear columns\n",
      "bureau_balance_agg shape: (305811, 91)\n"
     ]
    },
    {
     "data": {
      "text/plain": [
       "feature\n",
       "MONTHS_BALANCE_min_mean       0.089038\n",
       "MONTHS_BALANCE_count_mean    -0.080193\n",
       "MONTHS_BALANCE_mean_mean      0.076424\n",
       "MONTHS_BALANCE_min_min        0.073225\n",
       "MONTHS_BALANCE_count_max     -0.068792\n",
       "MONTHS_BALANCE_var_mean      -0.062957\n",
       "STATUS_C_sum_mean            -0.062954\n",
       "STATUS_1_mean_mean            0.061183\n",
       "STATUS_1_mean_max             0.061122\n",
       "STATUS_C_sum_max             -0.061083\n",
       "MONTHS_BALANCE_var_max       -0.059855\n",
       "STATUS_C_mean_mean           -0.055936\n",
       "MONTHS_BALANCE_mean_min       0.053816\n",
       "MONTHS_BALANCE_min_max        0.049807\n",
       "MONTHS_BALANCE_count_min     -0.048224\n",
       "STATUS_C_sum_var             -0.046157\n",
       "STATUS_0_mean_mean            0.044198\n",
       "STATUS_C_mean_max            -0.044119\n",
       "MONTHS_BALANCE_mean_max       0.043956\n",
       "MONTHS_BALANCE_var_var       -0.040304\n",
       "MONTHS_BALANCE_count_var     -0.037909\n",
       "STATUS_1_mean_var             0.037443\n",
       "STATUS_1_mean_min             0.037332\n",
       "STATUS_0_sum_mean            -0.035868\n",
       "MONTHS_BALANCE_min_var       -0.035045\n",
       "STATUS_X_sum_mean            -0.033292\n",
       "STATUS_1_sum_mean             0.033287\n",
       "STATUS_0_mean_min             0.031530\n",
       "STATUS_0_sum_max             -0.031158\n",
       "STATUS_X_sum_max             -0.030919\n",
       "                                ...   \n",
       "STATUS_3_sum_max              0.013719\n",
       "STATUS_2_sum_mean             0.013521\n",
       "STATUS_3_mean_var             0.011964\n",
       "STATUS_nunique_max            0.011485\n",
       "STATUS_2_sum_max              0.010899\n",
       "MONTHS_BALANCE_count_count    0.010669\n",
       "STATUS_3_sum_min              0.010432\n",
       "STATUS_2_mean_var             0.010404\n",
       "STATUS_5_sum_max              0.010163\n",
       "STATUS_4_mean_var             0.009900\n",
       "MONTHS_BALANCE_var_count      0.009390\n",
       "STATUS_4_sum_min              0.009168\n",
       "STATUS_0_mean_var             0.008772\n",
       "STATUS_3_mean_min             0.008563\n",
       "STATUS_nunique_min           -0.008518\n",
       "STATUS_2_sum_min              0.006492\n",
       "STATUS_4_mean_min             0.006392\n",
       "STATUS_2_mean_min             0.006052\n",
       "STATUS_3_sum_var              0.005315\n",
       "MONTHS_BALANCE_max_max        0.005119\n",
       "STATUS_5_mean_var             0.004849\n",
       "STATUS_1_sum_var              0.004506\n",
       "STATUS_2_sum_var              0.004036\n",
       "STATUS_4_sum_var              0.003144\n",
       "STATUS_5_sum_var              0.001709\n",
       "STATUS_X_mean_var             0.001642\n",
       "STATUS_X_mean_max             0.001110\n",
       "STATUS_X_mean_min            -0.001056\n",
       "STATUS_X_mean_mean            0.000408\n",
       "STATUS_nunique_mean          -0.000185\n",
       "Name: corr, Length: 90, dtype: float64"
      ]
     },
     "execution_count": 45,
     "metadata": {},
     "output_type": "execute_result"
    }
   ],
   "source": [
    "bureau_balance_agg = aggregate(bureau_balance, by=[\"SK_ID_BUREAU\"], \n",
    "                               num_stats=(\"count\", \"mean\", \"min\", \"max\", np.var),\n",
    "                               cat_stats=(\"sum\", \"mean\"))\n",
    "\n",
    "bureau_balance_agg_uniq = aggregate(bureau_balance, by=[\"SK_ID_BUREAU\"], dtype=\"cat\",\n",
    "                                    cat_stats=(\"nunique\",), onehot_encode=False)\n",
    "\n",
    "bureau_balance_agg = bureau_balance_agg.merge(bureau_balance_agg_uniq, how=\"outer\", on=\"SK_ID_BUREAU\")\n",
    "\n",
    "bureau_balance_agg = bureau[[\"SK_ID_CURR\", \"SK_ID_BUREAU\"]].merge(bureau_balance_agg, how=\"left\", on=\"SK_ID_BUREAU\")\n",
    "\n",
    "bureau_balance_agg = bureau_balance_agg.drop([\"SK_ID_BUREAU\"], axis=1)\n",
    "\n",
    "bureau_balance_agg = aggregate(bureau_balance_agg, by=[\"SK_ID_CURR\"], \n",
    "                              num_stats=(\"count\", \"mean\", \"min\", \"max\", np.var), dtype=\"num\")\n",
    "\n",
    "print(\"bureau_balance_agg shape:\", bureau_balance_agg.shape)\n",
    "\n",
    "bureau_balance_agg = application_train[[\"SK_ID_CURR\", \"TARGET\"]].merge(bureau_balance_agg, \n",
    "                                                                       how=\"left\", on=\"SK_ID_CURR\")\n",
    "\n",
    "corrs = corrwith(bureau_balance_agg.drop([\"SK_ID_CURR\", \"TARGET\"], axis=1), bureau_balance_agg[\"TARGET\"])\n",
    "corrs"
   ]
  },
  {
   "cell_type": "markdown",
   "metadata": {},
   "source": [
    "# 4. `previous_application`"
   ]
  },
  {
   "cell_type": "code",
   "execution_count": 46,
   "metadata": {},
   "outputs": [
    {
     "name": "stdout",
     "output_type": "stream",
     "text": [
      "Memory usage before changing types 494.38 MB\n",
      "Memory usage after changing types 162.02 MB\n",
      "previous_application shape: (1670214, 37)\n"
     ]
    },
    {
     "data": {
      "text/html": [
       "<div>\n",
       "<style scoped>\n",
       "    .dataframe tbody tr th:only-of-type {\n",
       "        vertical-align: middle;\n",
       "    }\n",
       "\n",
       "    .dataframe tbody tr th {\n",
       "        vertical-align: top;\n",
       "    }\n",
       "\n",
       "    .dataframe thead th {\n",
       "        text-align: right;\n",
       "    }\n",
       "</style>\n",
       "<table border=\"1\" class=\"dataframe\">\n",
       "  <thead>\n",
       "    <tr style=\"text-align: right;\">\n",
       "      <th></th>\n",
       "      <th>SK_ID_PREV</th>\n",
       "      <th>SK_ID_CURR</th>\n",
       "      <th>NAME_CONTRACT_TYPE</th>\n",
       "      <th>AMT_ANNUITY</th>\n",
       "      <th>AMT_APPLICATION</th>\n",
       "      <th>AMT_CREDIT</th>\n",
       "      <th>AMT_DOWN_PAYMENT</th>\n",
       "      <th>AMT_GOODS_PRICE</th>\n",
       "      <th>WEEKDAY_APPR_PROCESS_START</th>\n",
       "      <th>HOUR_APPR_PROCESS_START</th>\n",
       "      <th>...</th>\n",
       "      <th>NAME_SELLER_INDUSTRY</th>\n",
       "      <th>CNT_PAYMENT</th>\n",
       "      <th>NAME_YIELD_GROUP</th>\n",
       "      <th>PRODUCT_COMBINATION</th>\n",
       "      <th>DAYS_FIRST_DRAWING</th>\n",
       "      <th>DAYS_FIRST_DUE</th>\n",
       "      <th>DAYS_LAST_DUE_1ST_VERSION</th>\n",
       "      <th>DAYS_LAST_DUE</th>\n",
       "      <th>DAYS_TERMINATION</th>\n",
       "      <th>NFLAG_INSURED_ON_APPROVAL</th>\n",
       "    </tr>\n",
       "  </thead>\n",
       "  <tbody>\n",
       "    <tr>\n",
       "      <th>0</th>\n",
       "      <td>2030495</td>\n",
       "      <td>271877</td>\n",
       "      <td>Consumer loans</td>\n",
       "      <td>1730.430054</td>\n",
       "      <td>17145.0</td>\n",
       "      <td>17145.0</td>\n",
       "      <td>0.0</td>\n",
       "      <td>17145.0</td>\n",
       "      <td>SATURDAY</td>\n",
       "      <td>15</td>\n",
       "      <td>...</td>\n",
       "      <td>Connectivity</td>\n",
       "      <td>12.0</td>\n",
       "      <td>middle</td>\n",
       "      <td>POS mobile with interest</td>\n",
       "      <td>365243.0</td>\n",
       "      <td>-42.0</td>\n",
       "      <td>300.0</td>\n",
       "      <td>-42.0</td>\n",
       "      <td>-37.0</td>\n",
       "      <td>0.0</td>\n",
       "    </tr>\n",
       "    <tr>\n",
       "      <th>1</th>\n",
       "      <td>2802425</td>\n",
       "      <td>108129</td>\n",
       "      <td>Cash loans</td>\n",
       "      <td>25188.615234</td>\n",
       "      <td>607500.0</td>\n",
       "      <td>679671.0</td>\n",
       "      <td>NaN</td>\n",
       "      <td>607500.0</td>\n",
       "      <td>THURSDAY</td>\n",
       "      <td>11</td>\n",
       "      <td>...</td>\n",
       "      <td>XNA</td>\n",
       "      <td>36.0</td>\n",
       "      <td>low_action</td>\n",
       "      <td>Cash X-Sell: low</td>\n",
       "      <td>365243.0</td>\n",
       "      <td>-134.0</td>\n",
       "      <td>916.0</td>\n",
       "      <td>365243.0</td>\n",
       "      <td>365243.0</td>\n",
       "      <td>1.0</td>\n",
       "    </tr>\n",
       "    <tr>\n",
       "      <th>2</th>\n",
       "      <td>2523466</td>\n",
       "      <td>122040</td>\n",
       "      <td>Cash loans</td>\n",
       "      <td>15060.735352</td>\n",
       "      <td>112500.0</td>\n",
       "      <td>136444.5</td>\n",
       "      <td>NaN</td>\n",
       "      <td>112500.0</td>\n",
       "      <td>TUESDAY</td>\n",
       "      <td>11</td>\n",
       "      <td>...</td>\n",
       "      <td>XNA</td>\n",
       "      <td>12.0</td>\n",
       "      <td>high</td>\n",
       "      <td>Cash X-Sell: high</td>\n",
       "      <td>365243.0</td>\n",
       "      <td>-271.0</td>\n",
       "      <td>59.0</td>\n",
       "      <td>365243.0</td>\n",
       "      <td>365243.0</td>\n",
       "      <td>1.0</td>\n",
       "    </tr>\n",
       "    <tr>\n",
       "      <th>3</th>\n",
       "      <td>2819243</td>\n",
       "      <td>176158</td>\n",
       "      <td>Cash loans</td>\n",
       "      <td>47041.335938</td>\n",
       "      <td>450000.0</td>\n",
       "      <td>470790.0</td>\n",
       "      <td>NaN</td>\n",
       "      <td>450000.0</td>\n",
       "      <td>MONDAY</td>\n",
       "      <td>7</td>\n",
       "      <td>...</td>\n",
       "      <td>XNA</td>\n",
       "      <td>12.0</td>\n",
       "      <td>middle</td>\n",
       "      <td>Cash X-Sell: middle</td>\n",
       "      <td>365243.0</td>\n",
       "      <td>-482.0</td>\n",
       "      <td>-152.0</td>\n",
       "      <td>-182.0</td>\n",
       "      <td>-177.0</td>\n",
       "      <td>1.0</td>\n",
       "    </tr>\n",
       "    <tr>\n",
       "      <th>4</th>\n",
       "      <td>1784265</td>\n",
       "      <td>202054</td>\n",
       "      <td>Cash loans</td>\n",
       "      <td>31924.394531</td>\n",
       "      <td>337500.0</td>\n",
       "      <td>404055.0</td>\n",
       "      <td>NaN</td>\n",
       "      <td>337500.0</td>\n",
       "      <td>THURSDAY</td>\n",
       "      <td>9</td>\n",
       "      <td>...</td>\n",
       "      <td>XNA</td>\n",
       "      <td>24.0</td>\n",
       "      <td>high</td>\n",
       "      <td>Cash Street: high</td>\n",
       "      <td>NaN</td>\n",
       "      <td>NaN</td>\n",
       "      <td>NaN</td>\n",
       "      <td>NaN</td>\n",
       "      <td>NaN</td>\n",
       "      <td>NaN</td>\n",
       "    </tr>\n",
       "  </tbody>\n",
       "</table>\n",
       "<p>5 rows × 37 columns</p>\n",
       "</div>"
      ],
      "text/plain": [
       "   SK_ID_PREV  SK_ID_CURR NAME_CONTRACT_TYPE   AMT_ANNUITY  AMT_APPLICATION  \\\n",
       "0     2030495      271877     Consumer loans   1730.430054          17145.0   \n",
       "1     2802425      108129         Cash loans  25188.615234         607500.0   \n",
       "2     2523466      122040         Cash loans  15060.735352         112500.0   \n",
       "3     2819243      176158         Cash loans  47041.335938         450000.0   \n",
       "4     1784265      202054         Cash loans  31924.394531         337500.0   \n",
       "\n",
       "   AMT_CREDIT  AMT_DOWN_PAYMENT  AMT_GOODS_PRICE WEEKDAY_APPR_PROCESS_START  \\\n",
       "0     17145.0               0.0          17145.0                   SATURDAY   \n",
       "1    679671.0               NaN         607500.0                   THURSDAY   \n",
       "2    136444.5               NaN         112500.0                    TUESDAY   \n",
       "3    470790.0               NaN         450000.0                     MONDAY   \n",
       "4    404055.0               NaN         337500.0                   THURSDAY   \n",
       "\n",
       "   HOUR_APPR_PROCESS_START  ... NAME_SELLER_INDUSTRY  CNT_PAYMENT  \\\n",
       "0                       15  ...         Connectivity         12.0   \n",
       "1                       11  ...                  XNA         36.0   \n",
       "2                       11  ...                  XNA         12.0   \n",
       "3                        7  ...                  XNA         12.0   \n",
       "4                        9  ...                  XNA         24.0   \n",
       "\n",
       "   NAME_YIELD_GROUP       PRODUCT_COMBINATION  DAYS_FIRST_DRAWING  \\\n",
       "0            middle  POS mobile with interest            365243.0   \n",
       "1        low_action          Cash X-Sell: low            365243.0   \n",
       "2              high         Cash X-Sell: high            365243.0   \n",
       "3            middle       Cash X-Sell: middle            365243.0   \n",
       "4              high         Cash Street: high                 NaN   \n",
       "\n",
       "  DAYS_FIRST_DUE DAYS_LAST_DUE_1ST_VERSION  DAYS_LAST_DUE DAYS_TERMINATION  \\\n",
       "0          -42.0                     300.0          -42.0            -37.0   \n",
       "1         -134.0                     916.0       365243.0         365243.0   \n",
       "2         -271.0                      59.0       365243.0         365243.0   \n",
       "3         -482.0                    -152.0         -182.0           -177.0   \n",
       "4            NaN                       NaN            NaN              NaN   \n",
       "\n",
       "  NFLAG_INSURED_ON_APPROVAL  \n",
       "0                       0.0  \n",
       "1                       1.0  \n",
       "2                       1.0  \n",
       "3                       1.0  \n",
       "4                       NaN  \n",
       "\n",
       "[5 rows x 37 columns]"
      ]
     },
     "execution_count": 46,
     "metadata": {},
     "output_type": "execute_result"
    }
   ],
   "source": [
    "previous_application = pd.read_csv(os.path.join(INP_DIR, \"previous_application.csv\"))\n",
    "previous_application = change_dtypes(previous_application)\n",
    "\n",
    "print(\"previous_application shape:\", previous_application.shape)\n",
    "previous_application.head()"
   ]
  },
  {
   "cell_type": "markdown",
   "metadata": {},
   "source": [
    "## Missing values\n",
    "`RATE_INTEREST_PRIVILEGED` and `RATE_INTEREST_PRIMARY` have more than 99% missing values. We can drop these two columns."
   ]
  },
  {
   "cell_type": "code",
   "execution_count": 47,
   "metadata": {},
   "outputs": [
    {
     "name": "stdout",
     "output_type": "stream",
     "text": [
      "Total number of features: 37\n",
      "Number of features having missing values: 16\n",
      "head:\n"
     ]
    },
    {
     "data": {
      "text/plain": [
       "RATE_INTEREST_PRIVILEGED      9.964370e-01\n",
       "RATE_INTEREST_PRIMARY         9.964370e-01\n",
       "RATE_DOWN_PAYMENT             5.363648e-01\n",
       "AMT_DOWN_PAYMENT              5.363648e-01\n",
       "NAME_TYPE_SUITE               4.911975e-01\n",
       "DAYS_TERMINATION              4.029813e-01\n",
       "NFLAG_INSURED_ON_APPROVAL     4.029813e-01\n",
       "DAYS_FIRST_DRAWING            4.029813e-01\n",
       "DAYS_FIRST_DUE                4.029813e-01\n",
       "DAYS_LAST_DUE_1ST_VERSION     4.029813e-01\n",
       "DAYS_LAST_DUE                 4.029813e-01\n",
       "AMT_GOODS_PRICE               2.308177e-01\n",
       "AMT_ANNUITY                   2.228667e-01\n",
       "CNT_PAYMENT                   2.228637e-01\n",
       "PRODUCT_COMBINATION           2.071591e-04\n",
       "AMT_CREDIT                    5.987257e-07\n",
       "SK_ID_CURR                    0.000000e+00\n",
       "NAME_CONTRACT_TYPE            0.000000e+00\n",
       "WEEKDAY_APPR_PROCESS_START    0.000000e+00\n",
       "HOUR_APPR_PROCESS_START       0.000000e+00\n",
       "dtype: float64"
      ]
     },
     "metadata": {},
     "output_type": "display_data"
    }
   ],
   "source": [
    "missing_vals = previous_application.isnull().mean()\n",
    "missing_vals = missing_vals.sort_values(ascending=False)\n",
    "print(\"Total number of features:\", previous_application.shape[1])\n",
    "print(\"Number of features having missing values:\", (missing_vals > 0).sum())\n",
    "\n",
    "print(\"head:\")\n",
    "display(missing_vals.head(20))\n",
    "\n",
    "previous_application = previous_application.drop([\"RATE_INTEREST_PRIVILEGED\", \"RATE_INTEREST_PRIMARY\"], axis=1)"
   ]
  },
  {
   "cell_type": "markdown",
   "metadata": {},
   "source": [
    "`RATE_INTEREST_PRIVILEGED` and `RATE_INTEREST_PRIMARY` have more than 99% missing values. We can drop these two columns."
   ]
  },
  {
   "cell_type": "markdown",
   "metadata": {},
   "source": [
    "## Aggregate numerical columns"
   ]
  },
  {
   "cell_type": "code",
   "execution_count": 48,
   "metadata": {},
   "outputs": [
    {
     "name": "stdout",
     "output_type": "stream",
     "text": [
      "Drop 11 collinear columns\n",
      "previous_application_agg shape: (338857, 6)\n"
     ]
    },
    {
     "data": {
      "text/plain": [
       "feature\n",
       "DAYS_FIRST_DRAWING_count   -0.031833\n",
       "AMT_DOWN_PAYMENT_count     -0.023725\n",
       "AMT_APPLICATION_count       0.019762\n",
       "AMT_GOODS_PRICE_count       0.008726\n",
       "AMT_ANNUITY_count           0.007338\n",
       "Name: corr, dtype: float64"
      ]
     },
     "execution_count": 48,
     "metadata": {},
     "output_type": "execute_result"
    }
   ],
   "source": [
    "# agg by count\n",
    "previous_application_agg = aggregate(previous_application.drop([\"SK_ID_PREV\"], axis=1), \n",
    "                                     by=[\"SK_ID_CURR\"], dtype=\"num\",\n",
    "                                     num_stats=(\"count\",))\n",
    "\n",
    "print(\"previous_application_agg shape:\", previous_application_agg.shape)\n",
    "\n",
    "previous_application_agg = application_train[[\"SK_ID_CURR\", \"TARGET\"]].merge(previous_application_agg, \n",
    "                                                                       how=\"left\", on=\"SK_ID_CURR\")\n",
    "\n",
    "corrs = corrwith(previous_application_agg.drop([\"SK_ID_CURR\", \"TARGET\"], axis=1), previous_application_agg[\"TARGET\"])\n",
    "corrs"
   ]
  },
  {
   "cell_type": "code",
   "execution_count": 49,
   "metadata": {},
   "outputs": [
    {
     "name": "stdout",
     "output_type": "stream",
     "text": [
      "Drop 0 collinear columns\n",
      "previous_application_agg shape: (338857, 17)\n"
     ]
    },
    {
     "data": {
      "text/plain": [
       "feature\n",
       "DAYS_FIRST_DRAWING_mean          -0.048803\n",
       "DAYS_DECISION_mean                0.046864\n",
       "HOUR_APPR_PROCESS_START_mean     -0.035927\n",
       "AMT_ANNUITY_mean                 -0.034871\n",
       "RATE_DOWN_PAYMENT_mean           -0.033601\n",
       "DAYS_LAST_DUE_1ST_VERSION_mean    0.031203\n",
       "CNT_PAYMENT_mean                  0.027743\n",
       "DAYS_LAST_DUE_mean                0.026923\n",
       "DAYS_TERMINATION_mean             0.025795\n",
       "AMT_DOWN_PAYMENT_mean            -0.024624\n",
       "AMT_APPLICATION_mean             -0.021803\n",
       "AMT_CREDIT_mean                  -0.016114\n",
       "AMT_GOODS_PRICE_mean             -0.015847\n",
       "DAYS_FIRST_DUE_mean              -0.009334\n",
       "SELLERPLACE_AREA_mean            -0.002433\n",
       "NFLAG_INSURED_ON_APPROVAL_mean   -0.000527\n",
       "Name: corr, dtype: float64"
      ]
     },
     "execution_count": 49,
     "metadata": {},
     "output_type": "execute_result"
    }
   ],
   "source": [
    "# agg by mean\n",
    "previous_application_agg = aggregate(previous_application.drop([\"SK_ID_PREV\"], axis=1), \n",
    "                                     by=[\"SK_ID_CURR\"], dtype=\"num\",\n",
    "                                     num_stats=(\"mean\",))\n",
    "\n",
    "print(\"previous_application_agg shape:\", previous_application_agg.shape)\n",
    "\n",
    "previous_application_agg = application_train[[\"SK_ID_CURR\", \"TARGET\"]].merge(previous_application_agg, \n",
    "                                                                       how=\"left\", on=\"SK_ID_CURR\")\n",
    "\n",
    "corrs = corrwith(previous_application_agg.drop([\"SK_ID_CURR\", \"TARGET\"], axis=1), previous_application_agg[\"TARGET\"])\n",
    "corrs"
   ]
  },
  {
   "cell_type": "code",
   "execution_count": 50,
   "metadata": {},
   "outputs": [
    {
     "name": "stdout",
     "output_type": "stream",
     "text": [
      "Drop 0 collinear columns\n",
      "previous_application_agg shape: (338857, 17)\n"
     ]
    },
    {
     "data": {
      "text/plain": [
       "feature\n",
       "DAYS_DECISION_min                0.053434\n",
       "DAYS_FIRST_DRAWING_min          -0.044643\n",
       "AMT_ANNUITY_min                 -0.032249\n",
       "HOUR_APPR_PROCESS_START_min     -0.031427\n",
       "DAYS_LAST_DUE_min                0.026186\n",
       "DAYS_TERMINATION_min             0.025605\n",
       "AMT_APPLICATION_min             -0.020828\n",
       "AMT_GOODS_PRICE_min             -0.020811\n",
       "AMT_CREDIT_min                  -0.019417\n",
       "AMT_DOWN_PAYMENT_min            -0.016950\n",
       "RATE_DOWN_PAYMENT_min           -0.014784\n",
       "DAYS_LAST_DUE_1ST_VERSION_min    0.014645\n",
       "NFLAG_INSURED_ON_APPROVAL_min    0.011687\n",
       "CNT_PAYMENT_min                 -0.010789\n",
       "DAYS_FIRST_DUE_min               0.006042\n",
       "SELLERPLACE_AREA_min            -0.001294\n",
       "Name: corr, dtype: float64"
      ]
     },
     "execution_count": 50,
     "metadata": {},
     "output_type": "execute_result"
    }
   ],
   "source": [
    "# agg by min\n",
    "previous_application_agg = aggregate(previous_application.drop([\"SK_ID_PREV\"], axis=1), \n",
    "                                     by=[\"SK_ID_CURR\"], dtype=\"num\",\n",
    "                                     num_stats=(\"min\",))\n",
    "\n",
    "print(\"previous_application_agg shape:\", previous_application_agg.shape)\n",
    "\n",
    "previous_application_agg = application_train[[\"SK_ID_CURR\", \"TARGET\"]].merge(previous_application_agg, \n",
    "                                                                       how=\"left\", on=\"SK_ID_CURR\")\n",
    "\n",
    "corrs = corrwith(previous_application_agg.drop([\"SK_ID_CURR\", \"TARGET\"], axis=1), previous_application_agg[\"TARGET\"])\n",
    "corrs"
   ]
  },
  {
   "cell_type": "code",
   "execution_count": 51,
   "metadata": {},
   "outputs": [
    {
     "name": "stdout",
     "output_type": "stream",
     "text": [
      "Drop 1 collinear columns\n",
      "previous_application_agg shape: (338857, 16)\n"
     ]
    },
    {
     "data": {
      "text/plain": [
       "feature\n",
       "RATE_DOWN_PAYMENT_max           -0.040096\n",
       "HOUR_APPR_PROCESS_START_max     -0.030847\n",
       "CNT_PAYMENT_max                  0.029439\n",
       "AMT_ANNUITY_max                 -0.028966\n",
       "AMT_DOWN_PAYMENT_max            -0.025290\n",
       "DAYS_FIRST_DUE_max              -0.020158\n",
       "DAYS_LAST_DUE_1ST_VERSION_max    0.019065\n",
       "DAYS_DECISION_max                0.016399\n",
       "DAYS_FIRST_DRAWING_max          -0.015053\n",
       "AMT_APPLICATION_max             -0.012605\n",
       "NFLAG_INSURED_ON_APPROVAL_max   -0.010710\n",
       "AMT_CREDIT_max                  -0.008439\n",
       "DAYS_LAST_DUE_max                0.006689\n",
       "DAYS_TERMINATION_max             0.005217\n",
       "SELLERPLACE_AREA_max            -0.003135\n",
       "Name: corr, dtype: float64"
      ]
     },
     "execution_count": 51,
     "metadata": {},
     "output_type": "execute_result"
    }
   ],
   "source": [
    "# agg by max\n",
    "previous_application_agg = aggregate(previous_application.drop([\"SK_ID_PREV\"], axis=1), \n",
    "                                     by=[\"SK_ID_CURR\"], dtype=\"num\",\n",
    "                                     num_stats=(\"max\",))\n",
    "\n",
    "print(\"previous_application_agg shape:\", previous_application_agg.shape)\n",
    "\n",
    "previous_application_agg = application_train[[\"SK_ID_CURR\", \"TARGET\"]].merge(previous_application_agg, \n",
    "                                                                       how=\"left\", on=\"SK_ID_CURR\")\n",
    "\n",
    "corrs = corrwith(previous_application_agg.drop([\"SK_ID_CURR\", \"TARGET\"], axis=1), previous_application_agg[\"TARGET\"])\n",
    "corrs"
   ]
  },
  {
   "cell_type": "code",
   "execution_count": 52,
   "metadata": {},
   "outputs": [
    {
     "name": "stdout",
     "output_type": "stream",
     "text": [
      "Drop 0 collinear columns\n",
      "previous_application_agg shape: (338857, 17)\n"
     ]
    },
    {
     "data": {
      "text/plain": [
       "feature\n",
       "DAYS_FIRST_DRAWING_var           0.069076\n",
       "DAYS_DECISION_var               -0.048513\n",
       "DAYS_LAST_DUE_1ST_VERSION_var    0.046016\n",
       "CNT_PAYMENT_var                  0.041960\n",
       "DAYS_LAST_DUE_var                0.023003\n",
       "RATE_DOWN_PAYMENT_var           -0.022597\n",
       "DAYS_TERMINATION_var             0.022133\n",
       "AMT_ANNUITY_var                 -0.020936\n",
       "AMT_APPLICATION_var             -0.014470\n",
       "AMT_GOODS_PRICE_var             -0.014287\n",
       "AMT_CREDIT_var                  -0.012527\n",
       "DAYS_FIRST_DUE_var              -0.008614\n",
       "HOUR_APPR_PROCESS_START_var     -0.007854\n",
       "NFLAG_INSURED_ON_APPROVAL_var    0.007793\n",
       "AMT_DOWN_PAYMENT_var             0.002022\n",
       "SELLERPLACE_AREA_var            -0.001046\n",
       "Name: corr, dtype: float64"
      ]
     },
     "execution_count": 52,
     "metadata": {},
     "output_type": "execute_result"
    }
   ],
   "source": [
    "# agg by var\n",
    "previous_application_agg = aggregate(previous_application.drop([\"SK_ID_PREV\"], axis=1), \n",
    "                                     by=[\"SK_ID_CURR\"], dtype=\"num\",\n",
    "                                     num_stats=(np.var,))\n",
    "\n",
    "print(\"previous_application_agg shape:\", previous_application_agg.shape)\n",
    "\n",
    "previous_application_agg = application_train[[\"SK_ID_CURR\", \"TARGET\"]].merge(previous_application_agg, \n",
    "                                                                       how=\"left\", on=\"SK_ID_CURR\")\n",
    "\n",
    "corrs = corrwith(previous_application_agg.drop([\"SK_ID_CURR\", \"TARGET\"], axis=1), previous_application_agg[\"TARGET\"])\n",
    "corrs"
   ]
  },
  {
   "cell_type": "markdown",
   "metadata": {},
   "source": [
    "## Aggregate categorical columns"
   ]
  },
  {
   "cell_type": "code",
   "execution_count": 53,
   "metadata": {},
   "outputs": [
    {
     "name": "stdout",
     "output_type": "stream",
     "text": [
      "NAME_CONTRACT_TYPE 4\n",
      "WEEKDAY_APPR_PROCESS_START 7\n",
      "FLAG_LAST_APPL_PER_CONTRACT 2\n",
      "NFLAG_LAST_APPL_IN_DAY 2\n",
      "NAME_CASH_LOAN_PURPOSE 25\n",
      "NAME_CONTRACT_STATUS 4\n",
      "NAME_PAYMENT_TYPE 4\n",
      "CODE_REJECT_REASON 9\n",
      "NAME_TYPE_SUITE 7\n",
      "NAME_CLIENT_TYPE 4\n",
      "NAME_GOODS_CATEGORY 28\n",
      "NAME_PORTFOLIO 5\n",
      "NAME_PRODUCT_TYPE 3\n",
      "CHANNEL_TYPE 8\n",
      "NAME_SELLER_INDUSTRY 11\n",
      "NAME_YIELD_GROUP 5\n",
      "PRODUCT_COMBINATION 17\n",
      "cat_cols_1 ['NAME_CONTRACT_TYPE', 'FLAG_LAST_APPL_PER_CONTRACT', 'NFLAG_LAST_APPL_IN_DAY', 'NAME_CONTRACT_STATUS', 'NAME_PAYMENT_TYPE', 'NAME_CLIENT_TYPE', 'NAME_PORTFOLIO', 'NAME_PRODUCT_TYPE', 'NAME_YIELD_GROUP']\n",
      "cat_cols_2 ['WEEKDAY_APPR_PROCESS_START', 'NAME_CASH_LOAN_PURPOSE', 'CODE_REJECT_REASON', 'NAME_TYPE_SUITE', 'NAME_GOODS_CATEGORY', 'CHANNEL_TYPE', 'NAME_SELLER_INDUSTRY', 'PRODUCT_COMBINATION']\n"
     ]
    }
   ],
   "source": [
    "cat_cols = previous_application.select_dtypes([\"category\", \"object\", \"bool\"]).columns\n",
    "for col in cat_cols:\n",
    "    print(col, previous_application[col].nunique())\n",
    "\n",
    "cat_cols_1 = [col for col in cat_cols if previous_application[col].nunique() <= 5]\n",
    "cat_cols_2 = [col for col in cat_cols if previous_application[col].nunique() > 5]\n",
    "\n",
    "print(\"cat_cols_1\", cat_cols_1)\n",
    "print(\"cat_cols_2\", cat_cols_2)"
   ]
  },
  {
   "cell_type": "code",
   "execution_count": 54,
   "metadata": {},
   "outputs": [
    {
     "name": "stdout",
     "output_type": "stream",
     "text": [
      "Drop 1 collinear columns\n",
      "previous_application_agg shape: (338857, 64)\n"
     ]
    },
    {
     "data": {
      "text/plain": [
       "feature\n",
       "NAME_CONTRACT_STATUS_Refused_mean                                   0.077671\n",
       "NAME_CONTRACT_STATUS_Refused_sum                                    0.064469\n",
       "NAME_CONTRACT_STATUS_Approved_mean                                 -0.063521\n",
       "NAME_PRODUCT_TYPE_walk-in_sum                                       0.062628\n",
       "NAME_PRODUCT_TYPE_walk-in_mean                                      0.057412\n",
       "NAME_CLIENT_TYPE_New_sum                                            0.046048\n",
       "NAME_CONTRACT_TYPE_Revolving loans_sum                              0.045602\n",
       "NAME_YIELD_GROUP_XNA_mean                                           0.042848\n",
       "NAME_YIELD_GROUP_XNA_sum                                            0.041713\n",
       "NAME_PORTFOLIO_Cards_sum                                            0.041480\n",
       "NAME_YIELD_GROUP_low_normal_mean                                   -0.041134\n",
       "NAME_PAYMENT_TYPE_XNA_sum                                           0.039469\n",
       "NAME_CONTRACT_TYPE_Revolving loans_mean                             0.038723\n",
       "NAME_YIELD_GROUP_high_mean                                          0.037568\n",
       "NAME_YIELD_GROUP_high_sum                                           0.036931\n",
       "NAME_PAYMENT_TYPE_XNA_mean                                          0.034946\n",
       "NAME_PAYMENT_TYPE_Cash through the bank_mean                       -0.034669\n",
       "NAME_PORTFOLIO_POS_mean                                            -0.034344\n",
       "NAME_CONTRACT_TYPE_Consumer loans_mean                             -0.032624\n",
       "NAME_PORTFOLIO_XNA_sum                                              0.032270\n",
       "NAME_PORTFOLIO_Cards_mean                                           0.031726\n",
       "NAME_CONTRACT_STATUS_Approved_sum                                  -0.031553\n",
       "NAME_PORTFOLIO_XNA_mean                                             0.029432\n",
       "NAME_YIELD_GROUP_low_action_mean                                   -0.029340\n",
       "NAME_YIELD_GROUP_low_normal_sum                                    -0.028017\n",
       "NAME_CLIENT_TYPE_Refreshed_mean                                    -0.026820\n",
       "NAME_YIELD_GROUP_low_action_sum                                    -0.025025\n",
       "NAME_PORTFOLIO_POS_sum                                             -0.024506\n",
       "NAME_CONTRACT_TYPE_Cash loans_sum                                   0.022676\n",
       "NAME_CLIENT_TYPE_New_mean                                           0.021299\n",
       "                                                                      ...   \n",
       "FLAG_LAST_APPL_PER_CONTRACT_Y_sum                                   0.019333\n",
       "NAME_CONTRACT_STATUS_Canceled_sum                                   0.019031\n",
       "NAME_PRODUCT_TYPE_x-sell_mean                                      -0.018258\n",
       "NAME_CLIENT_TYPE_Repeater_sum                                       0.016274\n",
       "NAME_YIELD_GROUP_middle_mean                                       -0.016003\n",
       "NAME_PORTFOLIO_Cash_sum                                             0.015628\n",
       "NAME_CONTRACT_TYPE_Cash loans_mean                                  0.015006\n",
       "NAME_CLIENT_TYPE_Refreshed_sum                                     -0.014140\n",
       "NAME_CONTRACT_TYPE_XNA_sum                                          0.013010\n",
       "NAME_CONTRACT_STATUS_Canceled_mean                                  0.012201\n",
       "FLAG_LAST_APPL_PER_CONTRACT_N_sum                                   0.010220\n",
       "NAME_CONTRACT_TYPE_XNA_mean                                         0.008607\n",
       "FLAG_LAST_APPL_PER_CONTRACT_N_mean                                  0.008505\n",
       "NAME_PRODUCT_TYPE_XNA_sum                                           0.007036\n",
       "NAME_PORTFOLIO_Cash_mean                                            0.006103\n",
       "NAME_CLIENT_TYPE_Repeater_mean                                     -0.004620\n",
       "NAME_YIELD_GROUP_middle_sum                                        -0.004393\n",
       "NAME_PAYMENT_TYPE_Cash through the bank_sum                        -0.004380\n",
       "NFLAG_LAST_APPL_IN_DAY_mean                                        -0.003691\n",
       "NAME_CLIENT_TYPE_XNA_sum                                            0.003192\n",
       "NAME_PORTFOLIO_Cars_sum                                            -0.002830\n",
       "NAME_PORTFOLIO_Cars_mean                                           -0.002767\n",
       "NAME_PRODUCT_TYPE_x-sell_sum                                       -0.002541\n",
       "NAME_CLIENT_TYPE_XNA_mean                                           0.001688\n",
       "NAME_CONTRACT_STATUS_Unused offer_mean                              0.000923\n",
       "NAME_CONTRACT_STATUS_Unused offer_sum                               0.000517\n",
       "NAME_PAYMENT_TYPE_Non-cash from your account_mean                   0.000254\n",
       "NAME_PAYMENT_TYPE_Cashless from the account of the employer_sum    -0.000191\n",
       "NAME_PAYMENT_TYPE_Non-cash from your account_sum                    0.000083\n",
       "NAME_PAYMENT_TYPE_Cashless from the account of the employer_mean    0.000058\n",
       "Name: corr, Length: 63, dtype: float64"
      ]
     },
     "execution_count": 54,
     "metadata": {},
     "output_type": "execute_result"
    }
   ],
   "source": [
    "# only categorical columns having nunique less than or equal to 5\n",
    "# agg by sum and mean\n",
    "previous_application_agg = aggregate(previous_application.drop(cat_cols_2, axis=1), \n",
    "                                     by=[\"SK_ID_CURR\"], dtype=\"cat\", cat_stats=(\"sum\", \"mean\"))\n",
    "\n",
    "\n",
    "print(\"previous_application_agg shape:\", previous_application_agg.shape)\n",
    "\n",
    "previous_application_agg = application_train[[\"SK_ID_CURR\", \"TARGET\"]].merge(previous_application_agg, \n",
    "                                                                       how=\"left\", on=\"SK_ID_CURR\")\n",
    "\n",
    "corrs = corrwith(previous_application_agg.drop([\"SK_ID_CURR\", \"TARGET\"], axis=1), previous_application_agg[\"TARGET\"])\n",
    "corrs"
   ]
  },
  {
   "cell_type": "code",
   "execution_count": 55,
   "metadata": {},
   "outputs": [
    {
     "name": "stdout",
     "output_type": "stream",
     "text": [
      "Drop 0 collinear columns\n",
      "previous_application_agg shape: (338857, 10)\n"
     ]
    },
    {
     "data": {
      "text/plain": [
       "feature\n",
       "NAME_CONTRACT_STATUS_nunique           0.041087\n",
       "NAME_PRODUCT_TYPE_nunique              0.028378\n",
       "NAME_PORTFOLIO_nunique                 0.026665\n",
       "NAME_CONTRACT_TYPE_nunique             0.024550\n",
       "NAME_PAYMENT_TYPE_nunique              0.014845\n",
       "NAME_YIELD_GROUP_nunique              -0.007635\n",
       "FLAG_LAST_APPL_PER_CONTRACT_nunique    0.006982\n",
       "NFLAG_LAST_APPL_IN_DAY_nunique         0.004685\n",
       "NAME_CLIENT_TYPE_nunique               0.001022\n",
       "Name: corr, dtype: float64"
      ]
     },
     "execution_count": 55,
     "metadata": {},
     "output_type": "execute_result"
    }
   ],
   "source": [
    "# only categorical columns having nunique less than or equal to 5\n",
    "# agg by nunique\n",
    "previous_application_agg = aggregate(previous_application.drop(cat_cols_2, axis=1), \n",
    "                                     by=[\"SK_ID_CURR\"], dtype=\"cat\", cat_stats=(\"nunique\",), onehot_encode=False)\n",
    "\n",
    "print(\"previous_application_agg shape:\", previous_application_agg.shape)\n",
    "\n",
    "previous_application_agg = application_train[[\"SK_ID_CURR\", \"TARGET\"]].merge(previous_application_agg, \n",
    "                                                                       how=\"left\", on=\"SK_ID_CURR\")\n",
    "\n",
    "corrs = corrwith(previous_application_agg.drop([\"SK_ID_CURR\", \"TARGET\"], axis=1), previous_application_agg[\"TARGET\"])\n",
    "corrs"
   ]
  },
  {
   "cell_type": "code",
   "execution_count": 56,
   "metadata": {},
   "outputs": [
    {
     "name": "stdout",
     "output_type": "stream",
     "text": [
      "Drop 2 collinear columns\n",
      "previous_application_agg shape: (338857, 223)\n"
     ]
    },
    {
     "data": {
      "text/plain": [
       "feature\n",
       "CODE_REJECT_REASON_XAP_mean                            -0.073930\n",
       "CODE_REJECT_REASON_SCOFR_sum                            0.056284\n",
       "CODE_REJECT_REASON_SCOFR_mean                           0.055865\n",
       "CODE_REJECT_REASON_HC_mean                              0.054531\n",
       "PRODUCT_COMBINATION_Card Street_sum                     0.047953\n",
       "CODE_REJECT_REASON_HC_sum                               0.047067\n",
       "CODE_REJECT_REASON_LIMIT_sum                            0.040503\n",
       "PRODUCT_COMBINATION_Card Street_mean                    0.040242\n",
       "CODE_REJECT_REASON_LIMIT_mean                           0.039842\n",
       "PRODUCT_COMBINATION_Cash X-Sell: low_mean              -0.037494\n",
       "PRODUCT_COMBINATION_Cash X-Sell: high_sum               0.036291\n",
       "CHANNEL_TYPE_AP+ (Cash loan)_mean                       0.034828\n",
       "CHANNEL_TYPE_AP+ (Cash loan)_sum                        0.034715\n",
       "PRODUCT_COMBINATION_POS industry with interest_mean    -0.033942\n",
       "NAME_GOODS_CATEGORY_XNA_sum                             0.032688\n",
       "NAME_GOODS_CATEGORY_XNA_mean                            0.032131\n",
       "PRODUCT_COMBINATION_Cash Street: high_sum               0.031762\n",
       "NAME_CASH_LOAN_PURPOSE_Repairs_sum                      0.031490\n",
       "PRODUCT_COMBINATION_POS industry with interest_sum     -0.030827\n",
       "NAME_GOODS_CATEGORY_Furniture_mean                     -0.030174\n",
       "PRODUCT_COMBINATION_Cash X-Sell: high_mean              0.030153\n",
       "PRODUCT_COMBINATION_Cash Street: high_mean              0.030138\n",
       "NAME_SELLER_INDUSTRY_XNA_sum                            0.029674\n",
       "NAME_CASH_LOAN_PURPOSE_Urgent needs_sum                 0.029354\n",
       "NAME_GOODS_CATEGORY_Furniture_sum                      -0.028924\n",
       "NAME_SELLER_INDUSTRY_Furniture_mean                    -0.028632\n",
       "NAME_SELLER_INDUSTRY_Connectivity_mean                  0.028463\n",
       "PRODUCT_COMBINATION_Cash Street: middle_sum             0.027401\n",
       "NAME_SELLER_INDUSTRY_Furniture_sum                     -0.025708\n",
       "NAME_SELLER_INDUSTRY_XNA_mean                           0.024807\n",
       "                                                          ...   \n",
       "CHANNEL_TYPE_Country-wide_mean                         -0.001423\n",
       "NAME_CASH_LOAN_PURPOSE_Buying a new car_mean            0.001354\n",
       "NAME_CASH_LOAN_PURPOSE_Business development_mean        0.001349\n",
       "NAME_CASH_LOAN_PURPOSE_Furniture_mean                   0.001269\n",
       "NAME_GOODS_CATEGORY_Direct Sales_mean                   0.001261\n",
       "NAME_CASH_LOAN_PURPOSE_Refusal to name the goal_mean    0.001187\n",
       "NAME_GOODS_CATEGORY_Additional Service_sum             -0.001140\n",
       "NAME_TYPE_SUITE_Group of people_mean                    0.001086\n",
       "NAME_CASH_LOAN_PURPOSE_Buying a garage_sum             -0.001053\n",
       "NAME_CASH_LOAN_PURPOSE_Buying a new car_sum             0.001052\n",
       "CODE_REJECT_REASON_CLIENT_mean                          0.000923\n",
       "NAME_GOODS_CATEGORY_Insurance_sum                       0.000921\n",
       "NAME_GOODS_CATEGORY_Weapon_mean                        -0.000918\n",
       "NAME_CASH_LOAN_PURPOSE_Buying a home_mean               0.000777\n",
       "NAME_GOODS_CATEGORY_Sport and Leisure_mean             -0.000717\n",
       "NAME_CASH_LOAN_PURPOSE_Buying a garage_mean             0.000680\n",
       "CODE_REJECT_REASON_VERIF_mean                           0.000680\n",
       "CODE_REJECT_REASON_SYSTEM_mean                         -0.000673\n",
       "NAME_GOODS_CATEGORY_Animals_sum                        -0.000554\n",
       "CODE_REJECT_REASON_CLIENT_sum                           0.000517\n",
       "PRODUCT_COMBINATION_POS other with interest_sum        -0.000468\n",
       "NAME_TYPE_SUITE_Spouse, partner_sum                     0.000408\n",
       "NAME_CASH_LOAN_PURPOSE_XNA_mean                        -0.000358\n",
       "WEEKDAY_APPR_PROCESS_START_TUESDAY_mean                 0.000334\n",
       "NAME_GOODS_CATEGORY_Weapon_sum                         -0.000241\n",
       "NAME_GOODS_CATEGORY_Office Appliances_mean             -0.000236\n",
       "NAME_GOODS_CATEGORY_Office Appliances_sum               0.000191\n",
       "NAME_CASH_LOAN_PURPOSE_Money for a third person_mean    0.000121\n",
       "NAME_GOODS_CATEGORY_Direct Sales_sum                   -0.000011\n",
       "NAME_GOODS_CATEGORY_House Construction_sum                   NaN\n",
       "Name: corr, Length: 222, dtype: float64"
      ]
     },
     "execution_count": 56,
     "metadata": {},
     "output_type": "execute_result"
    }
   ],
   "source": [
    "# only categorical columns having nunique less than or equal to 5\n",
    "# agg by sum and mean\n",
    "previous_application_agg = aggregate(previous_application.drop(cat_cols_1, axis=1), \n",
    "                                     by=[\"SK_ID_CURR\"], dtype=\"cat\", cat_stats=(\"sum\", \"mean\"))\n",
    "\n",
    "\n",
    "print(\"previous_application_agg shape:\", previous_application_agg.shape)\n",
    "\n",
    "previous_application_agg = application_train[[\"SK_ID_CURR\", \"TARGET\"]].merge(previous_application_agg, \n",
    "                                                                       how=\"left\", on=\"SK_ID_CURR\")\n",
    "\n",
    "corrs = corrwith(previous_application_agg.drop([\"SK_ID_CURR\", \"TARGET\"], axis=1), previous_application_agg[\"TARGET\"])\n",
    "corrs"
   ]
  },
  {
   "cell_type": "code",
   "execution_count": 57,
   "metadata": {},
   "outputs": [
    {
     "name": "stdout",
     "output_type": "stream",
     "text": [
      "Drop 0 collinear columns\n",
      "previous_application_agg shape: (338857, 9)\n"
     ]
    },
    {
     "data": {
      "text/plain": [
       "feature\n",
       "CODE_REJECT_REASON_nunique            0.063640\n",
       "NAME_CASH_LOAN_PURPOSE_nunique        0.036255\n",
       "NAME_GOODS_CATEGORY_nunique          -0.022185\n",
       "NAME_TYPE_SUITE_nunique              -0.022025\n",
       "NAME_SELLER_INDUSTRY_nunique         -0.014802\n",
       "PRODUCT_COMBINATION_nunique           0.008857\n",
       "CHANNEL_TYPE_nunique                  0.001700\n",
       "WEEKDAY_APPR_PROCESS_START_nunique    0.001208\n",
       "Name: corr, dtype: float64"
      ]
     },
     "execution_count": 57,
     "metadata": {},
     "output_type": "execute_result"
    }
   ],
   "source": [
    "# only categorical columns having nunique less than or equal to 5\n",
    "# agg by nunique\n",
    "previous_application_agg = aggregate(previous_application.drop(cat_cols_1, axis=1), \n",
    "                                     by=[\"SK_ID_CURR\"], dtype=\"cat\", cat_stats=(\"nunique\",), onehot_encode=False)\n",
    "\n",
    "print(\"previous_application_agg shape:\", previous_application_agg.shape)\n",
    "\n",
    "previous_application_agg = application_train[[\"SK_ID_CURR\", \"TARGET\"]].merge(previous_application_agg, \n",
    "                                                                       how=\"left\", on=\"SK_ID_CURR\")\n",
    "\n",
    "corrs = corrwith(previous_application_agg.drop([\"SK_ID_CURR\", \"TARGET\"], axis=1), previous_application_agg[\"TARGET\"])\n",
    "corrs"
   ]
  },
  {
   "cell_type": "markdown",
   "metadata": {},
   "source": [
    "We will similarly aggregate `POS_CASH_balance`, `credit_card_balance` and `installments_payments` tables."
   ]
  }
 ],
 "metadata": {
  "kernelspec": {
   "display_name": "Python 3",
   "language": "python",
   "name": "python3"
  },
  "language_info": {
   "codemirror_mode": {
    "name": "ipython",
    "version": 3
   },
   "file_extension": ".py",
   "mimetype": "text/x-python",
   "name": "python",
   "nbconvert_exporter": "python",
   "pygments_lexer": "ipython3",
   "version": "3.7.3"
  }
 },
 "nbformat": 4,
 "nbformat_minor": 2
}
