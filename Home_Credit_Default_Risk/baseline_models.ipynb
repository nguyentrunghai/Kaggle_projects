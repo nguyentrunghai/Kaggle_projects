{
 "cells": [
  {
   "cell_type": "markdown",
   "metadata": {},
   "source": [
    "In this notebook we will train `Logistic`, `RandomForest` and `XGBoost` models. Becuase we just want to establish a baseline for the AUC metric, we only use the minimal dataset in `application_train.csv` and `application_test.csv` and do not tune the models' hyperparamters."
   ]
  },
  {
   "cell_type": "code",
   "execution_count": 3,
   "metadata": {},
   "outputs": [],
   "source": [
    "import os\n",
    "import pandas as pd\n",
    "\n",
    "INP_DIR = \"data/data_/\""
   ]
  },
  {
   "cell_type": "markdown",
   "metadata": {},
   "source": [
    "## Load data"
   ]
  },
  {
   "cell_type": "code",
   "execution_count": 4,
   "metadata": {},
   "outputs": [
    {
     "name": "stdout",
     "output_type": "stream",
     "text": [
      "X_train_0 shape: (307511, 120)\n",
      "y_train shape: (307511, 1)\n",
      "X_test_0 shape: (48744, 120)\n",
      "id_test shape: (48744, 1)\n"
     ]
    }
   ],
   "source": [
    "X_train_0 = pd.read_csv(os.path.join(INP_DIR, \"X_train_0.csv\"))\n",
    "y_train = pd.read_csv(os.path.join(INP_DIR, \"y_train.csv\"))\n",
    "\n",
    "X_test_0 = pd.read_csv(os.path.join(INP_DIR, \"X_test_0.csv\"))\n",
    "id_test = pd.read_csv(os.path.join(INP_DIR, \"id_test.csv\"))\n",
    "\n",
    "print(\"X_train_0 shape:\", X_train_0.shape)\n",
    "print(\"y_train shape:\", y_train.shape)\n",
    "print(\"X_test_0 shape:\", X_test_0.shape)\n",
    "print(\"id_test shape:\", id_test.shape)"
   ]
  }
 ],
 "metadata": {
  "kernelspec": {
   "display_name": "Python 3",
   "language": "python",
   "name": "python3"
  },
  "language_info": {
   "codemirror_mode": {
    "name": "ipython",
    "version": 3
   },
   "file_extension": ".py",
   "mimetype": "text/x-python",
   "name": "python",
   "nbconvert_exporter": "python",
   "pygments_lexer": "ipython3",
   "version": "3.7.3"
  }
 },
 "nbformat": 4,
 "nbformat_minor": 2
}
