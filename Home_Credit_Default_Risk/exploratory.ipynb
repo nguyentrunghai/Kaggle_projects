{
 "cells": [
  {
   "cell_type": "code",
   "execution_count": 1,
   "metadata": {},
   "outputs": [],
   "source": [
    "%load_ext autoreload\n",
    "%autoreload 2\n",
    "\n",
    "import warnings\n",
    "warnings.filterwarnings('ignore')\n",
    "\n",
    "from IPython.display import display, HTML\n",
    "\n",
    "import pandas as pd\n",
    "import numpy as np\n",
    "\n",
    "import matplotlib.pyplot as plt\n",
    "import seaborn as sns\n",
    "sns.set()\n",
    "\n",
    "from _preprocessing import change_dtypes\n",
    "from _preprocessing import aggregate\n",
    "from _stats import f_ratio\n",
    "from _stats import corrwith"
   ]
  },
  {
   "cell_type": "markdown",
   "metadata": {},
   "source": [
    "# 1. `application`"
   ]
  },
  {
   "cell_type": "code",
   "execution_count": 2,
   "metadata": {},
   "outputs": [
    {
     "name": "stdout",
     "output_type": "stream",
     "text": [
      "Memory usage before changing types 300.13 MB\n",
      "Memory usage after changing types 129.78 MB\n",
      "application_train.shape: (307511, 122)\n"
     ]
    },
    {
     "data": {
      "text/html": [
       "<div>\n",
       "<style scoped>\n",
       "    .dataframe tbody tr th:only-of-type {\n",
       "        vertical-align: middle;\n",
       "    }\n",
       "\n",
       "    .dataframe tbody tr th {\n",
       "        vertical-align: top;\n",
       "    }\n",
       "\n",
       "    .dataframe thead th {\n",
       "        text-align: right;\n",
       "    }\n",
       "</style>\n",
       "<table border=\"1\" class=\"dataframe\">\n",
       "  <thead>\n",
       "    <tr style=\"text-align: right;\">\n",
       "      <th></th>\n",
       "      <th>SK_ID_CURR</th>\n",
       "      <th>TARGET</th>\n",
       "      <th>NAME_CONTRACT_TYPE</th>\n",
       "      <th>CODE_GENDER</th>\n",
       "      <th>FLAG_OWN_CAR</th>\n",
       "      <th>FLAG_OWN_REALTY</th>\n",
       "      <th>CNT_CHILDREN</th>\n",
       "      <th>AMT_INCOME_TOTAL</th>\n",
       "      <th>AMT_CREDIT</th>\n",
       "      <th>AMT_ANNUITY</th>\n",
       "      <th>...</th>\n",
       "      <th>FLAG_DOCUMENT_18</th>\n",
       "      <th>FLAG_DOCUMENT_19</th>\n",
       "      <th>FLAG_DOCUMENT_20</th>\n",
       "      <th>FLAG_DOCUMENT_21</th>\n",
       "      <th>AMT_REQ_CREDIT_BUREAU_HOUR</th>\n",
       "      <th>AMT_REQ_CREDIT_BUREAU_DAY</th>\n",
       "      <th>AMT_REQ_CREDIT_BUREAU_WEEK</th>\n",
       "      <th>AMT_REQ_CREDIT_BUREAU_MON</th>\n",
       "      <th>AMT_REQ_CREDIT_BUREAU_QRT</th>\n",
       "      <th>AMT_REQ_CREDIT_BUREAU_YEAR</th>\n",
       "    </tr>\n",
       "  </thead>\n",
       "  <tbody>\n",
       "    <tr>\n",
       "      <th>0</th>\n",
       "      <td>100002</td>\n",
       "      <td>True</td>\n",
       "      <td>Cash loans</td>\n",
       "      <td>M</td>\n",
       "      <td>N</td>\n",
       "      <td>Y</td>\n",
       "      <td>0</td>\n",
       "      <td>202500.0</td>\n",
       "      <td>406597.5</td>\n",
       "      <td>24700.5</td>\n",
       "      <td>...</td>\n",
       "      <td>0</td>\n",
       "      <td>0</td>\n",
       "      <td>0</td>\n",
       "      <td>0</td>\n",
       "      <td>0.0</td>\n",
       "      <td>0.0</td>\n",
       "      <td>0.0</td>\n",
       "      <td>0.0</td>\n",
       "      <td>0.0</td>\n",
       "      <td>1.0</td>\n",
       "    </tr>\n",
       "    <tr>\n",
       "      <th>1</th>\n",
       "      <td>100003</td>\n",
       "      <td>False</td>\n",
       "      <td>Cash loans</td>\n",
       "      <td>F</td>\n",
       "      <td>N</td>\n",
       "      <td>N</td>\n",
       "      <td>0</td>\n",
       "      <td>270000.0</td>\n",
       "      <td>1293502.5</td>\n",
       "      <td>35698.5</td>\n",
       "      <td>...</td>\n",
       "      <td>0</td>\n",
       "      <td>0</td>\n",
       "      <td>0</td>\n",
       "      <td>0</td>\n",
       "      <td>0.0</td>\n",
       "      <td>0.0</td>\n",
       "      <td>0.0</td>\n",
       "      <td>0.0</td>\n",
       "      <td>0.0</td>\n",
       "      <td>0.0</td>\n",
       "    </tr>\n",
       "    <tr>\n",
       "      <th>2</th>\n",
       "      <td>100004</td>\n",
       "      <td>False</td>\n",
       "      <td>Revolving loans</td>\n",
       "      <td>M</td>\n",
       "      <td>Y</td>\n",
       "      <td>Y</td>\n",
       "      <td>0</td>\n",
       "      <td>67500.0</td>\n",
       "      <td>135000.0</td>\n",
       "      <td>6750.0</td>\n",
       "      <td>...</td>\n",
       "      <td>0</td>\n",
       "      <td>0</td>\n",
       "      <td>0</td>\n",
       "      <td>0</td>\n",
       "      <td>0.0</td>\n",
       "      <td>0.0</td>\n",
       "      <td>0.0</td>\n",
       "      <td>0.0</td>\n",
       "      <td>0.0</td>\n",
       "      <td>0.0</td>\n",
       "    </tr>\n",
       "    <tr>\n",
       "      <th>3</th>\n",
       "      <td>100006</td>\n",
       "      <td>False</td>\n",
       "      <td>Cash loans</td>\n",
       "      <td>F</td>\n",
       "      <td>N</td>\n",
       "      <td>Y</td>\n",
       "      <td>0</td>\n",
       "      <td>135000.0</td>\n",
       "      <td>312682.5</td>\n",
       "      <td>29686.5</td>\n",
       "      <td>...</td>\n",
       "      <td>0</td>\n",
       "      <td>0</td>\n",
       "      <td>0</td>\n",
       "      <td>0</td>\n",
       "      <td>NaN</td>\n",
       "      <td>NaN</td>\n",
       "      <td>NaN</td>\n",
       "      <td>NaN</td>\n",
       "      <td>NaN</td>\n",
       "      <td>NaN</td>\n",
       "    </tr>\n",
       "    <tr>\n",
       "      <th>4</th>\n",
       "      <td>100007</td>\n",
       "      <td>False</td>\n",
       "      <td>Cash loans</td>\n",
       "      <td>M</td>\n",
       "      <td>N</td>\n",
       "      <td>Y</td>\n",
       "      <td>0</td>\n",
       "      <td>121500.0</td>\n",
       "      <td>513000.0</td>\n",
       "      <td>21865.5</td>\n",
       "      <td>...</td>\n",
       "      <td>0</td>\n",
       "      <td>0</td>\n",
       "      <td>0</td>\n",
       "      <td>0</td>\n",
       "      <td>0.0</td>\n",
       "      <td>0.0</td>\n",
       "      <td>0.0</td>\n",
       "      <td>0.0</td>\n",
       "      <td>0.0</td>\n",
       "      <td>0.0</td>\n",
       "    </tr>\n",
       "  </tbody>\n",
       "</table>\n",
       "<p>5 rows × 122 columns</p>\n",
       "</div>"
      ],
      "text/plain": [
       "   SK_ID_CURR  TARGET NAME_CONTRACT_TYPE CODE_GENDER FLAG_OWN_CAR  \\\n",
       "0      100002    True         Cash loans           M            N   \n",
       "1      100003   False         Cash loans           F            N   \n",
       "2      100004   False    Revolving loans           M            Y   \n",
       "3      100006   False         Cash loans           F            N   \n",
       "4      100007   False         Cash loans           M            N   \n",
       "\n",
       "  FLAG_OWN_REALTY  CNT_CHILDREN  AMT_INCOME_TOTAL  AMT_CREDIT  AMT_ANNUITY  \\\n",
       "0               Y             0          202500.0    406597.5      24700.5   \n",
       "1               N             0          270000.0   1293502.5      35698.5   \n",
       "2               Y             0           67500.0    135000.0       6750.0   \n",
       "3               Y             0          135000.0    312682.5      29686.5   \n",
       "4               Y             0          121500.0    513000.0      21865.5   \n",
       "\n",
       "   ...  FLAG_DOCUMENT_18 FLAG_DOCUMENT_19 FLAG_DOCUMENT_20 FLAG_DOCUMENT_21  \\\n",
       "0  ...                 0                0                0                0   \n",
       "1  ...                 0                0                0                0   \n",
       "2  ...                 0                0                0                0   \n",
       "3  ...                 0                0                0                0   \n",
       "4  ...                 0                0                0                0   \n",
       "\n",
       "  AMT_REQ_CREDIT_BUREAU_HOUR AMT_REQ_CREDIT_BUREAU_DAY  \\\n",
       "0                        0.0                       0.0   \n",
       "1                        0.0                       0.0   \n",
       "2                        0.0                       0.0   \n",
       "3                        NaN                       NaN   \n",
       "4                        0.0                       0.0   \n",
       "\n",
       "   AMT_REQ_CREDIT_BUREAU_WEEK  AMT_REQ_CREDIT_BUREAU_MON  \\\n",
       "0                         0.0                        0.0   \n",
       "1                         0.0                        0.0   \n",
       "2                         0.0                        0.0   \n",
       "3                         NaN                        NaN   \n",
       "4                         0.0                        0.0   \n",
       "\n",
       "   AMT_REQ_CREDIT_BUREAU_QRT  AMT_REQ_CREDIT_BUREAU_YEAR  \n",
       "0                        0.0                         1.0  \n",
       "1                        0.0                         0.0  \n",
       "2                        0.0                         0.0  \n",
       "3                        NaN                         NaN  \n",
       "4                        0.0                         0.0  \n",
       "\n",
       "[5 rows x 122 columns]"
      ]
     },
     "execution_count": 2,
     "metadata": {},
     "output_type": "execute_result"
    }
   ],
   "source": [
    "application_train = pd.read_csv(\"data/download/application_train.csv\")\n",
    "application_train = change_dtypes(application_train)\n",
    "\n",
    "print(\"application_train.shape:\", application_train.shape)\n",
    "application_train.head()"
   ]
  },
  {
   "cell_type": "markdown",
   "metadata": {},
   "source": [
    "## Missing values"
   ]
  },
  {
   "cell_type": "code",
   "execution_count": null,
   "metadata": {},
   "outputs": [],
   "source": [
    "missing_vals = application_train.isnull().mean()\n",
    "missing_vals = missing_vals.sort_values(ascending=False)\n",
    "print(\"Total number of features:\", application_train.shape[1])\n",
    "print(\"Number of features having missing values:\", (missing_vals > 0).sum())\n",
    "\n",
    "print(\"head:\")\n",
    "display(missing_vals.head(20))\n",
    "print(\"tail\")\n",
    "display(missing_vals[missing_vals > 0].tail(20))"
   ]
  },
  {
   "cell_type": "markdown",
   "metadata": {},
   "source": [
    "## Categorical columns"
   ]
  },
  {
   "cell_type": "markdown",
   "metadata": {},
   "source": [
    "We group the `TARGET` by a categorical feature. `TARGET` in each group is aggregated by `mean`, `var` and `count`. The resulting `group mean`, `group variance` and `group count` are used to calculate the F-ratio which is define as the `between-group variance` divided by `within-group variance`."
   ]
  },
  {
   "cell_type": "code",
   "execution_count": null,
   "metadata": {},
   "outputs": [],
   "source": [
    "def f_ratio_df(df):\n",
    "    return f_ratio(df[\"default_rate\"], df[\"var_of_default_rate\"], df[\"count\"])"
   ]
  },
  {
   "cell_type": "code",
   "execution_count": null,
   "metadata": {},
   "outputs": [],
   "source": [
    "# columns of categorical type\n",
    "cat_cols = application_train.select_dtypes([\"category\"]).columns\n",
    "agg_stats = [(\"default_rate\", \"mean\"), (\"var_of_default_rate\", np.var), \"count\"]\n",
    "\n",
    "results = []\n",
    "for col in cat_cols:\n",
    "    df = application_train.groupby(\n",
    "        application_train[col].astype(str))[\"TARGET\"].agg(agg_stats)\n",
    "    df = df.sort_values(\"default_rate\", ascending=False)\n",
    "    results.append((col, df))\n",
    "\n",
    "# sort by the F-ratio\n",
    "results = sorted(results, key=lambda x: f_ratio_df(x[1]), reverse=True)\n",
    "for col, df in results:\n",
    "    print(\"%s, f-ratio=%0.5f\" % (col, f_ratio_df(df)))\n",
    "    display(df)\n",
    "    print(\"------------------------------------------\\n\\n\")"
   ]
  },
  {
   "cell_type": "markdown",
   "metadata": {},
   "source": [
    "**For `NAME_INCOME_TYPE` we can try to reduce number of class by grouping classes as follows**\n",
    "\n",
    "[Maternity leave, Unemployed] -> curr_not_working\n",
    "\n",
    "[Businessman, Student] -> other\n",
    "\n",
    "**For NAME_INCOME_TYPE we can group as follows**\n",
    "\n",
    "[Businessman, Student] -> Other_A\n",
    "\n",
    "[Unemployed, Maternity leave] -> Other_B"
   ]
  },
  {
   "cell_type": "markdown",
   "metadata": {},
   "source": [
    "## Binary columns"
   ]
  },
  {
   "cell_type": "code",
   "execution_count": null,
   "metadata": {},
   "outputs": [],
   "source": [
    "bool_cols = application_train.drop([\"TARGET\"], axis=1).select_dtypes([\"bool\"]).columns\n",
    "\n",
    "agg_stats = [(\"default_rate\", \"mean\"), (\"var_of_default_rate\", np.var), \"count\"]\n",
    "\n",
    "results = []\n",
    "for col in bool_cols:\n",
    "    df = application_train.groupby(\n",
    "        application_train[col].astype(str))[\"TARGET\"].agg(agg_stats)\n",
    "    df = df.sort_values(\"default_rate\", ascending=False)\n",
    "    results.append((col, df))\n",
    "\n",
    "# sort by the F-ratio of default_rate\n",
    "results = sorted(results, key=lambda x: f_ratio_df(x[1]), reverse=True)\n",
    "for col, df in results:\n",
    "    print(\"%s, f-ratio=%0.5f\" % (col, f_ratio_df(df)))\n",
    "    display(df)\n",
    "    print(\"------------------------------------------\\n\\n\")"
   ]
  },
  {
   "cell_type": "markdown",
   "metadata": {},
   "source": [
    "## Correlation of numerical features with the target"
   ]
  },
  {
   "cell_type": "code",
   "execution_count": null,
   "metadata": {},
   "outputs": [],
   "source": [
    "num_cols = application_train.drop([\"TARGET\", \"SK_ID_CURR\"] + list(cat_cols) + list(bool_cols), axis=1).columns\n",
    "\n",
    "corrs = application_train.loc[:, num_cols].corrwith(application_train[\"TARGET\"])\n",
    "corrs = corrwith(application_train.loc[:, num_cols], application_train[\"TARGET\"])\n",
    "\n",
    "corrs.head(20)"
   ]
  },
  {
   "cell_type": "code",
   "execution_count": null,
   "metadata": {},
   "outputs": [],
   "source": [
    "corrs.tail(10)"
   ]
  },
  {
   "cell_type": "markdown",
   "metadata": {},
   "source": [
    "## Histogram of numerical features"
   ]
  },
  {
   "cell_type": "code",
   "execution_count": null,
   "metadata": {},
   "outputs": [],
   "source": [
    "fig, axes = plt.subplots(nrows=25, ncols=4, figsize=(16, 120))\n",
    "plt.subplots_adjust(hspace=0.3)\n",
    "axes = axes.flatten()\n",
    "\n",
    "for i, col in enumerate(corrs.index):\n",
    "    application_train[col].plot(kind=\"hist\", ax=axes[i])\n",
    "    axes[i].set_title(col)"
   ]
  },
  {
   "cell_type": "markdown",
   "metadata": {},
   "source": [
    "Some features are very screwed and range over many orders of magnitude such as `AMT_GOODS_PRICE`, `AMT_CREDIT`, `AMT_ANNUITY`, `AMT_INCOME_TOTAL`. May consider log transforming them.\n",
    "\n",
    "`DAYS_EMPLOYED` are supposed to be negative but there is a very large positive value."
   ]
  },
  {
   "cell_type": "code",
   "execution_count": null,
   "metadata": {},
   "outputs": [],
   "source": [
    "days_emp_max = application_train[\"DAYS_EMPLOYED\"].max()\n",
    "print(\"days_emp_max:\", days_emp_max)\n",
    "\n",
    "print(\"Count of the maximun value:\", sum(application_train[\"DAYS_EMPLOYED\"] == days_emp_max))\n",
    "print(\"Count of positive values:\", sum(application_train[\"DAYS_EMPLOYED\"] > 0))\n",
    "\n",
    "default_rate_pos = application_train.loc[application_train[\"DAYS_EMPLOYED\"] == days_emp_max, \"TARGET\"].mean()\n",
    "print(\"Default rate for positive DAYS_EMPLOYED: %0.5f\" % default_rate_pos)\n",
    "\n",
    "default_rate_neg = application_train.loc[application_train[\"DAYS_EMPLOYED\"] < days_emp_max, \"TARGET\"].mean()\n",
    "print(\"Default rate for negative DAYS_EMPLOYED: %0.5f\" % default_rate_neg)\n"
   ]
  },
  {
   "cell_type": "markdown",
   "metadata": {},
   "source": [
    "The difference is quite significant. So we may consider adding a binary column which indicates whether `DAYS_EMPLOYED` is positive. Also we may change the maximum to 1."
   ]
  },
  {
   "cell_type": "markdown",
   "metadata": {},
   "source": [
    "## Some engineered features"
   ]
  },
  {
   "cell_type": "code",
   "execution_count": null,
   "metadata": {},
   "outputs": [],
   "source": [
    "cols = [\"AMT_GOODS_PRICE\", \"AMT_CREDIT\", \"AMT_ANNUITY\", \"AMT_INCOME_TOTAL\"]\n",
    "log_transformed_features = application_train[cols]\n",
    "for col in cols:\n",
    "    print(col, (log_transformed_features[col] < 0).any())\n",
    "\n",
    "for col in cols:\n",
    "    log_transformed_features[col + \"_log\"] = np.log(log_transformed_features[col] + 1)\n",
    "\n",
    "corrs = corrwith(log_transformed_features, application_train[\"TARGET\"])\n",
    "corrs"
   ]
  },
  {
   "cell_type": "markdown",
   "metadata": {},
   "source": [
    "It looks like only AMT_INCOME_TOTAL_log improves the correlation. "
   ]
  },
  {
   "cell_type": "code",
   "execution_count": null,
   "metadata": {},
   "outputs": [],
   "source": [
    "credit_to_income = application_train[\"AMT_CREDIT\"] / application_train[\"AMT_INCOME_TOTAL\"]\n",
    "credit_to_income.corr(application_train[\"TARGET\"])"
   ]
  },
  {
   "cell_type": "code",
   "execution_count": null,
   "metadata": {},
   "outputs": [],
   "source": [
    "# this may be a useful feature\n",
    "credit_to_goods = application_train[\"AMT_CREDIT\"] / application_train[\"AMT_GOODS_PRICE\"]\n",
    "credit_to_goods.corr(application_train[\"TARGET\"])"
   ]
  },
  {
   "cell_type": "markdown",
   "metadata": {},
   "source": [
    "# 2. bureau"
   ]
  },
  {
   "cell_type": "code",
   "execution_count": 3,
   "metadata": {},
   "outputs": [
    {
     "name": "stdout",
     "output_type": "stream",
     "text": [
      "Memory usage before changing types 233.43 MB\n",
      "Memory usage after changing types 101.27 MB\n",
      "bureau.shape: (1716428, 17)\n"
     ]
    },
    {
     "data": {
      "text/html": [
       "<div>\n",
       "<style scoped>\n",
       "    .dataframe tbody tr th:only-of-type {\n",
       "        vertical-align: middle;\n",
       "    }\n",
       "\n",
       "    .dataframe tbody tr th {\n",
       "        vertical-align: top;\n",
       "    }\n",
       "\n",
       "    .dataframe thead th {\n",
       "        text-align: right;\n",
       "    }\n",
       "</style>\n",
       "<table border=\"1\" class=\"dataframe\">\n",
       "  <thead>\n",
       "    <tr style=\"text-align: right;\">\n",
       "      <th></th>\n",
       "      <th>SK_ID_CURR</th>\n",
       "      <th>SK_ID_BUREAU</th>\n",
       "      <th>CREDIT_ACTIVE</th>\n",
       "      <th>CREDIT_CURRENCY</th>\n",
       "      <th>DAYS_CREDIT</th>\n",
       "      <th>CREDIT_DAY_OVERDUE</th>\n",
       "      <th>DAYS_CREDIT_ENDDATE</th>\n",
       "      <th>DAYS_ENDDATE_FACT</th>\n",
       "      <th>AMT_CREDIT_MAX_OVERDUE</th>\n",
       "      <th>CNT_CREDIT_PROLONG</th>\n",
       "      <th>AMT_CREDIT_SUM</th>\n",
       "      <th>AMT_CREDIT_SUM_DEBT</th>\n",
       "      <th>AMT_CREDIT_SUM_LIMIT</th>\n",
       "      <th>AMT_CREDIT_SUM_OVERDUE</th>\n",
       "      <th>CREDIT_TYPE</th>\n",
       "      <th>DAYS_CREDIT_UPDATE</th>\n",
       "      <th>AMT_ANNUITY</th>\n",
       "    </tr>\n",
       "  </thead>\n",
       "  <tbody>\n",
       "    <tr>\n",
       "      <th>0</th>\n",
       "      <td>215354</td>\n",
       "      <td>5714462</td>\n",
       "      <td>Closed</td>\n",
       "      <td>currency 1</td>\n",
       "      <td>-497</td>\n",
       "      <td>0</td>\n",
       "      <td>-153.0</td>\n",
       "      <td>-153.0</td>\n",
       "      <td>NaN</td>\n",
       "      <td>0</td>\n",
       "      <td>91323.0</td>\n",
       "      <td>0.0</td>\n",
       "      <td>NaN</td>\n",
       "      <td>0.0</td>\n",
       "      <td>Consumer credit</td>\n",
       "      <td>-131</td>\n",
       "      <td>NaN</td>\n",
       "    </tr>\n",
       "    <tr>\n",
       "      <th>1</th>\n",
       "      <td>215354</td>\n",
       "      <td>5714463</td>\n",
       "      <td>Active</td>\n",
       "      <td>currency 1</td>\n",
       "      <td>-208</td>\n",
       "      <td>0</td>\n",
       "      <td>1075.0</td>\n",
       "      <td>NaN</td>\n",
       "      <td>NaN</td>\n",
       "      <td>0</td>\n",
       "      <td>225000.0</td>\n",
       "      <td>171342.0</td>\n",
       "      <td>NaN</td>\n",
       "      <td>0.0</td>\n",
       "      <td>Credit card</td>\n",
       "      <td>-20</td>\n",
       "      <td>NaN</td>\n",
       "    </tr>\n",
       "    <tr>\n",
       "      <th>2</th>\n",
       "      <td>215354</td>\n",
       "      <td>5714464</td>\n",
       "      <td>Active</td>\n",
       "      <td>currency 1</td>\n",
       "      <td>-203</td>\n",
       "      <td>0</td>\n",
       "      <td>528.0</td>\n",
       "      <td>NaN</td>\n",
       "      <td>NaN</td>\n",
       "      <td>0</td>\n",
       "      <td>464323.5</td>\n",
       "      <td>NaN</td>\n",
       "      <td>NaN</td>\n",
       "      <td>0.0</td>\n",
       "      <td>Consumer credit</td>\n",
       "      <td>-16</td>\n",
       "      <td>NaN</td>\n",
       "    </tr>\n",
       "    <tr>\n",
       "      <th>3</th>\n",
       "      <td>215354</td>\n",
       "      <td>5714465</td>\n",
       "      <td>Active</td>\n",
       "      <td>currency 1</td>\n",
       "      <td>-203</td>\n",
       "      <td>0</td>\n",
       "      <td>NaN</td>\n",
       "      <td>NaN</td>\n",
       "      <td>NaN</td>\n",
       "      <td>0</td>\n",
       "      <td>90000.0</td>\n",
       "      <td>NaN</td>\n",
       "      <td>NaN</td>\n",
       "      <td>0.0</td>\n",
       "      <td>Credit card</td>\n",
       "      <td>-16</td>\n",
       "      <td>NaN</td>\n",
       "    </tr>\n",
       "    <tr>\n",
       "      <th>4</th>\n",
       "      <td>215354</td>\n",
       "      <td>5714466</td>\n",
       "      <td>Active</td>\n",
       "      <td>currency 1</td>\n",
       "      <td>-629</td>\n",
       "      <td>0</td>\n",
       "      <td>1197.0</td>\n",
       "      <td>NaN</td>\n",
       "      <td>77674.5</td>\n",
       "      <td>0</td>\n",
       "      <td>2700000.0</td>\n",
       "      <td>NaN</td>\n",
       "      <td>NaN</td>\n",
       "      <td>0.0</td>\n",
       "      <td>Consumer credit</td>\n",
       "      <td>-21</td>\n",
       "      <td>NaN</td>\n",
       "    </tr>\n",
       "  </tbody>\n",
       "</table>\n",
       "</div>"
      ],
      "text/plain": [
       "   SK_ID_CURR  SK_ID_BUREAU CREDIT_ACTIVE CREDIT_CURRENCY  DAYS_CREDIT  \\\n",
       "0      215354       5714462        Closed      currency 1         -497   \n",
       "1      215354       5714463        Active      currency 1         -208   \n",
       "2      215354       5714464        Active      currency 1         -203   \n",
       "3      215354       5714465        Active      currency 1         -203   \n",
       "4      215354       5714466        Active      currency 1         -629   \n",
       "\n",
       "   CREDIT_DAY_OVERDUE  DAYS_CREDIT_ENDDATE  DAYS_ENDDATE_FACT  \\\n",
       "0                   0               -153.0             -153.0   \n",
       "1                   0               1075.0                NaN   \n",
       "2                   0                528.0                NaN   \n",
       "3                   0                  NaN                NaN   \n",
       "4                   0               1197.0                NaN   \n",
       "\n",
       "   AMT_CREDIT_MAX_OVERDUE  CNT_CREDIT_PROLONG  AMT_CREDIT_SUM  \\\n",
       "0                     NaN                   0         91323.0   \n",
       "1                     NaN                   0        225000.0   \n",
       "2                     NaN                   0        464323.5   \n",
       "3                     NaN                   0         90000.0   \n",
       "4                 77674.5                   0       2700000.0   \n",
       "\n",
       "   AMT_CREDIT_SUM_DEBT  AMT_CREDIT_SUM_LIMIT  AMT_CREDIT_SUM_OVERDUE  \\\n",
       "0                  0.0                   NaN                     0.0   \n",
       "1             171342.0                   NaN                     0.0   \n",
       "2                  NaN                   NaN                     0.0   \n",
       "3                  NaN                   NaN                     0.0   \n",
       "4                  NaN                   NaN                     0.0   \n",
       "\n",
       "       CREDIT_TYPE  DAYS_CREDIT_UPDATE  AMT_ANNUITY  \n",
       "0  Consumer credit                -131          NaN  \n",
       "1      Credit card                 -20          NaN  \n",
       "2  Consumer credit                 -16          NaN  \n",
       "3      Credit card                 -16          NaN  \n",
       "4  Consumer credit                 -21          NaN  "
      ]
     },
     "execution_count": 3,
     "metadata": {},
     "output_type": "execute_result"
    }
   ],
   "source": [
    "bureau = pd.read_csv(\"data/download/bureau.csv\")\n",
    "bureau = change_dtypes(bureau)\n",
    "\n",
    "print(\"bureau.shape:\", bureau.shape)\n",
    "bureau.head()"
   ]
  },
  {
   "cell_type": "markdown",
   "metadata": {},
   "source": [
    "## Missing values"
   ]
  },
  {
   "cell_type": "code",
   "execution_count": null,
   "metadata": {},
   "outputs": [],
   "source": [
    "missing_vals = bureau.isnull().mean()\n",
    "missing_vals = missing_vals.sort_values(ascending=False)\n",
    "print(\"Total number of features:\", bureau.shape[1])\n",
    "print(\"Number of features having missing values:\", (missing_vals > 0).sum())\n",
    "\n",
    "print(\"head:\")\n",
    "display(missing_vals.head(10))"
   ]
  },
  {
   "cell_type": "markdown",
   "metadata": {},
   "source": [
    "## Correlation of aggregated features with `TARGET`"
   ]
  },
  {
   "cell_type": "markdown",
   "metadata": {},
   "source": [
    "### Numerical features"
   ]
  },
  {
   "cell_type": "code",
   "execution_count": 6,
   "metadata": {},
   "outputs": [
    {
     "name": "stdout",
     "output_type": "stream",
     "text": [
      "Drop 6 collinear columns\n",
      "bureau_agg shape: (305811, 8)\n"
     ]
    },
    {
     "data": {
      "text/plain": [
       "feature\n",
       "DAYS_ENDDATE_FACT_count        -0.036969\n",
       "DAYS_CREDIT_ENDDATE_count      -0.016496\n",
       "SK_ID_BUREAU_count             -0.010020\n",
       "AMT_CREDIT_SUM_LIMIT_count     -0.009552\n",
       "AMT_ANNUITY_count               0.008354\n",
       "AMT_CREDIT_SUM_DEBT_count      -0.007407\n",
       "AMT_CREDIT_MAX_OVERDUE_count   -0.002313\n",
       "Name: corr, dtype: float64"
      ]
     },
     "execution_count": 6,
     "metadata": {},
     "output_type": "execute_result"
    }
   ],
   "source": [
    "# aggregate numerical columns with count\n",
    "\n",
    "bureau_agg = aggregate(bureau, by=[\"SK_ID_CURR\"], dtype=\"num\", num_stats=(\"count\",))\n",
    "print(\"bureau_agg shape:\", bureau_agg.shape)\n",
    "\n",
    "bureau_agg = application_train[[\"SK_ID_CURR\", \"TARGET\"]].merge(bureau_agg, how=\"left\", on=\"SK_ID_CURR\")\n",
    "bureau_agg = bureau_agg.fillna(0)\n",
    "\n",
    "corrs = corrwith(bureau_agg.drop([\"SK_ID_CURR\", \"TARGET\"], axis=1), bureau_agg[\"TARGET\"])\n",
    "corrs"
   ]
  },
  {
   "cell_type": "code",
   "execution_count": 8,
   "metadata": {},
   "outputs": [
    {
     "name": "stdout",
     "output_type": "stream",
     "text": [
      "Drop 0 collinear columns\n",
      "bureau_agg shape: (305811, 14)\n"
     ]
    },
    {
     "data": {
      "text/plain": [
       "feature\n",
       "DAYS_CREDIT_mean               0.089729\n",
       "DAYS_CREDIT_UPDATE_mean        0.068927\n",
       "DAYS_ENDDATE_FACT_mean         0.053200\n",
       "DAYS_CREDIT_ENDDATE_mean       0.046983\n",
       "AMT_CREDIT_SUM_mean           -0.019957\n",
       "SK_ID_BUREAU_mean             -0.011792\n",
       "AMT_CREDIT_SUM_LIMIT_mean     -0.011446\n",
       "CREDIT_DAY_OVERDUE_mean        0.008118\n",
       "AMT_CREDIT_SUM_OVERDUE_mean    0.007150\n",
       "CNT_CREDIT_PROLONG_mean        0.003031\n",
       "AMT_CREDIT_MAX_OVERDUE_mean    0.002435\n",
       "AMT_ANNUITY_mean              -0.001391\n",
       "AMT_CREDIT_SUM_DEBT_mean      -0.000637\n",
       "Name: corr, dtype: float64"
      ]
     },
     "execution_count": 8,
     "metadata": {},
     "output_type": "execute_result"
    }
   ],
   "source": [
    "# aggregate numerical columns with mean\n",
    "\n",
    "bureau_agg = aggregate(bureau, by=[\"SK_ID_CURR\"], dtype=\"num\", num_stats=(\"mean\",))\n",
    "\n",
    "print(\"bureau_agg shape:\", bureau_agg.shape)\n",
    "\n",
    "bureau_agg = application_train[[\"SK_ID_CURR\", \"TARGET\"]].merge(bureau_agg, how=\"left\", on=\"SK_ID_CURR\")\n",
    "\n",
    "corrs = corrwith(bureau_agg.drop([\"SK_ID_CURR\", \"TARGET\"], axis=1), bureau_agg[\"TARGET\"])\n",
    "corrs"
   ]
  },
  {
   "cell_type": "code",
   "execution_count": 9,
   "metadata": {},
   "outputs": [
    {
     "name": "stdout",
     "output_type": "stream",
     "text": [
      "Drop 0 collinear columns\n",
      "bureau_agg shape: (305811, 14)\n"
     ]
    },
    {
     "data": {
      "text/plain": [
       "feature\n",
       "DAYS_CREDIT_median               0.085414\n",
       "DAYS_CREDIT_UPDATE_median        0.067338\n",
       "DAYS_ENDDATE_FACT_median         0.050603\n",
       "DAYS_CREDIT_ENDDATE_median       0.039929\n",
       "AMT_CREDIT_SUM_median           -0.015676\n",
       "SK_ID_BUREAU_median             -0.011712\n",
       "CREDIT_DAY_OVERDUE_median        0.007847\n",
       "AMT_CREDIT_SUM_LIMIT_median     -0.006510\n",
       "AMT_CREDIT_SUM_OVERDUE_median    0.003785\n",
       "AMT_CREDIT_MAX_OVERDUE_median    0.002251\n",
       "AMT_ANNUITY_median              -0.002110\n",
       "AMT_CREDIT_SUM_DEBT_median       0.001666\n",
       "CNT_CREDIT_PROLONG_median        0.001477\n",
       "Name: corr, dtype: float64"
      ]
     },
     "execution_count": 9,
     "metadata": {},
     "output_type": "execute_result"
    }
   ],
   "source": [
    "# aggregate numerical columns with median\n",
    "\n",
    "bureau_agg = aggregate(bureau, by=[\"SK_ID_CURR\"], dtype=\"num\", num_stats=(\"median\",))\n",
    "\n",
    "print(\"bureau_agg shape:\", bureau_agg.shape)\n",
    "\n",
    "bureau_agg = application_train[[\"SK_ID_CURR\", \"TARGET\"]].merge(bureau_agg, how=\"left\", on=\"SK_ID_CURR\")\n",
    "\n",
    "corrs = corrwith(bureau_agg.drop([\"SK_ID_CURR\", \"TARGET\"], axis=1), bureau_agg[\"TARGET\"])\n",
    "corrs"
   ]
  },
  {
   "cell_type": "code",
   "execution_count": 10,
   "metadata": {},
   "outputs": [
    {
     "name": "stdout",
     "output_type": "stream",
     "text": [
      "Drop 0 collinear columns\n",
      "bureau_agg shape: (305811, 14)\n"
     ]
    },
    {
     "data": {
      "text/plain": [
       "feature\n",
       "DAYS_CREDIT_var              -0.038440\n",
       "DAYS_CREDIT_ENDDATE_var       0.037370\n",
       "DAYS_ENDDATE_FACT_var        -0.017603\n",
       "SK_ID_BUREAU_var             -0.008212\n",
       "AMT_CREDIT_SUM_LIMIT_var     -0.007636\n",
       "AMT_CREDIT_SUM_DEBT_var      -0.005604\n",
       "AMT_CREDIT_SUM_OVERDUE_var    0.002222\n",
       "CREDIT_DAY_OVERDUE_var        0.001516\n",
       "AMT_CREDIT_SUM_var           -0.001435\n",
       "AMT_ANNUITY_var               0.001413\n",
       "DAYS_CREDIT_UPDATE_var        0.001366\n",
       "AMT_CREDIT_MAX_OVERDUE_var   -0.000870\n",
       "CNT_CREDIT_PROLONG_var        0.000426\n",
       "Name: corr, dtype: float64"
      ]
     },
     "execution_count": 10,
     "metadata": {},
     "output_type": "execute_result"
    }
   ],
   "source": [
    "# aggregate numerical columns with variance\n",
    "\n",
    "bureau_agg = aggregate(bureau, by=[\"SK_ID_CURR\"], dtype=\"num\", num_stats=(np.var,))\n",
    "\n",
    "print(\"bureau_agg shape:\", bureau_agg.shape)\n",
    "\n",
    "bureau_agg = application_train[[\"SK_ID_CURR\", \"TARGET\"]].merge(bureau_agg, how=\"left\", on=\"SK_ID_CURR\")\n",
    "\n",
    "corrs = corrwith(bureau_agg.drop([\"SK_ID_CURR\", \"TARGET\"], axis=1), bureau_agg[\"TARGET\"])\n",
    "corrs"
   ]
  },
  {
   "cell_type": "code",
   "execution_count": 11,
   "metadata": {},
   "outputs": [
    {
     "name": "stdout",
     "output_type": "stream",
     "text": [
      "Drop 0 collinear columns\n",
      "bureau_agg shape: (305811, 14)\n"
     ]
    },
    {
     "data": {
      "text/plain": [
       "feature\n",
       "DAYS_CREDIT_min               0.075248\n",
       "DAYS_ENDDATE_FACT_min         0.055887\n",
       "DAYS_CREDIT_UPDATE_min        0.042864\n",
       "DAYS_CREDIT_ENDDATE_min       0.034281\n",
       "AMT_CREDIT_SUM_min           -0.010764\n",
       "SK_ID_BUREAU_min             -0.010359\n",
       "CREDIT_DAY_OVERDUE_min        0.007573\n",
       "AMT_CREDIT_SUM_LIMIT_min     -0.004779\n",
       "AMT_ANNUITY_min              -0.002542\n",
       "AMT_CREDIT_MAX_OVERDUE_min    0.002329\n",
       "AMT_CREDIT_SUM_DEBT_min       0.000242\n",
       "CNT_CREDIT_PROLONG_min       -0.000182\n",
       "AMT_CREDIT_SUM_OVERDUE_min    0.000003\n",
       "Name: corr, dtype: float64"
      ]
     },
     "execution_count": 11,
     "metadata": {},
     "output_type": "execute_result"
    }
   ],
   "source": [
    "# aggregate numerical columns with min\n",
    "\n",
    "bureau_agg = aggregate(bureau, by=[\"SK_ID_CURR\"], dtype=\"num\", num_stats=(\"min\",))\n",
    "\n",
    "print(\"bureau_agg shape:\", bureau_agg.shape)\n",
    "\n",
    "bureau_agg = application_train[[\"SK_ID_CURR\", \"TARGET\"]].merge(bureau_agg, how=\"left\", on=\"SK_ID_CURR\")\n",
    "\n",
    "corrs = corrwith(bureau_agg.drop([\"SK_ID_CURR\", \"TARGET\"], axis=1), bureau_agg[\"TARGET\"])\n",
    "corrs"
   ]
  },
  {
   "cell_type": "code",
   "execution_count": 12,
   "metadata": {},
   "outputs": [
    {
     "name": "stdout",
     "output_type": "stream",
     "text": [
      "Drop 0 collinear columns\n",
      "bureau_agg shape: (305811, 14)\n"
     ]
    },
    {
     "data": {
      "text/plain": [
       "feature\n",
       "DAYS_CREDIT_max               0.049782\n",
       "DAYS_CREDIT_ENDDATE_max       0.036590\n",
       "DAYS_CREDIT_UPDATE_max        0.028234\n",
       "AMT_CREDIT_SUM_max           -0.019737\n",
       "DAYS_ENDDATE_FACT_max         0.019644\n",
       "SK_ID_BUREAU_max             -0.012658\n",
       "AMT_CREDIT_SUM_LIMIT_max     -0.010633\n",
       "AMT_CREDIT_SUM_OVERDUE_max    0.010614\n",
       "CREDIT_DAY_OVERDUE_max        0.005493\n",
       "CNT_CREDIT_PROLONG_max        0.003951\n",
       "AMT_CREDIT_MAX_OVERDUE_max    0.002540\n",
       "AMT_CREDIT_SUM_DEBT_max      -0.002173\n",
       "AMT_ANNUITY_max               0.001120\n",
       "Name: corr, dtype: float64"
      ]
     },
     "execution_count": 12,
     "metadata": {},
     "output_type": "execute_result"
    }
   ],
   "source": [
    "# aggregate numerical columns with max\n",
    "\n",
    "bureau_agg = aggregate(bureau, by=[\"SK_ID_CURR\"], dtype=\"num\", num_stats=(\"max\",))\n",
    "\n",
    "print(\"bureau_agg shape:\", bureau_agg.shape)\n",
    "\n",
    "bureau_agg = application_train[[\"SK_ID_CURR\", \"TARGET\"]].merge(bureau_agg, how=\"left\", on=\"SK_ID_CURR\")\n",
    "\n",
    "corrs = corrwith(bureau_agg.drop([\"SK_ID_CURR\", \"TARGET\"], axis=1), bureau_agg[\"TARGET\"])\n",
    "corrs"
   ]
  },
  {
   "cell_type": "markdown",
   "metadata": {},
   "source": [
    "### Categorical features"
   ]
  },
  {
   "cell_type": "code",
   "execution_count": 16,
   "metadata": {},
   "outputs": [
    {
     "name": "stdout",
     "output_type": "stream",
     "text": [
      "Drop 0 collinear columns\n",
      "bureau_agg shape: (305811, 24)\n"
     ]
    },
    {
     "data": {
      "text/plain": [
       "feature\n",
       "CREDIT_ACTIVE_Active_sum                                        0.067128\n",
       "CREDIT_TYPE_Credit card_sum                                     0.034818\n",
       "CREDIT_TYPE_Microloan_sum                                       0.034110\n",
       "CREDIT_ACTIVE_Closed_sum                                       -0.030812\n",
       "CREDIT_TYPE_Mortgage_sum                                       -0.023307\n",
       "CREDIT_TYPE_Car loan_sum                                       -0.020817\n",
       "CREDIT_ACTIVE_Sold_sum                                          0.012058\n",
       "CREDIT_TYPE_Consumer credit_sum                                -0.010707\n",
       "CREDIT_TYPE_Loan for working capital replenishment_sum          0.006018\n",
       "CREDIT_CURRENCY_currency 2_sum                                 -0.006003\n",
       "CREDIT_TYPE_Loan for the purchase of equipment_sum              0.004495\n",
       "CREDIT_CURRENCY_currency 1_sum                                  0.004154\n",
       "CREDIT_ACTIVE_Bad debt_sum                                      0.004003\n",
       "CREDIT_TYPE_Loan for business development_sum                  -0.003783\n",
       "CREDIT_CURRENCY_currency 3_sum                                  0.002923\n",
       "CREDIT_TYPE_Real estate loan_sum                               -0.002704\n",
       "CREDIT_TYPE_Unknown type of loan_sum                           -0.002265\n",
       "CREDIT_CURRENCY_currency 4_sum                                 -0.001692\n",
       "CREDIT_TYPE_Another type of loan_sum                           -0.001186\n",
       "CREDIT_TYPE_Loan for purchase of shares (margin lending)_sum   -0.001128\n",
       "CREDIT_TYPE_Cash loan (non-earmarked)_sum                      -0.001054\n",
       "CREDIT_TYPE_Mobile operator loan_sum                           -0.000564\n",
       "CREDIT_TYPE_Interbank credit_sum                               -0.000564\n",
       "Name: corr, dtype: float64"
      ]
     },
     "execution_count": 16,
     "metadata": {},
     "output_type": "execute_result"
    }
   ],
   "source": [
    "# aggregate categorical columns with sum\n",
    "\n",
    "bureau_agg = aggregate(bureau, by=[\"SK_ID_CURR\"], dtype=\"cat\", cat_stats=(\"sum\",))\n",
    "print(\"bureau_agg shape:\", bureau_agg.shape)\n",
    "\n",
    "bureau_agg = application_train[[\"SK_ID_CURR\", \"TARGET\"]].merge(bureau_agg, how=\"left\", on=\"SK_ID_CURR\")\n",
    "#bureau_agg = bureau_agg.fillna(0)\n",
    "\n",
    "corrs = corrwith(bureau_agg.drop([\"SK_ID_CURR\", \"TARGET\"], axis=1), bureau_agg[\"TARGET\"])\n",
    "corrs"
   ]
  },
  {
   "cell_type": "code",
   "execution_count": 17,
   "metadata": {},
   "outputs": [
    {
     "name": "stdout",
     "output_type": "stream",
     "text": [
      "Drop 0 collinear columns\n",
      "bureau_agg shape: (305811, 24)\n"
     ]
    },
    {
     "data": {
      "text/plain": [
       "feature\n",
       "CREDIT_ACTIVE_Closed_mean                                       -0.079369\n",
       "CREDIT_ACTIVE_Active_mean                                        0.077356\n",
       "CREDIT_TYPE_Microloan_mean                                       0.044439\n",
       "CREDIT_TYPE_Credit card_mean                                     0.034684\n",
       "CREDIT_TYPE_Consumer credit_mean                                -0.026258\n",
       "CREDIT_TYPE_Mortgage_mean                                       -0.020867\n",
       "CREDIT_TYPE_Car loan_mean                                       -0.020134\n",
       "CREDIT_ACTIVE_Sold_mean                                          0.016530\n",
       "CREDIT_CURRENCY_currency 2_mean                                 -0.006821\n",
       "CREDIT_CURRENCY_currency 1_mean                                  0.006037\n",
       "CREDIT_ACTIVE_Bad debt_mean                                      0.004638\n",
       "CREDIT_CURRENCY_currency 3_mean                                  0.002783\n",
       "CREDIT_TYPE_Loan for business development_mean                  -0.002759\n",
       "CREDIT_TYPE_Unknown type of loan_mean                           -0.002476\n",
       "CREDIT_TYPE_Real estate loan_mean                               -0.001905\n",
       "CREDIT_TYPE_Another type of loan_mean                           -0.001761\n",
       "CREDIT_TYPE_Loan for working capital replenishment_mean          0.001605\n",
       "CREDIT_CURRENCY_currency 4_mean                                 -0.001444\n",
       "CREDIT_TYPE_Cash loan (non-earmarked)_mean                      -0.000969\n",
       "CREDIT_TYPE_Loan for purchase of shares (margin lending)_mean   -0.000903\n",
       "CREDIT_TYPE_Interbank credit_mean                               -0.000564\n",
       "CREDIT_TYPE_Mobile operator loan_mean                           -0.000564\n",
       "CREDIT_TYPE_Loan for the purchase of equipment_mean              0.000286\n",
       "Name: corr, dtype: float64"
      ]
     },
     "execution_count": 17,
     "metadata": {},
     "output_type": "execute_result"
    }
   ],
   "source": [
    "# aggregate categorical columns with mean\n",
    "\n",
    "bureau_agg = aggregate(bureau, by=[\"SK_ID_CURR\"], dtype=\"cat\", cat_stats=(\"mean\",))\n",
    "print(\"bureau_agg shape:\", bureau_agg.shape)\n",
    "\n",
    "bureau_agg = application_train[[\"SK_ID_CURR\", \"TARGET\"]].merge(bureau_agg, how=\"left\", on=\"SK_ID_CURR\")\n",
    "\n",
    "corrs = corrwith(bureau_agg.drop([\"SK_ID_CURR\", \"TARGET\"], axis=1), bureau_agg[\"TARGET\"])\n",
    "corrs"
   ]
  },
  {
   "cell_type": "code",
   "execution_count": 22,
   "metadata": {},
   "outputs": [
    {
     "name": "stdout",
     "output_type": "stream",
     "text": [
      "Drop 0 collinear columns\n",
      "bureau_agg shape: (305811, 4)\n"
     ]
    },
    {
     "data": {
      "text/plain": [
       "feature\n",
       "CREDIT_CURRENCY_nunique   -0.031060\n",
       "CREDIT_ACTIVE_nunique     -0.025051\n",
       "CREDIT_TYPE_nunique       -0.019160\n",
       "Name: corr, dtype: float64"
      ]
     },
     "execution_count": 22,
     "metadata": {},
     "output_type": "execute_result"
    }
   ],
   "source": [
    "# aggregate categorical columns with number of unique values\n",
    "\n",
    "bureau_agg = aggregate(bureau, by=[\"SK_ID_CURR\"], dtype=\"cat\", cat_stats=(\"nunique\",), onehot_encode=False)\n",
    "print(\"bureau_agg shape:\", bureau_agg.shape)\n",
    "\n",
    "bureau_agg = application_train[[\"SK_ID_CURR\", \"TARGET\"]].merge(bureau_agg, how=\"left\", on=\"SK_ID_CURR\")\n",
    "bureau_agg = bureau_agg.fillna(0)\n",
    "\n",
    "corrs = corrwith(bureau_agg.drop([\"SK_ID_CURR\", \"TARGET\"], axis=1), bureau_agg[\"TARGET\"])\n",
    "corrs"
   ]
  },
  {
   "cell_type": "markdown",
   "metadata": {},
   "source": [
    "### Engineered features"
   ]
  },
  {
   "cell_type": "markdown",
   "metadata": {},
   "source": [
    "#### Count and percent of number of times DPD are over 1, 3, and 6 months"
   ]
  },
  {
   "cell_type": "code",
   "execution_count": null,
   "metadata": {},
   "outputs": [],
   "source": [
    "# agg by mean\n",
    "\n",
    "credit_day_overdue = bureau[[\"SK_ID_CURR\"]]\n",
    "credit_day_overdue[\"CREDIT_DAY_OVERDUE_OVER_0M\"] = bureau[\"CREDIT_DAY_OVERDUE\"] == 0\n",
    "credit_day_overdue[\"CREDIT_DAY_OVERDUE_OVER_1M\"] = bureau[\"CREDIT_DAY_OVERDUE\"] > 30\n",
    "credit_day_overdue[\"CREDIT_DAY_OVERDUE_OVER_3M\"] = bureau[\"CREDIT_DAY_OVERDUE\"] > 90\n",
    "credit_day_overdue[\"CREDIT_DAY_OVERDUE_OVER_6M\"] = bureau[\"CREDIT_DAY_OVERDUE\"] > 120\n",
    "\n",
    "credit_day_overdue_agg = aggregate(credit_day_overdue, by=[\"SK_ID_CURR\"], cat_stats=(\"mean\",))\n",
    "print(\"credit_day_overdue_agg shape:\", credit_day_overdue_agg.shape)\n",
    "\n",
    "credit_day_overdue_agg = application_train[[\"SK_ID_CURR\", \"TARGET\"]].merge(credit_day_overdue_agg, \n",
    "                                                                           how=\"left\", on=\"SK_ID_CURR\")\n",
    "\n",
    "corrs = corrwith(credit_day_overdue_agg.drop([\"SK_ID_CURR\", \"TARGET\"], axis=1), credit_day_overdue_agg[\"TARGET\"])\n",
    "corrs"
   ]
  },
  {
   "cell_type": "code",
   "execution_count": null,
   "metadata": {},
   "outputs": [],
   "source": [
    "# agg by sum\n",
    "\n",
    "credit_day_overdue_agg = aggregate(credit_day_overdue, by=[\"SK_ID_CURR\"], cat_stats=(\"sum\",))\n",
    "print(\"credit_day_overdue_agg shape:\", credit_day_overdue_agg.shape)\n",
    "\n",
    "credit_day_overdue_agg = application_train[[\"SK_ID_CURR\", \"TARGET\"]].merge(credit_day_overdue_agg, \n",
    "                                                                           how=\"left\", on=\"SK_ID_CURR\")\n",
    "credit_day_overdue_agg = credit_day_overdue_agg.fillna(0)\n",
    "corrs = corrwith(credit_day_overdue_agg.drop([\"SK_ID_CURR\", \"TARGET\"], axis=1), credit_day_overdue_agg[\"TARGET\"])\n",
    "corrs"
   ]
  },
  {
   "cell_type": "markdown",
   "metadata": {},
   "source": [
    "#### Whether `DAYS_CREDIT_ENDDATE` is positive"
   ]
  },
  {
   "cell_type": "code",
   "execution_count": null,
   "metadata": {},
   "outputs": [],
   "source": [
    "# agg by mean\n",
    "\n",
    "days_credit_enddate_pos = bureau[[\"SK_ID_CURR\"]]\n",
    "days_credit_enddate_pos[\"DAYS_CREDIT_ENDDATE_POS\"] = bureau[\"DAYS_CREDIT_ENDDATE\"] > 0\n",
    "\n",
    "days_credit_enddate_pos_agg = aggregate(days_credit_enddate_pos, by=[\"SK_ID_CURR\"], cat_stats=(\"mean\",))\n",
    "\n",
    "print(\"days_credit_enddate_pos_agg shape:\", days_credit_enddate_pos_agg.shape)\n",
    "\n",
    "days_credit_enddate_pos_agg = application_train[[\"SK_ID_CURR\", \"TARGET\"]].merge(days_credit_enddate_pos_agg, \n",
    "                                                                           how=\"left\", on=\"SK_ID_CURR\")\n",
    "\n",
    "corrs = corrwith(days_credit_enddate_pos_agg.drop([\"SK_ID_CURR\", \"TARGET\"], axis=1), \n",
    "                 days_credit_enddate_pos_agg[\"TARGET\"])\n",
    "corrs"
   ]
  },
  {
   "cell_type": "code",
   "execution_count": null,
   "metadata": {},
   "outputs": [],
   "source": [
    "# agg by sum\n",
    "days_credit_enddate_pos_agg = aggregate(days_credit_enddate_pos, by=[\"SK_ID_CURR\"], cat_stats=(\"sum\",))\n",
    "\n",
    "print(\"days_credit_enddate_pos_agg shape:\", days_credit_enddate_pos_agg.shape)\n",
    "\n",
    "days_credit_enddate_pos_agg = application_train[[\"SK_ID_CURR\", \"TARGET\"]].merge(days_credit_enddate_pos_agg, \n",
    "                                                                           how=\"left\", on=\"SK_ID_CURR\")\n",
    "days_credit_enddate_pos_agg = days_credit_enddate_pos_agg.fillna(0)\n",
    "\n",
    "corrs = corrwith(days_credit_enddate_pos_agg.drop([\"SK_ID_CURR\", \"TARGET\"], axis=1), \n",
    "                 days_credit_enddate_pos_agg[\"TARGET\"])\n",
    "corrs"
   ]
  },
  {
   "cell_type": "markdown",
   "metadata": {},
   "source": [
    "#### Whether `DAYS_CREDIT_UPDATE` is positive"
   ]
  },
  {
   "cell_type": "code",
   "execution_count": null,
   "metadata": {},
   "outputs": [],
   "source": [
    "# very few cases \n",
    "(bureau[\"DAYS_CREDIT_UPDATE\"] > 0).sum()"
   ]
  },
  {
   "cell_type": "markdown",
   "metadata": {},
   "source": [
    "### Debt to Credit ratio and Total overdue to debt ratio"
   ]
  },
  {
   "cell_type": "code",
   "execution_count": null,
   "metadata": {},
   "outputs": [],
   "source": [
    "amt_agg = aggregate(bureau[[\"SK_ID_CURR\", \"AMT_CREDIT_SUM\", \"AMT_CREDIT_SUM_DEBT\", \"AMT_CREDIT_SUM_OVERDUE\"]],\n",
    "                   by=[\"SK_ID_CURR\"], num_stats=(\"sum\",))\n",
    "\n",
    "amt_agg[\"DEBT_TO_CREDIT\"] = amt_agg[\"AMT_CREDIT_SUM_DEBT_sum\"] / amt_agg[\"AMT_CREDIT_SUM_sum\"]\n",
    "amt_agg[\"OVERDUE_TO_DEBT\"] = amt_agg[\"AMT_CREDIT_SUM_OVERDUE_sum\"] / amt_agg[\"AMT_CREDIT_SUM_DEBT_sum\"]\n",
    "\n",
    "amt_agg = application_train[[\"SK_ID_CURR\", \"TARGET\"]].merge(amt_agg, how=\"left\", on=\"SK_ID_CURR\")\n",
    "\n",
    "amt_agg[\"DEBT_TO_CREDIT\"] = amt_agg[\"DEBT_TO_CREDIT\"].replace({np.inf: np.nan, -np.inf: np.nan})\n",
    "\n",
    "amt_agg[\"OVERDUE_TO_DEBT\"] = amt_agg[\"OVERDUE_TO_DEBT\"].replace({np.inf: np.nan, -np.inf: np.nan})\n",
    "\n",
    "corrs = corrwith(amt_agg.drop([\"SK_ID_CURR\", \"TARGET\"], axis=1), amt_agg[\"TARGET\"])\n",
    "corrs"
   ]
  },
  {
   "cell_type": "markdown",
   "metadata": {},
   "source": [
    "#### Time between successive loans"
   ]
  },
  {
   "cell_type": "code",
   "execution_count": null,
   "metadata": {},
   "outputs": [],
   "source": [
    "def mean_diff(x):\n",
    "    return x.sort_values().diff().mean()\n",
    "\n",
    "def var_diff(x):\n",
    "    return x.sort_values().diff().var()\n",
    "\n",
    "def min_diff(x):\n",
    "    return x.sort_values().diff().min()\n",
    "\n",
    "def max_diff(x):\n",
    "    return x.sort_values().diff().max()\n",
    "\n",
    "def range_diff(x):\n",
    "    return max_diff(x) - min_diff(x)"
   ]
  },
  {
   "cell_type": "code",
   "execution_count": null,
   "metadata": {},
   "outputs": [],
   "source": [
    "time_bet_loans = aggregate(bureau[[\"SK_ID_CURR\", \"DAYS_CREDIT\"]], by=[\"SK_ID_CURR\"], \n",
    "                           num_stats=(mean_diff, var_diff, range_diff,))\n",
    "time_bet_loans = application_train[[\"SK_ID_CURR\", \"TARGET\"]].merge(time_bet_loans, how=\"left\", on=\"SK_ID_CURR\")"
   ]
  },
  {
   "cell_type": "code",
   "execution_count": null,
   "metadata": {},
   "outputs": [],
   "source": [
    "for col in time_bet_loans.columns:\n",
    "    time_bet_loans[col] = time_bet_loans[col].replace({np.inf: np.nan, -np.inf: np.nan})\n",
    "    \n",
    "corrs = corrwith(time_bet_loans.drop([\"SK_ID_CURR\", \"TARGET\"], axis=1), time_bet_loans[\"TARGET\"])\n",
    "corrs"
   ]
  },
  {
   "cell_type": "markdown",
   "metadata": {},
   "source": [
    "# 3. `bureau_balance`"
   ]
  },
  {
   "cell_type": "code",
   "execution_count": 23,
   "metadata": {},
   "outputs": [
    {
     "name": "stdout",
     "output_type": "stream",
     "text": [
      "Memory usage before changing types 655.20 MB\n",
      "Memory usage after changing types 245.70 MB\n",
      "bureau_balance.shape: (27299925, 3)\n"
     ]
    },
    {
     "data": {
      "text/html": [
       "<div>\n",
       "<style scoped>\n",
       "    .dataframe tbody tr th:only-of-type {\n",
       "        vertical-align: middle;\n",
       "    }\n",
       "\n",
       "    .dataframe tbody tr th {\n",
       "        vertical-align: top;\n",
       "    }\n",
       "\n",
       "    .dataframe thead th {\n",
       "        text-align: right;\n",
       "    }\n",
       "</style>\n",
       "<table border=\"1\" class=\"dataframe\">\n",
       "  <thead>\n",
       "    <tr style=\"text-align: right;\">\n",
       "      <th></th>\n",
       "      <th>SK_ID_BUREAU</th>\n",
       "      <th>MONTHS_BALANCE</th>\n",
       "      <th>STATUS</th>\n",
       "    </tr>\n",
       "  </thead>\n",
       "  <tbody>\n",
       "    <tr>\n",
       "      <th>0</th>\n",
       "      <td>5715448</td>\n",
       "      <td>0</td>\n",
       "      <td>C</td>\n",
       "    </tr>\n",
       "    <tr>\n",
       "      <th>1</th>\n",
       "      <td>5715448</td>\n",
       "      <td>-1</td>\n",
       "      <td>C</td>\n",
       "    </tr>\n",
       "    <tr>\n",
       "      <th>2</th>\n",
       "      <td>5715448</td>\n",
       "      <td>-2</td>\n",
       "      <td>C</td>\n",
       "    </tr>\n",
       "    <tr>\n",
       "      <th>3</th>\n",
       "      <td>5715448</td>\n",
       "      <td>-3</td>\n",
       "      <td>C</td>\n",
       "    </tr>\n",
       "    <tr>\n",
       "      <th>4</th>\n",
       "      <td>5715448</td>\n",
       "      <td>-4</td>\n",
       "      <td>C</td>\n",
       "    </tr>\n",
       "  </tbody>\n",
       "</table>\n",
       "</div>"
      ],
      "text/plain": [
       "   SK_ID_BUREAU  MONTHS_BALANCE STATUS\n",
       "0       5715448               0      C\n",
       "1       5715448              -1      C\n",
       "2       5715448              -2      C\n",
       "3       5715448              -3      C\n",
       "4       5715448              -4      C"
      ]
     },
     "execution_count": 23,
     "metadata": {},
     "output_type": "execute_result"
    }
   ],
   "source": [
    "bureau_balance = pd.read_csv(\"data/download/bureau_balance.csv\")\n",
    "bureau_balance = change_dtypes(bureau_balance)\n",
    "\n",
    "print(\"bureau_balance.shape:\", bureau_balance.shape)\n",
    "bureau_balance.head()"
   ]
  },
  {
   "cell_type": "code",
   "execution_count": 24,
   "metadata": {},
   "outputs": [
    {
     "name": "stdout",
     "output_type": "stream",
     "text": [
      "MONTHS_BALANCE min: -96\n",
      "MONTHS_BALANCE max: 0\n",
      "STATUS unique values: [C, 0, X, 1, 2, 3, 5, 4]\n",
      "Categories (8, object): [C, 0, X, 1, 2, 3, 5, 4]\n"
     ]
    }
   ],
   "source": [
    "print(\"MONTHS_BALANCE min:\", bureau_balance[\"MONTHS_BALANCE\"].min())\n",
    "print(\"MONTHS_BALANCE max:\", bureau_balance[\"MONTHS_BALANCE\"].max())\n",
    "\n",
    "print(\"STATUS unique values:\", bureau_balance[\"STATUS\"].unique())"
   ]
  },
  {
   "cell_type": "markdown",
   "metadata": {},
   "source": [
    "## Missing values"
   ]
  },
  {
   "cell_type": "code",
   "execution_count": null,
   "metadata": {},
   "outputs": [],
   "source": [
    "missing_vals = bureau_balance.isnull().mean()\n",
    "missing_vals = missing_vals.sort_values(ascending=False)\n",
    "print(\"Total number of features:\", bureau_balance.shape[1])\n",
    "print(\"Number of features having missing values:\", (missing_vals > 0).sum())\n",
    "\n",
    "print(\"head:\")\n",
    "display(missing_vals.head(10))"
   ]
  },
  {
   "cell_type": "markdown",
   "metadata": {},
   "source": [
    "## Aggregate once"
   ]
  },
  {
   "cell_type": "code",
   "execution_count": 29,
   "metadata": {
    "scrolled": true
   },
   "outputs": [
    {
     "name": "stdout",
     "output_type": "stream",
     "text": [
      "Drop 0 collinear columns\n",
      "Drop 0 collinear columns\n",
      "bureau_balance_agg shape: (307511, 30)\n"
     ]
    },
    {
     "data": {
      "text/plain": [
       "feature\n",
       "MONTHS_BALANCE_mean     0.074416\n",
       "MONTHS_BALANCE_min      0.073225\n",
       "MONTHS_BALANCE_var     -0.051335\n",
       "STATUS_1_mean           0.033021\n",
       "STATUS_1_nunique        0.023553\n",
       "STATUS_C_sum           -0.021756\n",
       "STATUS_C_mean          -0.017915\n",
       "MONTHS_BALANCE_count   -0.017482\n",
       "STATUS_0_mean           0.016825\n",
       "STATUS_1_sum            0.013991\n",
       "STATUS_2_mean           0.011150\n",
       "STATUS_X_sum           -0.011022\n",
       "STATUS_5_mean           0.010525\n",
       "STATUS_3_mean           0.010089\n",
       "STATUS_4_nunique        0.010085\n",
       "STATUS_4_mean           0.009940\n",
       "STATUS_C_nunique       -0.009337\n",
       "STATUS_5_nunique        0.009054\n",
       "STATUS_3_nunique        0.008935\n",
       "STATUS_4_sum            0.008585\n",
       "STATUS_2_nunique        0.008455\n",
       "STATUS_3_sum            0.007912\n",
       "STATUS_2_sum            0.007755\n",
       "STATUS_0_sum           -0.007233\n",
       "STATUS_5_sum            0.005691\n",
       "MONTHS_BALANCE_max      0.005119\n",
       "STATUS_X_nunique        0.002118\n",
       "STATUS_0_nunique        0.000558\n",
       "STATUS_X_mean           0.000528\n",
       "Name: corr, dtype: float64"
      ]
     },
     "execution_count": 29,
     "metadata": {},
     "output_type": "execute_result"
    }
   ],
   "source": [
    "\n",
    "bureau_balance_merge = application_train[[\"SK_ID_CURR\"]].merge(bureau[[\"SK_ID_CURR\", \"SK_ID_BUREAU\"]], \n",
    "                                                                      how=\"left\", on=\"SK_ID_CURR\")\n",
    "\n",
    "bureau_balance_merge = bureau_balance_merge.merge(bureau_balance, how=\"left\", on=\"SK_ID_BUREAU\")\n",
    "bureau_balance_merge = bureau_balance_merge.drop([\"SK_ID_BUREAU\"], axis=1)\n",
    "\n",
    "bureau_balance_agg = aggregate(bureau_balance_merge, by=[\"SK_ID_CURR\"], \n",
    "                               num_stats=(\"count\", \"mean\", \"min\", \"max\", np.var),\n",
    "                              cat_stats=(\"sum\", \"mean\"))\n",
    "\n",
    "bureau_balance_agg_uniq = aggregate(bureau_balance_merge, by=[\"SK_ID_CURR\"], dtype=\"cat\", \n",
    "                                    cat_stats=(\"nunique\",))\n",
    "\n",
    "bureau_balance_agg = bureau_balance_agg.merge(bureau_balance_agg_uniq, how=\"outer\", on=\"SK_ID_CURR\")\n",
    "\n",
    "print(\"bureau_balance_agg shape:\", bureau_balance_agg.shape)\n",
    "\n",
    "bureau_balance_agg = application_train[[\"SK_ID_CURR\", \"TARGET\"]].merge(bureau_balance_agg, \n",
    "                                                                       how=\"left\", on=\"SK_ID_CURR\")\n",
    "\n",
    "corrs = corrwith(bureau_balance_agg.drop([\"SK_ID_CURR\", \"TARGET\"], axis=1), bureau_balance_agg[\"TARGET\"])\n",
    "corrs"
   ]
  },
  {
   "cell_type": "markdown",
   "metadata": {},
   "source": [
    "## Aggregate stepwise"
   ]
  },
  {
   "cell_type": "code",
   "execution_count": 30,
   "metadata": {},
   "outputs": [
    {
     "name": "stdout",
     "output_type": "stream",
     "text": [
      "Drop 0 collinear columns\n",
      "Drop 0 collinear columns\n",
      "No categorical columns in df\n",
      "Drop 20 collinear columns\n",
      "bureau_balance_agg shape: (305811, 91)\n"
     ]
    },
    {
     "data": {
      "text/plain": [
       "feature\n",
       "MONTHS_BALANCE_min_mean       0.089038\n",
       "MONTHS_BALANCE_count_mean    -0.080193\n",
       "MONTHS_BALANCE_mean_mean      0.076424\n",
       "MONTHS_BALANCE_min_min        0.073225\n",
       "MONTHS_BALANCE_count_max     -0.068792\n",
       "MONTHS_BALANCE_var_mean      -0.062957\n",
       "STATUS_C_sum_mean            -0.062954\n",
       "STATUS_1_mean_mean            0.061183\n",
       "STATUS_1_mean_max             0.061122\n",
       "STATUS_C_sum_max             -0.061083\n",
       "MONTHS_BALANCE_var_max       -0.059855\n",
       "STATUS_C_mean_mean           -0.055936\n",
       "MONTHS_BALANCE_mean_min       0.053816\n",
       "MONTHS_BALANCE_min_max        0.049807\n",
       "MONTHS_BALANCE_count_min     -0.048224\n",
       "STATUS_C_sum_var             -0.046157\n",
       "STATUS_0_mean_mean            0.044198\n",
       "STATUS_C_mean_max            -0.044119\n",
       "MONTHS_BALANCE_mean_max       0.043956\n",
       "MONTHS_BALANCE_var_var       -0.040304\n",
       "MONTHS_BALANCE_count_var     -0.037909\n",
       "STATUS_1_mean_var             0.037443\n",
       "STATUS_1_mean_min             0.037332\n",
       "STATUS_0_sum_mean            -0.035868\n",
       "MONTHS_BALANCE_min_var       -0.035045\n",
       "STATUS_X_sum_mean            -0.033292\n",
       "STATUS_1_sum_mean             0.033287\n",
       "STATUS_0_mean_min             0.031530\n",
       "STATUS_0_sum_max             -0.031158\n",
       "STATUS_X_sum_max             -0.030919\n",
       "                                ...   \n",
       "STATUS_3_sum_max              0.013719\n",
       "STATUS_2_sum_mean             0.013521\n",
       "STATUS_3_mean_var             0.011964\n",
       "STATUS_nunique_max            0.011485\n",
       "STATUS_2_sum_max              0.010899\n",
       "MONTHS_BALANCE_count_count    0.010669\n",
       "STATUS_3_sum_min              0.010432\n",
       "STATUS_2_mean_var             0.010404\n",
       "STATUS_5_sum_max              0.010163\n",
       "STATUS_4_mean_var             0.009900\n",
       "MONTHS_BALANCE_var_count      0.009390\n",
       "STATUS_4_sum_min              0.009168\n",
       "STATUS_0_mean_var             0.008772\n",
       "STATUS_3_mean_min             0.008563\n",
       "STATUS_nunique_min           -0.008518\n",
       "STATUS_2_sum_min              0.006492\n",
       "STATUS_4_mean_min             0.006392\n",
       "STATUS_2_mean_min             0.006052\n",
       "STATUS_3_sum_var              0.005315\n",
       "MONTHS_BALANCE_max_max        0.005119\n",
       "STATUS_5_mean_var             0.004849\n",
       "STATUS_1_sum_var              0.004506\n",
       "STATUS_2_sum_var              0.004036\n",
       "STATUS_4_sum_var              0.003144\n",
       "STATUS_5_sum_var              0.001709\n",
       "STATUS_X_mean_var             0.001642\n",
       "STATUS_X_mean_max             0.001110\n",
       "STATUS_X_mean_min            -0.001056\n",
       "STATUS_X_mean_mean            0.000408\n",
       "STATUS_nunique_mean          -0.000185\n",
       "Name: corr, Length: 90, dtype: float64"
      ]
     },
     "execution_count": 30,
     "metadata": {},
     "output_type": "execute_result"
    }
   ],
   "source": [
    "bureau_balance_agg = aggregate(bureau_balance, by=[\"SK_ID_BUREAU\"], \n",
    "                               num_stats=(\"count\", \"mean\", \"min\", \"max\", np.var),\n",
    "                               cat_stats=(\"sum\", \"mean\"))\n",
    "\n",
    "bureau_balance_agg_uniq = aggregate(bureau_balance, by=[\"SK_ID_BUREAU\"], dtype=\"cat\",\n",
    "                                    cat_stats=(\"nunique\",), onehot_encode=False)\n",
    "\n",
    "bureau_balance_agg = bureau_balance_agg.merge(bureau_balance_agg_uniq, how=\"outer\", on=\"SK_ID_BUREAU\")\n",
    "\n",
    "bureau_balance_agg = bureau[[\"SK_ID_CURR\", \"SK_ID_BUREAU\"]].merge(bureau_balance_agg, how=\"left\", on=\"SK_ID_BUREAU\")\n",
    "\n",
    "bureau_balance_agg = bureau_balance_agg.drop([\"SK_ID_BUREAU\"], axis=1)\n",
    "\n",
    "bureau_balance_agg = aggregate(bureau_balance_agg, by=[\"SK_ID_CURR\"], \n",
    "                              num_stats=(\"count\", \"mean\", \"min\", \"max\", np.var),\n",
    "                              cat_stats=(\"sum\", \"mean\"))\n",
    "\n",
    "print(\"bureau_balance_agg shape:\", bureau_balance_agg.shape)\n",
    "\n",
    "bureau_balance_agg = application_train[[\"SK_ID_CURR\", \"TARGET\"]].merge(bureau_balance_agg, \n",
    "                                                                       how=\"left\", on=\"SK_ID_CURR\")\n",
    "\n",
    "corrs = corrwith(bureau_balance_agg.drop([\"SK_ID_CURR\", \"TARGET\"], axis=1), bureau_balance_agg[\"TARGET\"])\n",
    "corrs"
   ]
  }
 ],
 "metadata": {
  "kernelspec": {
   "display_name": "Python 3",
   "language": "python",
   "name": "python3"
  },
  "language_info": {
   "codemirror_mode": {
    "name": "ipython",
    "version": 3
   },
   "file_extension": ".py",
   "mimetype": "text/x-python",
   "name": "python",
   "nbconvert_exporter": "python",
   "pygments_lexer": "ipython3",
   "version": "3.7.3"
  }
 },
 "nbformat": 4,
 "nbformat_minor": 2
}
