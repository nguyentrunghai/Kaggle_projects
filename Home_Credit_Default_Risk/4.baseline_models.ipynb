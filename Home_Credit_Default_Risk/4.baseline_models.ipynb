{
 "cells": [
  {
   "cell_type": "markdown",
   "metadata": {},
   "source": [
    "In this notebook we will train Logistic Regression, Random Forest and XGBoost models. Becuase we just want to establish a baseline for the AUC metric, we only use the minimal dataset in application_train.csv and application_test.csv and do not tune the models' hyperparamters."
   ]
  },
  {
   "cell_type": "code",
   "execution_count": 32,
   "metadata": {},
   "outputs": [
    {
     "name": "stdout",
     "output_type": "stream",
     "text": [
      "The autoreload extension is already loaded. To reload it, use:\n",
      "  %reload_ext autoreload\n"
     ]
    }
   ],
   "source": [
    "%load_ext autoreload\n",
    "%autoreload 2\n",
    "\n",
    "import warnings\n",
    "warnings.filterwarnings('ignore')\n",
    "\n",
    "import os\n",
    "import pandas as pd\n",
    "import numpy as np\n",
    "\n",
    "%matplotlib inline\n",
    "import matplotlib.pyplot as plt\n",
    "import seaborn as sns\n",
    "sns.set()\n",
    "\n",
    "from sklearn.preprocessing import Imputer\n",
    "from sklearn.preprocessing import StandardScaler\n",
    "from sklearn.model_selection import cross_val_score\n",
    "from sklearn.model_selection import StratifiedKFold\n",
    "from sklearn.model_selection import train_test_split\n",
    "from sklearn.linear_model import LogisticRegression\n",
    "from sklearn.ensemble import RandomForestClassifier\n",
    "\n",
    "from xgboost import XGBClassifier\n",
    "\n",
    "from _preprocessing import merge_tables\n",
    "from _preprocessing import onehot_encoding\n",
    "from _preprocessing import GeneralLabelEncoder\n",
    "from _model_tunning import roc_auc\n",
    "from _input_output import feature_importance_df\n",
    "from _input_output import write_submit_csv\n",
    "\n",
    "INP_DIR = \"data/data_\"\n",
    "OUT_DIR = \"data/tuning_\"\n",
    "SUBMIT_DIR = \"data/submit_\""
   ]
  },
  {
   "cell_type": "markdown",
   "metadata": {},
   "source": [
    "# Load data"
   ]
  },
  {
   "cell_type": "code",
   "execution_count": 2,
   "metadata": {},
   "outputs": [
    {
     "name": "stdout",
     "output_type": "stream",
     "text": [
      "[]\n",
      "Loading data/data_/application_train.csv\n",
      "Memory usage before changing types 294.90 MB\n",
      "Memory usage after changing types 133.77 MB\n",
      "Memory usage before changing types 133.77 MB\n",
      "Memory usage after changing types 133.77 MB\n",
      "Loading data/data_/application_test.csv\n",
      "Memory usage before changing types 46.70 MB\n",
      "Memory usage after changing types 21.16 MB\n",
      "Memory usage before changing types 21.16 MB\n",
      "Memory usage after changing types 21.16 MB\n",
      "X_train shape: (307511, 124)\n",
      "y_train shape: (307511,)\n",
      "X_test shape: (48744, 124)\n",
      "id_test shape: (48744, 1)\n"
     ]
    }
   ],
   "source": [
    "main_csv_train = os.path.join(INP_DIR, \"application_train.csv\")\n",
    "main_csv_test = os.path.join(INP_DIR, \"application_test.csv\")\n",
    "\n",
    "add_files = []\n",
    "prefixes = []\n",
    "\n",
    "other_csv_files = [os.path.join(INP_DIR, f) for f in add_files]\n",
    "print(other_csv_files)\n",
    "\n",
    "X_train = merge_tables(main_csv_train, other_csv_files=other_csv_files, prefixes=prefixes)\n",
    "X_test = merge_tables(main_csv_test, other_csv_files=other_csv_files, prefixes=prefixes)\n",
    "\n",
    "y_train = X_train[\"TARGET\"]\n",
    "X_train = X_train.drop([\"SK_ID_CURR\", \"TARGET\"], axis=1)\n",
    "\n",
    "id_test = X_test[[\"SK_ID_CURR\"]]\n",
    "X_test = X_test.drop([\"SK_ID_CURR\"], axis=1)\n",
    "\n",
    "print(\"X_train shape:\", X_train.shape)\n",
    "print(\"y_train shape:\", y_train.shape)\n",
    "print(\"X_test shape:\", X_test.shape)\n",
    "print(\"id_test shape:\", id_test.shape)"
   ]
  },
  {
   "cell_type": "markdown",
   "metadata": {},
   "source": [
    "# Logistic Regression"
   ]
  },
  {
   "cell_type": "code",
   "execution_count": 3,
   "metadata": {},
   "outputs": [
    {
     "name": "stdout",
     "output_type": "stream",
     "text": [
      "X_train_lr shape: (307511, 245)\n",
      "X_test_lr shape: (48744, 245)\n"
     ]
    },
    {
     "name": "stderr",
     "output_type": "stream",
     "text": [
      "//anaconda3/lib/python3.7/site-packages/sklearn/utils/deprecation.py:66: DeprecationWarning: Class Imputer is deprecated; Imputer was deprecated in version 0.20 and will be removed in 0.22. Import impute.SimpleImputer from sklearn instead.\n",
      "  warnings.warn(msg, category=DeprecationWarning)\n"
     ]
    }
   ],
   "source": [
    "# One hot encoding\n",
    "X_train_lr, X_test_lr = onehot_encoding(X_train, X_test)\n",
    "print(\"X_train_lr shape:\", X_train_lr.shape)\n",
    "print(\"X_test_lr shape:\", X_test_lr.shape)\n",
    "\n",
    "\n",
    "# Impute missing values\n",
    "imputer = Imputer(strategy=\"median\")\n",
    "imputer.fit(X_train_lr)\n",
    "\n",
    "X_train_lr = imputer.transform(X_train_lr)\n",
    "X_test_lr = imputer.transform(X_test_lr)\n",
    "\n",
    "# standardize features\n",
    "std_scaler = StandardScaler()\n",
    "std_scaler.fit(X_train_lr)\n",
    "\n",
    "X_train_lr = std_scaler.transform(X_train_lr)\n",
    "X_test_lr = std_scaler.transform(X_test_lr)\n",
    "\n",
    "# train test split\n",
    "X_train_lr_1, X_eval, y_train_1, y_eval = train_test_split(X_train_lr, y_train, test_size=0.2, \n",
    "                                                           random_state=123, stratify=y_train)"
   ]
  },
  {
   "cell_type": "code",
   "execution_count": 4,
   "metadata": {},
   "outputs": [
    {
     "data": {
      "text/plain": [
       "LogisticRegression(C=1.0, class_weight=None, dual=False, fit_intercept=True,\n",
       "                   intercept_scaling=1, l1_ratio=None, max_iter=100,\n",
       "                   multi_class='warn', n_jobs=None, penalty='l2',\n",
       "                   random_state=None, solver='warn', tol=0.0001, verbose=0,\n",
       "                   warm_start=False)"
      ]
     },
     "execution_count": 4,
     "metadata": {},
     "output_type": "execute_result"
    }
   ],
   "source": [
    "lr = LogisticRegression()\n",
    "lr.fit(X_train_lr_1, y_train_1)"
   ]
  },
  {
   "cell_type": "code",
   "execution_count": 11,
   "metadata": {},
   "outputs": [
    {
     "name": "stdout",
     "output_type": "stream",
     "text": [
      "AUC of Logistic regression model on an evaluation set: 0.74462\n"
     ]
    }
   ],
   "source": [
    "auc_lr = roc_auc(lr, X_eval, y_eval)\n",
    "print(\"AUC of Logistic regression model on an evaluation set: %0.5f\" % auc_lr)"
   ]
  },
  {
   "cell_type": "code",
   "execution_count": 15,
   "metadata": {},
   "outputs": [],
   "source": [
    "# fit on the whole set\n",
    "lr.fit(X_train_lr, y_train)\n",
    "\n",
    "# write the Kaggle submission file\n",
    "write_submit_csv(lr, X_test_lr, id_test, os.path.join(SUBMIT_DIR, \"baseline_lr.csv\"))"
   ]
  },
  {
   "cell_type": "code",
   "execution_count": 16,
   "metadata": {},
   "outputs": [],
   "source": [
    "del X_train_lr, X_test_lr, X_train_lr_1, X_eval, y_train_1, y_eval"
   ]
  },
  {
   "cell_type": "markdown",
   "metadata": {},
   "source": [
    "# Random Forest"
   ]
  },
  {
   "cell_type": "code",
   "execution_count": 17,
   "metadata": {},
   "outputs": [
    {
     "name": "stdout",
     "output_type": "stream",
     "text": [
      "X_train_rf shape: (307511, 245)\n",
      "X_test_rf shape: (48744, 245)\n"
     ]
    }
   ],
   "source": [
    "# One hot encoding\n",
    "X_train_rf, X_test_rf = onehot_encoding(X_train, X_test)\n",
    "print(\"X_train_rf shape:\", X_train_rf.shape)\n",
    "print(\"X_test_rf shape:\", X_test_rf.shape)\n",
    "\n",
    "\n",
    "# Impute missing values\n",
    "imputer = Imputer(strategy=\"median\")\n",
    "imputer.fit(X_train_rf)\n",
    "\n",
    "X_train_rf = imputer.transform(X_train_rf)\n",
    "X_test_rf = imputer.transform(X_test_rf)\n",
    "\n",
    "# no need to standardize features\n",
    "\n",
    "# train test split\n",
    "X_train_rf_1, X_eval, y_train_1, y_eval = train_test_split(X_train_rf, y_train, test_size=0.2, \n",
    "                                                           random_state=123, stratify=y_train)"
   ]
  },
  {
   "cell_type": "code",
   "execution_count": 18,
   "metadata": {},
   "outputs": [
    {
     "data": {
      "text/plain": [
       "RandomForestClassifier(bootstrap=True, class_weight=None, criterion='gini',\n",
       "                       max_depth=5, max_features='auto', max_leaf_nodes=None,\n",
       "                       min_impurity_decrease=0.0, min_impurity_split=None,\n",
       "                       min_samples_leaf=1, min_samples_split=2,\n",
       "                       min_weight_fraction_leaf=0.0, n_estimators=500,\n",
       "                       n_jobs=None, oob_score=False, random_state=None,\n",
       "                       verbose=0, warm_start=False)"
      ]
     },
     "execution_count": 18,
     "metadata": {},
     "output_type": "execute_result"
    }
   ],
   "source": [
    "rf = RandomForestClassifier(n_estimators=500, max_depth=5)\n",
    "rf.fit(X_train_rf_1, y_train_1)"
   ]
  },
  {
   "cell_type": "code",
   "execution_count": 19,
   "metadata": {},
   "outputs": [
    {
     "name": "stdout",
     "output_type": "stream",
     "text": [
      "AUC of Random Forest model on an evaluation set: 0.72559\n"
     ]
    }
   ],
   "source": [
    "auc_rf = roc_auc(rf, X_eval, y_eval)\n",
    "print(\"AUC of Random Forest model on an evaluation set: %0.5f\" % auc_rf)"
   ]
  },
  {
   "cell_type": "code",
   "execution_count": 20,
   "metadata": {},
   "outputs": [],
   "source": [
    "# fit on the whole set\n",
    "rf.fit(X_train_rf, y_train)\n",
    "\n",
    "# write the Kaggle submission file\n",
    "write_submit_csv(rf, X_test_rf, id_test, os.path.join(SUBMIT_DIR, \"baseline_rf.csv\"))"
   ]
  },
  {
   "cell_type": "code",
   "execution_count": 22,
   "metadata": {},
   "outputs": [],
   "source": [
    "del X_train_rf, X_test_rf, X_train_rf_1, X_eval, y_train_1, y_eval"
   ]
  },
  {
   "cell_type": "markdown",
   "metadata": {},
   "source": [
    "# XGBoost"
   ]
  },
  {
   "cell_type": "markdown",
   "metadata": {},
   "source": [
    "## One-hot encoding"
   ]
  },
  {
   "cell_type": "code",
   "execution_count": 26,
   "metadata": {},
   "outputs": [
    {
     "name": "stdout",
     "output_type": "stream",
     "text": [
      "X_train_xgb shape: (307511, 245)\n",
      "X_test_xgb shape: (48744, 245)\n"
     ]
    }
   ],
   "source": [
    "# One hot encoding\n",
    "X_train_xgb, X_test_xgb = onehot_encoding(X_train, X_test)\n",
    "print(\"X_train_xgb shape:\", X_train_xgb.shape)\n",
    "print(\"X_test_xgb shape:\", X_test_xgb.shape)\n",
    "\n",
    "features = list(X_train_xgb.columns)\n",
    "\n",
    "# No need to impute missing values, since XGBoost can handle missing values automatically\n",
    "# no need to standardize features\n",
    "\n",
    "# train test split\n",
    "X_train_xgb_1, X_eval, y_train_1, y_eval = train_test_split(X_train_xgb, y_train, test_size=0.2, \n",
    "                                                           random_state=123, stratify=y_train)"
   ]
  },
  {
   "cell_type": "code",
   "execution_count": 24,
   "metadata": {},
   "outputs": [
    {
     "data": {
      "text/plain": [
       "XGBClassifier(base_score=0.5, booster='gbtree', colsample_bylevel=1,\n",
       "              colsample_bynode=1, colsample_bytree=1, gamma=0,\n",
       "              learning_rate=0.1, max_delta_step=0, max_depth=3,\n",
       "              min_child_weight=1, missing=None, n_estimators=100, n_jobs=1,\n",
       "              nthread=None, objective='binary:logistic', random_state=0,\n",
       "              reg_alpha=0, reg_lambda=1, scale_pos_weight=1, seed=None,\n",
       "              silent=None, subsample=1, verbosity=1)"
      ]
     },
     "execution_count": 24,
     "metadata": {},
     "output_type": "execute_result"
    }
   ],
   "source": [
    "xgb = XGBClassifier()\n",
    "xgb.fit(X_train_xgb_1, y_train_1)"
   ]
  },
  {
   "cell_type": "code",
   "execution_count": 25,
   "metadata": {},
   "outputs": [
    {
     "name": "stdout",
     "output_type": "stream",
     "text": [
      "AUC of XGBoost model on an evaluation set: 0.74998\n"
     ]
    }
   ],
   "source": [
    "auc_xgb = roc_auc(xgb, X_eval, y_eval)\n",
    "print(\"AUC of XGBoost model on an evaluation set: %0.5f\" % auc_xgb)"
   ]
  },
  {
   "cell_type": "code",
   "execution_count": 28,
   "metadata": {},
   "outputs": [
    {
     "data": {
      "text/html": [
       "<div>\n",
       "<style scoped>\n",
       "    .dataframe tbody tr th:only-of-type {\n",
       "        vertical-align: middle;\n",
       "    }\n",
       "\n",
       "    .dataframe tbody tr th {\n",
       "        vertical-align: top;\n",
       "    }\n",
       "\n",
       "    .dataframe thead th {\n",
       "        text-align: right;\n",
       "    }\n",
       "</style>\n",
       "<table border=\"1\" class=\"dataframe\">\n",
       "  <thead>\n",
       "    <tr style=\"text-align: right;\">\n",
       "      <th></th>\n",
       "      <th>feature</th>\n",
       "      <th>importance</th>\n",
       "    </tr>\n",
       "  </thead>\n",
       "  <tbody>\n",
       "    <tr>\n",
       "      <th>29</th>\n",
       "      <td>EXT_SOURCE_3</td>\n",
       "      <td>0.077464</td>\n",
       "    </tr>\n",
       "    <tr>\n",
       "      <th>28</th>\n",
       "      <td>EXT_SOURCE_2</td>\n",
       "      <td>0.069141</td>\n",
       "    </tr>\n",
       "    <tr>\n",
       "      <th>131</th>\n",
       "      <td>NAME_EDUCATION_TYPE_Higher education</td>\n",
       "      <td>0.055505</td>\n",
       "    </tr>\n",
       "    <tr>\n",
       "      <th>111</th>\n",
       "      <td>CODE_GENDER_M</td>\n",
       "      <td>0.042869</td>\n",
       "    </tr>\n",
       "    <tr>\n",
       "      <th>7</th>\n",
       "      <td>DAYS_EMPLOYED</td>\n",
       "      <td>0.039880</td>\n",
       "    </tr>\n",
       "    <tr>\n",
       "      <th>134</th>\n",
       "      <td>NAME_EDUCATION_TYPE_Secondary / secondary special</td>\n",
       "      <td>0.032959</td>\n",
       "    </tr>\n",
       "    <tr>\n",
       "      <th>79</th>\n",
       "      <td>FLAG_DOCUMENT_3</td>\n",
       "      <td>0.032595</td>\n",
       "    </tr>\n",
       "    <tr>\n",
       "      <th>110</th>\n",
       "      <td>CODE_GENDER_F</td>\n",
       "      <td>0.031180</td>\n",
       "    </tr>\n",
       "    <tr>\n",
       "      <th>107</th>\n",
       "      <td>CREDIT_TO_GOODS</td>\n",
       "      <td>0.030561</td>\n",
       "    </tr>\n",
       "    <tr>\n",
       "      <th>3</th>\n",
       "      <td>AMT_ANNUITY</td>\n",
       "      <td>0.025143</td>\n",
       "    </tr>\n",
       "    <tr>\n",
       "      <th>27</th>\n",
       "      <td>EXT_SOURCE_1</td>\n",
       "      <td>0.024970</td>\n",
       "    </tr>\n",
       "    <tr>\n",
       "      <th>4</th>\n",
       "      <td>AMT_GOODS_PRICE</td>\n",
       "      <td>0.024613</td>\n",
       "    </tr>\n",
       "    <tr>\n",
       "      <th>72</th>\n",
       "      <td>TOTALAREA_MODE</td>\n",
       "      <td>0.023652</td>\n",
       "    </tr>\n",
       "    <tr>\n",
       "      <th>74</th>\n",
       "      <td>DEF_30_CNT_SOCIAL_CIRCLE</td>\n",
       "      <td>0.021784</td>\n",
       "    </tr>\n",
       "    <tr>\n",
       "      <th>10</th>\n",
       "      <td>OWN_CAR_AGE</td>\n",
       "      <td>0.021245</td>\n",
       "    </tr>\n",
       "    <tr>\n",
       "      <th>129</th>\n",
       "      <td>NAME_INCOME_TYPE_Working</td>\n",
       "      <td>0.019168</td>\n",
       "    </tr>\n",
       "    <tr>\n",
       "      <th>13</th>\n",
       "      <td>FLAG_WORK_PHONE</td>\n",
       "      <td>0.018376</td>\n",
       "    </tr>\n",
       "    <tr>\n",
       "      <th>6</th>\n",
       "      <td>DAYS_BIRTH</td>\n",
       "      <td>0.018222</td>\n",
       "    </tr>\n",
       "    <tr>\n",
       "      <th>37</th>\n",
       "      <td>FLOORSMAX_AVG</td>\n",
       "      <td>0.016338</td>\n",
       "    </tr>\n",
       "    <tr>\n",
       "      <th>19</th>\n",
       "      <td>REGION_RATING_CLIENT_W_CITY</td>\n",
       "      <td>0.015732</td>\n",
       "    </tr>\n",
       "  </tbody>\n",
       "</table>\n",
       "</div>"
      ],
      "text/plain": [
       "                                               feature  importance\n",
       "29                                        EXT_SOURCE_3    0.077464\n",
       "28                                        EXT_SOURCE_2    0.069141\n",
       "131               NAME_EDUCATION_TYPE_Higher education    0.055505\n",
       "111                                      CODE_GENDER_M    0.042869\n",
       "7                                        DAYS_EMPLOYED    0.039880\n",
       "134  NAME_EDUCATION_TYPE_Secondary / secondary special    0.032959\n",
       "79                                     FLAG_DOCUMENT_3    0.032595\n",
       "110                                      CODE_GENDER_F    0.031180\n",
       "107                                    CREDIT_TO_GOODS    0.030561\n",
       "3                                          AMT_ANNUITY    0.025143\n",
       "27                                        EXT_SOURCE_1    0.024970\n",
       "4                                      AMT_GOODS_PRICE    0.024613\n",
       "72                                      TOTALAREA_MODE    0.023652\n",
       "74                            DEF_30_CNT_SOCIAL_CIRCLE    0.021784\n",
       "10                                         OWN_CAR_AGE    0.021245\n",
       "129                           NAME_INCOME_TYPE_Working    0.019168\n",
       "13                                     FLAG_WORK_PHONE    0.018376\n",
       "6                                           DAYS_BIRTH    0.018222\n",
       "37                                       FLOORSMAX_AVG    0.016338\n",
       "19                         REGION_RATING_CLIENT_W_CITY    0.015732"
      ]
     },
     "execution_count": 28,
     "metadata": {},
     "output_type": "execute_result"
    }
   ],
   "source": [
    "feature_importance = feature_importance_df(xgb, features)\n",
    "feature_importance.head(20)"
   ]
  },
  {
   "cell_type": "code",
   "execution_count": 29,
   "metadata": {},
   "outputs": [],
   "source": [
    "# fit on the whole set\n",
    "xgb.fit(X_train_xgb, y_train)\n",
    "\n",
    "# write the Kaggle submission file\n",
    "write_submit_csv(xgb, X_test_xgb, id_test, os.path.join(SUBMIT_DIR, \"baseline_xgb_ohe.csv\"))"
   ]
  },
  {
   "cell_type": "code",
   "execution_count": 30,
   "metadata": {},
   "outputs": [],
   "source": [
    "del X_train_xgb, X_test_xgb, X_train_xgb_1, X_eval, y_train_1, y_eval"
   ]
  },
  {
   "cell_type": "markdown",
   "metadata": {},
   "source": [
    "## Label encoding"
   ]
  },
  {
   "cell_type": "markdown",
   "metadata": {},
   "source": [
    "Some guy said on Kaggle that using lable encoding can improve the performance a little bit. Let's try that."
   ]
  },
  {
   "cell_type": "code",
   "execution_count": 33,
   "metadata": {},
   "outputs": [
    {
     "name": "stdout",
     "output_type": "stream",
     "text": [
      "X_train_xgb shape: (307511, 124)\n",
      "X_test_xgb shape: (48744, 124)\n"
     ]
    }
   ],
   "source": [
    "# Label encoding\n",
    "lbe = GeneralLabelEncoder()\n",
    "lbe.fit(X_train)\n",
    "X_train_xgb = lbe.transform(X_train)\n",
    "X_test_xgb = lbe.transform(X_test)\n",
    "\n",
    "print(\"X_train_xgb shape:\", X_train_xgb.shape)\n",
    "print(\"X_test_xgb shape:\", X_test_xgb.shape)\n",
    "\n",
    "features = list(X_train_xgb.columns)\n",
    "\n",
    "# No need to impute missing values, since XGBoost can handle missing values automatically\n",
    "# no need to standardize features\n",
    "\n",
    "# train test split\n",
    "X_train_xgb_1, X_eval, y_train_1, y_eval = train_test_split(X_train_xgb, y_train, test_size=0.2, \n",
    "                                                           random_state=123, stratify=y_train)"
   ]
  },
  {
   "cell_type": "code",
   "execution_count": 34,
   "metadata": {},
   "outputs": [
    {
     "data": {
      "text/plain": [
       "XGBClassifier(base_score=0.5, booster='gbtree', colsample_bylevel=1,\n",
       "              colsample_bynode=1, colsample_bytree=1, gamma=0,\n",
       "              learning_rate=0.1, max_delta_step=0, max_depth=3,\n",
       "              min_child_weight=1, missing=None, n_estimators=100, n_jobs=1,\n",
       "              nthread=None, objective='binary:logistic', random_state=0,\n",
       "              reg_alpha=0, reg_lambda=1, scale_pos_weight=1, seed=None,\n",
       "              silent=None, subsample=1, verbosity=1)"
      ]
     },
     "execution_count": 34,
     "metadata": {},
     "output_type": "execute_result"
    }
   ],
   "source": [
    "xgb = XGBClassifier()\n",
    "xgb.fit(X_train_xgb_1, y_train_1)"
   ]
  },
  {
   "cell_type": "code",
   "execution_count": 35,
   "metadata": {},
   "outputs": [
    {
     "name": "stdout",
     "output_type": "stream",
     "text": [
      "AUC of XGBoost model on an evaluation set: 0.75001\n"
     ]
    }
   ],
   "source": [
    "auc_xgb = roc_auc(xgb, X_eval, y_eval)\n",
    "print(\"AUC of XGBoost model on an evaluation set: %0.5f\" % auc_xgb)"
   ]
  },
  {
   "cell_type": "markdown",
   "metadata": {},
   "source": [
    "The performance increases very slightly."
   ]
  },
  {
   "cell_type": "code",
   "execution_count": 36,
   "metadata": {},
   "outputs": [
    {
     "data": {
      "text/html": [
       "<div>\n",
       "<style scoped>\n",
       "    .dataframe tbody tr th:only-of-type {\n",
       "        vertical-align: middle;\n",
       "    }\n",
       "\n",
       "    .dataframe tbody tr th {\n",
       "        vertical-align: top;\n",
       "    }\n",
       "\n",
       "    .dataframe thead th {\n",
       "        text-align: right;\n",
       "    }\n",
       "</style>\n",
       "<table border=\"1\" class=\"dataframe\">\n",
       "  <thead>\n",
       "    <tr style=\"text-align: right;\">\n",
       "      <th></th>\n",
       "      <th>feature</th>\n",
       "      <th>importance</th>\n",
       "    </tr>\n",
       "  </thead>\n",
       "  <tbody>\n",
       "    <tr>\n",
       "      <th>41</th>\n",
       "      <td>EXT_SOURCE_3</td>\n",
       "      <td>0.091609</td>\n",
       "    </tr>\n",
       "    <tr>\n",
       "      <th>40</th>\n",
       "      <td>EXT_SOURCE_2</td>\n",
       "      <td>0.082087</td>\n",
       "    </tr>\n",
       "    <tr>\n",
       "      <th>11</th>\n",
       "      <td>NAME_EDUCATION_TYPE</td>\n",
       "      <td>0.058733</td>\n",
       "    </tr>\n",
       "    <tr>\n",
       "      <th>16</th>\n",
       "      <td>DAYS_EMPLOYED</td>\n",
       "      <td>0.049408</td>\n",
       "    </tr>\n",
       "    <tr>\n",
       "      <th>86</th>\n",
       "      <td>TOTALAREA_MODE</td>\n",
       "      <td>0.047653</td>\n",
       "    </tr>\n",
       "    <tr>\n",
       "      <th>1</th>\n",
       "      <td>CODE_GENDER</td>\n",
       "      <td>0.046117</td>\n",
       "    </tr>\n",
       "    <tr>\n",
       "      <th>123</th>\n",
       "      <td>CREDIT_TO_GOODS</td>\n",
       "      <td>0.040074</td>\n",
       "    </tr>\n",
       "    <tr>\n",
       "      <th>8</th>\n",
       "      <td>AMT_GOODS_PRICE</td>\n",
       "      <td>0.037391</td>\n",
       "    </tr>\n",
       "    <tr>\n",
       "      <th>95</th>\n",
       "      <td>FLAG_DOCUMENT_3</td>\n",
       "      <td>0.032057</td>\n",
       "    </tr>\n",
       "    <tr>\n",
       "      <th>39</th>\n",
       "      <td>EXT_SOURCE_1</td>\n",
       "      <td>0.031904</td>\n",
       "    </tr>\n",
       "    <tr>\n",
       "      <th>10</th>\n",
       "      <td>NAME_INCOME_TYPE</td>\n",
       "      <td>0.027986</td>\n",
       "    </tr>\n",
       "    <tr>\n",
       "      <th>90</th>\n",
       "      <td>DEF_30_CNT_SOCIAL_CIRCLE</td>\n",
       "      <td>0.025638</td>\n",
       "    </tr>\n",
       "    <tr>\n",
       "      <th>53</th>\n",
       "      <td>LIVINGAREA_AVG</td>\n",
       "      <td>0.025597</td>\n",
       "    </tr>\n",
       "    <tr>\n",
       "      <th>15</th>\n",
       "      <td>DAYS_BIRTH</td>\n",
       "      <td>0.025247</td>\n",
       "    </tr>\n",
       "    <tr>\n",
       "      <th>19</th>\n",
       "      <td>OWN_CAR_AGE</td>\n",
       "      <td>0.024850</td>\n",
       "    </tr>\n",
       "    <tr>\n",
       "      <th>7</th>\n",
       "      <td>AMT_ANNUITY</td>\n",
       "      <td>0.024576</td>\n",
       "    </tr>\n",
       "    <tr>\n",
       "      <th>29</th>\n",
       "      <td>REGION_RATING_CLIENT_W_CITY</td>\n",
       "      <td>0.021151</td>\n",
       "    </tr>\n",
       "    <tr>\n",
       "      <th>22</th>\n",
       "      <td>FLAG_WORK_PHONE</td>\n",
       "      <td>0.019316</td>\n",
       "    </tr>\n",
       "    <tr>\n",
       "      <th>70</th>\n",
       "      <td>APARTMENTS_MEDI</td>\n",
       "      <td>0.019148</td>\n",
       "    </tr>\n",
       "    <tr>\n",
       "      <th>93</th>\n",
       "      <td>DAYS_LAST_PHONE_CHANGE</td>\n",
       "      <td>0.018693</td>\n",
       "    </tr>\n",
       "  </tbody>\n",
       "</table>\n",
       "</div>"
      ],
      "text/plain": [
       "                         feature  importance\n",
       "41                  EXT_SOURCE_3    0.091609\n",
       "40                  EXT_SOURCE_2    0.082087\n",
       "11           NAME_EDUCATION_TYPE    0.058733\n",
       "16                 DAYS_EMPLOYED    0.049408\n",
       "86                TOTALAREA_MODE    0.047653\n",
       "1                    CODE_GENDER    0.046117\n",
       "123              CREDIT_TO_GOODS    0.040074\n",
       "8                AMT_GOODS_PRICE    0.037391\n",
       "95               FLAG_DOCUMENT_3    0.032057\n",
       "39                  EXT_SOURCE_1    0.031904\n",
       "10              NAME_INCOME_TYPE    0.027986\n",
       "90      DEF_30_CNT_SOCIAL_CIRCLE    0.025638\n",
       "53                LIVINGAREA_AVG    0.025597\n",
       "15                    DAYS_BIRTH    0.025247\n",
       "19                   OWN_CAR_AGE    0.024850\n",
       "7                    AMT_ANNUITY    0.024576\n",
       "29   REGION_RATING_CLIENT_W_CITY    0.021151\n",
       "22               FLAG_WORK_PHONE    0.019316\n",
       "70               APARTMENTS_MEDI    0.019148\n",
       "93        DAYS_LAST_PHONE_CHANGE    0.018693"
      ]
     },
     "execution_count": 36,
     "metadata": {},
     "output_type": "execute_result"
    }
   ],
   "source": [
    "feature_importance = feature_importance_df(xgb, features)\n",
    "feature_importance.head(20)"
   ]
  },
  {
   "cell_type": "code",
   "execution_count": 37,
   "metadata": {},
   "outputs": [],
   "source": [
    "# fit on the whole set\n",
    "xgb.fit(X_train_xgb, y_train)\n",
    "\n",
    "# write the Kaggle submission file\n",
    "write_submit_csv(xgb, X_test_xgb, id_test, os.path.join(SUBMIT_DIR, \"baseline_xgb_lbe.csv\"))"
   ]
  },
  {
   "cell_type": "markdown",
   "metadata": {},
   "source": [
    "Submitting this result to Kaggle gives an AUC of 0.73778."
   ]
  }
 ],
 "metadata": {
  "kernelspec": {
   "display_name": "Python 3",
   "language": "python",
   "name": "python3"
  },
  "language_info": {
   "codemirror_mode": {
    "name": "ipython",
    "version": 3
   },
   "file_extension": ".py",
   "mimetype": "text/x-python",
   "name": "python",
   "nbconvert_exporter": "python",
   "pygments_lexer": "ipython3",
   "version": "3.7.3"
  }
 },
 "nbformat": 4,
 "nbformat_minor": 2
}
