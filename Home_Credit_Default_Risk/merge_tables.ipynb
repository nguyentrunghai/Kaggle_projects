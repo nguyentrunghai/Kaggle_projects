{
 "cells": [
  {
   "cell_type": "markdown",
   "metadata": {},
   "source": [
    "In this notebook we will aggregate and merge tables"
   ]
  },
  {
   "cell_type": "code",
   "execution_count": 1,
   "metadata": {},
   "outputs": [],
   "source": [
    "import os\n",
    "import pandas as pd\n",
    "import numpy as np\n",
    "\n",
    "from preprocessing import aggregate\n",
    "\n",
    "INP_DIR = \"data/download\"\n",
    "OUT_DIR = \"data/data_\"\n",
    "\n",
    "NUM_STATS = (\"count\", \"median\", \"min\", \"max\", \"sum\")\n",
    "CAT_STATS = ((\"count\", \"sum\"), (\"percent\", \"mean\"))"
   ]
  },
  {
   "cell_type": "markdown",
   "metadata": {},
   "source": [
    "## Load `application_train.csv` and `application_test.csv`"
   ]
  },
  {
   "cell_type": "code",
   "execution_count": 2,
   "metadata": {},
   "outputs": [
    {
     "name": "stdout",
     "output_type": "stream",
     "text": [
      "application_train shape (307511, 122)\n",
      "application_test shape (48744, 121)\n"
     ]
    }
   ],
   "source": [
    "application_train = pd.read_csv(os.path.join(INP_DIR, \"application_train.csv\"))\n",
    "application_test = pd.read_csv(os.path.join(INP_DIR, \"application_test.csv\"))\n",
    "\n",
    "print(\"application_train shape\", application_train.shape)\n",
    "print(\"application_test shape\", application_test.shape)"
   ]
  },
  {
   "cell_type": "markdown",
   "metadata": {},
   "source": [
    "## Write to csv"
   ]
  },
  {
   "cell_type": "code",
   "execution_count": 3,
   "metadata": {},
   "outputs": [],
   "source": [
    "X_train_0 = application_train.drop([\"SK_ID_CURR\", \"TARGET\"], axis=1)\n",
    "y_train = application_train[[\"TARGET\"]]\n",
    "\n",
    "X_test_0 = application_test.drop([\"SK_ID_CURR\"], axis=1)\n",
    "id_test =  application_test[[\"SK_ID_CURR\"]]\n",
    "\n",
    "\n",
    "# write to csv files\n",
    "X_train_0.to_csv(os.path.join(OUT_DIR, \"X_train_0.csv\"), index=False)\n",
    "y_train.to_csv(os.path.join(OUT_DIR, \"y_train.csv\"), index=False)\n",
    "\n",
    "X_test_0.to_csv(os.path.join(OUT_DIR, \"X_test_0.csv\"), index=False)\n",
    "id_test.to_csv(os.path.join(OUT_DIR, \"id_test.csv\"), index=False)\n",
    "\n",
    "del X_train_0, y_train, X_test_0, id_test"
   ]
  },
  {
   "cell_type": "code",
   "execution_count": null,
   "metadata": {},
   "outputs": [],
   "source": []
  },
  {
   "cell_type": "markdown",
   "metadata": {},
   "source": [
    "## Aggregate table `bureau_balance` by column `SK_ID_BUREAU`"
   ]
  },
  {
   "cell_type": "code",
   "execution_count": 4,
   "metadata": {},
   "outputs": [],
   "source": [
    "bureau_balance = pd.read_csv(os.path.join(INP_DIR, \"bureau_balance.csv\"))\n",
    "\n",
    "bureau_balance_agg = aggregate(bureau_balance, by=[\"SK_ID_BUREAU\"], \n",
    "                               num_stats=NUM_STATS, cat_stats=CAT_STATS,\n",
    "                               prefix=\"bb_\")\n",
    "\n",
    "del bureau_balance\n",
    "\n",
    "bureau_balance_agg.head()"
   ]
  },
  {
   "cell_type": "markdown",
   "metadata": {},
   "source": [
    "## Merge table `bureau_balance_agg` with table `bureau` on column `SK_ID_BUREAU`"
   ]
  },
  {
   "cell_type": "code",
   "execution_count": 5,
   "metadata": {},
   "outputs": [
    {
     "name": "stdout",
     "output_type": "stream",
     "text": [
      "bureau shape: (1716428, 17)\n",
      "bureau_merge shape: (1716428, 37)\n"
     ]
    }
   ],
   "source": [
    "bureau = pd.read_csv(os.path.join(INP_DIR, \"bureau.csv\"))\n",
    "\n",
    "bureau_merge = bureau.merge(bureau_balance_agg, how=\"left\", on=\"SK_ID_BUREAU\")\n",
    "\n",
    "bureau_merge = bureau_merge.drop([\"SK_ID_BUREAU\"], axis=1)\n",
    "\n",
    "print(\"bureau shape:\", bureau.shape)\n",
    "print(\"bureau_merge shape:\", bureau_merge.shape)\n",
    "\n",
    "del bureau\n",
    "\n",
    "bureau_merge.head()"
   ]
  },
  {
   "cell_type": "markdown",
   "metadata": {},
   "source": [
    "## Aggregate table `bureau_merge` by column `SK_ID_CURR`"
   ]
  },
  {
   "cell_type": "code",
   "execution_count": 6,
   "metadata": {},
   "outputs": [
    {
     "name": "stdout",
     "output_type": "stream",
     "text": [
      "bureau_merge shape: (1716428, 37)\n",
      "bureau_agg shape: (305811, 212)\n",
      "application_train shape: (307511, 122)\n"
     ]
    }
   ],
   "source": [
    "bureau_agg = aggregate(bureau_merge, by=[\"SK_ID_CURR\"], num_stats=NUM_STATS, cat_stats=CAT_STATS, prefix=\"bu_\")\n",
    "\n",
    "print(\"bureau_merge shape:\", bureau_merge.shape)\n",
    "print(\"bureau_agg shape:\", bureau_agg.shape)\n",
    "print(\"application_train shape:\", application_train.shape)\n",
    "\n",
    "del bureau_merge\n",
    "\n",
    "bureau_agg.head()"
   ]
  },
  {
   "cell_type": "markdown",
   "metadata": {},
   "source": [
    "## Merge table `bureau_agg` with `application_train` and `application_test`"
   ]
  },
  {
   "cell_type": "code",
   "execution_count": 7,
   "metadata": {},
   "outputs": [
    {
     "name": "stdout",
     "output_type": "stream",
     "text": [
      "application_train shape: (307511, 122)\n",
      "application_bureau_train shape: (307511, 333)\n",
      "application_test shape: (48744, 121)\n",
      "application_bureau_test shape: (48744, 332)\n"
     ]
    }
   ],
   "source": [
    "application_bureau_train = application_train.merge(bureau_agg, how=\"left\", on=\"SK_ID_CURR\")\n",
    "application_bureau_test = application_test.merge(bureau_agg, how=\"left\", on=\"SK_ID_CURR\")\n",
    "\n",
    "print(\"application_train shape:\", application_train.shape)\n",
    "print(\"application_bureau_train shape:\", application_bureau_train.shape)\n",
    "\n",
    "print(\"application_test shape:\", application_test.shape)\n",
    "print(\"application_bureau_test shape:\", application_bureau_test.shape)\n",
    "\n",
    "del bureau_agg"
   ]
  },
  {
   "cell_type": "code",
   "execution_count": 8,
   "metadata": {},
   "outputs": [
    {
     "data": {
      "text/html": [
       "<div>\n",
       "<style scoped>\n",
       "    .dataframe tbody tr th:only-of-type {\n",
       "        vertical-align: middle;\n",
       "    }\n",
       "\n",
       "    .dataframe tbody tr th {\n",
       "        vertical-align: top;\n",
       "    }\n",
       "\n",
       "    .dataframe thead th {\n",
       "        text-align: right;\n",
       "    }\n",
       "</style>\n",
       "<table border=\"1\" class=\"dataframe\">\n",
       "  <thead>\n",
       "    <tr style=\"text-align: right;\">\n",
       "      <th></th>\n",
       "      <th>SK_ID_CURR</th>\n",
       "      <th>TARGET</th>\n",
       "      <th>NAME_CONTRACT_TYPE</th>\n",
       "      <th>CODE_GENDER</th>\n",
       "      <th>FLAG_OWN_CAR</th>\n",
       "      <th>FLAG_OWN_REALTY</th>\n",
       "      <th>CNT_CHILDREN</th>\n",
       "      <th>AMT_INCOME_TOTAL</th>\n",
       "      <th>AMT_CREDIT</th>\n",
       "      <th>AMT_ANNUITY</th>\n",
       "      <th>...</th>\n",
       "      <th>bu_CREDIT_TYPE_Microloan_count</th>\n",
       "      <th>bu_CREDIT_TYPE_Microloan_percent</th>\n",
       "      <th>bu_CREDIT_TYPE_Mobile operator loan_count</th>\n",
       "      <th>bu_CREDIT_TYPE_Mobile operator loan_percent</th>\n",
       "      <th>bu_CREDIT_TYPE_Mortgage_count</th>\n",
       "      <th>bu_CREDIT_TYPE_Mortgage_percent</th>\n",
       "      <th>bu_CREDIT_TYPE_Real estate loan_count</th>\n",
       "      <th>bu_CREDIT_TYPE_Real estate loan_percent</th>\n",
       "      <th>bu_CREDIT_TYPE_Unknown type of loan_count</th>\n",
       "      <th>bu_CREDIT_TYPE_Unknown type of loan_percent</th>\n",
       "    </tr>\n",
       "  </thead>\n",
       "  <tbody>\n",
       "    <tr>\n",
       "      <th>0</th>\n",
       "      <td>100002</td>\n",
       "      <td>1</td>\n",
       "      <td>Cash loans</td>\n",
       "      <td>M</td>\n",
       "      <td>N</td>\n",
       "      <td>Y</td>\n",
       "      <td>0</td>\n",
       "      <td>202500.0</td>\n",
       "      <td>406597.5</td>\n",
       "      <td>24700.5</td>\n",
       "      <td>...</td>\n",
       "      <td>0.0</td>\n",
       "      <td>0.0</td>\n",
       "      <td>0.0</td>\n",
       "      <td>0.0</td>\n",
       "      <td>0.0</td>\n",
       "      <td>0.0</td>\n",
       "      <td>0.0</td>\n",
       "      <td>0.0</td>\n",
       "      <td>0.0</td>\n",
       "      <td>0.0</td>\n",
       "    </tr>\n",
       "    <tr>\n",
       "      <th>1</th>\n",
       "      <td>100003</td>\n",
       "      <td>0</td>\n",
       "      <td>Cash loans</td>\n",
       "      <td>F</td>\n",
       "      <td>N</td>\n",
       "      <td>N</td>\n",
       "      <td>0</td>\n",
       "      <td>270000.0</td>\n",
       "      <td>1293502.5</td>\n",
       "      <td>35698.5</td>\n",
       "      <td>...</td>\n",
       "      <td>0.0</td>\n",
       "      <td>0.0</td>\n",
       "      <td>0.0</td>\n",
       "      <td>0.0</td>\n",
       "      <td>0.0</td>\n",
       "      <td>0.0</td>\n",
       "      <td>0.0</td>\n",
       "      <td>0.0</td>\n",
       "      <td>0.0</td>\n",
       "      <td>0.0</td>\n",
       "    </tr>\n",
       "    <tr>\n",
       "      <th>2</th>\n",
       "      <td>100004</td>\n",
       "      <td>0</td>\n",
       "      <td>Revolving loans</td>\n",
       "      <td>M</td>\n",
       "      <td>Y</td>\n",
       "      <td>Y</td>\n",
       "      <td>0</td>\n",
       "      <td>67500.0</td>\n",
       "      <td>135000.0</td>\n",
       "      <td>6750.0</td>\n",
       "      <td>...</td>\n",
       "      <td>0.0</td>\n",
       "      <td>0.0</td>\n",
       "      <td>0.0</td>\n",
       "      <td>0.0</td>\n",
       "      <td>0.0</td>\n",
       "      <td>0.0</td>\n",
       "      <td>0.0</td>\n",
       "      <td>0.0</td>\n",
       "      <td>0.0</td>\n",
       "      <td>0.0</td>\n",
       "    </tr>\n",
       "    <tr>\n",
       "      <th>3</th>\n",
       "      <td>100006</td>\n",
       "      <td>0</td>\n",
       "      <td>Cash loans</td>\n",
       "      <td>F</td>\n",
       "      <td>N</td>\n",
       "      <td>Y</td>\n",
       "      <td>0</td>\n",
       "      <td>135000.0</td>\n",
       "      <td>312682.5</td>\n",
       "      <td>29686.5</td>\n",
       "      <td>...</td>\n",
       "      <td>NaN</td>\n",
       "      <td>NaN</td>\n",
       "      <td>NaN</td>\n",
       "      <td>NaN</td>\n",
       "      <td>NaN</td>\n",
       "      <td>NaN</td>\n",
       "      <td>NaN</td>\n",
       "      <td>NaN</td>\n",
       "      <td>NaN</td>\n",
       "      <td>NaN</td>\n",
       "    </tr>\n",
       "    <tr>\n",
       "      <th>4</th>\n",
       "      <td>100007</td>\n",
       "      <td>0</td>\n",
       "      <td>Cash loans</td>\n",
       "      <td>M</td>\n",
       "      <td>N</td>\n",
       "      <td>Y</td>\n",
       "      <td>0</td>\n",
       "      <td>121500.0</td>\n",
       "      <td>513000.0</td>\n",
       "      <td>21865.5</td>\n",
       "      <td>...</td>\n",
       "      <td>0.0</td>\n",
       "      <td>0.0</td>\n",
       "      <td>0.0</td>\n",
       "      <td>0.0</td>\n",
       "      <td>0.0</td>\n",
       "      <td>0.0</td>\n",
       "      <td>0.0</td>\n",
       "      <td>0.0</td>\n",
       "      <td>0.0</td>\n",
       "      <td>0.0</td>\n",
       "    </tr>\n",
       "  </tbody>\n",
       "</table>\n",
       "<p>5 rows × 333 columns</p>\n",
       "</div>"
      ],
      "text/plain": [
       "   SK_ID_CURR  TARGET NAME_CONTRACT_TYPE CODE_GENDER FLAG_OWN_CAR  \\\n",
       "0      100002       1         Cash loans           M            N   \n",
       "1      100003       0         Cash loans           F            N   \n",
       "2      100004       0    Revolving loans           M            Y   \n",
       "3      100006       0         Cash loans           F            N   \n",
       "4      100007       0         Cash loans           M            N   \n",
       "\n",
       "  FLAG_OWN_REALTY  CNT_CHILDREN  AMT_INCOME_TOTAL  AMT_CREDIT  AMT_ANNUITY  \\\n",
       "0               Y             0          202500.0    406597.5      24700.5   \n",
       "1               N             0          270000.0   1293502.5      35698.5   \n",
       "2               Y             0           67500.0    135000.0       6750.0   \n",
       "3               Y             0          135000.0    312682.5      29686.5   \n",
       "4               Y             0          121500.0    513000.0      21865.5   \n",
       "\n",
       "   ...  bu_CREDIT_TYPE_Microloan_count bu_CREDIT_TYPE_Microloan_percent  \\\n",
       "0  ...                             0.0                              0.0   \n",
       "1  ...                             0.0                              0.0   \n",
       "2  ...                             0.0                              0.0   \n",
       "3  ...                             NaN                              NaN   \n",
       "4  ...                             0.0                              0.0   \n",
       "\n",
       "  bu_CREDIT_TYPE_Mobile operator loan_count  \\\n",
       "0                                       0.0   \n",
       "1                                       0.0   \n",
       "2                                       0.0   \n",
       "3                                       NaN   \n",
       "4                                       0.0   \n",
       "\n",
       "  bu_CREDIT_TYPE_Mobile operator loan_percent bu_CREDIT_TYPE_Mortgage_count  \\\n",
       "0                                         0.0                           0.0   \n",
       "1                                         0.0                           0.0   \n",
       "2                                         0.0                           0.0   \n",
       "3                                         NaN                           NaN   \n",
       "4                                         0.0                           0.0   \n",
       "\n",
       "  bu_CREDIT_TYPE_Mortgage_percent  bu_CREDIT_TYPE_Real estate loan_count  \\\n",
       "0                             0.0                                    0.0   \n",
       "1                             0.0                                    0.0   \n",
       "2                             0.0                                    0.0   \n",
       "3                             NaN                                    NaN   \n",
       "4                             0.0                                    0.0   \n",
       "\n",
       "   bu_CREDIT_TYPE_Real estate loan_percent  \\\n",
       "0                                      0.0   \n",
       "1                                      0.0   \n",
       "2                                      0.0   \n",
       "3                                      NaN   \n",
       "4                                      0.0   \n",
       "\n",
       "   bu_CREDIT_TYPE_Unknown type of loan_count  \\\n",
       "0                                        0.0   \n",
       "1                                        0.0   \n",
       "2                                        0.0   \n",
       "3                                        NaN   \n",
       "4                                        0.0   \n",
       "\n",
       "   bu_CREDIT_TYPE_Unknown type of loan_percent  \n",
       "0                                          0.0  \n",
       "1                                          0.0  \n",
       "2                                          0.0  \n",
       "3                                          NaN  \n",
       "4                                          0.0  \n",
       "\n",
       "[5 rows x 333 columns]"
      ]
     },
     "execution_count": 8,
     "metadata": {},
     "output_type": "execute_result"
    }
   ],
   "source": [
    "application_bureau_train.head()"
   ]
  },
  {
   "cell_type": "code",
   "execution_count": 9,
   "metadata": {},
   "outputs": [
    {
     "data": {
      "text/html": [
       "<div>\n",
       "<style scoped>\n",
       "    .dataframe tbody tr th:only-of-type {\n",
       "        vertical-align: middle;\n",
       "    }\n",
       "\n",
       "    .dataframe tbody tr th {\n",
       "        vertical-align: top;\n",
       "    }\n",
       "\n",
       "    .dataframe thead th {\n",
       "        text-align: right;\n",
       "    }\n",
       "</style>\n",
       "<table border=\"1\" class=\"dataframe\">\n",
       "  <thead>\n",
       "    <tr style=\"text-align: right;\">\n",
       "      <th></th>\n",
       "      <th>SK_ID_CURR</th>\n",
       "      <th>NAME_CONTRACT_TYPE</th>\n",
       "      <th>CODE_GENDER</th>\n",
       "      <th>FLAG_OWN_CAR</th>\n",
       "      <th>FLAG_OWN_REALTY</th>\n",
       "      <th>CNT_CHILDREN</th>\n",
       "      <th>AMT_INCOME_TOTAL</th>\n",
       "      <th>AMT_CREDIT</th>\n",
       "      <th>AMT_ANNUITY</th>\n",
       "      <th>AMT_GOODS_PRICE</th>\n",
       "      <th>...</th>\n",
       "      <th>bu_CREDIT_TYPE_Microloan_count</th>\n",
       "      <th>bu_CREDIT_TYPE_Microloan_percent</th>\n",
       "      <th>bu_CREDIT_TYPE_Mobile operator loan_count</th>\n",
       "      <th>bu_CREDIT_TYPE_Mobile operator loan_percent</th>\n",
       "      <th>bu_CREDIT_TYPE_Mortgage_count</th>\n",
       "      <th>bu_CREDIT_TYPE_Mortgage_percent</th>\n",
       "      <th>bu_CREDIT_TYPE_Real estate loan_count</th>\n",
       "      <th>bu_CREDIT_TYPE_Real estate loan_percent</th>\n",
       "      <th>bu_CREDIT_TYPE_Unknown type of loan_count</th>\n",
       "      <th>bu_CREDIT_TYPE_Unknown type of loan_percent</th>\n",
       "    </tr>\n",
       "  </thead>\n",
       "  <tbody>\n",
       "    <tr>\n",
       "      <th>0</th>\n",
       "      <td>100001</td>\n",
       "      <td>Cash loans</td>\n",
       "      <td>F</td>\n",
       "      <td>N</td>\n",
       "      <td>Y</td>\n",
       "      <td>0</td>\n",
       "      <td>135000.0</td>\n",
       "      <td>568800.0</td>\n",
       "      <td>20560.5</td>\n",
       "      <td>450000.0</td>\n",
       "      <td>...</td>\n",
       "      <td>0.0</td>\n",
       "      <td>0.0</td>\n",
       "      <td>0.0</td>\n",
       "      <td>0.0</td>\n",
       "      <td>0.0</td>\n",
       "      <td>0.0</td>\n",
       "      <td>0.0</td>\n",
       "      <td>0.0</td>\n",
       "      <td>0.0</td>\n",
       "      <td>0.0</td>\n",
       "    </tr>\n",
       "    <tr>\n",
       "      <th>1</th>\n",
       "      <td>100005</td>\n",
       "      <td>Cash loans</td>\n",
       "      <td>M</td>\n",
       "      <td>N</td>\n",
       "      <td>Y</td>\n",
       "      <td>0</td>\n",
       "      <td>99000.0</td>\n",
       "      <td>222768.0</td>\n",
       "      <td>17370.0</td>\n",
       "      <td>180000.0</td>\n",
       "      <td>...</td>\n",
       "      <td>0.0</td>\n",
       "      <td>0.0</td>\n",
       "      <td>0.0</td>\n",
       "      <td>0.0</td>\n",
       "      <td>0.0</td>\n",
       "      <td>0.0</td>\n",
       "      <td>0.0</td>\n",
       "      <td>0.0</td>\n",
       "      <td>0.0</td>\n",
       "      <td>0.0</td>\n",
       "    </tr>\n",
       "    <tr>\n",
       "      <th>2</th>\n",
       "      <td>100013</td>\n",
       "      <td>Cash loans</td>\n",
       "      <td>M</td>\n",
       "      <td>Y</td>\n",
       "      <td>Y</td>\n",
       "      <td>0</td>\n",
       "      <td>202500.0</td>\n",
       "      <td>663264.0</td>\n",
       "      <td>69777.0</td>\n",
       "      <td>630000.0</td>\n",
       "      <td>...</td>\n",
       "      <td>0.0</td>\n",
       "      <td>0.0</td>\n",
       "      <td>0.0</td>\n",
       "      <td>0.0</td>\n",
       "      <td>0.0</td>\n",
       "      <td>0.0</td>\n",
       "      <td>0.0</td>\n",
       "      <td>0.0</td>\n",
       "      <td>0.0</td>\n",
       "      <td>0.0</td>\n",
       "    </tr>\n",
       "    <tr>\n",
       "      <th>3</th>\n",
       "      <td>100028</td>\n",
       "      <td>Cash loans</td>\n",
       "      <td>F</td>\n",
       "      <td>N</td>\n",
       "      <td>Y</td>\n",
       "      <td>2</td>\n",
       "      <td>315000.0</td>\n",
       "      <td>1575000.0</td>\n",
       "      <td>49018.5</td>\n",
       "      <td>1575000.0</td>\n",
       "      <td>...</td>\n",
       "      <td>0.0</td>\n",
       "      <td>0.0</td>\n",
       "      <td>0.0</td>\n",
       "      <td>0.0</td>\n",
       "      <td>0.0</td>\n",
       "      <td>0.0</td>\n",
       "      <td>0.0</td>\n",
       "      <td>0.0</td>\n",
       "      <td>0.0</td>\n",
       "      <td>0.0</td>\n",
       "    </tr>\n",
       "    <tr>\n",
       "      <th>4</th>\n",
       "      <td>100038</td>\n",
       "      <td>Cash loans</td>\n",
       "      <td>M</td>\n",
       "      <td>Y</td>\n",
       "      <td>N</td>\n",
       "      <td>1</td>\n",
       "      <td>180000.0</td>\n",
       "      <td>625500.0</td>\n",
       "      <td>32067.0</td>\n",
       "      <td>625500.0</td>\n",
       "      <td>...</td>\n",
       "      <td>NaN</td>\n",
       "      <td>NaN</td>\n",
       "      <td>NaN</td>\n",
       "      <td>NaN</td>\n",
       "      <td>NaN</td>\n",
       "      <td>NaN</td>\n",
       "      <td>NaN</td>\n",
       "      <td>NaN</td>\n",
       "      <td>NaN</td>\n",
       "      <td>NaN</td>\n",
       "    </tr>\n",
       "  </tbody>\n",
       "</table>\n",
       "<p>5 rows × 332 columns</p>\n",
       "</div>"
      ],
      "text/plain": [
       "   SK_ID_CURR NAME_CONTRACT_TYPE CODE_GENDER FLAG_OWN_CAR FLAG_OWN_REALTY  \\\n",
       "0      100001         Cash loans           F            N               Y   \n",
       "1      100005         Cash loans           M            N               Y   \n",
       "2      100013         Cash loans           M            Y               Y   \n",
       "3      100028         Cash loans           F            N               Y   \n",
       "4      100038         Cash loans           M            Y               N   \n",
       "\n",
       "   CNT_CHILDREN  AMT_INCOME_TOTAL  AMT_CREDIT  AMT_ANNUITY  AMT_GOODS_PRICE  \\\n",
       "0             0          135000.0    568800.0      20560.5         450000.0   \n",
       "1             0           99000.0    222768.0      17370.0         180000.0   \n",
       "2             0          202500.0    663264.0      69777.0         630000.0   \n",
       "3             2          315000.0   1575000.0      49018.5        1575000.0   \n",
       "4             1          180000.0    625500.0      32067.0         625500.0   \n",
       "\n",
       "   ... bu_CREDIT_TYPE_Microloan_count bu_CREDIT_TYPE_Microloan_percent  \\\n",
       "0  ...                            0.0                              0.0   \n",
       "1  ...                            0.0                              0.0   \n",
       "2  ...                            0.0                              0.0   \n",
       "3  ...                            0.0                              0.0   \n",
       "4  ...                            NaN                              NaN   \n",
       "\n",
       "  bu_CREDIT_TYPE_Mobile operator loan_count  \\\n",
       "0                                       0.0   \n",
       "1                                       0.0   \n",
       "2                                       0.0   \n",
       "3                                       0.0   \n",
       "4                                       NaN   \n",
       "\n",
       "  bu_CREDIT_TYPE_Mobile operator loan_percent bu_CREDIT_TYPE_Mortgage_count  \\\n",
       "0                                         0.0                           0.0   \n",
       "1                                         0.0                           0.0   \n",
       "2                                         0.0                           0.0   \n",
       "3                                         0.0                           0.0   \n",
       "4                                         NaN                           NaN   \n",
       "\n",
       "   bu_CREDIT_TYPE_Mortgage_percent  bu_CREDIT_TYPE_Real estate loan_count  \\\n",
       "0                              0.0                                    0.0   \n",
       "1                              0.0                                    0.0   \n",
       "2                              0.0                                    0.0   \n",
       "3                              0.0                                    0.0   \n",
       "4                              NaN                                    NaN   \n",
       "\n",
       "   bu_CREDIT_TYPE_Real estate loan_percent  \\\n",
       "0                                      0.0   \n",
       "1                                      0.0   \n",
       "2                                      0.0   \n",
       "3                                      0.0   \n",
       "4                                      NaN   \n",
       "\n",
       "   bu_CREDIT_TYPE_Unknown type of loan_count  \\\n",
       "0                                        0.0   \n",
       "1                                        0.0   \n",
       "2                                        0.0   \n",
       "3                                        0.0   \n",
       "4                                        NaN   \n",
       "\n",
       "   bu_CREDIT_TYPE_Unknown type of loan_percent  \n",
       "0                                          0.0  \n",
       "1                                          0.0  \n",
       "2                                          0.0  \n",
       "3                                          0.0  \n",
       "4                                          NaN  \n",
       "\n",
       "[5 rows x 332 columns]"
      ]
     },
     "execution_count": 9,
     "metadata": {},
     "output_type": "execute_result"
    }
   ],
   "source": [
    "application_bureau_test.head()"
   ]
  },
  {
   "cell_type": "markdown",
   "metadata": {},
   "source": [
    "## Write to csv files"
   ]
  },
  {
   "cell_type": "code",
   "execution_count": 10,
   "metadata": {},
   "outputs": [],
   "source": [
    "X_train_1 = application_bureau_train.drop([\"SK_ID_CURR\", \"TARGET\"], axis=1)\n",
    "\n",
    "X_test_1 = application_bureau_test.drop([\"SK_ID_CURR\"], axis=1)\n",
    "\n",
    "# write to csv files\n",
    "X_train_1.to_csv(os.path.join(OUT_DIR, \"X_train_1.csv\"), index=False)\n",
    "\n",
    "X_test_1.to_csv(os.path.join(OUT_DIR, \"X_test_1.csv\"), index=False)\n",
    "\n",
    "del X_train_1, X_test_1"
   ]
  },
  {
   "cell_type": "markdown",
   "metadata": {},
   "source": [
    "## Aggregate table `POS_CASH_balance` by column `SK_ID_PREV`"
   ]
  },
  {
   "cell_type": "code",
   "execution_count": 11,
   "metadata": {},
   "outputs": [
    {
     "name": "stdout",
     "output_type": "stream",
     "text": [
      "POS_CASH_balance shape: (10001358, 8)\n",
      "POS_CASH_balance_agg shape: (936325, 44)\n"
     ]
    }
   ],
   "source": [
    "POS_CASH_balance = pd.read_csv(os.path.join(INP_DIR, \"POS_CASH_balance.csv\"))\n",
    "\n",
    "POS_CASH_balance_agg = aggregate(POS_CASH_balance.drop([\"SK_ID_CURR\"], axis=1), by=[\"SK_ID_PREV\"],\n",
    "                                num_stats=NUM_STATS, cat_stats=CAT_STATS,\n",
    "                                prefix=\"pc_\")\n",
    "\n",
    "print(\"POS_CASH_balance shape:\", POS_CASH_balance.shape)\n",
    "print(\"POS_CASH_balance_agg shape:\", POS_CASH_balance_agg.shape)\n",
    "\n",
    "del POS_CASH_balance\n",
    "\n",
    "POS_CASH_balance_agg.head()"
   ]
  },
  {
   "cell_type": "markdown",
   "metadata": {},
   "source": [
    "## Aggregate table `installments_payments.csv` by column `SK_ID_PREV`"
   ]
  },
  {
   "cell_type": "code",
   "execution_count": 12,
   "metadata": {},
   "outputs": [
    {
     "name": "stdout",
     "output_type": "stream",
     "text": [
      "No categorical columns in df\n",
      "installments_payments shape: (13605401, 8)\n",
      "installments_payments_agg shape: (997752, 31)\n"
     ]
    }
   ],
   "source": [
    "installments_payments = pd.read_csv(os.path.join(INP_DIR, \"installments_payments.csv\"))\n",
    "\n",
    "installments_payments_agg = aggregate(installments_payments.drop([\"SK_ID_CURR\"], axis=1), by=[\"SK_ID_PREV\"],\n",
    "                                      num_stats=NUM_STATS, cat_stats=CAT_STATS,\n",
    "                                      prefix=\"ip_\")\n",
    "\n",
    "print(\"installments_payments shape:\", installments_payments.shape)\n",
    "print(\"installments_payments_agg shape:\", installments_payments_agg.shape)\n",
    "\n",
    "del installments_payments\n",
    "\n",
    "installments_payments_agg.head()"
   ]
  },
  {
   "cell_type": "markdown",
   "metadata": {},
   "source": [
    "## Aggregate table `credit_card_balance` by column `SK_ID_PREV`"
   ]
  },
  {
   "cell_type": "code",
   "execution_count": 13,
   "metadata": {},
   "outputs": [
    {
     "name": "stdout",
     "output_type": "stream",
     "text": [
      "credit_card_balance shape: (3840312, 23)\n",
      "credit_card_balance_agg shape: (104307, 115)\n"
     ]
    }
   ],
   "source": [
    "credit_card_balance = pd.read_csv(os.path.join(INP_DIR, \"credit_card_balance.csv\"))\n",
    "\n",
    "credit_card_balance_agg = aggregate(credit_card_balance.drop([\"SK_ID_CURR\"], axis=1), by=[\"SK_ID_PREV\"],\n",
    "                                    num_stats=NUM_STATS, cat_stats=CAT_STATS, \n",
    "                                    prefix=\"cc_\")\n",
    "\n",
    "print(\"credit_card_balance shape:\", credit_card_balance.shape)\n",
    "print(\"credit_card_balance_agg shape:\", credit_card_balance_agg.shape)\n",
    "\n",
    "del credit_card_balance\n",
    "\n",
    "credit_card_balance_agg.head()"
   ]
  },
  {
   "cell_type": "markdown",
   "metadata": {},
   "source": [
    "## Merge tables `POS_CASH_balance_agg`, `installments_payments_agg`, `credit_card_balance_agg` with `previous_application`"
   ]
  },
  {
   "cell_type": "code",
   "execution_count": 14,
   "metadata": {},
   "outputs": [
    {
     "name": "stdout",
     "output_type": "stream",
     "text": [
      "previous_application shape: (1670214, 37)\n",
      "previous_application shape after merging with POS_CASH_balance_agg: (1670214, 80)\n",
      "previous_application shape after merging with installments_payments_agg: (1670214, 110)\n",
      "previous_application shape after merging with credit_card_balance_agg: (1670214, 224)\n"
     ]
    }
   ],
   "source": [
    "previous_application = pd.read_csv(os.path.join(INP_DIR, \"previous_application.csv\"))\n",
    "print(\"previous_application shape:\", previous_application.shape)\n",
    "\n",
    "# merge with POS_CASH_balance_agg\n",
    "previous_application_merge = previous_application.merge(POS_CASH_balance_agg, how=\"left\", on=\"SK_ID_PREV\")\n",
    "print(\"previous_application shape after merging with POS_CASH_balance_agg:\", previous_application_merge.shape)\n",
    "\n",
    "# merge with installments_payments_agg\n",
    "previous_application_merge = previous_application_merge.merge(installments_payments_agg, how=\"left\", on=\"SK_ID_PREV\")\n",
    "print(\"previous_application shape after merging with installments_payments_agg:\", previous_application_merge.shape)\n",
    "\n",
    "# merge with credit_card_balance_agg\n",
    "previous_application_merge = previous_application_merge.merge(credit_card_balance_agg, how=\"left\", on=\"SK_ID_PREV\")\n",
    "print(\"previous_application shape after merging with credit_card_balance_agg:\", previous_application_merge.shape)\n",
    "\n",
    "del previous_application, POS_CASH_balance_agg, installments_payments_agg, credit_card_balance_agg\n",
    "\n",
    "previous_application_merge.head()"
   ]
  },
  {
   "cell_type": "markdown",
   "metadata": {},
   "source": [
    "## Aggregate table previous_application_merge by column `SK_ID_CURR`"
   ]
  },
  {
   "cell_type": "code",
   "execution_count": 15,
   "metadata": {},
   "outputs": [
    {
     "name": "stdout",
     "output_type": "stream",
     "text": [
      "previous_application_merg shape: (1670214, 224)\n",
      "previous_application_agg shape: (338857, 1317)\n"
     ]
    }
   ],
   "source": [
    "previous_application_agg = aggregate(previous_application_merge.drop([\"SK_ID_PREV\"], axis=1), by=[\"SK_ID_CURR\"],\n",
    "                                     num_stats=NUM_STATS, cat_stats=CAT_STATS,\n",
    "                                     prefix=\"pa_\")\n",
    "\n",
    "print(\"previous_application_merg shape:\", previous_application_merge.shape)\n",
    "print(\"previous_application_agg shape:\", previous_application_agg.shape)\n",
    "\n",
    "del previous_application_merge\n",
    "\n",
    "previous_application_agg.head()"
   ]
  },
  {
   "cell_type": "markdown",
   "metadata": {},
   "source": [
    "## Merge table `previous_application_agg` with `application_train` and `application_test`"
   ]
  },
  {
   "cell_type": "code",
   "execution_count": 16,
   "metadata": {},
   "outputs": [
    {
     "name": "stdout",
     "output_type": "stream",
     "text": [
      "application_bureau_train shape: (307511, 333)\n",
      "application_bureau_previous_train shape: (307511, 1649)\n",
      "application_bureau_test shape: (48744, 332)\n",
      "application_bureau_previous_test shape: (48744, 1648)\n"
     ]
    }
   ],
   "source": [
    "application_bureau_previous_train = application_bureau_train.merge(previous_application_agg, \n",
    "                                                                   how=\"left\", on=\"SK_ID_CURR\")\n",
    "\n",
    "print(\"application_bureau_train shape:\", application_bureau_train.shape)\n",
    "print(\"application_bureau_previous_train shape:\", application_bureau_previous_train.shape)\n",
    "del application_bureau_train\n",
    "\n",
    "application_bureau_previous_test = application_bureau_test.merge(previous_application_agg, \n",
    "                                                                   how=\"left\", on=\"SK_ID_CURR\")\n",
    "\n",
    "print(\"application_bureau_test shape:\", application_bureau_test.shape)\n",
    "print(\"application_bureau_previous_test shape:\", application_bureau_previous_test.shape)\n",
    "del application_bureau_test"
   ]
  },
  {
   "cell_type": "markdown",
   "metadata": {},
   "source": [
    "## Write to csv files"
   ]
  },
  {
   "cell_type": "code",
   "execution_count": 17,
   "metadata": {},
   "outputs": [],
   "source": [
    "X_train_2 = application_bureau_previous_train.drop([\"SK_ID_CURR\", \"TARGET\"], axis=1)\n",
    "#del application_bureau_previous_train\n",
    "X_train_2.to_csv(os.path.join(OUT_DIR, \"X_train_2.csv\"), index=False)\n",
    "del X_train_2\n",
    "\n",
    "X_test_2 = application_bureau_previous_test.drop([\"SK_ID_CURR\"], axis=1)\n",
    "#del application_bureau_previous_test\n",
    "X_test_2.to_csv(os.path.join(OUT_DIR, \"X_test_2.csv\"), index=False)\n",
    "del X_test_2\n"
   ]
  }
 ],
 "metadata": {
  "kernelspec": {
   "display_name": "Python 3",
   "language": "python",
   "name": "python3"
  },
  "language_info": {
   "codemirror_mode": {
    "name": "ipython",
    "version": 3
   },
   "file_extension": ".py",
   "mimetype": "text/x-python",
   "name": "python",
   "nbconvert_exporter": "python",
   "pygments_lexer": "ipython3",
   "version": "3.7.3"
  }
 },
 "nbformat": 4,
 "nbformat_minor": 2
}
